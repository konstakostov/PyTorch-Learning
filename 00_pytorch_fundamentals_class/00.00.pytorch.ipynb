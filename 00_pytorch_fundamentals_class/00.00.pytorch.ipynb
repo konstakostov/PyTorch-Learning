{
 "cells": [
  {
   "metadata": {},
   "cell_type": "markdown",
   "source": [
    "## Running tensors and PyTorch objects on GPUs (for faster computations)\n",
    "\n",
    "Using GPU == Faster number computation; CUDA + NVIDIA hardware + PyTorch;\n",
    "\n",
    "### Getting the GPU\n",
    "\n",
    "1. [Google Colab](https://colab.research.google.com) (Free + Paid);\n",
    "2. Personal GPU;\n",
    "3. Cloud Computing (GCP, AWS, Azure, etc.) — Services, allowing to rent computers in the cloud and access them.\n",
    "\n",
    "For 2. and 3. -> CUDA (GPU Drives) + PyTorch, Refer to official documentation.\n",
    "\n",
    "Since PyTorch is capable of running computations on GPUs and CPUs, the best practice it to set up [device-agnostic code](https://pytorch.org/docs/stable/notes/cuda.html#device-agnostic-code)."
   ],
   "id": "8af717d162552b41"
  },
  {
   "metadata": {},
   "cell_type": "code",
   "source": [
    "# Import PyTorch\n",
    "import torch"
   ],
   "id": "533ccf49208e98f8",
   "outputs": [],
   "execution_count": null
  },
  {
   "metadata": {},
   "cell_type": "code",
   "source": [
    "# Check if GPU support is running correctly.\n",
    "!nvidia-smi"
   ],
   "id": "b966dc7cdfd3ce59",
   "outputs": [],
   "execution_count": null
  },
  {
   "cell_type": "code",
   "id": "initial_id",
   "metadata": {
    "collapsed": true
   },
   "source": [
    "# Check if PyTorch is installed correctly.\n",
    "print(torch.__version__)"
   ],
   "outputs": [],
   "execution_count": null
  },
  {
   "metadata": {},
   "cell_type": "code",
   "source": [
    "# Check for GPU access with PyTorch\n",
    "torch.cuda.is_available()"
   ],
   "id": "75c3c5fc7fecd0f4",
   "outputs": [],
   "execution_count": null
  },
  {
   "metadata": {},
   "cell_type": "code",
   "source": [
    "# Setup device agnostic code\n",
    "device = \"cuda\" if torch.cuda.is_available() else \"cpu\"\n",
    "\n",
    "device"
   ],
   "id": "9122b849f672cbd8",
   "outputs": [],
   "execution_count": null
  },
  {
   "metadata": {},
   "cell_type": "code",
   "source": [
    "# Count the number of devices\n",
    "torch.cuda.device_count()"
   ],
   "id": "2e4fef0e1f79e879",
   "outputs": [],
   "execution_count": null
  }
 ],
 "metadata": {
  "kernelspec": {
   "display_name": "Python 3",
   "language": "python",
   "name": "python3"
  },
  "language_info": {
   "codemirror_mode": {
    "name": "ipython",
    "version": 2
   },
   "file_extension": ".py",
   "mimetype": "text/x-python",
   "name": "python",
   "nbconvert_exporter": "python",
   "pygments_lexer": "ipython2",
   "version": "2.7.6"
  }
 },
 "nbformat": 4,
 "nbformat_minor": 5
}
