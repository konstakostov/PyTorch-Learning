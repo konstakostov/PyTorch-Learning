{
 "cells": [
  {
   "metadata": {},
   "cell_type": "markdown",
   "source": "### Importing all libraries",
   "id": "cf7dfa4d2763b2e1"
  },
  {
   "cell_type": "code",
   "id": "initial_id",
   "metadata": {
    "collapsed": true,
    "ExecuteTime": {
     "end_time": "2024-08-01T11:48:28.553855Z",
     "start_time": "2024-08-01T11:48:27.089070Z"
    }
   },
   "source": [
    "import torch\n",
    "import numpy as np"
   ],
   "outputs": [],
   "execution_count": 1
  },
  {
   "metadata": {},
   "cell_type": "markdown",
   "source": [
    "### PyTorch Tensors & NumPy\n",
    "\n",
    "NumPy is a popular scientific Python numerical computing library. Because of this, PyTorch has functionality to interact with it.\n",
    "\n",
    "* NumPy array -> PyTorch tensor ==> `torch.from_numpy(ndarray)`\n",
    "* PyTorch tensor -> NumPy array ==> `torch.Tensor.numpy()`"
   ],
   "id": "9afbcf5367b0284e"
  },
  {
   "metadata": {
    "ExecuteTime": {
     "end_time": "2024-08-01T11:48:28.567232Z",
     "start_time": "2024-08-01T11:48:28.555688Z"
    }
   },
   "cell_type": "code",
   "source": [
    "array = np.arange(1.0, 8.0)\n",
    "tensor = torch.from_numpy(array)\n",
    "\n",
    "array, tensor"
   ],
   "id": "5fcfb70b57bd76f1",
   "outputs": [
    {
     "data": {
      "text/plain": [
       "(array([1., 2., 3., 4., 5., 6., 7.]),\n",
       " tensor([1., 2., 3., 4., 5., 6., 7.], dtype=torch.float64))"
      ]
     },
     "execution_count": 2,
     "metadata": {},
     "output_type": "execute_result"
    }
   ],
   "execution_count": 2
  },
  {
   "metadata": {
    "ExecuteTime": {
     "end_time": "2024-08-01T11:48:28.573237Z",
     "start_time": "2024-08-01T11:48:28.569062Z"
    }
   },
   "cell_type": "code",
   "source": [
    "# NumPy default dtype\n",
    "print(array.dtype)\n",
    "\n",
    "\n",
    "# PyTorch default dtype is float32.\n",
    "# When converting from NumPy to PyTorch the default dtype is float64.\n"
   ],
   "id": "aa4222baf8702301",
   "outputs": [
    {
     "name": "stdout",
     "output_type": "stream",
     "text": [
      "float64\n"
     ]
    },
    {
     "data": {
      "text/plain": [
       "'\\nPyTorch default dtype is float32.\\n\\nWhen converting from NumPy to PyTorch the default dtype is float64.\\n'"
      ]
     },
     "execution_count": 3,
     "metadata": {},
     "output_type": "execute_result"
    }
   ],
   "execution_count": 3
  },
  {
   "metadata": {
    "ExecuteTime": {
     "end_time": "2024-08-01T11:48:28.582023Z",
     "start_time": "2024-08-01T11:48:28.574327Z"
    }
   },
   "cell_type": "code",
   "source": [
    "# Changing the value of the array, it won't change the value of the tensor if it is already created\n",
    "\n",
    "array = array + 1\n",
    "\n",
    "array, tensor"
   ],
   "id": "f43604c844f2a09f",
   "outputs": [
    {
     "data": {
      "text/plain": [
       "(array([2., 3., 4., 5., 6., 7., 8.]),\n",
       " tensor([1., 2., 3., 4., 5., 6., 7.], dtype=torch.float64))"
      ]
     },
     "execution_count": 4,
     "metadata": {},
     "output_type": "execute_result"
    }
   ],
   "execution_count": 4
  },
  {
   "metadata": {
    "ExecuteTime": {
     "end_time": "2024-08-01T11:48:28.592323Z",
     "start_time": "2024-08-01T11:48:28.584444Z"
    }
   },
   "cell_type": "code",
   "source": [
    "# Tensor to NumPy array\n",
    "tensor = torch.ones(7)\n",
    "numpy_tensor = tensor.numpy()\n",
    "\n",
    "tensor, numpy_tensor"
   ],
   "id": "12c41e7494de998a",
   "outputs": [
    {
     "data": {
      "text/plain": [
       "(tensor([1., 1., 1., 1., 1., 1., 1.]),\n",
       " array([1., 1., 1., 1., 1., 1., 1.], dtype=float32))"
      ]
     },
     "execution_count": 5,
     "metadata": {},
     "output_type": "execute_result"
    }
   ],
   "execution_count": 5
  },
  {
   "metadata": {
    "ExecuteTime": {
     "end_time": "2024-08-01T11:48:28.601627Z",
     "start_time": "2024-08-01T11:48:28.593871Z"
    }
   },
   "cell_type": "code",
   "source": [
    "# Changing the value of the tensor, it won't change the value of the numpy_tensor if it is already created\n",
    "\n",
    "tensor = tensor + 1\n",
    "\n",
    "tensor, numpy_tensor"
   ],
   "id": "8ffc0c2e9dfd3bc9",
   "outputs": [
    {
     "data": {
      "text/plain": [
       "(tensor([2., 2., 2., 2., 2., 2., 2.]),\n",
       " array([1., 1., 1., 1., 1., 1., 1.], dtype=float32))"
      ]
     },
     "execution_count": 6,
     "metadata": {},
     "output_type": "execute_result"
    }
   ],
   "execution_count": 6
  },
  {
   "metadata": {},
   "cell_type": "markdown",
   "source": [
    "### [Reproducibility](https://pytorch.org/docs/stable/notes/randomness.html) (Trying to take the random out of the random)\n",
    "\n",
    "It is how neural networks learn: \n",
    "\n",
    "`Start with random numbers` -> `Tensor operations` -> `Update random numbers to try and make them better representations of the data` -> `Repeat` -> `Repeat` -> `Repeat` -> ...  \n",
    "\n",
    "To reduce the randomness in neural networks and PyTorch comes the concept of a ***random seed***. \n",
    "\n",
    "Essential what the ***random seed*** is *flavours* the randomness."
   ],
   "id": "2bf81d67f87eeb6f"
  },
  {
   "metadata": {
    "ExecuteTime": {
     "end_time": "2024-08-01T11:56:32.873544Z",
     "start_time": "2024-08-01T11:56:32.853830Z"
    }
   },
   "cell_type": "code",
   "source": [
    "# Creating two random tensors.\n",
    "random_tensor_A = torch.rand(3, 4)\n",
    "random_tensor_B = torch.rand(3, 4)\n",
    "\n",
    "print(random_tensor_A)\n",
    "print(random_tensor_B)\n",
    "\n",
    "print(random_tensor_A == random_tensor_B)"
   ],
   "id": "55d24bb15eb0f35b",
   "outputs": [
    {
     "name": "stdout",
     "output_type": "stream",
     "text": [
      "tensor([[0.3259, 0.2802, 0.4159, 0.3756],\n",
      "        [0.6616, 0.3169, 0.3772, 0.6858],\n",
      "        [0.0242, 0.4616, 0.1515, 0.0505]])\n",
      "tensor([[0.6260, 0.2720, 0.6491, 0.9899],\n",
      "        [0.5792, 0.0744, 0.7387, 0.3218],\n",
      "        [0.6462, 0.5225, 0.4348, 0.7732]])\n",
      "tensor([[False, False, False, False],\n",
      "        [False, False, False, False],\n",
      "        [False, False, False, False]])\n"
     ]
    }
   ],
   "execution_count": 17
  },
  {
   "metadata": {
    "ExecuteTime": {
     "end_time": "2024-08-01T12:02:33.128010Z",
     "start_time": "2024-08-01T12:02:33.121937Z"
    }
   },
   "cell_type": "code",
   "source": [
    "# Creating random, but reproducible tensors\n",
    "\n",
    "# Setting random seed\n",
    "RANDOM_SEED = 42\n",
    "\n",
    "torch.manual_seed(RANDOM_SEED)\n",
    "random_tensor_C = torch.rand(3, 4)\n",
    "\n",
    "# The seed must be reset every time a new rand() is called \n",
    "# Without this, tensor_D would be different to tensor_C \n",
    "torch.manual_seed(RANDOM_SEED)\n",
    "random_tensor_D = torch.rand(3, 4)\n",
    "\n",
    "print(random_tensor_C)\n",
    "print(random_tensor_D)\n",
    "\n",
    "print(random_tensor_C == random_tensor_D)"
   ],
   "id": "5a22cbbbe6a727bb",
   "outputs": [
    {
     "name": "stdout",
     "output_type": "stream",
     "text": [
      "tensor([[0.8823, 0.9150, 0.3829, 0.9593],\n",
      "        [0.3904, 0.6009, 0.2566, 0.7936],\n",
      "        [0.9408, 0.1332, 0.9346, 0.5936]])\n",
      "tensor([[0.8823, 0.9150, 0.3829, 0.9593],\n",
      "        [0.3904, 0.6009, 0.2566, 0.7936],\n",
      "        [0.9408, 0.1332, 0.9346, 0.5936]])\n",
      "tensor([[True, True, True, True],\n",
      "        [True, True, True, True],\n",
      "        [True, True, True, True]])\n"
     ]
    }
   ],
   "execution_count": 19
  }
 ],
 "metadata": {
  "kernelspec": {
   "display_name": "Python 3",
   "language": "python",
   "name": "python3"
  },
  "language_info": {
   "codemirror_mode": {
    "name": "ipython",
    "version": 2
   },
   "file_extension": ".py",
   "mimetype": "text/x-python",
   "name": "python",
   "nbconvert_exporter": "python",
   "pygments_lexer": "ipython2",
   "version": "2.7.6"
  }
 },
 "nbformat": 4,
 "nbformat_minor": 5
}
