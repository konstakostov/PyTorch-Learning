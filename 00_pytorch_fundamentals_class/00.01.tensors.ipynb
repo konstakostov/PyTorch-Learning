{
 "cells": [
  {
   "metadata": {},
   "cell_type": "markdown",
   "source": "### Importing all libraries",
   "id": "ff5f8360639ac14f"
  },
  {
   "metadata": {
    "ExecuteTime": {
     "end_time": "2024-07-31T08:04:44.368374Z",
     "start_time": "2024-07-31T08:04:42.874164Z"
    }
   },
   "cell_type": "code",
   "source": "import torch",
   "id": "9a1bf31634adec57",
   "outputs": [],
   "execution_count": 1
  },
  {
   "metadata": {},
   "cell_type": "markdown",
   "source": [
    "## Introduction to tensors\n",
    "\n",
    "### Creating tensors"
   ],
   "id": "e1b02373b6667903"
  },
  {
   "metadata": {},
   "cell_type": "markdown",
   "source": [
    "### Quick Scalar Rundown\n",
    "\n",
    "A scalar is a single numerical value that represents a quantity without any directional information. It's a fundamental concept in mathematics, physics, and computer science. Here are some key points about scalars:\n",
    "\n",
    "1. **Definition**: A scalar is a quantity that can be fully described by its magnitude (size or amount) alone.\n",
    "2. **Contrast with vectors**: Unlike vectors, which have both magnitude and direction, scalars only have magnitude.\n",
    "3. **Examples**:\n",
    "    - ***Physics***: Temperature, mass, energy, time\n",
    "    - ***Mathematics***: Real numbers, complex numbers\n",
    "    - ***Computing***: Integer and floating-point variables\n",
    "4. **Operations**: Scalars can be added, subtracted, multiplied, and divided using regular arithmetic operations.\n",
    "5. **Programming**: In many programming languages, basic data types like integers and floats are scalar values."
   ],
   "id": "fa5a98c3a07b2476"
  },
  {
   "cell_type": "code",
   "id": "initial_id",
   "metadata": {
    "collapsed": true,
    "ExecuteTime": {
     "end_time": "2024-07-31T08:04:44.375605Z",
     "start_time": "2024-07-31T08:04:44.370463Z"
    }
   },
   "source": [
    "# Scalar\n",
    "scalar = torch.tensor(7)\n",
    "\n",
    "print(scalar)"
   ],
   "outputs": [
    {
     "name": "stdout",
     "output_type": "stream",
     "text": [
      "tensor(7)\n"
     ]
    }
   ],
   "execution_count": 2
  },
  {
   "metadata": {
    "ExecuteTime": {
     "end_time": "2024-07-31T08:04:44.388524Z",
     "start_time": "2024-07-31T08:04:44.376871Z"
    }
   },
   "cell_type": "code",
   "source": [
    "# Show the number of dimensions of the scalar\n",
    "scalar.ndim"
   ],
   "id": "18c39cdbd720b897",
   "outputs": [
    {
     "data": {
      "text/plain": [
       "0"
      ]
     },
     "execution_count": 3,
     "metadata": {},
     "output_type": "execute_result"
    }
   ],
   "execution_count": 3
  },
  {
   "metadata": {
    "ExecuteTime": {
     "end_time": "2024-07-31T08:04:44.397782Z",
     "start_time": "2024-07-31T08:04:44.389725Z"
    }
   },
   "cell_type": "code",
   "source": [
    "# Get scalar back as Python integer\n",
    "scalar.item()"
   ],
   "id": "38b995102de0982",
   "outputs": [
    {
     "data": {
      "text/plain": [
       "7"
      ]
     },
     "execution_count": 4,
     "metadata": {},
     "output_type": "execute_result"
    }
   ],
   "execution_count": 4
  },
  {
   "metadata": {},
   "cell_type": "markdown",
   "source": [
    "### Quick Vector Rundown\n",
    "\n",
    "A vector is a quantity that has both magnitude and direction. It's a fundamental concept in mathematics, physics, and computer science. Here are some key points about vectors:\n",
    "\n",
    "1. **Definition**: A vector is a quantity that is fully described by both its magnitude (size or amount) and direction.\n",
    "2. **Contrast with scalars**: Unlike scalars, which have only magnitude, vectors have both magnitude and direction.\n",
    "3. **Examples**:\n",
    "    - **Physics**: Velocity, force, displacement, acceleration\n",
    "    - **Mathematics**: Ordered pairs/triplets, complex numbers (represented as points in a plane)\n",
    "    - **Computing**: Arrays or lists that store multiple values\n",
    "4. **Operations**: Vectors can be added, subtracted, scaled (multiplied by a scalar), and used in dot- and cross-products.\n",
    "5. **Programming**: In many programming languages, data structures like arrays and lists can represent vectors."
   ],
   "id": "5f5de739e413a8e8"
  },
  {
   "metadata": {
    "ExecuteTime": {
     "end_time": "2024-07-31T08:04:44.407725Z",
     "start_time": "2024-07-31T08:04:44.399994Z"
    }
   },
   "cell_type": "code",
   "source": [
    "# Vector\n",
    "vector = torch.tensor([7, 7])\n",
    "\n",
    "vector"
   ],
   "id": "284ca6db23b54d42",
   "outputs": [
    {
     "data": {
      "text/plain": [
       "tensor([7, 7])"
      ]
     },
     "execution_count": 5,
     "metadata": {},
     "output_type": "execute_result"
    }
   ],
   "execution_count": 5
  },
  {
   "metadata": {
    "ExecuteTime": {
     "end_time": "2024-07-31T08:04:44.415815Z",
     "start_time": "2024-07-31T08:04:44.409531Z"
    }
   },
   "cell_type": "code",
   "source": [
    "# Show the number of dimensions of the vector\n",
    "vector.ndim"
   ],
   "id": "449fdde554bf87ed",
   "outputs": [
    {
     "data": {
      "text/plain": [
       "1"
      ]
     },
     "execution_count": 6,
     "metadata": {},
     "output_type": "execute_result"
    }
   ],
   "execution_count": 6
  },
  {
   "metadata": {
    "ExecuteTime": {
     "end_time": "2024-07-31T08:04:44.424186Z",
     "start_time": "2024-07-31T08:04:44.416631Z"
    }
   },
   "cell_type": "code",
   "source": [
    "# Get the shape of the vector\n",
    "vector.shape"
   ],
   "id": "a79b9be2566003c0",
   "outputs": [
    {
     "data": {
      "text/plain": [
       "torch.Size([2])"
      ]
     },
     "execution_count": 7,
     "metadata": {},
     "output_type": "execute_result"
    }
   ],
   "execution_count": 7
  },
  {
   "metadata": {},
   "cell_type": "markdown",
   "source": [
    "### Quick Matrix Rundown\n",
    "\n",
    "A matrix is an array of numbers arranged in rows and columns. It's a fundamental concept in mathematics, physics, and computer science. Here are some key points about matrices:\n",
    "\n",
    "1. **Definition**: A matrix is a rectangular array of numbers, symbols, or expressions, arranged in rows and columns.\n",
    "2. **Dimensions**: The dimensions of a matrix are given by the number of rows and columns (e.g., a 3x2 matrix has 3 rows and 2 columns).\n",
    "3. **Examples**:\n",
    "    - **Mathematics**: Systems of linear equations, transformations in geometry\n",
    "    - **Physics**: Representation of linear transformations, state vectors in quantum mechanics\n",
    "    - **Computing**: Image data (pixels arranged in rows and columns), adjacency matrices in graph theory\n",
    "4. **Operations**: Matrices can be added, subtracted, and multiplied. They can also be used in operations such as transposition, inversion, and finding determinants.\n",
    "5. **Programming**: In many programming languages, matrices are implemented as two-dimensional arrays or lists of lists.\n",
    "\n"
   ],
   "id": "575b190a23b638b0"
  },
  {
   "metadata": {
    "ExecuteTime": {
     "end_time": "2024-07-31T08:04:44.432072Z",
     "start_time": "2024-07-31T08:04:44.425513Z"
    }
   },
   "cell_type": "code",
   "source": [
    "# Matrix\n",
    "MATRIX = torch.tensor([[7, 8],\n",
    "                       [9, 10]])\n",
    "\n",
    "MATRIX"
   ],
   "id": "df16e7897aa85875",
   "outputs": [
    {
     "data": {
      "text/plain": [
       "tensor([[ 7,  8],\n",
       "        [ 9, 10]])"
      ]
     },
     "execution_count": 8,
     "metadata": {},
     "output_type": "execute_result"
    }
   ],
   "execution_count": 8
  },
  {
   "metadata": {
    "ExecuteTime": {
     "end_time": "2024-07-31T08:04:44.439485Z",
     "start_time": "2024-07-31T08:04:44.433217Z"
    }
   },
   "cell_type": "code",
   "source": [
    "# Show the number of dimensions of the matrix\n",
    "MATRIX.ndim"
   ],
   "id": "eda18cc2f23e52be",
   "outputs": [
    {
     "data": {
      "text/plain": [
       "2"
      ]
     },
     "execution_count": 9,
     "metadata": {},
     "output_type": "execute_result"
    }
   ],
   "execution_count": 9
  },
  {
   "metadata": {
    "ExecuteTime": {
     "end_time": "2024-07-31T08:04:44.446486Z",
     "start_time": "2024-07-31T08:04:44.440539Z"
    }
   },
   "cell_type": "code",
   "source": [
    "# Print the 1st and 2nd element of the matrix\n",
    "print(MATRIX[0])\n",
    "print(MATRIX[1])"
   ],
   "id": "18acf2c2f0042d4e",
   "outputs": [
    {
     "name": "stdout",
     "output_type": "stream",
     "text": [
      "tensor([7, 8])\n",
      "tensor([ 9, 10])\n"
     ]
    }
   ],
   "execution_count": 10
  },
  {
   "metadata": {
    "ExecuteTime": {
     "end_time": "2024-07-31T08:04:44.454882Z",
     "start_time": "2024-07-31T08:04:44.447855Z"
    }
   },
   "cell_type": "code",
   "source": [
    "# Get the shape of the matrix\n",
    "MATRIX.shape"
   ],
   "id": "930b32d5cb02c345",
   "outputs": [
    {
     "data": {
      "text/plain": [
       "torch.Size([2, 2])"
      ]
     },
     "execution_count": 11,
     "metadata": {},
     "output_type": "execute_result"
    }
   ],
   "execution_count": 11
  },
  {
   "metadata": {},
   "cell_type": "markdown",
   "source": [
    "### Quick Tensor Rundown\n",
    "\n",
    "A tensor is a multidimensional array of numerical values that generalizes the concepts of scalars, vectors, and matrices. It's a fundamental concept in mathematics, physics, and computer science. Here are some key points about tensors:\n",
    "\n",
    "1. **Definition**: A tensor is a multidimensional array of numbers that generalizes scalars (0-dimensional), vectors (1-dimensional), and matrices (2-dimensional) to higher dimensions.\n",
    "2. **Dimensions (Ranks)**: The rank of a tensor refers to the number of dimensions (or indices) required to describe it. For example, a scalar is a rank-0 tensor, a vector is a rank-1 tensor, and a matrix is a rank-2 tensor.\n",
    "3. **Examples**:\n",
    "    - **Physics**: Stress and strain tensors in mechanics, the metric tensor in general relativity\n",
    "    - **Mathematics**: Multi-linear maps, higher-order generalizations of matrices\n",
    "    - **Computing**: Multidimensional arrays used in machine learning and data representation (e.g., images, video, and more complex datasets)\n",
    "4. **Operations**: Tensors can undergo various operations such as addition, subtraction, multiplication (including dot product and tensor product), contraction, and transformations.\n",
    "5. **Programming**: In many programming languages and frameworks (like TensorFlow and PyTorch), tensors are used to represent and manipulate data for machine learning and other numerical computations.\n",
    "\n",
    "[Tensors explained](https://youtu.be/f5liqUk0ZTw)."
   ],
   "id": "26fd1615130975fc"
  },
  {
   "metadata": {
    "ExecuteTime": {
     "end_time": "2024-07-31T08:04:44.465887Z",
     "start_time": "2024-07-31T08:04:44.455743Z"
    }
   },
   "cell_type": "code",
   "source": [
    "# Tensor\n",
    "TENSOR = torch.tensor([[[1, 2, 3],\n",
    "                        [3, 6, 8],\n",
    "                        [2, 4, 5]]])\n",
    "\n",
    "TENSOR"
   ],
   "id": "108159089b383072",
   "outputs": [
    {
     "data": {
      "text/plain": [
       "tensor([[[1, 2, 3],\n",
       "         [3, 6, 8],\n",
       "         [2, 4, 5]]])"
      ]
     },
     "execution_count": 12,
     "metadata": {},
     "output_type": "execute_result"
    }
   ],
   "execution_count": 12
  },
  {
   "metadata": {
    "ExecuteTime": {
     "end_time": "2024-07-31T08:04:44.474217Z",
     "start_time": "2024-07-31T08:04:44.467279Z"
    }
   },
   "cell_type": "code",
   "source": [
    "# Show the number of dimensions of the tensor\n",
    "TENSOR.ndim"
   ],
   "id": "65c98390aaf7cd11",
   "outputs": [
    {
     "data": {
      "text/plain": [
       "3"
      ]
     },
     "execution_count": 13,
     "metadata": {},
     "output_type": "execute_result"
    }
   ],
   "execution_count": 13
  },
  {
   "metadata": {
    "ExecuteTime": {
     "end_time": "2024-07-31T08:04:44.482877Z",
     "start_time": "2024-07-31T08:04:44.476899Z"
    }
   },
   "cell_type": "code",
   "source": [
    "# Get the shape of the matrix\n",
    "TENSOR.shape"
   ],
   "id": "d7295b9a2a002b9f",
   "outputs": [
    {
     "data": {
      "text/plain": [
       "torch.Size([1, 3, 3])"
      ]
     },
     "execution_count": 14,
     "metadata": {},
     "output_type": "execute_result"
    }
   ],
   "execution_count": 14
  },
  {
   "metadata": {},
   "cell_type": "markdown",
   "source": [
    "<p>\n",
    "    <img src=\"00_markdown_images/00-pytorch-different-tensor-dimensions.png\" alt=\"Different Tensor Dimensions\" width=720\" height=\"360\">\n",
    "</p>"
   ],
   "id": "ce01464166808b89"
  },
  {
   "metadata": {},
   "cell_type": "markdown",
   "source": [
    "### Short Summary\n",
    "\n",
    "### Let's Summarize\n",
    "\n",
    "| Name   | What is it?                                                                                      | Number of dimensions                                                           | Lower or upper (usually/example) |\n",
    "|--------|--------------------------------------------------------------------------------------------------|-------------------------------------------------------------------------------|-----------------------------------|\n",
    "| Scalar | A single number                                                                                  | 0                                                                             | Lower (a)                         |\n",
    "| Vector | A number with direction (e.g., wind speed with direction) but can also have many other numbers   | 1                                                                             | Lower (y)                         |\n",
    "| Matrix | A 2-dimensional array of numbers                                                                 | 2                                                                             | Upper (Q)                         |\n",
    "| Tensor | An n-dimensional array of numbers; can be any number, a 0-dimension tensor is a scalar, a 1-dimension tensor is a vector | Can be any number                                                            | Upper (X)                         |\n",
    "\n",
    "\n",
    "<p>\n",
    "    <img src=\"00_markdown_images/00-scalar-vector-matrix-tensor.png\" alt=\"Scalar Vector Matrix Tensor\" width=360\" height=\"450\">\n",
    "</p>"
   ],
   "id": "161266f679fdbcf8"
  },
  {
   "metadata": {},
   "cell_type": "markdown",
   "source": [
    "## Random Tensors\n",
    "\n",
    "Random tensors are important because the way many neural networks learn is that they start with tensors full of random numbers and then adjust those random numbers to better represent the data. ->\n",
    "\n",
    "`Start with random numbers -> Look at data -> Update random numbers -> Look at data -> Update random numbers`"
   ],
   "id": "890d3898a288eb90"
  },
  {
   "metadata": {
    "ExecuteTime": {
     "end_time": "2024-07-31T08:04:44.492584Z",
     "start_time": "2024-07-31T08:04:44.484138Z"
    }
   },
   "cell_type": "code",
   "source": [
    "# Create a random tensor of size/shape (3, 4)\n",
    "random_tensor = torch.rand(3, 4)\n",
    "\n",
    "random_tensor"
   ],
   "id": "153f55e76b63fd3e",
   "outputs": [
    {
     "data": {
      "text/plain": [
       "tensor([[0.4807, 0.7709, 0.6916, 0.2526],\n",
       "        [0.3469, 0.3696, 0.3429, 0.9013],\n",
       "        [0.3884, 0.4091, 0.3846, 0.9007]])"
      ]
     },
     "execution_count": 15,
     "metadata": {},
     "output_type": "execute_result"
    }
   ],
   "execution_count": 15
  },
  {
   "metadata": {
    "ExecuteTime": {
     "end_time": "2024-07-31T08:04:44.499199Z",
     "start_time": "2024-07-31T08:04:44.493478Z"
    }
   },
   "cell_type": "code",
   "source": [
    "# Random tensor number of dimensions\n",
    "random_tensor.ndim"
   ],
   "id": "1d3c7a871b4ee1b6",
   "outputs": [
    {
     "data": {
      "text/plain": [
       "2"
      ]
     },
     "execution_count": 16,
     "metadata": {},
     "output_type": "execute_result"
    }
   ],
   "execution_count": 16
  },
  {
   "metadata": {
    "ExecuteTime": {
     "end_time": "2024-07-31T08:04:44.507045Z",
     "start_time": "2024-07-31T08:04:44.500288Z"
    }
   },
   "cell_type": "code",
   "source": [
    "# Random tensor shape\n",
    "random_tensor.shape"
   ],
   "id": "520b65810d8331f",
   "outputs": [
    {
     "data": {
      "text/plain": [
       "torch.Size([3, 4])"
      ]
     },
     "execution_count": 17,
     "metadata": {},
     "output_type": "execute_result"
    }
   ],
   "execution_count": 17
  },
  {
   "metadata": {
    "ExecuteTime": {
     "end_time": "2024-07-31T08:04:44.517800Z",
     "start_time": "2024-07-31T08:04:44.507923Z"
    }
   },
   "cell_type": "code",
   "source": [
    "# Create a random tensor with similar shape to an image tensor (height, width, color channels)\n",
    "random_image_size_tensor = torch.rand(size=(224, 224, 3))\n",
    "\n",
    "random_image_size_tensor"
   ],
   "id": "b78d24d8a3bc3321",
   "outputs": [
    {
     "data": {
      "text/plain": [
       "tensor([[[0.8373, 0.4210, 0.4204],\n",
       "         [0.1301, 0.0108, 0.0575],\n",
       "         [0.8879, 0.9039, 0.5641],\n",
       "         ...,\n",
       "         [0.0371, 0.9864, 0.4333],\n",
       "         [0.3010, 0.7964, 0.9966],\n",
       "         [0.9693, 0.9531, 0.3183]],\n",
       "\n",
       "        [[0.8054, 0.9981, 0.1853],\n",
       "         [0.9475, 0.7716, 0.9165],\n",
       "         [0.0224, 0.0315, 0.3042],\n",
       "         ...,\n",
       "         [0.9636, 0.6632, 0.9219],\n",
       "         [0.2934, 0.1320, 0.4382],\n",
       "         [0.3713, 0.6315, 0.6127]],\n",
       "\n",
       "        [[0.3785, 0.2576, 0.0236],\n",
       "         [0.5435, 0.5913, 0.2905],\n",
       "         [0.7783, 0.2239, 0.1365],\n",
       "         ...,\n",
       "         [0.0903, 0.8099, 0.6404],\n",
       "         [0.0181, 0.6948, 0.8036],\n",
       "         [0.0051, 0.5158, 0.7213]],\n",
       "\n",
       "        ...,\n",
       "\n",
       "        [[0.0091, 0.3414, 0.9485],\n",
       "         [0.2866, 0.3303, 0.5247],\n",
       "         [0.1603, 0.9697, 0.5260],\n",
       "         ...,\n",
       "         [0.9426, 0.8670, 0.6744],\n",
       "         [0.0866, 0.3731, 0.6641],\n",
       "         [0.7677, 0.0431, 0.2108]],\n",
       "\n",
       "        [[0.0385, 0.7612, 0.8707],\n",
       "         [0.4161, 0.3024, 0.5103],\n",
       "         [0.1520, 0.0297, 0.0293],\n",
       "         ...,\n",
       "         [0.9885, 0.6148, 0.0056],\n",
       "         [0.9895, 0.9534, 0.6743],\n",
       "         [0.2346, 0.3975, 0.0132]],\n",
       "\n",
       "        [[0.8532, 0.7119, 0.1175],\n",
       "         [0.7160, 0.3875, 0.7523],\n",
       "         [0.8003, 0.3327, 0.7339],\n",
       "         ...,\n",
       "         [0.3549, 0.1072, 0.4700],\n",
       "         [0.0681, 0.8028, 0.7247],\n",
       "         [0.5339, 0.3424, 0.1904]]])"
      ]
     },
     "execution_count": 18,
     "metadata": {},
     "output_type": "execute_result"
    }
   ],
   "execution_count": 18
  },
  {
   "metadata": {
    "ExecuteTime": {
     "end_time": "2024-07-31T08:04:44.524180Z",
     "start_time": "2024-07-31T08:04:44.519722Z"
    }
   },
   "cell_type": "code",
   "source": [
    "# Random tensor number of dimensions\n",
    "random_image_size_tensor.ndim"
   ],
   "id": "4eeee27ade4d4cee",
   "outputs": [
    {
     "data": {
      "text/plain": [
       "3"
      ]
     },
     "execution_count": 19,
     "metadata": {},
     "output_type": "execute_result"
    }
   ],
   "execution_count": 19
  },
  {
   "metadata": {
    "ExecuteTime": {
     "end_time": "2024-07-31T08:04:44.534374Z",
     "start_time": "2024-07-31T08:04:44.525382Z"
    }
   },
   "cell_type": "code",
   "source": [
    "# Random tensor shape\n",
    "random_image_size_tensor.shape"
   ],
   "id": "ab36a9afc977864",
   "outputs": [
    {
     "data": {
      "text/plain": [
       "torch.Size([224, 224, 3])"
      ]
     },
     "execution_count": 20,
     "metadata": {},
     "output_type": "execute_result"
    }
   ],
   "execution_count": 20
  },
  {
   "metadata": {},
   "cell_type": "markdown",
   "source": "### Zeros and Ones",
   "id": "d89c016932cf31dc"
  },
  {
   "metadata": {
    "ExecuteTime": {
     "end_time": "2024-07-31T08:04:44.543244Z",
     "start_time": "2024-07-31T08:04:44.535635Z"
    }
   },
   "cell_type": "code",
   "source": [
    "# Creating a tensor of all zeros\n",
    "zeros = torch.zeros(size=(3, 4))\n",
    "\n",
    "zeros"
   ],
   "id": "23616d7c2e786ee5",
   "outputs": [
    {
     "data": {
      "text/plain": [
       "tensor([[0., 0., 0., 0.],\n",
       "        [0., 0., 0., 0.],\n",
       "        [0., 0., 0., 0.]])"
      ]
     },
     "execution_count": 21,
     "metadata": {},
     "output_type": "execute_result"
    }
   ],
   "execution_count": 21
  },
  {
   "metadata": {
    "ExecuteTime": {
     "end_time": "2024-07-31T08:04:44.550825Z",
     "start_time": "2024-07-31T08:04:44.544620Z"
    }
   },
   "cell_type": "code",
   "source": [
    "# Multiplying zeros tensor with random_tensor\n",
    "zeros * random_tensor"
   ],
   "id": "3314575732159c1a",
   "outputs": [
    {
     "data": {
      "text/plain": [
       "tensor([[0., 0., 0., 0.],\n",
       "        [0., 0., 0., 0.],\n",
       "        [0., 0., 0., 0.]])"
      ]
     },
     "execution_count": 22,
     "metadata": {},
     "output_type": "execute_result"
    }
   ],
   "execution_count": 22
  },
  {
   "metadata": {
    "ExecuteTime": {
     "end_time": "2024-07-31T08:04:44.558782Z",
     "start_time": "2024-07-31T08:04:44.552239Z"
    }
   },
   "cell_type": "code",
   "source": [
    "# Creating a tensor of all ones\n",
    "ones = torch.ones(size=(3, 4))\n",
    "\n",
    "ones"
   ],
   "id": "c21b4c120e4e5e3c",
   "outputs": [
    {
     "data": {
      "text/plain": [
       "tensor([[1., 1., 1., 1.],\n",
       "        [1., 1., 1., 1.],\n",
       "        [1., 1., 1., 1.]])"
      ]
     },
     "execution_count": 23,
     "metadata": {},
     "output_type": "execute_result"
    }
   ],
   "execution_count": 23
  },
  {
   "metadata": {
    "ExecuteTime": {
     "end_time": "2024-07-31T08:04:44.564985Z",
     "start_time": "2024-07-31T08:04:44.560423Z"
    }
   },
   "cell_type": "code",
   "source": [
    "# Data type of zeros, ones, random_tensor0\n",
    "print(zeros.dtype)\n",
    "print(ones.dtype)\n",
    "print(random_tensor.dtype)"
   ],
   "id": "dced46e0c51a0921",
   "outputs": [
    {
     "name": "stdout",
     "output_type": "stream",
     "text": [
      "torch.float32\n",
      "torch.float32\n",
      "torch.float32\n"
     ]
    }
   ],
   "execution_count": 24
  },
  {
   "metadata": {},
   "cell_type": "markdown",
   "source": "### Creating a range of tensors and tensors-like",
   "id": "de68ac56b302de87"
  },
  {
   "metadata": {
    "ExecuteTime": {
     "end_time": "2024-07-31T08:04:44.574043Z",
     "start_time": "2024-07-31T08:04:44.566057Z"
    }
   },
   "cell_type": "code",
   "source": [
    "# Using torch.arange(start, stop, step)\n",
    "one_to_ten = torch.arange(1, 11, 1)\n",
    "\n",
    "one_to_ten"
   ],
   "id": "86f8ea285dcd3807",
   "outputs": [
    {
     "data": {
      "text/plain": [
       "tensor([ 1,  2,  3,  4,  5,  6,  7,  8,  9, 10])"
      ]
     },
     "execution_count": 25,
     "metadata": {},
     "output_type": "execute_result"
    }
   ],
   "execution_count": 25
  },
  {
   "metadata": {},
   "cell_type": "markdown",
   "source": [
    "#### Tensor Like\n",
    "Sometimes you might want one tensor of a certain type with the same shape as another tensor.\n",
    "\n",
    "For example, a tensor of all zeros with the same shape as a previous tensor.\n",
    "\n",
    "To do so, you can use `torch.zeros_like(input)` or `torch.ones_like(input)` which return a tensor filled with zeros or ones in the same shape as the input respectively."
   ],
   "id": "4f4b207630244913"
  },
  {
   "metadata": {
    "ExecuteTime": {
     "end_time": "2024-07-31T08:04:44.581767Z",
     "start_time": "2024-07-31T08:04:44.575316Z"
    }
   },
   "cell_type": "code",
   "source": [
    "# Creating tensor like\n",
    "ten_zeros = torch.zeros_like(input=one_to_ten)\n",
    "\n",
    "ten_zeros"
   ],
   "id": "eed06235fddc33c1",
   "outputs": [
    {
     "data": {
      "text/plain": [
       "tensor([0, 0, 0, 0, 0, 0, 0, 0, 0, 0])"
      ]
     },
     "execution_count": 26,
     "metadata": {},
     "output_type": "execute_result"
    }
   ],
   "execution_count": 26
  },
  {
   "metadata": {},
   "cell_type": "markdown",
   "source": [
    "### [Tensor datatypes](https://pytorch.org/docs/stable/tensors.html#data-types)\n",
    "\n",
    "**NB!** Tensor datatypes is one of the 3 big errors you'll run into with PyTorch and Deep Learning:\n",
    "1. Tensors are not the right datatype.\n",
    "2. Tensors are not the right shape.\n",
    "3. Tensors are not on the right device (CPU or CUDA)."
   ],
   "id": "9689858cdedee989"
  },
  {
   "metadata": {
    "ExecuteTime": {
     "end_time": "2024-07-31T08:04:44.590338Z",
     "start_time": "2024-07-31T08:04:44.585300Z"
    }
   },
   "cell_type": "code",
   "source": [
    "# Float32 tensor <- This is the DEFAULT datatype\n",
    "float_32_tensor = torch.tensor([3.0, 6.0, 9.0], \n",
    "                               dtype=None,  # What datatype is the tensor (e.g., float32, float16, etc.)\n",
    "                               device=None, # What device is your tensor on\n",
    "                               requires_grad=False) # Whether to track gradients with these tensor operations.\n",
    "\n",
    "print(float_32_tensor)\n",
    "print(float_32_tensor.dtype)"
   ],
   "id": "8514bb4f805e2dae",
   "outputs": [
    {
     "name": "stdout",
     "output_type": "stream",
     "text": [
      "tensor([3., 6., 9.])\n",
      "torch.float32\n"
     ]
    }
   ],
   "execution_count": 27
  },
  {
   "metadata": {
    "ExecuteTime": {
     "end_time": "2024-07-31T08:04:44.600334Z",
     "start_time": "2024-07-31T08:04:44.591331Z"
    }
   },
   "cell_type": "code",
   "source": [
    "# Float16 tensor\n",
    "# In this case, we convert float_32_tensor to float16 tensor.\n",
    "float_16_tensor = float_32_tensor.type(torch.float16)\n",
    "\n",
    "float_16_tensor"
   ],
   "id": "f02a2bd2182c8a54",
   "outputs": [
    {
     "data": {
      "text/plain": [
       "tensor([3., 6., 9.], dtype=torch.float16)"
      ]
     },
     "execution_count": 28,
     "metadata": {},
     "output_type": "execute_result"
    }
   ],
   "execution_count": 28
  }
 ],
 "metadata": {
  "kernelspec": {
   "display_name": "Python 3",
   "language": "python",
   "name": "python3"
  },
  "language_info": {
   "codemirror_mode": {
    "name": "ipython",
    "version": 2
   },
   "file_extension": ".py",
   "mimetype": "text/x-python",
   "name": "python",
   "nbconvert_exporter": "python",
   "pygments_lexer": "ipython2",
   "version": "2.7.6"
  }
 },
 "nbformat": 4,
 "nbformat_minor": 5
}
