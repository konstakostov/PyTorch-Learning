{
 "cells": [
  {
   "metadata": {},
   "cell_type": "markdown",
   "source": "## Importing all needed libraries",
   "id": "ff5f8360639ac14f"
  },
  {
   "metadata": {
    "ExecuteTime": {
     "end_time": "2024-07-30T14:13:11.413014Z",
     "start_time": "2024-07-30T14:13:08.657858Z"
    }
   },
   "cell_type": "code",
   "source": [
    "import torch\n",
    "import pandas as pd\n",
    "import numpy as np\n",
    "import matplotlib.pyplot as plt"
   ],
   "id": "9a1bf31634adec57",
   "outputs": [],
   "execution_count": 1
  },
  {
   "metadata": {},
   "cell_type": "markdown",
   "source": [
    "## Introduction to tensors\n",
    "\n",
    "### Creating tensors"
   ],
   "id": "e1b02373b6667903"
  },
  {
   "metadata": {},
   "cell_type": "markdown",
   "source": [
    "### Quick Scalar Rundown\n",
    "\n",
    "A scalar is a single numerical value that represents a quantity without any directional information. It's a fundamental concept in mathematics, physics, and computer science. Here are some key points about scalars:\n",
    "\n",
    "1. **Definition**: A scalar is a quantity that can be fully described by its magnitude (size or amount) alone.\n",
    "2. **Contrast with vectors**: Unlike vectors, which have both magnitude and direction, scalars only have magnitude.\n",
    "3. **Examples**:\n",
    "    - ***Physics***: Temperature, mass, energy, time\n",
    "    - ***Mathematics***: Real numbers, complex numbers\n",
    "    - ***Computing***: Integer and floating-point variables\n",
    "4. **Operations**: Scalars can be added, subtracted, multiplied, and divided using regular arithmetic operations.\n",
    "5. **Programming**: In many programming languages, basic data types like integers and floats are scalar values."
   ],
   "id": "fa5a98c3a07b2476"
  },
  {
   "cell_type": "code",
   "id": "initial_id",
   "metadata": {
    "collapsed": true,
    "ExecuteTime": {
     "end_time": "2024-07-30T14:13:41.822520Z",
     "start_time": "2024-07-30T14:13:41.818433Z"
    }
   },
   "source": [
    "# Scalar\n",
    "scalar = torch.tensor(7)\n",
    "\n",
    "print(scalar)"
   ],
   "outputs": [
    {
     "name": "stdout",
     "output_type": "stream",
     "text": [
      "tensor(7)\n"
     ]
    }
   ],
   "execution_count": 3
  },
  {
   "metadata": {
    "ExecuteTime": {
     "end_time": "2024-07-30T14:14:30.322466Z",
     "start_time": "2024-07-30T14:14:30.315448Z"
    }
   },
   "cell_type": "code",
   "source": [
    "# Show the number of dimension of the scalar\n",
    "scalar.ndim"
   ],
   "id": "18c39cdbd720b897",
   "outputs": [
    {
     "data": {
      "text/plain": [
       "0"
      ]
     },
     "execution_count": 4,
     "metadata": {},
     "output_type": "execute_result"
    }
   ],
   "execution_count": 4
  },
  {
   "metadata": {
    "ExecuteTime": {
     "end_time": "2024-07-30T14:15:05.376755Z",
     "start_time": "2024-07-30T14:15:05.372527Z"
    }
   },
   "cell_type": "code",
   "source": [
    "# Get tensor back as Python integer\n",
    "scalar.item()"
   ],
   "id": "38b995102de0982",
   "outputs": [
    {
     "data": {
      "text/plain": [
       "7"
      ]
     },
     "execution_count": 5,
     "metadata": {},
     "output_type": "execute_result"
    }
   ],
   "execution_count": 5
  },
  {
   "metadata": {},
   "cell_type": "markdown",
   "source": [
    "### Quick Vector Rundown\n",
    "\n",
    "A vector is a quantity that has both magnitude and direction. It's a fundamental concept in mathematics, physics, and computer science. Here are some key points about vectors:\n",
    "\n",
    "1. **Definition**: A vector is a quantity that is fully described by both its magnitude (size or amount) and direction.\n",
    "2. **Contrast with scalars**: Unlike scalars, which have only magnitude, vectors have both magnitude and direction.\n",
    "3. **Examples**:\n",
    "    - **Physics**: Velocity, force, displacement, acceleration\n",
    "    - **Mathematics**: Ordered pairs/triplets, complex numbers (represented as points in a plane)\n",
    "    - **Computing**: Arrays or lists that store multiple values\n",
    "4. **Operations**: Vectors can be added, subtracted, scaled (multiplied by a scalar), and used in dot and cross products.\n",
    "5. **Programming**: In many programming languages, data structures like arrays and lists can represent vectors.\n",
    "\n"
   ],
   "id": "5f5de739e413a8e8"
  },
  {
   "metadata": {
    "ExecuteTime": {
     "end_time": "2024-07-30T14:18:44.044425Z",
     "start_time": "2024-07-30T14:18:44.039116Z"
    }
   },
   "cell_type": "code",
   "source": [
    "# Vector\n",
    "vector = torch.tensor([7, 7])\n",
    "\n",
    "vector"
   ],
   "id": "284ca6db23b54d42",
   "outputs": [
    {
     "data": {
      "text/plain": [
       "tensor([7, 7])"
      ]
     },
     "execution_count": 8,
     "metadata": {},
     "output_type": "execute_result"
    }
   ],
   "execution_count": 8
  },
  {
   "metadata": {
    "ExecuteTime": {
     "end_time": "2024-07-30T14:19:12.021181Z",
     "start_time": "2024-07-30T14:19:12.017449Z"
    }
   },
   "cell_type": "code",
   "source": [
    "# Show the number of dimension of the vector\n",
    "vector.ndim"
   ],
   "id": "449fdde554bf87ed",
   "outputs": [
    {
     "data": {
      "text/plain": [
       "1"
      ]
     },
     "execution_count": 9,
     "metadata": {},
     "output_type": "execute_result"
    }
   ],
   "execution_count": 9
  },
  {
   "metadata": {
    "ExecuteTime": {
     "end_time": "2024-07-30T14:20:02.741440Z",
     "start_time": "2024-07-30T14:20:02.737894Z"
    }
   },
   "cell_type": "code",
   "source": [
    "# Get tensor back as Python integer\n",
    "vector.shape"
   ],
   "id": "a79b9be2566003c0",
   "outputs": [
    {
     "data": {
      "text/plain": [
       "torch.Size([2])"
      ]
     },
     "execution_count": 12,
     "metadata": {},
     "output_type": "execute_result"
    }
   ],
   "execution_count": 12
  }
 ],
 "metadata": {
  "kernelspec": {
   "display_name": "Python 3",
   "language": "python",
   "name": "python3"
  },
  "language_info": {
   "codemirror_mode": {
    "name": "ipython",
    "version": 2
   },
   "file_extension": ".py",
   "mimetype": "text/x-python",
   "name": "python",
   "nbconvert_exporter": "python",
   "pygments_lexer": "ipython2",
   "version": "2.7.6"
  }
 },
 "nbformat": 4,
 "nbformat_minor": 5
}
