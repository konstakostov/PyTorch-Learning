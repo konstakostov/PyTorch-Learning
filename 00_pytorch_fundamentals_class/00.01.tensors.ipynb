{
 "cells": [
  {
   "metadata": {},
   "cell_type": "markdown",
   "source": "### Importing all libraries",
   "id": "ff5f8360639ac14f"
  },
  {
   "metadata": {
    "ExecuteTime": {
     "end_time": "2024-07-31T12:22:17.784393Z",
     "start_time": "2024-07-31T12:22:16.130903Z"
    }
   },
   "cell_type": "code",
   "source": "import torch",
   "id": "9a1bf31634adec57",
   "outputs": [],
   "execution_count": 1
  },
  {
   "metadata": {},
   "cell_type": "markdown",
   "source": [
    "## Introduction to tensors\n",
    "\n",
    "### Creating tensors"
   ],
   "id": "e1b02373b6667903"
  },
  {
   "metadata": {},
   "cell_type": "markdown",
   "source": [
    "### Quick Scalar Rundown\n",
    "\n",
    "A scalar is a single numerical value that represents a quantity without any directional information. It's a fundamental concept in mathematics, physics, and computer science. Here are some key points about scalars:\n",
    "\n",
    "1. **Definition**: A scalar is a quantity that can be fully described by its magnitude (size or amount) alone.\n",
    "2. **Contrast with vectors**: Unlike vectors, which have both magnitude and direction, scalars only have magnitude.\n",
    "3. **Examples**:\n",
    "    - ***Physics***: Temperature, mass, energy, time\n",
    "    - ***Mathematics***: Real numbers, complex numbers\n",
    "    - ***Computing***: Integer and floating-point variables\n",
    "4. **Operations**: Scalars can be added, subtracted, multiplied, and divided using regular arithmetic operations.\n",
    "5. **Programming**: In many programming languages, basic data types like integers and floats are scalar values."
   ],
   "id": "fa5a98c3a07b2476"
  },
  {
   "cell_type": "code",
   "id": "initial_id",
   "metadata": {
    "collapsed": true,
    "ExecuteTime": {
     "end_time": "2024-07-31T12:22:17.794756Z",
     "start_time": "2024-07-31T12:22:17.786232Z"
    }
   },
   "source": [
    "# Scalar\n",
    "scalar = torch.tensor(7)\n",
    "\n",
    "print(scalar)"
   ],
   "outputs": [
    {
     "name": "stdout",
     "output_type": "stream",
     "text": [
      "tensor(7)\n"
     ]
    }
   ],
   "execution_count": 2
  },
  {
   "metadata": {
    "ExecuteTime": {
     "end_time": "2024-07-31T12:22:17.803367Z",
     "start_time": "2024-07-31T12:22:17.795797Z"
    }
   },
   "cell_type": "code",
   "source": [
    "# Show the number of dimensions of the scalar\n",
    "scalar.ndim"
   ],
   "id": "18c39cdbd720b897",
   "outputs": [
    {
     "data": {
      "text/plain": [
       "0"
      ]
     },
     "execution_count": 3,
     "metadata": {},
     "output_type": "execute_result"
    }
   ],
   "execution_count": 3
  },
  {
   "metadata": {
    "ExecuteTime": {
     "end_time": "2024-07-31T12:22:17.812091Z",
     "start_time": "2024-07-31T12:22:17.804895Z"
    }
   },
   "cell_type": "code",
   "source": [
    "# Get scalar back as Python integer\n",
    "scalar.item()"
   ],
   "id": "38b995102de0982",
   "outputs": [
    {
     "data": {
      "text/plain": [
       "7"
      ]
     },
     "execution_count": 4,
     "metadata": {},
     "output_type": "execute_result"
    }
   ],
   "execution_count": 4
  },
  {
   "metadata": {},
   "cell_type": "markdown",
   "source": [
    "### Quick Vector Rundown\n",
    "\n",
    "A vector is a quantity that has both magnitude and direction. It's a fundamental concept in mathematics, physics, and computer science. Here are some key points about vectors:\n",
    "\n",
    "1. **Definition**: A vector is a quantity that is fully described by both its magnitude (size or amount) and direction.\n",
    "2. **Contrast with scalars**: Unlike scalars, which have only magnitude, vectors have both magnitude and direction.\n",
    "3. **Examples**:\n",
    "    - **Physics**: Velocity, force, displacement, acceleration\n",
    "    - **Mathematics**: Ordered pairs/triplets, complex numbers (represented as points in a plane)\n",
    "    - **Computing**: Arrays or lists that store multiple values\n",
    "4. **Operations**: Vectors can be added, subtracted, scaled (multiplied by a scalar), and used in dot- and cross-products.\n",
    "5. **Programming**: In many programming languages, data structures like arrays and lists can represent vectors."
   ],
   "id": "5f5de739e413a8e8"
  },
  {
   "metadata": {
    "ExecuteTime": {
     "end_time": "2024-07-31T12:22:17.823125Z",
     "start_time": "2024-07-31T12:22:17.813795Z"
    }
   },
   "cell_type": "code",
   "source": [
    "# Vector\n",
    "vector = torch.tensor([7, 7])\n",
    "\n",
    "vector"
   ],
   "id": "284ca6db23b54d42",
   "outputs": [
    {
     "data": {
      "text/plain": [
       "tensor([7, 7])"
      ]
     },
     "execution_count": 5,
     "metadata": {},
     "output_type": "execute_result"
    }
   ],
   "execution_count": 5
  },
  {
   "metadata": {
    "ExecuteTime": {
     "end_time": "2024-07-31T12:22:17.834321Z",
     "start_time": "2024-07-31T12:22:17.823919Z"
    }
   },
   "cell_type": "code",
   "source": [
    "# Show the number of dimensions of the vector\n",
    "vector.ndim"
   ],
   "id": "449fdde554bf87ed",
   "outputs": [
    {
     "data": {
      "text/plain": [
       "1"
      ]
     },
     "execution_count": 6,
     "metadata": {},
     "output_type": "execute_result"
    }
   ],
   "execution_count": 6
  },
  {
   "metadata": {
    "ExecuteTime": {
     "end_time": "2024-07-31T12:22:17.843057Z",
     "start_time": "2024-07-31T12:22:17.835783Z"
    }
   },
   "cell_type": "code",
   "source": [
    "# Get the shape of the vector\n",
    "vector.shape"
   ],
   "id": "a79b9be2566003c0",
   "outputs": [
    {
     "data": {
      "text/plain": [
       "torch.Size([2])"
      ]
     },
     "execution_count": 7,
     "metadata": {},
     "output_type": "execute_result"
    }
   ],
   "execution_count": 7
  },
  {
   "metadata": {},
   "cell_type": "markdown",
   "source": [
    "### Quick Matrix Rundown\n",
    "\n",
    "A matrix is an array of numbers arranged in rows and columns. It's a fundamental concept in mathematics, physics, and computer science. Here are some key points about matrices:\n",
    "\n",
    "1. **Definition**: A matrix is a rectangular array of numbers, symbols, or expressions, arranged in rows and columns.\n",
    "2. **Dimensions**: The dimensions of a matrix are given by the number of rows and columns (e.g., a 3x2 matrix has 3 rows and 2 columns).\n",
    "3. **Examples**:\n",
    "    - **Mathematics**: Systems of linear equations, transformations in geometry\n",
    "    - **Physics**: Representation of linear transformations, state vectors in quantum mechanics\n",
    "    - **Computing**: Image data (pixels arranged in rows and columns), adjacency matrices in graph theory\n",
    "4. **Operations**: Matrices can be added, subtracted, and multiplied. They can also be used in operations such as transposition, inversion, and finding determinants.\n",
    "5. **Programming**: In many programming languages, matrices are implemented as two-dimensional arrays or lists of lists.\n",
    "\n"
   ],
   "id": "575b190a23b638b0"
  },
  {
   "metadata": {
    "ExecuteTime": {
     "end_time": "2024-07-31T12:22:17.852814Z",
     "start_time": "2024-07-31T12:22:17.844023Z"
    }
   },
   "cell_type": "code",
   "source": [
    "# Matrix\n",
    "MATRIX = torch.tensor([[7, 8],\n",
    "                       [9, 10]])\n",
    "\n",
    "MATRIX"
   ],
   "id": "df16e7897aa85875",
   "outputs": [
    {
     "data": {
      "text/plain": [
       "tensor([[ 7,  8],\n",
       "        [ 9, 10]])"
      ]
     },
     "execution_count": 8,
     "metadata": {},
     "output_type": "execute_result"
    }
   ],
   "execution_count": 8
  },
  {
   "metadata": {
    "ExecuteTime": {
     "end_time": "2024-07-31T12:22:17.861430Z",
     "start_time": "2024-07-31T12:22:17.853674Z"
    }
   },
   "cell_type": "code",
   "source": [
    "# Show the number of dimensions of the matrix\n",
    "MATRIX.ndim"
   ],
   "id": "eda18cc2f23e52be",
   "outputs": [
    {
     "data": {
      "text/plain": [
       "2"
      ]
     },
     "execution_count": 9,
     "metadata": {},
     "output_type": "execute_result"
    }
   ],
   "execution_count": 9
  },
  {
   "metadata": {
    "ExecuteTime": {
     "end_time": "2024-07-31T12:22:17.873073Z",
     "start_time": "2024-07-31T12:22:17.866095Z"
    }
   },
   "cell_type": "code",
   "source": [
    "# Print the 1st and 2nd element of the matrix\n",
    "print(MATRIX[0])\n",
    "print(MATRIX[1])"
   ],
   "id": "18acf2c2f0042d4e",
   "outputs": [
    {
     "name": "stdout",
     "output_type": "stream",
     "text": [
      "tensor([7, 8])\n",
      "tensor([ 9, 10])\n"
     ]
    }
   ],
   "execution_count": 10
  },
  {
   "metadata": {
    "ExecuteTime": {
     "end_time": "2024-07-31T12:22:17.883251Z",
     "start_time": "2024-07-31T12:22:17.874443Z"
    }
   },
   "cell_type": "code",
   "source": [
    "# Get the shape of the matrix\n",
    "MATRIX.shape"
   ],
   "id": "930b32d5cb02c345",
   "outputs": [
    {
     "data": {
      "text/plain": [
       "torch.Size([2, 2])"
      ]
     },
     "execution_count": 11,
     "metadata": {},
     "output_type": "execute_result"
    }
   ],
   "execution_count": 11
  },
  {
   "metadata": {},
   "cell_type": "markdown",
   "source": [
    "### Quick Tensor Rundown\n",
    "\n",
    "A tensor is a multidimensional array of numerical values that generalizes the concepts of scalars, vectors, and matrices. It's a fundamental concept in mathematics, physics, and computer science. Here are some key points about tensors:\n",
    "\n",
    "1. **Definition**: A tensor is a multidimensional array of numbers that generalizes scalars (0-dimensional), vectors (1-dimensional), and matrices (2-dimensional) to higher dimensions.\n",
    "2. **Dimensions (Ranks)**: The rank of a tensor refers to the number of dimensions (or indices) required to describe it. For example, a scalar is a rank-0 tensor, a vector is a rank-1 tensor, and a matrix is a rank-2 tensor.\n",
    "3. **Examples**:\n",
    "    - **Physics**: Stress and strain tensors in mechanics, the metric tensor in general relativity\n",
    "    - **Mathematics**: Multi-linear maps, higher-order generalizations of matrices\n",
    "    - **Computing**: Multidimensional arrays used in machine learning and data representation (e.g., images, video, and more complex datasets)\n",
    "4. **Operations**: Tensors can undergo various operations such as addition, subtraction, multiplication (including dot product and tensor product), contraction, and transformations.\n",
    "5. **Programming**: In many programming languages and frameworks (like TensorFlow and PyTorch), tensors are used to represent and manipulate data for machine learning and other numerical computations.\n",
    "\n",
    "[Tensors explained](https://youtu.be/f5liqUk0ZTw)."
   ],
   "id": "26fd1615130975fc"
  },
  {
   "metadata": {
    "ExecuteTime": {
     "end_time": "2024-07-31T12:22:17.891995Z",
     "start_time": "2024-07-31T12:22:17.884826Z"
    }
   },
   "cell_type": "code",
   "source": [
    "# Tensor\n",
    "TENSOR = torch.tensor([[[1, 2, 3],\n",
    "                        [3, 6, 8],\n",
    "                        [2, 4, 5]]])\n",
    "\n",
    "TENSOR"
   ],
   "id": "108159089b383072",
   "outputs": [
    {
     "data": {
      "text/plain": [
       "tensor([[[1, 2, 3],\n",
       "         [3, 6, 8],\n",
       "         [2, 4, 5]]])"
      ]
     },
     "execution_count": 12,
     "metadata": {},
     "output_type": "execute_result"
    }
   ],
   "execution_count": 12
  },
  {
   "metadata": {
    "ExecuteTime": {
     "end_time": "2024-07-31T12:22:17.901609Z",
     "start_time": "2024-07-31T12:22:17.893521Z"
    }
   },
   "cell_type": "code",
   "source": [
    "# Show the number of dimensions of the tensor\n",
    "TENSOR.ndim"
   ],
   "id": "65c98390aaf7cd11",
   "outputs": [
    {
     "data": {
      "text/plain": [
       "3"
      ]
     },
     "execution_count": 13,
     "metadata": {},
     "output_type": "execute_result"
    }
   ],
   "execution_count": 13
  },
  {
   "metadata": {
    "ExecuteTime": {
     "end_time": "2024-07-31T12:22:17.909430Z",
     "start_time": "2024-07-31T12:22:17.902690Z"
    }
   },
   "cell_type": "code",
   "source": [
    "# Get the shape of the matrix\n",
    "TENSOR.shape"
   ],
   "id": "d7295b9a2a002b9f",
   "outputs": [
    {
     "data": {
      "text/plain": [
       "torch.Size([1, 3, 3])"
      ]
     },
     "execution_count": 14,
     "metadata": {},
     "output_type": "execute_result"
    }
   ],
   "execution_count": 14
  },
  {
   "metadata": {},
   "cell_type": "markdown",
   "source": [
    "<p>\n",
    "    <img src=\"00_markdown_images/00-pytorch-different-tensor-dimensions.png\" alt=\"Different Tensor Dimensions\" width=720\" height=\"360\">\n",
    "</p>"
   ],
   "id": "ce01464166808b89"
  },
  {
   "metadata": {},
   "cell_type": "markdown",
   "source": [
    "### Short Summary\n",
    "\n",
    "### Let's Summarize\n",
    "\n",
    "| Name    | What is it?                                                                                                               | Number of dimensions | Lower or upper (usually/example) |\n",
    "|---------|---------------------------------------------------------------------------------------------------------------------------|----------------------|----------------------------------|\n",
    "| Scalar  | A single number                                                                                                           | 0                    | Lower (a)                        |\n",
    "| Vector  | A number with direction (e.g., wind speed with direction) but can also have many other numbers                            | 1                    | Lower (y)                        |\n",
    "| Matrix  | A 2-dimensional array of numbers                                                                                          | 2                    | Upper (Q)                        |\n",
    "| Tensor  | An n-dimensional array of numbers; can be any number, a 0-dimension tensor is a scalar, a 1-dimension tensor is a vector  | Can be any number    | Upper (X)                        |\n",
    "\n",
    "<p>\n",
    "    <img src=\"00_markdown_images/00-scalar-vector-matrix-tensor.png\" alt=\"Scalar Vector Matrix Tensor\" width=360\" height=\"450\">\n",
    "</p>"
   ],
   "id": "161266f679fdbcf8"
  },
  {
   "metadata": {},
   "cell_type": "markdown",
   "source": [
    "## Random Tensors\n",
    "\n",
    "Random tensors are important because the way many neural networks learn is that they start with tensors full of random numbers and then adjust those random numbers to better represent the data. ->\n",
    "\n",
    "`Start with random numbers -> Look at data -> Update random numbers -> Look at data -> Update random numbers`"
   ],
   "id": "890d3898a288eb90"
  },
  {
   "metadata": {
    "ExecuteTime": {
     "end_time": "2024-07-31T12:22:17.920391Z",
     "start_time": "2024-07-31T12:22:17.913680Z"
    }
   },
   "cell_type": "code",
   "source": [
    "# Create a random tensor of size/shape (3, 4)\n",
    "random_tensor = torch.rand(3, 4)\n",
    "\n",
    "random_tensor"
   ],
   "id": "153f55e76b63fd3e",
   "outputs": [
    {
     "data": {
      "text/plain": [
       "tensor([[0.3774, 0.6626, 0.0455, 0.4399],\n",
       "        [0.0250, 0.8720, 0.8450, 0.8462],\n",
       "        [0.3867, 0.9312, 0.2952, 0.6327]])"
      ]
     },
     "execution_count": 15,
     "metadata": {},
     "output_type": "execute_result"
    }
   ],
   "execution_count": 15
  },
  {
   "metadata": {
    "ExecuteTime": {
     "end_time": "2024-07-31T12:22:17.928841Z",
     "start_time": "2024-07-31T12:22:17.921454Z"
    }
   },
   "cell_type": "code",
   "source": [
    "# Random tensor number of dimensions\n",
    "random_tensor.ndim"
   ],
   "id": "1d3c7a871b4ee1b6",
   "outputs": [
    {
     "data": {
      "text/plain": [
       "2"
      ]
     },
     "execution_count": 16,
     "metadata": {},
     "output_type": "execute_result"
    }
   ],
   "execution_count": 16
  },
  {
   "metadata": {
    "ExecuteTime": {
     "end_time": "2024-07-31T12:22:17.937075Z",
     "start_time": "2024-07-31T12:22:17.932050Z"
    }
   },
   "cell_type": "code",
   "source": [
    "# Random tensor shape\n",
    "random_tensor.shape"
   ],
   "id": "520b65810d8331f",
   "outputs": [
    {
     "data": {
      "text/plain": [
       "torch.Size([3, 4])"
      ]
     },
     "execution_count": 17,
     "metadata": {},
     "output_type": "execute_result"
    }
   ],
   "execution_count": 17
  },
  {
   "metadata": {
    "ExecuteTime": {
     "end_time": "2024-07-31T12:22:17.952355Z",
     "start_time": "2024-07-31T12:22:17.938671Z"
    }
   },
   "cell_type": "code",
   "source": [
    "# Create a random tensor with similar shape to an image tensor (height, width, color channels)\n",
    "random_image_size_tensor = torch.rand(size=(224, 224, 3))\n",
    "\n",
    "random_image_size_tensor"
   ],
   "id": "b78d24d8a3bc3321",
   "outputs": [
    {
     "data": {
      "text/plain": [
       "tensor([[[0.7719, 0.9970, 0.7266],\n",
       "         [0.2859, 0.7574, 0.0343],\n",
       "         [0.3435, 0.6866, 0.7408],\n",
       "         ...,\n",
       "         [0.8046, 0.8689, 0.1158],\n",
       "         [0.0343, 0.2980, 0.1667],\n",
       "         [0.2857, 0.5833, 0.6673]],\n",
       "\n",
       "        [[0.8925, 0.9737, 0.3690],\n",
       "         [0.8233, 0.6341, 0.0434],\n",
       "         [0.7632, 0.8058, 0.4105],\n",
       "         ...,\n",
       "         [0.4463, 0.8647, 0.9420],\n",
       "         [0.8535, 0.4504, 0.5694],\n",
       "         [0.6267, 0.7235, 0.9623]],\n",
       "\n",
       "        [[0.9341, 0.3469, 0.4018],\n",
       "         [0.4112, 0.5222, 0.3705],\n",
       "         [0.8037, 0.7807, 0.9654],\n",
       "         ...,\n",
       "         [0.7381, 0.6642, 0.4040],\n",
       "         [0.1361, 0.9762, 0.5743],\n",
       "         [0.8868, 0.3425, 0.8816]],\n",
       "\n",
       "        ...,\n",
       "\n",
       "        [[0.4360, 0.2795, 0.0252],\n",
       "         [0.9924, 0.2950, 0.9957],\n",
       "         [0.2075, 0.3969, 0.4523],\n",
       "         ...,\n",
       "         [0.5976, 0.1053, 0.8567],\n",
       "         [0.1189, 0.1603, 0.6404],\n",
       "         [0.3534, 0.0194, 0.3542]],\n",
       "\n",
       "        [[0.3160, 0.8776, 0.8561],\n",
       "         [0.3648, 0.6554, 0.6716],\n",
       "         [0.8545, 0.7635, 0.5497],\n",
       "         ...,\n",
       "         [0.0143, 0.0362, 0.0361],\n",
       "         [0.6835, 0.2091, 0.2250],\n",
       "         [0.0376, 0.3458, 0.2380]],\n",
       "\n",
       "        [[0.3179, 0.0288, 0.7300],\n",
       "         [0.5564, 0.9816, 0.3910],\n",
       "         [0.0888, 0.0758, 0.8361],\n",
       "         ...,\n",
       "         [0.6457, 0.1349, 0.2035],\n",
       "         [0.6140, 0.2970, 0.3055],\n",
       "         [0.0406, 0.7267, 0.0843]]])"
      ]
     },
     "execution_count": 18,
     "metadata": {},
     "output_type": "execute_result"
    }
   ],
   "execution_count": 18
  },
  {
   "metadata": {
    "ExecuteTime": {
     "end_time": "2024-07-31T12:22:17.957277Z",
     "start_time": "2024-07-31T12:22:17.953494Z"
    }
   },
   "cell_type": "code",
   "source": [
    "# Random tensor number of dimensions\n",
    "random_image_size_tensor.ndim"
   ],
   "id": "4eeee27ade4d4cee",
   "outputs": [
    {
     "data": {
      "text/plain": [
       "3"
      ]
     },
     "execution_count": 19,
     "metadata": {},
     "output_type": "execute_result"
    }
   ],
   "execution_count": 19
  },
  {
   "metadata": {
    "ExecuteTime": {
     "end_time": "2024-07-31T12:22:17.967064Z",
     "start_time": "2024-07-31T12:22:17.958064Z"
    }
   },
   "cell_type": "code",
   "source": [
    "# Random tensor shape\n",
    "random_image_size_tensor.shape"
   ],
   "id": "ab36a9afc977864",
   "outputs": [
    {
     "data": {
      "text/plain": [
       "torch.Size([224, 224, 3])"
      ]
     },
     "execution_count": 20,
     "metadata": {},
     "output_type": "execute_result"
    }
   ],
   "execution_count": 20
  },
  {
   "metadata": {},
   "cell_type": "markdown",
   "source": "### Zeros and Ones",
   "id": "d89c016932cf31dc"
  },
  {
   "metadata": {
    "ExecuteTime": {
     "end_time": "2024-07-31T12:22:17.975688Z",
     "start_time": "2024-07-31T12:22:17.968721Z"
    }
   },
   "cell_type": "code",
   "source": [
    "# Creating a tensor of all zeros\n",
    "zeros = torch.zeros(size=(3, 4))\n",
    "\n",
    "zeros"
   ],
   "id": "23616d7c2e786ee5",
   "outputs": [
    {
     "data": {
      "text/plain": [
       "tensor([[0., 0., 0., 0.],\n",
       "        [0., 0., 0., 0.],\n",
       "        [0., 0., 0., 0.]])"
      ]
     },
     "execution_count": 21,
     "metadata": {},
     "output_type": "execute_result"
    }
   ],
   "execution_count": 21
  },
  {
   "metadata": {
    "ExecuteTime": {
     "end_time": "2024-07-31T12:22:17.985464Z",
     "start_time": "2024-07-31T12:22:17.976686Z"
    }
   },
   "cell_type": "code",
   "source": [
    "# Multiplying zeros tensor with random_tensor\n",
    "zeros * random_tensor"
   ],
   "id": "3314575732159c1a",
   "outputs": [
    {
     "data": {
      "text/plain": [
       "tensor([[0., 0., 0., 0.],\n",
       "        [0., 0., 0., 0.],\n",
       "        [0., 0., 0., 0.]])"
      ]
     },
     "execution_count": 22,
     "metadata": {},
     "output_type": "execute_result"
    }
   ],
   "execution_count": 22
  },
  {
   "metadata": {
    "ExecuteTime": {
     "end_time": "2024-07-31T12:22:17.995481Z",
     "start_time": "2024-07-31T12:22:17.987321Z"
    }
   },
   "cell_type": "code",
   "source": [
    "# Creating a tensor of all ones\n",
    "ones = torch.ones(size=(3, 4))\n",
    "\n",
    "ones"
   ],
   "id": "c21b4c120e4e5e3c",
   "outputs": [
    {
     "data": {
      "text/plain": [
       "tensor([[1., 1., 1., 1.],\n",
       "        [1., 1., 1., 1.],\n",
       "        [1., 1., 1., 1.]])"
      ]
     },
     "execution_count": 23,
     "metadata": {},
     "output_type": "execute_result"
    }
   ],
   "execution_count": 23
  },
  {
   "metadata": {
    "ExecuteTime": {
     "end_time": "2024-07-31T12:22:18.004926Z",
     "start_time": "2024-07-31T12:22:17.998405Z"
    }
   },
   "cell_type": "code",
   "source": [
    "# Data type of zeros, ones, random_tensor0\n",
    "print(zeros.dtype)\n",
    "print(ones.dtype)\n",
    "print(random_tensor.dtype)"
   ],
   "id": "dced46e0c51a0921",
   "outputs": [
    {
     "name": "stdout",
     "output_type": "stream",
     "text": [
      "torch.float32\n",
      "torch.float32\n",
      "torch.float32\n"
     ]
    }
   ],
   "execution_count": 24
  },
  {
   "metadata": {},
   "cell_type": "markdown",
   "source": "### Creating a range of tensors and tensors-like",
   "id": "de68ac56b302de87"
  },
  {
   "metadata": {
    "ExecuteTime": {
     "end_time": "2024-07-31T12:22:18.015634Z",
     "start_time": "2024-07-31T12:22:18.006033Z"
    }
   },
   "cell_type": "code",
   "source": [
    "# Using torch.arange(start, stop, step)\n",
    "one_to_ten = torch.arange(1, 11, 1)\n",
    "\n",
    "one_to_ten"
   ],
   "id": "86f8ea285dcd3807",
   "outputs": [
    {
     "data": {
      "text/plain": [
       "tensor([ 1,  2,  3,  4,  5,  6,  7,  8,  9, 10])"
      ]
     },
     "execution_count": 25,
     "metadata": {},
     "output_type": "execute_result"
    }
   ],
   "execution_count": 25
  },
  {
   "metadata": {},
   "cell_type": "markdown",
   "source": [
    "#### Tensor Like\n",
    "Sometimes you might want one tensor of a certain type with the same shape as another tensor.\n",
    "\n",
    "For example, a tensor of all zeros with the same shape as a previous tensor.\n",
    "\n",
    "To do so, you can use `torch.zeros_like(input)` or `torch.ones_like(input)` which return a tensor filled with zeros or ones in the same shape as the input respectively."
   ],
   "id": "4f4b207630244913"
  },
  {
   "metadata": {
    "ExecuteTime": {
     "end_time": "2024-07-31T12:22:18.023950Z",
     "start_time": "2024-07-31T12:22:18.017402Z"
    }
   },
   "cell_type": "code",
   "source": [
    "# Creating tensor like\n",
    "ten_zeros = torch.zeros_like(input=one_to_ten)\n",
    "\n",
    "ten_zeros"
   ],
   "id": "eed06235fddc33c1",
   "outputs": [
    {
     "data": {
      "text/plain": [
       "tensor([0, 0, 0, 0, 0, 0, 0, 0, 0, 0])"
      ]
     },
     "execution_count": 26,
     "metadata": {},
     "output_type": "execute_result"
    }
   ],
   "execution_count": 26
  },
  {
   "metadata": {},
   "cell_type": "markdown",
   "source": [
    "### [Tensor datatypes](https://pytorch.org/docs/stable/tensors.html#data-types)\n",
    "\n",
    "**NB!** Tensor datatypes is one of the 3 big errors you'll run into with PyTorch and Deep Learning:\n",
    "1. Tensors are not the right datatype.\n",
    "2. Tensors are not the right shape.\n",
    "3. Tensors are not on the right device (CPU or CUDA)."
   ],
   "id": "9689858cdedee989"
  },
  {
   "metadata": {
    "ExecuteTime": {
     "end_time": "2024-07-31T12:22:18.033360Z",
     "start_time": "2024-07-31T12:22:18.024760Z"
    }
   },
   "cell_type": "code",
   "source": [
    "# Float32 tensor <- This is the DEFAULT datatype\n",
    "float_32_tensor = torch.tensor([3.0, 6.0, 9.0], \n",
    "                               dtype=None,  # What datatype is the tensor (e.g., float32, float16, etc.)\n",
    "                               device=None, # What device is your tensor on\n",
    "                               requires_grad=False) # Whether to track gradients with these tensor operations.\n",
    "\n",
    "print(float_32_tensor)\n",
    "print(float_32_tensor.dtype)"
   ],
   "id": "8514bb4f805e2dae",
   "outputs": [
    {
     "name": "stdout",
     "output_type": "stream",
     "text": [
      "tensor([3., 6., 9.])\n",
      "torch.float32\n"
     ]
    }
   ],
   "execution_count": 27
  },
  {
   "metadata": {
    "ExecuteTime": {
     "end_time": "2024-07-31T12:22:18.044668Z",
     "start_time": "2024-07-31T12:22:18.038291Z"
    }
   },
   "cell_type": "code",
   "source": [
    "# Float16 tensor\n",
    "# In this case, we convert float_32_tensor to float16 tensor.\n",
    "float_16_tensor = float_32_tensor.type(torch.float16)\n",
    "\n",
    "float_16_tensor"
   ],
   "id": "f02a2bd2182c8a54",
   "outputs": [
    {
     "data": {
      "text/plain": [
       "tensor([3., 6., 9.], dtype=torch.float16)"
      ]
     },
     "execution_count": 28,
     "metadata": {},
     "output_type": "execute_result"
    }
   ],
   "execution_count": 28
  },
  {
   "metadata": {
    "ExecuteTime": {
     "end_time": "2024-07-31T12:22:18.052580Z",
     "start_time": "2024-07-31T12:22:18.045927Z"
    }
   },
   "cell_type": "code",
   "source": [
    "# Int32 Tensor\n",
    "int_32_tensor = torch.tensor([3, 6, 9], dtype=torch.int32)\n",
    "\n",
    "int_32_tensor"
   ],
   "id": "27f615f27816305a",
   "outputs": [
    {
     "data": {
      "text/plain": [
       "tensor([3, 6, 9], dtype=torch.int32)"
      ]
     },
     "execution_count": 29,
     "metadata": {},
     "output_type": "execute_result"
    }
   ],
   "execution_count": 29
  },
  {
   "metadata": {},
   "cell_type": "markdown",
   "source": [
    "### Getting information from tensors\n",
    "\n",
    "1. Tensors are not the right datatype -> To get the datatype of tensor, you can use `tensor.dtype`\n",
    "2. Tensors are not the right shape -> To get the shape of the tensor, you can use `tensor.shape`.\n",
    "3. Tensors are not on the right device -> To get the device from a tensor, you can use `tensor.device`."
   ],
   "id": "533695cb9d87e7e"
  },
  {
   "metadata": {
    "ExecuteTime": {
     "end_time": "2024-07-31T12:22:18.063840Z",
     "start_time": "2024-07-31T12:22:18.054346Z"
    }
   },
   "cell_type": "code",
   "source": [
    "# Creating a tensor\n",
    "some_tensor = torch.rand(3, 4)\n",
    "\n",
    "some_tensor"
   ],
   "id": "ce03b1c2d81a995b",
   "outputs": [
    {
     "data": {
      "text/plain": [
       "tensor([[0.6832, 0.9306, 0.0098, 0.4819],\n",
       "        [0.3124, 0.4902, 0.8773, 0.0355],\n",
       "        [0.3579, 0.8703, 0.4049, 0.8965]])"
      ]
     },
     "execution_count": 30,
     "metadata": {},
     "output_type": "execute_result"
    }
   ],
   "execution_count": 30
  },
  {
   "metadata": {
    "ExecuteTime": {
     "end_time": "2024-07-31T12:22:18.071595Z",
     "start_time": "2024-07-31T12:22:18.067045Z"
    }
   },
   "cell_type": "code",
   "source": [
    "# Finding out information about the tensor\n",
    "print(some_tensor)\n",
    "print(f\"The tensor's datatype is: {some_tensor.dtype}\")\n",
    "print(f\"The tensor's shape is: {some_tensor.shape}\")\n",
    "print(f\"The tensor's device is: {some_tensor.device}\")\n"
   ],
   "id": "c1cf17dd58acbca1",
   "outputs": [
    {
     "name": "stdout",
     "output_type": "stream",
     "text": [
      "tensor([[0.6832, 0.9306, 0.0098, 0.4819],\n",
      "        [0.3124, 0.4902, 0.8773, 0.0355],\n",
      "        [0.3579, 0.8703, 0.4049, 0.8965]])\n",
      "The tensor's datatype is: torch.float32\n",
      "The tensor's shape is: torch.Size([3, 4])\n",
      "The tensor's device is: cpu\n"
     ]
    }
   ],
   "execution_count": 31
  },
  {
   "metadata": {},
   "cell_type": "markdown",
   "source": [
    "### Manipulating Tensors\n",
    "#### (Tensor Operations)\n",
    "\n",
    "Tensor operations include: \n",
    "* Addition\n",
    "* Subtraction\n",
    "* Multiplication (element-wise)\n",
    "* Division\n",
    "* Matrix Multiplication"
   ],
   "id": "5bb965125087ae28"
  },
  {
   "metadata": {
    "ExecuteTime": {
     "end_time": "2024-07-31T12:22:18.082766Z",
     "start_time": "2024-07-31T12:22:18.072564Z"
    }
   },
   "cell_type": "code",
   "source": [
    "# Create a tensor\n",
    "tensor = torch.tensor([1, 2, 3])\n",
    "\n",
    "tensor"
   ],
   "id": "c39f2d4414cbd2b5",
   "outputs": [
    {
     "data": {
      "text/plain": [
       "tensor([1, 2, 3])"
      ]
     },
     "execution_count": 32,
     "metadata": {},
     "output_type": "execute_result"
    }
   ],
   "execution_count": 32
  },
  {
   "metadata": {
    "ExecuteTime": {
     "end_time": "2024-07-31T12:22:18.088746Z",
     "start_time": "2024-07-31T12:22:18.084706Z"
    }
   },
   "cell_type": "code",
   "source": [
    "# Add 10 to the created tensor\n",
    "print(tensor + 10)\n",
    "\n",
    "# PyTorch built-in function `add`\n",
    "print(torch.add(tensor, 10))"
   ],
   "id": "bf850d0e7f07000b",
   "outputs": [
    {
     "name": "stdout",
     "output_type": "stream",
     "text": [
      "tensor([11, 12, 13])\n",
      "tensor([11, 12, 13])\n"
     ]
    }
   ],
   "execution_count": 33
  },
  {
   "metadata": {
    "ExecuteTime": {
     "end_time": "2024-07-31T12:22:18.100549Z",
     "start_time": "2024-07-31T12:22:18.089655Z"
    }
   },
   "cell_type": "code",
   "source": [
    "# Multiply by 10 the created tensor\n",
    "print(tensor * 10)\n",
    "\n",
    "# PyTorch built-in function `mul`\n",
    "print(torch.mul(tensor, 10))"
   ],
   "id": "98c235d927576a26",
   "outputs": [
    {
     "name": "stdout",
     "output_type": "stream",
     "text": [
      "tensor([10, 20, 30])\n",
      "tensor([10, 20, 30])\n"
     ]
    }
   ],
   "execution_count": 34
  },
  {
   "metadata": {
    "ExecuteTime": {
     "end_time": "2024-07-31T12:22:18.109409Z",
     "start_time": "2024-07-31T12:22:18.101786Z"
    }
   },
   "cell_type": "code",
   "source": [
    "# Subtract 10 from the tensor\n",
    "print(tensor - 10)\n",
    "\n",
    "# PyTorch built-in function `sub`\n",
    "print(torch.sub(tensor, 10))"
   ],
   "id": "2502e69901ece0b1",
   "outputs": [
    {
     "name": "stdout",
     "output_type": "stream",
     "text": [
      "tensor([-9, -8, -7])\n",
      "tensor([-9, -8, -7])\n"
     ]
    }
   ],
   "execution_count": 35
  },
  {
   "metadata": {},
   "cell_type": "markdown",
   "source": "",
   "id": "32fa64efe74007f7"
  },
  {
   "metadata": {},
   "cell_type": "markdown",
   "source": [
    "### Matrix multiplication\n",
    "\n",
    "There are 2 main ways to multiply matrices:\n",
    "1. Element-wise multiplication\n",
    "2. Matrix multiplication (Dot product)\n",
    "\n",
    "There are two main rues that performing matrix multiplication need to satisfy:\n",
    "1. The **inner dimensions** must match: \n",
    "* `(3, `**2**`) @ (`**3**`, 2)` <-- Won't work.\n",
    "* `(2, `**3**`) @ (`**3**`, 2)` <-- Will work.\n",
    "* `(3, `**2**`) @ (`**2**`, 3)` <-- Will work.\n",
    "2. The resulting matrix has the shape of the **outer dimensions**.\n",
    "* `(`**2**`, 3) @ (3, `**2**`)` --> This matrix has the shape `(`**2**`, `**2**`)`\n",
    "* `(`**3**`, 2) @ (2, `**3**`)` --> This matrix has the shape `(`**3**`, `**3**`)`\n",
    "\n",
    "[Matrix multiplication training](http://matrixmultiplication.xyz)"
   ],
   "id": "868b67eb93f290b3"
  },
  {
   "metadata": {
    "ExecuteTime": {
     "end_time": "2024-07-31T12:22:18.121712Z",
     "start_time": "2024-07-31T12:22:18.112064Z"
    }
   },
   "cell_type": "code",
   "source": [
    "# Element-wise matrix multiplication\n",
    "print(f\"{tensor} * {tensor} = {tensor * tensor}\")"
   ],
   "id": "8a5d729e4709971a",
   "outputs": [
    {
     "name": "stdout",
     "output_type": "stream",
     "text": [
      "tensor([1, 2, 3]) * tensor([1, 2, 3]) = tensor([1, 4, 9])\n"
     ]
    }
   ],
   "execution_count": 36
  },
  {
   "metadata": {
    "ExecuteTime": {
     "end_time": "2024-07-31T12:22:18.132333Z",
     "start_time": "2024-07-31T12:22:18.122927Z"
    }
   },
   "cell_type": "code",
   "source": [
    "%%time\n",
    "\n",
    "# Matrix multiplication (Dot product)\n",
    "torch.matmul(tensor, tensor)\n",
    "# torch.mm(tensor, tensor) is the equivalent to the top line (line 4)"
   ],
   "id": "1c3a6fc82a46b4e6",
   "outputs": [
    {
     "name": "stdout",
     "output_type": "stream",
     "text": [
      "CPU times: user 420 μs, sys: 0 ns, total: 420 μs\n",
      "Wall time: 426 μs\n"
     ]
    },
    {
     "data": {
      "text/plain": [
       "tensor(14)"
      ]
     },
     "execution_count": 37,
     "metadata": {},
     "output_type": "execute_result"
    }
   ],
   "execution_count": 37
  },
  {
   "metadata": {
    "ExecuteTime": {
     "end_time": "2024-07-31T12:22:18.139188Z",
     "start_time": "2024-07-31T12:22:18.133869Z"
    }
   },
   "cell_type": "code",
   "source": [
    "%%time\n",
    "\n",
    "# Matrix multiplication (Dot product) by hand\n",
    "value = 0\n",
    "print(f\"Starting value is: {value}\")\n",
    "\n",
    "for i in range(len(tensor)):\n",
    "    value += tensor[i] * tensor[i]\n",
    "    \n",
    "    print(f\"{tensor[i]} * {tensor[i]} = {tensor[i] * tensor[i]}\")\n",
    "    print(f\"Current value is: {value}\")\n",
    "\n",
    "print(f\"Final value is: {value}\")"
   ],
   "id": "a48135414851953c",
   "outputs": [
    {
     "name": "stdout",
     "output_type": "stream",
     "text": [
      "Starting value is: 0\n",
      "1 * 1 = 1\n",
      "Current value is: 1\n",
      "2 * 2 = 4\n",
      "Current value is: 5\n",
      "3 * 3 = 9\n",
      "Current value is: 14\n",
      "Final value is: 14\n",
      "CPU times: user 393 μs, sys: 593 μs, total: 986 μs\n",
      "Wall time: 811 μs\n"
     ]
    }
   ],
   "execution_count": 38
  },
  {
   "metadata": {},
   "cell_type": "markdown",
   "source": "### One of the most common errors in Deep Learning: ***Shape Errors***",
   "id": "ae02d953567253c5"
  },
  {
   "metadata": {
    "ExecuteTime": {
     "end_time": "2024-07-31T12:22:18.345958Z",
     "start_time": "2024-07-31T12:22:18.140466Z"
    }
   },
   "cell_type": "code",
   "source": [
    "# Shapes for matrix multiplication\n",
    "tensor_A = torch.tensor([[1, 2],\n",
    "                         [3, 4],\n",
    "                         [5, 6]])\n",
    "\n",
    "tensor_B = torch.tensor([[7, 10],\n",
    "                         [8, 11],\n",
    "                         [9, 12]])\n",
    "\n",
    "# torch.mm is alias for torch.matmul\n",
    "torch.matmul(tensor_A, tensor_B)"
   ],
   "id": "eb263efdb86d6ea5",
   "outputs": [
    {
     "ename": "RuntimeError",
     "evalue": "mat1 and mat2 shapes cannot be multiplied (3x2 and 3x2)",
     "output_type": "error",
     "traceback": [
      "\u001B[0;31m---------------------------------------------------------------------------\u001B[0m",
      "\u001B[0;31mRuntimeError\u001B[0m                              Traceback (most recent call last)",
      "Cell \u001B[0;32mIn[39], line 11\u001B[0m\n\u001B[1;32m      6\u001B[0m tensor_B \u001B[38;5;241m=\u001B[39m torch\u001B[38;5;241m.\u001B[39mtensor([[\u001B[38;5;241m7\u001B[39m, \u001B[38;5;241m10\u001B[39m],\n\u001B[1;32m      7\u001B[0m                          [\u001B[38;5;241m8\u001B[39m, \u001B[38;5;241m11\u001B[39m],\n\u001B[1;32m      8\u001B[0m                          [\u001B[38;5;241m9\u001B[39m, \u001B[38;5;241m12\u001B[39m]])\n\u001B[1;32m     10\u001B[0m \u001B[38;5;66;03m# torch.mm is alias for torch.matmul\u001B[39;00m\n\u001B[0;32m---> 11\u001B[0m \u001B[43mtorch\u001B[49m\u001B[38;5;241;43m.\u001B[39;49m\u001B[43mmatmul\u001B[49m\u001B[43m(\u001B[49m\u001B[43mtensor_A\u001B[49m\u001B[43m,\u001B[49m\u001B[43m \u001B[49m\u001B[43mtensor_B\u001B[49m\u001B[43m)\u001B[49m\n",
      "\u001B[0;31mRuntimeError\u001B[0m: mat1 and mat2 shapes cannot be multiplied (3x2 and 3x2)"
     ]
    }
   ],
   "execution_count": 39
  },
  {
   "metadata": {
    "ExecuteTime": {
     "end_time": "2024-07-31T12:22:28.892743Z",
     "start_time": "2024-07-31T12:22:28.888445Z"
    }
   },
   "cell_type": "code",
   "source": [
    "print(tensor_A.shape)\n",
    "print(tensor_B.shape)"
   ],
   "id": "7d153dcd4332fa25",
   "outputs": [
    {
     "name": "stdout",
     "output_type": "stream",
     "text": [
      "torch.Size([3, 2])\n",
      "torch.Size([3, 2])\n"
     ]
    }
   ],
   "execution_count": 40
  },
  {
   "metadata": {},
   "cell_type": "markdown",
   "source": [
    "To fix our tensor shape issues, we can manipulate the shape of one of our tensors using **transpose**\n",
    "\n",
    "A **transpose** switches the axes/dimensions of a given tensor."
   ],
   "id": "4248260374909851"
  },
  {
   "metadata": {
    "ExecuteTime": {
     "end_time": "2024-07-31T12:22:31.850568Z",
     "start_time": "2024-07-31T12:22:31.845466Z"
    }
   },
   "cell_type": "code",
   "source": [
    "# Original tensor_B\n",
    "tensor_B, tensor_B.shape"
   ],
   "id": "2ba512dfd8b3db50",
   "outputs": [
    {
     "data": {
      "text/plain": [
       "(tensor([[ 7, 10],\n",
       "         [ 8, 11],\n",
       "         [ 9, 12]]),\n",
       " torch.Size([3, 2]))"
      ]
     },
     "execution_count": 41,
     "metadata": {},
     "output_type": "execute_result"
    }
   ],
   "execution_count": 41
  },
  {
   "metadata": {
    "ExecuteTime": {
     "end_time": "2024-07-31T12:22:33.479811Z",
     "start_time": "2024-07-31T12:22:33.472910Z"
    }
   },
   "cell_type": "code",
   "source": [
    "# Transposed tensor_B\n",
    "tensor_B.T, tensor_B.T.shape\n"
   ],
   "id": "25da9561d52a57b6",
   "outputs": [
    {
     "data": {
      "text/plain": [
       "(tensor([[ 7,  8,  9],\n",
       "         [10, 11, 12]]),\n",
       " torch.Size([2, 3]))"
      ]
     },
     "execution_count": 42,
     "metadata": {},
     "output_type": "execute_result"
    }
   ],
   "execution_count": 42
  },
  {
   "metadata": {
    "ExecuteTime": {
     "end_time": "2024-07-31T12:22:35.459525Z",
     "start_time": "2024-07-31T12:22:35.452765Z"
    }
   },
   "cell_type": "code",
   "source": [
    "# Working matrix multiplication, when tensor_B is transposed\n",
    "print(f\"Original shapes: \\n\\ttensor_A: {tensor_A.shape} \\n\\ttensor_B: {tensor_B.shape}\")\n",
    "print(f\"New shapes:  \\n\\ttensor_A (Original): {tensor_A.shape} \\n\\ttensor_B (Transposed): {tensor_B.T.shape}\")\n",
    "print()\n",
    "\n",
    "output = torch.matmul(tensor_A, tensor_B.T)\n",
    "\n",
    "print(f\"Multiplying {tensor_A.shape} @ {tensor_B.T.shape} <- Inner dimensions must match.\")\n",
    "print()\n",
    "\n",
    "print(f\"Matrix multiplication result: \\n{output} \\n{output.shape}\")\n"
   ],
   "id": "68b66aa19b5aa89f",
   "outputs": [
    {
     "name": "stdout",
     "output_type": "stream",
     "text": [
      "Original shapes: \n",
      "\ttensor_A: torch.Size([3, 2]) \n",
      "\ttensor_B: torch.Size([3, 2])\n",
      "New shapes:  \n",
      "\ttensor_A (Original): torch.Size([3, 2]) \n",
      "\ttensor_B (Transposed): torch.Size([2, 3])\n",
      "\n",
      "Multiplying torch.Size([3, 2]) @ torch.Size([2, 3]) <- Inner dimensions must match.\n",
      "\n",
      "Matrix multiplication result: \n",
      "tensor([[ 27,  30,  33],\n",
      "        [ 61,  68,  75],\n",
      "        [ 95, 106, 117]]) \n",
      "torch.Size([3, 3])\n"
     ]
    }
   ],
   "execution_count": 43
  },
  {
   "metadata": {},
   "cell_type": "markdown",
   "source": "",
   "id": "65d546ae14173f31"
  },
  {
   "metadata": {},
   "cell_type": "code",
   "outputs": [],
   "execution_count": null,
   "source": "",
   "id": "a4ab1df277a99c48"
  }
 ],
 "metadata": {
  "kernelspec": {
   "display_name": "Python 3",
   "language": "python",
   "name": "python3"
  },
  "language_info": {
   "codemirror_mode": {
    "name": "ipython",
    "version": 2
   },
   "file_extension": ".py",
   "mimetype": "text/x-python",
   "name": "python",
   "nbconvert_exporter": "python",
   "pygments_lexer": "ipython2",
   "version": "2.7.6"
  }
 },
 "nbformat": 4,
 "nbformat_minor": 5
}
