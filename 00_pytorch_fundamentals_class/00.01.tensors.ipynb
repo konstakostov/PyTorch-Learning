{
 "cells": [
  {
   "metadata": {},
   "cell_type": "markdown",
   "source": "### Importing all libraries",
   "id": "ff5f8360639ac14f"
  },
  {
   "metadata": {
    "ExecuteTime": {
     "end_time": "2024-07-31T14:24:23.093385Z",
     "start_time": "2024-07-31T14:24:21.369849Z"
    }
   },
   "cell_type": "code",
   "source": "import torch",
   "id": "9a1bf31634adec57",
   "outputs": [],
   "execution_count": 1
  },
  {
   "metadata": {},
   "cell_type": "markdown",
   "source": [
    "## Introduction to tensors\n",
    "\n",
    "### Creating tensors"
   ],
   "id": "e1b02373b6667903"
  },
  {
   "metadata": {},
   "cell_type": "markdown",
   "source": [
    "### Quick Scalar Rundown\n",
    "\n",
    "A scalar is a single numerical value that represents a quantity without any directional information. It's a fundamental concept in mathematics, physics, and computer science. Here are some key points about scalars:\n",
    "\n",
    "1. **Definition**: A scalar is a quantity that can be fully described by its magnitude (size or amount) alone.\n",
    "2. **Contrast with vectors**: Unlike vectors, which have both magnitude and direction, scalars only have magnitude.\n",
    "3. **Examples**:\n",
    "    - ***Physics***: Temperature, mass, energy, time\n",
    "    - ***Mathematics***: Real numbers, complex numbers\n",
    "    - ***Computing***: Integer and floating-point variables\n",
    "4. **Operations**: Scalars can be added, subtracted, multiplied, and divided using regular arithmetic operations.\n",
    "5. **Programming**: In many programming languages, basic data types like integers and floats are scalar values."
   ],
   "id": "fa5a98c3a07b2476"
  },
  {
   "cell_type": "code",
   "id": "initial_id",
   "metadata": {
    "collapsed": true,
    "ExecuteTime": {
     "end_time": "2024-07-31T14:24:23.108143Z",
     "start_time": "2024-07-31T14:24:23.094802Z"
    }
   },
   "source": [
    "# Scalar\n",
    "scalar = torch.tensor(7)\n",
    "\n",
    "print(scalar)"
   ],
   "outputs": [
    {
     "name": "stdout",
     "output_type": "stream",
     "text": [
      "tensor(7)\n"
     ]
    }
   ],
   "execution_count": 2
  },
  {
   "metadata": {
    "ExecuteTime": {
     "end_time": "2024-07-31T14:24:23.124446Z",
     "start_time": "2024-07-31T14:24:23.110329Z"
    }
   },
   "cell_type": "code",
   "source": [
    "# Show the number of dimensions of the scalar\n",
    "scalar.ndim"
   ],
   "id": "18c39cdbd720b897",
   "outputs": [
    {
     "data": {
      "text/plain": [
       "0"
      ]
     },
     "execution_count": 3,
     "metadata": {},
     "output_type": "execute_result"
    }
   ],
   "execution_count": 3
  },
  {
   "metadata": {
    "ExecuteTime": {
     "end_time": "2024-07-31T14:24:23.139392Z",
     "start_time": "2024-07-31T14:24:23.125835Z"
    }
   },
   "cell_type": "code",
   "source": [
    "# Get scalar back as Python integer\n",
    "scalar.item()"
   ],
   "id": "38b995102de0982",
   "outputs": [
    {
     "data": {
      "text/plain": [
       "7"
      ]
     },
     "execution_count": 4,
     "metadata": {},
     "output_type": "execute_result"
    }
   ],
   "execution_count": 4
  },
  {
   "metadata": {},
   "cell_type": "markdown",
   "source": [
    "### Quick Vector Rundown\n",
    "\n",
    "A vector is a quantity that has both magnitude and direction. It's a fundamental concept in mathematics, physics, and computer science. Here are some key points about vectors:\n",
    "\n",
    "1. **Definition**: A vector is a quantity that is fully described by both its magnitude (size or amount) and direction.\n",
    "2. **Contrast with scalars**: Unlike scalars, which have only magnitude, vectors have both magnitude and direction.\n",
    "3. **Examples**:\n",
    "    - **Physics**: Velocity, force, displacement, acceleration\n",
    "    - **Mathematics**: Ordered pairs/triplets, complex numbers (represented as points in a plane)\n",
    "    - **Computing**: Arrays or lists that store multiple values\n",
    "4. **Operations**: Vectors can be added, subtracted, scaled (multiplied by a scalar), and used in dot- and cross-products.\n",
    "5. **Programming**: In many programming languages, data structures like arrays and lists can represent vectors."
   ],
   "id": "5f5de739e413a8e8"
  },
  {
   "metadata": {
    "ExecuteTime": {
     "end_time": "2024-07-31T14:24:23.153275Z",
     "start_time": "2024-07-31T14:24:23.144584Z"
    }
   },
   "cell_type": "code",
   "source": [
    "# Vector\n",
    "vector = torch.tensor([7, 7])\n",
    "\n",
    "vector"
   ],
   "id": "284ca6db23b54d42",
   "outputs": [
    {
     "data": {
      "text/plain": [
       "tensor([7, 7])"
      ]
     },
     "execution_count": 5,
     "metadata": {},
     "output_type": "execute_result"
    }
   ],
   "execution_count": 5
  },
  {
   "metadata": {
    "ExecuteTime": {
     "end_time": "2024-07-31T14:24:23.164978Z",
     "start_time": "2024-07-31T14:24:23.157910Z"
    }
   },
   "cell_type": "code",
   "source": [
    "# Show the number of dimensions of the vector\n",
    "vector.ndim"
   ],
   "id": "449fdde554bf87ed",
   "outputs": [
    {
     "data": {
      "text/plain": [
       "1"
      ]
     },
     "execution_count": 6,
     "metadata": {},
     "output_type": "execute_result"
    }
   ],
   "execution_count": 6
  },
  {
   "metadata": {
    "ExecuteTime": {
     "end_time": "2024-07-31T14:24:23.176014Z",
     "start_time": "2024-07-31T14:24:23.167025Z"
    }
   },
   "cell_type": "code",
   "source": [
    "# Get the shape of the vector\n",
    "vector.shape"
   ],
   "id": "a79b9be2566003c0",
   "outputs": [
    {
     "data": {
      "text/plain": [
       "torch.Size([2])"
      ]
     },
     "execution_count": 7,
     "metadata": {},
     "output_type": "execute_result"
    }
   ],
   "execution_count": 7
  },
  {
   "metadata": {},
   "cell_type": "markdown",
   "source": [
    "### Quick Matrix Rundown\n",
    "\n",
    "A matrix is an array of numbers arranged in rows and columns. It's a fundamental concept in mathematics, physics, and computer science. Here are some key points about matrices:\n",
    "\n",
    "1. **Definition**: A matrix is a rectangular array of numbers, symbols, or expressions, arranged in rows and columns.\n",
    "2. **Dimensions**: The dimensions of a matrix are given by the number of rows and columns (e.g., a 3x2 matrix has 3 rows and 2 columns).\n",
    "3. **Examples**:\n",
    "    - **Mathematics**: Systems of linear equations, transformations in geometry\n",
    "    - **Physics**: Representation of linear transformations, state vectors in quantum mechanics\n",
    "    - **Computing**: Image data (pixels arranged in rows and columns), adjacency matrices in graph theory\n",
    "4. **Operations**: Matrices can be added, subtracted, and multiplied. They can also be used in operations such as transposition, inversion, and finding determinants.\n",
    "5. **Programming**: In many programming languages, matrices are implemented as two-dimensional arrays or lists of lists.\n",
    "\n"
   ],
   "id": "575b190a23b638b0"
  },
  {
   "metadata": {
    "ExecuteTime": {
     "end_time": "2024-07-31T14:24:23.187571Z",
     "start_time": "2024-07-31T14:24:23.179298Z"
    }
   },
   "cell_type": "code",
   "source": [
    "# Matrix\n",
    "MATRIX = torch.tensor([[7, 8],\n",
    "                       [9, 10]])\n",
    "\n",
    "MATRIX"
   ],
   "id": "df16e7897aa85875",
   "outputs": [
    {
     "data": {
      "text/plain": [
       "tensor([[ 7,  8],\n",
       "        [ 9, 10]])"
      ]
     },
     "execution_count": 8,
     "metadata": {},
     "output_type": "execute_result"
    }
   ],
   "execution_count": 8
  },
  {
   "metadata": {
    "ExecuteTime": {
     "end_time": "2024-07-31T14:24:23.203007Z",
     "start_time": "2024-07-31T14:24:23.190020Z"
    }
   },
   "cell_type": "code",
   "source": [
    "# Show the number of dimensions of the matrix\n",
    "MATRIX.ndim"
   ],
   "id": "eda18cc2f23e52be",
   "outputs": [
    {
     "data": {
      "text/plain": [
       "2"
      ]
     },
     "execution_count": 9,
     "metadata": {},
     "output_type": "execute_result"
    }
   ],
   "execution_count": 9
  },
  {
   "metadata": {
    "ExecuteTime": {
     "end_time": "2024-07-31T14:24:23.214390Z",
     "start_time": "2024-07-31T14:24:23.204655Z"
    }
   },
   "cell_type": "code",
   "source": [
    "# Print the 1st and 2nd element of the matrix\n",
    "print(MATRIX[0])\n",
    "print(MATRIX[1])"
   ],
   "id": "18acf2c2f0042d4e",
   "outputs": [
    {
     "name": "stdout",
     "output_type": "stream",
     "text": [
      "tensor([7, 8])\n",
      "tensor([ 9, 10])\n"
     ]
    }
   ],
   "execution_count": 10
  },
  {
   "metadata": {
    "ExecuteTime": {
     "end_time": "2024-07-31T14:24:23.223392Z",
     "start_time": "2024-07-31T14:24:23.217051Z"
    }
   },
   "cell_type": "code",
   "source": [
    "# Get the shape of the matrix\n",
    "MATRIX.shape"
   ],
   "id": "930b32d5cb02c345",
   "outputs": [
    {
     "data": {
      "text/plain": [
       "torch.Size([2, 2])"
      ]
     },
     "execution_count": 11,
     "metadata": {},
     "output_type": "execute_result"
    }
   ],
   "execution_count": 11
  },
  {
   "metadata": {},
   "cell_type": "markdown",
   "source": [
    "### Quick Tensor Rundown\n",
    "\n",
    "A tensor is a multidimensional array of numerical values that generalizes the concepts of scalars, vectors, and matrices. It's a fundamental concept in mathematics, physics, and computer science. Here are some key points about tensors:\n",
    "\n",
    "1. **Definition**: A tensor is a multidimensional array of numbers that generalizes scalars (0-dimensional), vectors (1-dimensional), and matrices (2-dimensional) to higher dimensions.\n",
    "2. **Dimensions (Ranks)**: The rank of a tensor refers to the number of dimensions (or indices) required to describe it. For example, a scalar is a rank-0 tensor, a vector is a rank-1 tensor, and a matrix is a rank-2 tensor.\n",
    "3. **Examples**:\n",
    "    - **Physics**: Stress and strain tensors in mechanics, the metric tensor in general relativity\n",
    "    - **Mathematics**: Multi-linear maps, higher-order generalizations of matrices\n",
    "    - **Computing**: Multidimensional arrays used in machine learning and data representation (e.g., images, video, and more complex datasets)\n",
    "4. **Operations**: Tensors can undergo various operations such as addition, subtraction, multiplication (including dot product and tensor product), contraction, and transformations.\n",
    "5. **Programming**: In many programming languages and frameworks (like TensorFlow and PyTorch), tensors are used to represent and manipulate data for machine learning and other numerical computations.\n",
    "\n",
    "[Tensors explained](https://youtu.be/f5liqUk0ZTw)."
   ],
   "id": "26fd1615130975fc"
  },
  {
   "metadata": {
    "ExecuteTime": {
     "end_time": "2024-07-31T14:24:23.239093Z",
     "start_time": "2024-07-31T14:24:23.227692Z"
    }
   },
   "cell_type": "code",
   "source": [
    "# Tensor\n",
    "TENSOR = torch.tensor([[[1, 2, 3],\n",
    "                        [3, 6, 8],\n",
    "                        [2, 4, 5]]])\n",
    "\n",
    "TENSOR"
   ],
   "id": "108159089b383072",
   "outputs": [
    {
     "data": {
      "text/plain": [
       "tensor([[[1, 2, 3],\n",
       "         [3, 6, 8],\n",
       "         [2, 4, 5]]])"
      ]
     },
     "execution_count": 12,
     "metadata": {},
     "output_type": "execute_result"
    }
   ],
   "execution_count": 12
  },
  {
   "metadata": {
    "ExecuteTime": {
     "end_time": "2024-07-31T14:24:23.248788Z",
     "start_time": "2024-07-31T14:24:23.240647Z"
    }
   },
   "cell_type": "code",
   "source": [
    "# Show the number of dimensions of the tensor\n",
    "TENSOR.ndim"
   ],
   "id": "65c98390aaf7cd11",
   "outputs": [
    {
     "data": {
      "text/plain": [
       "3"
      ]
     },
     "execution_count": 13,
     "metadata": {},
     "output_type": "execute_result"
    }
   ],
   "execution_count": 13
  },
  {
   "metadata": {
    "ExecuteTime": {
     "end_time": "2024-07-31T14:24:23.261124Z",
     "start_time": "2024-07-31T14:24:23.254676Z"
    }
   },
   "cell_type": "code",
   "source": [
    "# Get the shape of the matrix\n",
    "TENSOR.shape"
   ],
   "id": "d7295b9a2a002b9f",
   "outputs": [
    {
     "data": {
      "text/plain": [
       "torch.Size([1, 3, 3])"
      ]
     },
     "execution_count": 14,
     "metadata": {},
     "output_type": "execute_result"
    }
   ],
   "execution_count": 14
  },
  {
   "metadata": {},
   "cell_type": "markdown",
   "source": [
    "<p>\n",
    "    <img src=\"00_markdown_images/00-pytorch-different-tensor-dimensions.png\" alt=\"Different Tensor Dimensions\" width=720\" height=\"360\">\n",
    "</p>"
   ],
   "id": "ce01464166808b89"
  },
  {
   "metadata": {},
   "cell_type": "markdown",
   "source": [
    "### Short Summary\n",
    "\n",
    "### Let's Summarize\n",
    "\n",
    "| Name    | What is it?                                                                                                               | Number of dimensions | Lower or upper (usually/example) |\n",
    "|---------|---------------------------------------------------------------------------------------------------------------------------|----------------------|----------------------------------|\n",
    "| Scalar  | A single number                                                                                                           | 0                    | Lower (a)                        |\n",
    "| Vector  | A number with direction (e.g., wind speed with direction) but can also have many other numbers                            | 1                    | Lower (y)                        |\n",
    "| Matrix  | A 2-dimensional array of numbers                                                                                          | 2                    | Upper (Q)                        |\n",
    "| Tensor  | An n-dimensional array of numbers; can be any number, a 0-dimension tensor is a scalar, a 1-dimension tensor is a vector  | Can be any number    | Upper (X)                        |\n",
    "\n",
    "<p>\n",
    "    <img src=\"00_markdown_images/00-scalar-vector-matrix-tensor.png\" alt=\"Scalar Vector Matrix Tensor\" width=400\" height=\"450\">\n",
    "</p>"
   ],
   "id": "161266f679fdbcf8"
  },
  {
   "metadata": {},
   "cell_type": "markdown",
   "source": [
    "## Random Tensors\n",
    "\n",
    "Random tensors are important because the way many neural networks learn is that they start with tensors full of random numbers and then adjust those random numbers to better represent the data. ->\n",
    "\n",
    "`Start with random numbers -> Look at data -> Update random numbers -> Look at data -> Update random numbers`"
   ],
   "id": "890d3898a288eb90"
  },
  {
   "metadata": {
    "ExecuteTime": {
     "end_time": "2024-07-31T14:24:23.288403Z",
     "start_time": "2024-07-31T14:24:23.262605Z"
    }
   },
   "cell_type": "code",
   "source": [
    "# Create a random tensor of size/shape (3, 4)\n",
    "random_tensor = torch.rand(3, 4)\n",
    "\n",
    "random_tensor"
   ],
   "id": "153f55e76b63fd3e",
   "outputs": [
    {
     "data": {
      "text/plain": [
       "tensor([[0.3199, 0.7449, 0.7703, 0.5833],\n",
       "        [0.4246, 0.2706, 0.9596, 0.1901],\n",
       "        [0.5737, 0.2290, 0.3747, 0.4602]])"
      ]
     },
     "execution_count": 15,
     "metadata": {},
     "output_type": "execute_result"
    }
   ],
   "execution_count": 15
  },
  {
   "metadata": {
    "ExecuteTime": {
     "end_time": "2024-07-31T14:24:23.296729Z",
     "start_time": "2024-07-31T14:24:23.290690Z"
    }
   },
   "cell_type": "code",
   "source": [
    "# Random tensor number of dimensions\n",
    "random_tensor.ndim"
   ],
   "id": "1d3c7a871b4ee1b6",
   "outputs": [
    {
     "data": {
      "text/plain": [
       "2"
      ]
     },
     "execution_count": 16,
     "metadata": {},
     "output_type": "execute_result"
    }
   ],
   "execution_count": 16
  },
  {
   "metadata": {
    "ExecuteTime": {
     "end_time": "2024-07-31T14:24:23.308493Z",
     "start_time": "2024-07-31T14:24:23.298741Z"
    }
   },
   "cell_type": "code",
   "source": [
    "# Random tensor shape\n",
    "random_tensor.shape"
   ],
   "id": "520b65810d8331f",
   "outputs": [
    {
     "data": {
      "text/plain": [
       "torch.Size([3, 4])"
      ]
     },
     "execution_count": 17,
     "metadata": {},
     "output_type": "execute_result"
    }
   ],
   "execution_count": 17
  },
  {
   "metadata": {
    "ExecuteTime": {
     "end_time": "2024-07-31T14:24:23.506218Z",
     "start_time": "2024-07-31T14:24:23.491561Z"
    }
   },
   "cell_type": "code",
   "source": [
    "# Create a random tensor with similar shape to an image tensor (height, width, color channels)\n",
    "random_image_size_tensor = torch.rand(size=(224, 224, 3))\n",
    "\n",
    "random_image_size_tensor"
   ],
   "id": "b78d24d8a3bc3321",
   "outputs": [
    {
     "data": {
      "text/plain": [
       "tensor([[[0.6476, 0.4868, 0.3507],\n",
       "         [0.3873, 0.4266, 0.9485],\n",
       "         [0.2625, 0.6449, 0.5773],\n",
       "         ...,\n",
       "         [0.7882, 0.6049, 0.9644],\n",
       "         [0.0286, 0.3576, 0.3086],\n",
       "         [0.9132, 0.3154, 0.2106]],\n",
       "\n",
       "        [[0.1072, 0.2323, 0.7556],\n",
       "         [0.2071, 0.5442, 0.3153],\n",
       "         [0.5242, 0.9859, 0.7066],\n",
       "         ...,\n",
       "         [0.6798, 0.0463, 0.6390],\n",
       "         [0.9600, 0.1971, 0.6520],\n",
       "         [0.3519, 0.0079, 0.7263]],\n",
       "\n",
       "        [[0.4923, 0.3351, 0.5836],\n",
       "         [0.6045, 0.9333, 0.8202],\n",
       "         [0.9221, 0.4450, 0.1965],\n",
       "         ...,\n",
       "         [0.3386, 0.3712, 0.8763],\n",
       "         [0.1230, 0.8607, 0.1987],\n",
       "         [0.0693, 0.0316, 0.2303]],\n",
       "\n",
       "        ...,\n",
       "\n",
       "        [[0.5696, 0.6102, 0.4652],\n",
       "         [0.5218, 0.9311, 0.0158],\n",
       "         [0.6745, 0.8310, 0.7311],\n",
       "         ...,\n",
       "         [0.8658, 0.6613, 0.3466],\n",
       "         [0.6290, 0.3132, 0.3492],\n",
       "         [0.9571, 0.3044, 0.4077]],\n",
       "\n",
       "        [[0.1715, 0.0968, 0.7727],\n",
       "         [0.0799, 0.4959, 0.4599],\n",
       "         [0.7503, 0.2499, 0.3680],\n",
       "         ...,\n",
       "         [0.8637, 0.2397, 0.4879],\n",
       "         [0.2893, 0.1973, 0.2395],\n",
       "         [0.0902, 0.8240, 0.7060]],\n",
       "\n",
       "        [[0.5852, 0.0401, 0.5023],\n",
       "         [0.0750, 0.1327, 0.1997],\n",
       "         [0.1720, 0.4492, 0.3724],\n",
       "         ...,\n",
       "         [0.5773, 0.1378, 0.8642],\n",
       "         [0.2748, 0.8296, 0.8474],\n",
       "         [0.4649, 0.4144, 0.3493]]])"
      ]
     },
     "execution_count": 18,
     "metadata": {},
     "output_type": "execute_result"
    }
   ],
   "execution_count": 18
  },
  {
   "metadata": {
    "ExecuteTime": {
     "end_time": "2024-07-31T14:24:23.822425Z",
     "start_time": "2024-07-31T14:24:23.818516Z"
    }
   },
   "cell_type": "code",
   "source": [
    "# Random tensor number of dimensions\n",
    "random_image_size_tensor.ndim"
   ],
   "id": "4eeee27ade4d4cee",
   "outputs": [
    {
     "data": {
      "text/plain": [
       "3"
      ]
     },
     "execution_count": 19,
     "metadata": {},
     "output_type": "execute_result"
    }
   ],
   "execution_count": 19
  },
  {
   "metadata": {
    "ExecuteTime": {
     "end_time": "2024-07-31T14:24:24.153577Z",
     "start_time": "2024-07-31T14:24:24.144541Z"
    }
   },
   "cell_type": "code",
   "source": [
    "# Random tensor shape\n",
    "random_image_size_tensor.shape"
   ],
   "id": "ab36a9afc977864",
   "outputs": [
    {
     "data": {
      "text/plain": [
       "torch.Size([224, 224, 3])"
      ]
     },
     "execution_count": 20,
     "metadata": {},
     "output_type": "execute_result"
    }
   ],
   "execution_count": 20
  },
  {
   "metadata": {},
   "cell_type": "markdown",
   "source": "### Zeros and Ones",
   "id": "d89c016932cf31dc"
  },
  {
   "metadata": {
    "ExecuteTime": {
     "end_time": "2024-07-31T14:24:24.288211Z",
     "start_time": "2024-07-31T14:24:24.282736Z"
    }
   },
   "cell_type": "code",
   "source": [
    "# Creating a tensor of all zeros\n",
    "zeros = torch.zeros(size=(3, 4))\n",
    "\n",
    "zeros"
   ],
   "id": "23616d7c2e786ee5",
   "outputs": [
    {
     "data": {
      "text/plain": [
       "tensor([[0., 0., 0., 0.],\n",
       "        [0., 0., 0., 0.],\n",
       "        [0., 0., 0., 0.]])"
      ]
     },
     "execution_count": 21,
     "metadata": {},
     "output_type": "execute_result"
    }
   ],
   "execution_count": 21
  },
  {
   "metadata": {
    "ExecuteTime": {
     "end_time": "2024-07-31T14:24:24.358157Z",
     "start_time": "2024-07-31T14:24:24.352828Z"
    }
   },
   "cell_type": "code",
   "source": [
    "# Multiplying zeros tensor with random_tensor\n",
    "zeros * random_tensor"
   ],
   "id": "3314575732159c1a",
   "outputs": [
    {
     "data": {
      "text/plain": [
       "tensor([[0., 0., 0., 0.],\n",
       "        [0., 0., 0., 0.],\n",
       "        [0., 0., 0., 0.]])"
      ]
     },
     "execution_count": 22,
     "metadata": {},
     "output_type": "execute_result"
    }
   ],
   "execution_count": 22
  },
  {
   "metadata": {
    "ExecuteTime": {
     "end_time": "2024-07-31T14:24:24.492057Z",
     "start_time": "2024-07-31T14:24:24.485221Z"
    }
   },
   "cell_type": "code",
   "source": [
    "# Creating a tensor of all ones\n",
    "ones = torch.ones(size=(3, 4))\n",
    "\n",
    "ones"
   ],
   "id": "c21b4c120e4e5e3c",
   "outputs": [
    {
     "data": {
      "text/plain": [
       "tensor([[1., 1., 1., 1.],\n",
       "        [1., 1., 1., 1.],\n",
       "        [1., 1., 1., 1.]])"
      ]
     },
     "execution_count": 23,
     "metadata": {},
     "output_type": "execute_result"
    }
   ],
   "execution_count": 23
  },
  {
   "metadata": {
    "ExecuteTime": {
     "end_time": "2024-07-31T14:24:24.565517Z",
     "start_time": "2024-07-31T14:24:24.560914Z"
    }
   },
   "cell_type": "code",
   "source": [
    "# Data type of zeros, ones, random_tensor0\n",
    "print(zeros.dtype)\n",
    "print(ones.dtype)\n",
    "print(random_tensor.dtype)"
   ],
   "id": "dced46e0c51a0921",
   "outputs": [
    {
     "name": "stdout",
     "output_type": "stream",
     "text": [
      "torch.float32\n",
      "torch.float32\n",
      "torch.float32\n"
     ]
    }
   ],
   "execution_count": 24
  },
  {
   "metadata": {},
   "cell_type": "markdown",
   "source": "### Creating a range of tensors and tensors-like",
   "id": "de68ac56b302de87"
  },
  {
   "metadata": {
    "ExecuteTime": {
     "end_time": "2024-07-31T14:24:24.757396Z",
     "start_time": "2024-07-31T14:24:24.751872Z"
    }
   },
   "cell_type": "code",
   "source": [
    "# Using torch.arange(start, stop, step)\n",
    "one_to_ten = torch.arange(1, 11, 1)\n",
    "\n",
    "one_to_ten"
   ],
   "id": "86f8ea285dcd3807",
   "outputs": [
    {
     "data": {
      "text/plain": [
       "tensor([ 1,  2,  3,  4,  5,  6,  7,  8,  9, 10])"
      ]
     },
     "execution_count": 25,
     "metadata": {},
     "output_type": "execute_result"
    }
   ],
   "execution_count": 25
  },
  {
   "metadata": {},
   "cell_type": "markdown",
   "source": [
    "#### Tensor Like\n",
    "Sometimes you might want one tensor of a certain type with the same shape as another tensor.\n",
    "\n",
    "For example, a tensor of all zeros with the same shape as a previous tensor.\n",
    "\n",
    "To do so, you can use `torch.zeros_like(input)` or `torch.ones_like(input)` which return a tensor filled with zeros or ones in the same shape as the input respectively."
   ],
   "id": "4f4b207630244913"
  },
  {
   "metadata": {
    "ExecuteTime": {
     "end_time": "2024-07-31T14:24:24.809270Z",
     "start_time": "2024-07-31T14:24:24.804329Z"
    }
   },
   "cell_type": "code",
   "source": [
    "# Creating tensor like\n",
    "ten_zeros = torch.zeros_like(input=one_to_ten)\n",
    "\n",
    "ten_zeros"
   ],
   "id": "eed06235fddc33c1",
   "outputs": [
    {
     "data": {
      "text/plain": [
       "tensor([0, 0, 0, 0, 0, 0, 0, 0, 0, 0])"
      ]
     },
     "execution_count": 26,
     "metadata": {},
     "output_type": "execute_result"
    }
   ],
   "execution_count": 26
  },
  {
   "metadata": {},
   "cell_type": "markdown",
   "source": [
    "### [Tensor datatypes](https://pytorch.org/docs/stable/tensors.html#data-types)\n",
    "\n",
    "**NB!** Tensor datatypes is one of the 3 big errors you'll run into with PyTorch and Deep Learning:\n",
    "1. Tensors are not the right datatype.\n",
    "2. Tensors are not the right shape.\n",
    "3. Tensors are not on the right device (CPU or CUDA)."
   ],
   "id": "9689858cdedee989"
  },
  {
   "metadata": {
    "ExecuteTime": {
     "end_time": "2024-07-31T14:24:24.997174Z",
     "start_time": "2024-07-31T14:24:24.991337Z"
    }
   },
   "cell_type": "code",
   "source": [
    "# Float32 tensor <- This is the DEFAULT datatype\n",
    "float_32_tensor = torch.tensor([3.0, 6.0, 9.0], \n",
    "                               dtype=None,  # What datatype is the tensor (e.g., float32, float16, etc.)\n",
    "                               device=None, # What device is your tensor on\n",
    "                               requires_grad=False) # Whether to track gradients with these tensor operations.\n",
    "\n",
    "print(float_32_tensor)\n",
    "print(float_32_tensor.dtype)"
   ],
   "id": "8514bb4f805e2dae",
   "outputs": [
    {
     "name": "stdout",
     "output_type": "stream",
     "text": [
      "tensor([3., 6., 9.])\n",
      "torch.float32\n"
     ]
    }
   ],
   "execution_count": 27
  },
  {
   "metadata": {
    "ExecuteTime": {
     "end_time": "2024-07-31T14:24:25.085174Z",
     "start_time": "2024-07-31T14:24:25.077820Z"
    }
   },
   "cell_type": "code",
   "source": [
    "# Float16 tensor\n",
    "# In this case, we convert float_32_tensor to float16 tensor.\n",
    "float_16_tensor = float_32_tensor.type(torch.float16)\n",
    "\n",
    "float_16_tensor"
   ],
   "id": "f02a2bd2182c8a54",
   "outputs": [
    {
     "data": {
      "text/plain": [
       "tensor([3., 6., 9.], dtype=torch.float16)"
      ]
     },
     "execution_count": 28,
     "metadata": {},
     "output_type": "execute_result"
    }
   ],
   "execution_count": 28
  },
  {
   "metadata": {
    "ExecuteTime": {
     "end_time": "2024-07-31T14:24:25.234674Z",
     "start_time": "2024-07-31T14:24:25.225561Z"
    }
   },
   "cell_type": "code",
   "source": [
    "# Int32 Tensor\n",
    "int_32_tensor = torch.tensor([3, 6, 9], dtype=torch.int32)\n",
    "\n",
    "int_32_tensor"
   ],
   "id": "27f615f27816305a",
   "outputs": [
    {
     "data": {
      "text/plain": [
       "tensor([3, 6, 9], dtype=torch.int32)"
      ]
     },
     "execution_count": 29,
     "metadata": {},
     "output_type": "execute_result"
    }
   ],
   "execution_count": 29
  },
  {
   "metadata": {},
   "cell_type": "markdown",
   "source": [
    "### Getting information from tensors\n",
    "\n",
    "1. Tensors are not the right datatype -> To get the datatype of tensor, you can use `tensor.dtype`\n",
    "2. Tensors are not the right shape -> To get the shape of the tensor, you can use `tensor.shape`.\n",
    "3. Tensors are not on the right device -> To get the device from a tensor, you can use `tensor.device`."
   ],
   "id": "533695cb9d87e7e"
  },
  {
   "metadata": {
    "ExecuteTime": {
     "end_time": "2024-07-31T14:24:25.284808Z",
     "start_time": "2024-07-31T14:24:25.277461Z"
    }
   },
   "cell_type": "code",
   "source": [
    "# Creating a tensor\n",
    "some_tensor = torch.rand(3, 4)\n",
    "\n",
    "some_tensor"
   ],
   "id": "ce03b1c2d81a995b",
   "outputs": [
    {
     "data": {
      "text/plain": [
       "tensor([[0.9819, 0.0188, 0.3237, 0.4374],\n",
       "        [0.4350, 0.5584, 0.7462, 0.2365],\n",
       "        [0.9978, 0.4525, 0.6246, 0.9106]])"
      ]
     },
     "execution_count": 30,
     "metadata": {},
     "output_type": "execute_result"
    }
   ],
   "execution_count": 30
  },
  {
   "metadata": {
    "ExecuteTime": {
     "end_time": "2024-07-31T14:24:25.443066Z",
     "start_time": "2024-07-31T14:24:25.431135Z"
    }
   },
   "cell_type": "code",
   "source": [
    "# Finding out information about the tensor\n",
    "print(some_tensor)\n",
    "print(f\"The tensor's datatype is: {some_tensor.dtype}\")\n",
    "print(f\"The tensor's shape is: {some_tensor.shape}\")\n",
    "print(f\"The tensor's device is: {some_tensor.device}\")\n"
   ],
   "id": "c1cf17dd58acbca1",
   "outputs": [
    {
     "name": "stdout",
     "output_type": "stream",
     "text": [
      "tensor([[0.9819, 0.0188, 0.3237, 0.4374],\n",
      "        [0.4350, 0.5584, 0.7462, 0.2365],\n",
      "        [0.9978, 0.4525, 0.6246, 0.9106]])\n",
      "The tensor's datatype is: torch.float32\n",
      "The tensor's shape is: torch.Size([3, 4])\n",
      "The tensor's device is: cpu\n"
     ]
    }
   ],
   "execution_count": 31
  },
  {
   "metadata": {},
   "cell_type": "markdown",
   "source": [
    "### Manipulating Tensors\n",
    "#### (Tensor Operations)\n",
    "\n",
    "Tensor operations include: \n",
    "* Addition\n",
    "* Subtraction\n",
    "* Multiplication (element-wise)\n",
    "* Division\n",
    "* Matrix Multiplication"
   ],
   "id": "5bb965125087ae28"
  },
  {
   "metadata": {
    "ExecuteTime": {
     "end_time": "2024-07-31T14:24:25.617368Z",
     "start_time": "2024-07-31T14:24:25.609515Z"
    }
   },
   "cell_type": "code",
   "source": [
    "# Create a tensor\n",
    "tensor = torch.tensor([1, 2, 3])\n",
    "\n",
    "tensor"
   ],
   "id": "c39f2d4414cbd2b5",
   "outputs": [
    {
     "data": {
      "text/plain": [
       "tensor([1, 2, 3])"
      ]
     },
     "execution_count": 32,
     "metadata": {},
     "output_type": "execute_result"
    }
   ],
   "execution_count": 32
  },
  {
   "metadata": {
    "ExecuteTime": {
     "end_time": "2024-07-31T14:24:25.805214Z",
     "start_time": "2024-07-31T14:24:25.800203Z"
    }
   },
   "cell_type": "code",
   "source": [
    "# Add 10 to the created tensor\n",
    "print(tensor + 10)\n",
    "\n",
    "# PyTorch built-in function `add`\n",
    "print(torch.add(tensor, 10))"
   ],
   "id": "bf850d0e7f07000b",
   "outputs": [
    {
     "name": "stdout",
     "output_type": "stream",
     "text": [
      "tensor([11, 12, 13])\n",
      "tensor([11, 12, 13])\n"
     ]
    }
   ],
   "execution_count": 33
  },
  {
   "metadata": {
    "ExecuteTime": {
     "end_time": "2024-07-31T14:24:25.954314Z",
     "start_time": "2024-07-31T14:24:25.949940Z"
    }
   },
   "cell_type": "code",
   "source": [
    "# Multiply by 10 the created tensor\n",
    "print(tensor * 10)\n",
    "\n",
    "# PyTorch built-in function `mul`\n",
    "print(torch.mul(tensor, 10))"
   ],
   "id": "98c235d927576a26",
   "outputs": [
    {
     "name": "stdout",
     "output_type": "stream",
     "text": [
      "tensor([10, 20, 30])\n",
      "tensor([10, 20, 30])\n"
     ]
    }
   ],
   "execution_count": 34
  },
  {
   "metadata": {
    "ExecuteTime": {
     "end_time": "2024-07-31T14:24:26.115279Z",
     "start_time": "2024-07-31T14:24:26.107552Z"
    }
   },
   "cell_type": "code",
   "source": [
    "# Subtract 10 from the tensor\n",
    "print(tensor - 10)\n",
    "\n",
    "# PyTorch built-in function `sub`\n",
    "print(torch.sub(tensor, 10))"
   ],
   "id": "2502e69901ece0b1",
   "outputs": [
    {
     "name": "stdout",
     "output_type": "stream",
     "text": [
      "tensor([-9, -8, -7])\n",
      "tensor([-9, -8, -7])\n"
     ]
    }
   ],
   "execution_count": 35
  },
  {
   "metadata": {},
   "cell_type": "markdown",
   "source": "",
   "id": "32fa64efe74007f7"
  },
  {
   "metadata": {},
   "cell_type": "markdown",
   "source": [
    "### Matrix multiplication\n",
    "\n",
    "There are 2 main ways to multiply matrices:\n",
    "1. Element-wise multiplication\n",
    "2. Matrix multiplication (Dot product)\n",
    "\n",
    "There are two main rues that performing matrix multiplication need to satisfy:\n",
    "1. The **inner dimensions** must match: \n",
    "* `(3, `**2**`) @ (`**3**`, 2)` <-- Won't work.\n",
    "* `(2, `**3**`) @ (`**3**`, 2)` <-- Will work.\n",
    "* `(3, `**2**`) @ (`**2**`, 3)` <-- Will work.\n",
    "2. The resulting matrix has the shape of the **outer dimensions**.\n",
    "* `(`**2**`, 3) @ (3, `**2**`)` --> This matrix has the shape `(`**2**`, `**2**`)`\n",
    "* `(`**3**`, 2) @ (2, `**3**`)` --> This matrix has the shape `(`**3**`, `**3**`)`\n",
    "\n",
    "[Matrix multiplication training](http://matrixmultiplication.xyz)"
   ],
   "id": "868b67eb93f290b3"
  },
  {
   "metadata": {
    "ExecuteTime": {
     "end_time": "2024-07-31T14:24:26.178191Z",
     "start_time": "2024-07-31T14:24:26.173308Z"
    }
   },
   "cell_type": "code",
   "source": [
    "# Element-wise matrix multiplication\n",
    "print(f\"{tensor} * {tensor} = {tensor * tensor}\")"
   ],
   "id": "8a5d729e4709971a",
   "outputs": [
    {
     "name": "stdout",
     "output_type": "stream",
     "text": [
      "tensor([1, 2, 3]) * tensor([1, 2, 3]) = tensor([1, 4, 9])\n"
     ]
    }
   ],
   "execution_count": 36
  },
  {
   "metadata": {
    "ExecuteTime": {
     "end_time": "2024-07-31T14:24:26.348590Z",
     "start_time": "2024-07-31T14:24:26.340974Z"
    }
   },
   "cell_type": "code",
   "source": [
    "%%time\n",
    "\n",
    "# Matrix multiplication (Dot product)\n",
    "torch.matmul(tensor, tensor)\n",
    "# torch.mm(tensor, tensor) is the equivalent to the top line (line 4)"
   ],
   "id": "1c3a6fc82a46b4e6",
   "outputs": [
    {
     "name": "stdout",
     "output_type": "stream",
     "text": [
      "CPU times: user 102 μs, sys: 16 μs, total: 118 μs\n",
      "Wall time: 123 μs\n"
     ]
    },
    {
     "data": {
      "text/plain": [
       "tensor(14)"
      ]
     },
     "execution_count": 37,
     "metadata": {},
     "output_type": "execute_result"
    }
   ],
   "execution_count": 37
  },
  {
   "metadata": {
    "ExecuteTime": {
     "end_time": "2024-07-31T14:24:26.424654Z",
     "start_time": "2024-07-31T14:24:26.417336Z"
    }
   },
   "cell_type": "code",
   "source": [
    "%%time\n",
    "\n",
    "# Matrix multiplication (Dot product) by hand\n",
    "value = 0\n",
    "print(f\"Starting value is: {value}\")\n",
    "\n",
    "for i in range(len(tensor)):\n",
    "    value += tensor[i] * tensor[i]\n",
    "    \n",
    "    print(f\"{tensor[i]} * {tensor[i]} = {tensor[i] * tensor[i]}\")\n",
    "    print(f\"Current value is: {value}\")\n",
    "\n",
    "print(f\"Final value is: {value}\")"
   ],
   "id": "a48135414851953c",
   "outputs": [
    {
     "name": "stdout",
     "output_type": "stream",
     "text": [
      "Starting value is: 0\n",
      "1 * 1 = 1\n",
      "Current value is: 1\n",
      "2 * 2 = 4\n",
      "Current value is: 5\n",
      "3 * 3 = 9\n",
      "Current value is: 14\n",
      "Final value is: 14\n",
      "CPU times: user 423 μs, sys: 1.91 ms, total: 2.33 ms\n",
      "Wall time: 2.26 ms\n"
     ]
    }
   ],
   "execution_count": 38
  },
  {
   "metadata": {},
   "cell_type": "markdown",
   "source": "### One of the most common errors in Deep Learning: ***Shape Errors***",
   "id": "ae02d953567253c5"
  },
  {
   "metadata": {
    "ExecuteTime": {
     "end_time": "2024-07-31T14:24:26.628123Z",
     "start_time": "2024-07-31T14:24:26.624430Z"
    }
   },
   "cell_type": "code",
   "source": [
    "# Shapes for matrix multiplication\n",
    "tensor_A = torch.tensor([[1, 2],\n",
    "                         [3, 4],\n",
    "                         [5, 6]])\n",
    "\n",
    "tensor_B = torch.tensor([[7, 10],\n",
    "                         [8, 11],\n",
    "                         [9, 12]])\n",
    "\n",
    "\n",
    "# torch.mm is alias for torch.matmul\n",
    "# torch.matmul(tensor_A, tensor_B) <-- This is invalid"
   ],
   "id": "eb263efdb86d6ea5",
   "outputs": [],
   "execution_count": 39
  },
  {
   "metadata": {
    "ExecuteTime": {
     "end_time": "2024-07-31T14:24:26.705776Z",
     "start_time": "2024-07-31T14:24:26.698115Z"
    }
   },
   "cell_type": "code",
   "source": [
    "print(tensor_A.shape)\n",
    "print(tensor_B.shape)"
   ],
   "id": "7d153dcd4332fa25",
   "outputs": [
    {
     "name": "stdout",
     "output_type": "stream",
     "text": [
      "torch.Size([3, 2])\n",
      "torch.Size([3, 2])\n"
     ]
    }
   ],
   "execution_count": 40
  },
  {
   "metadata": {},
   "cell_type": "markdown",
   "source": [
    "To fix our tensor shape issues, we can manipulate the shape of one of our tensors using **transpose**\n",
    "\n",
    "A **transpose** switches the axes/dimensions of a given tensor."
   ],
   "id": "4248260374909851"
  },
  {
   "metadata": {
    "ExecuteTime": {
     "end_time": "2024-07-31T14:24:26.869297Z",
     "start_time": "2024-07-31T14:24:26.856674Z"
    }
   },
   "cell_type": "code",
   "source": [
    "# Original tensor_B\n",
    "tensor_B, tensor_B.shape"
   ],
   "id": "2ba512dfd8b3db50",
   "outputs": [
    {
     "data": {
      "text/plain": [
       "(tensor([[ 7, 10],\n",
       "         [ 8, 11],\n",
       "         [ 9, 12]]),\n",
       " torch.Size([3, 2]))"
      ]
     },
     "execution_count": 41,
     "metadata": {},
     "output_type": "execute_result"
    }
   ],
   "execution_count": 41
  },
  {
   "metadata": {
    "ExecuteTime": {
     "end_time": "2024-07-31T14:24:27.000074Z",
     "start_time": "2024-07-31T14:24:26.991893Z"
    }
   },
   "cell_type": "code",
   "source": [
    "# Transposed tensor_B\n",
    "tensor_B.T, tensor_B.T.shape\n"
   ],
   "id": "25da9561d52a57b6",
   "outputs": [
    {
     "data": {
      "text/plain": [
       "(tensor([[ 7,  8,  9],\n",
       "         [10, 11, 12]]),\n",
       " torch.Size([2, 3]))"
      ]
     },
     "execution_count": 42,
     "metadata": {},
     "output_type": "execute_result"
    }
   ],
   "execution_count": 42
  },
  {
   "metadata": {
    "ExecuteTime": {
     "end_time": "2024-07-31T14:24:27.071496Z",
     "start_time": "2024-07-31T14:24:27.065594Z"
    }
   },
   "cell_type": "code",
   "source": [
    "# Working matrix multiplication, when tensor_B is transposed\n",
    "print(f\"Original shapes: \\n\\ttensor_A: {tensor_A.shape} \\n\\ttensor_B: {tensor_B.shape}\")\n",
    "print(f\"New shapes:  \\n\\ttensor_A (Original): {tensor_A.shape} \\n\\ttensor_B (Transposed): {tensor_B.T.shape}\")\n",
    "print()\n",
    "\n",
    "output = torch.matmul(tensor_A, tensor_B.T)\n",
    "\n",
    "print(f\"Multiplying {tensor_A.shape} @ {tensor_B.T.shape} <- Inner dimensions must match.\")\n",
    "print()\n",
    "\n",
    "print(f\"Matrix multiplication result: \\n{output} \\n{output.shape}\")\n"
   ],
   "id": "68b66aa19b5aa89f",
   "outputs": [
    {
     "name": "stdout",
     "output_type": "stream",
     "text": [
      "Original shapes: \n",
      "\ttensor_A: torch.Size([3, 2]) \n",
      "\ttensor_B: torch.Size([3, 2])\n",
      "New shapes:  \n",
      "\ttensor_A (Original): torch.Size([3, 2]) \n",
      "\ttensor_B (Transposed): torch.Size([2, 3])\n",
      "\n",
      "Multiplying torch.Size([3, 2]) @ torch.Size([2, 3]) <- Inner dimensions must match.\n",
      "\n",
      "Matrix multiplication result: \n",
      "tensor([[ 27,  30,  33],\n",
      "        [ 61,  68,  75],\n",
      "        [ 95, 106, 117]]) \n",
      "torch.Size([3, 3])\n"
     ]
    }
   ],
   "execution_count": 43
  },
  {
   "metadata": {},
   "cell_type": "markdown",
   "source": [
    "### Tensor aggregation\n",
    "***Description, Simple:*** Going from more values to fewer values\n",
    "\n",
    "***Description, Complex:*** The process of combining multiple tensors into a single tensor. It can be done in several ways depending on the specific requirements, such as summing tensors, averaging them, concatenating them along a specific axis, or applying other reduction operations.\n",
    "\n",
    "Some of the viable operations: \n",
    "* Min\n",
    "* Max\n",
    "* Mean\n",
    "* Sum\n",
    "* Average\n",
    "* Concatenation"
   ],
   "id": "65d546ae14173f31"
  },
  {
   "metadata": {
    "ExecuteTime": {
     "end_time": "2024-07-31T14:24:27.171132Z",
     "start_time": "2024-07-31T14:24:27.164746Z"
    }
   },
   "cell_type": "code",
   "source": [
    "# Create a tensor\n",
    "x = torch.arange(0, 100, 10)\n",
    "\n",
    "print(x)\n",
    "print(x.shape)\n",
    "print(x.dtype)"
   ],
   "id": "84ac910438dc904e",
   "outputs": [
    {
     "name": "stdout",
     "output_type": "stream",
     "text": [
      "tensor([ 0, 10, 20, 30, 40, 50, 60, 70, 80, 90])\n",
      "torch.Size([10])\n",
      "torch.int64\n"
     ]
    }
   ],
   "execution_count": 44
  },
  {
   "metadata": {
    "ExecuteTime": {
     "end_time": "2024-07-31T14:24:27.356679Z",
     "start_time": "2024-07-31T14:24:27.351574Z"
    }
   },
   "cell_type": "code",
   "source": [
    "# Find the min value\n",
    "print(torch.min(x))\n",
    "print(x.min())"
   ],
   "id": "a4ab1df277a99c48",
   "outputs": [
    {
     "name": "stdout",
     "output_type": "stream",
     "text": [
      "tensor(0)\n",
      "tensor(0)\n"
     ]
    }
   ],
   "execution_count": 45
  },
  {
   "metadata": {
    "ExecuteTime": {
     "end_time": "2024-07-31T14:24:27.487238Z",
     "start_time": "2024-07-31T14:24:27.479556Z"
    }
   },
   "cell_type": "code",
   "source": [
    "# Find the max value\n",
    "print(torch.max(x))\n",
    "print(x.max())"
   ],
   "id": "19386753638cf151",
   "outputs": [
    {
     "name": "stdout",
     "output_type": "stream",
     "text": [
      "tensor(90)\n",
      "tensor(90)\n"
     ]
    }
   ],
   "execution_count": 46
  },
  {
   "metadata": {
    "ExecuteTime": {
     "end_time": "2024-07-31T14:24:27.590211Z",
     "start_time": "2024-07-31T14:24:27.583445Z"
    }
   },
   "cell_type": "code",
   "source": [
    "# Find the mean value\n",
    "# Note: torch.mean() requires a tensor of float or complex dtype\n",
    "print(torch.mean(x.type(torch.float32)))\n",
    "print(x.type(torch.float32).mean())"
   ],
   "id": "b8e3d03c540ea6b1",
   "outputs": [
    {
     "name": "stdout",
     "output_type": "stream",
     "text": [
      "tensor(45.)\n",
      "tensor(45.)\n"
     ]
    }
   ],
   "execution_count": 47
  },
  {
   "metadata": {
    "ExecuteTime": {
     "end_time": "2024-07-31T14:24:27.665178Z",
     "start_time": "2024-07-31T14:24:27.657293Z"
    }
   },
   "cell_type": "code",
   "source": [
    "# Find the sum value\n",
    "print(torch.sum(x))\n",
    "print(x.sum())"
   ],
   "id": "9255664b8375675",
   "outputs": [
    {
     "name": "stdout",
     "output_type": "stream",
     "text": [
      "tensor(450)\n",
      "tensor(450)\n"
     ]
    }
   ],
   "execution_count": 48
  },
  {
   "metadata": {},
   "cell_type": "markdown",
   "source": [
    "### Finding positional min and max\n",
    "***Description, Simple:*** Finding the index of a tensor where the max or minimum occurs.\n",
    "\n",
    "***Description, Complex:*** Operations where the minimum or maximum values are identified along a specific dimension (*axis*) of a tensor, and the positions (*indices*) of these values are also returned.\n",
    "\n",
    "***Operations:***\n",
    "* `torch.argmax(tensor, dimension)` <- max identified value.\n",
    "* `torch.argmin(tensor, dimension)` <- min identified value"
   ],
   "id": "7f2ec5ad1d4d8"
  },
  {
   "metadata": {
    "ExecuteTime": {
     "end_time": "2024-07-31T14:24:27.790522Z",
     "start_time": "2024-07-31T14:24:27.787180Z"
    }
   },
   "cell_type": "code",
   "source": [
    "# Positional min\n",
    "print(f\"The min index is: {x.argmin()}\")\n",
    "print(f\"The min index is: {torch.argmin(x, dim=0)}\")"
   ],
   "id": "a42ed32c6d444f67",
   "outputs": [
    {
     "name": "stdout",
     "output_type": "stream",
     "text": [
      "The min index is: 0\n",
      "The min index is: 0\n"
     ]
    }
   ],
   "execution_count": 49
  },
  {
   "metadata": {
    "ExecuteTime": {
     "end_time": "2024-07-31T14:24:27.941271Z",
     "start_time": "2024-07-31T14:24:27.937466Z"
    }
   },
   "cell_type": "code",
   "source": [
    "# Positional max\n",
    "print(f\"The max index is: {x.argmax()}\")\n",
    "print(f\"The min index is: {torch.argmax(x, dim=0)}\")"
   ],
   "id": "cdd051d76fc1575d",
   "outputs": [
    {
     "name": "stdout",
     "output_type": "stream",
     "text": [
      "The max index is: 9\n",
      "The min index is: 9\n"
     ]
    }
   ],
   "execution_count": 50
  },
  {
   "metadata": {},
   "cell_type": "markdown",
   "source": [
    "## Reshaping, Stacking, Squeezing and Unsqueezing tensors\n",
    "| Process          | Description                                                                                             | Method                        | Specific Function                                                                                             |\n",
    "|------------------|---------------------------------------------------------------------------------------------------------|-------------------------------|---------------------------------------------------------------------------------------------------------------|\n",
    "| **Reshaping**    | Reshapes an input tensor to a defined shape.                                                            | *torch.reshape(input, shape)* | Reshapes `input` to `shape` (if compatible), can also use `torch.Tensor.reshape()`.                           |\n",
    "| **Viewing**      | Returns a view of an input tensor of a certain shape, but keeps the same memory as the original tensor. | *Tensor.view(shape)*          | Returns a view of the original tensor in a different `shape` but shares the same data as the original tensor. |\n",
    "| **Stacking**     | Combining multiple tensors on top of each other (*vstack*) or side by side (*hstack*).                  | *torch.stack(tensors, dim=0)* | Concatenates a sequence of `tensors` along a new dimension (`dim`), all `tensors` must be the same size.      |\n",
    "| **Squeezing**    | Removing all `1` dimensions from a tensor.                                                              | *torch.squeeze(input)*        | Squeezes `input` to remove all the dimensions with value `1`.                                                 |\n",
    "| **Unsqueezing**  | Adding a `1` dimension to a tensor.                                                                     | *torch.unsqueeze(input, dim)* | Returns `input` with a dimension value of `1` added at `dim`.                                                 |\n",
    "| **Permuting**    | Returns a `view` of the original input with its dimensions permuted (*swapped*) in a certain way.       | *torch.permute(input, dims)*  | Returns a `view` of the original input with its dimensions permuted (rearranged) to `dims`.                   |"
   ],
   "id": "daf54623f042f690"
  },
  {
   "metadata": {
    "ExecuteTime": {
     "end_time": "2024-07-31T14:24:28.026913Z",
     "start_time": "2024-07-31T14:24:28.022905Z"
    }
   },
   "cell_type": "code",
   "source": [
    "# Creating a tensor\n",
    "x = torch.arange(1., 11.,)\n",
    "\n",
    "print(f\"{x} \\n{x.shape} \\n{x.dtype}\")"
   ],
   "id": "b714714d324f9fad",
   "outputs": [
    {
     "name": "stdout",
     "output_type": "stream",
     "text": [
      "tensor([ 1.,  2.,  3.,  4.,  5.,  6.,  7.,  8.,  9., 10.]) \n",
      "torch.Size([10]) \n",
      "torch.float32\n"
     ]
    }
   ],
   "execution_count": 51
  },
  {
   "metadata": {
    "ExecuteTime": {
     "end_time": "2024-07-31T14:24:28.190559Z",
     "start_time": "2024-07-31T14:24:28.178266Z"
    }
   },
   "cell_type": "code",
   "source": [
    "# Adding an extra dimension.\n",
    "# The elements are compatible if the original tensor shape is equal multiplication of the arguments in the .reshape()\n",
    "x_reshaped = x.reshape(5, 2)\n",
    "print(f\"{x_reshaped} \\n{x_reshaped.shape} \\n{x_reshaped.dtype}\")\n",
    "\n",
    "print()\n",
    "\n",
    "x_reshaped = x.reshape(2, 5)\n",
    "print(f\"{x_reshaped} \\n{x_reshaped.shape} \\n{x_reshaped.dtype}\")\n",
    "\n",
    "print()\n",
    "\n",
    "x_reshaped = x.reshape(10, 1)\n",
    "print(f\"{x_reshaped} \\n{x_reshaped.shape} \\n{x_reshaped.dtype}\")\n",
    "\n",
    "print()\n",
    "\n",
    "x_reshaped = x.reshape(1, 10)\n",
    "print(f\"{x_reshaped} \\n{x_reshaped.shape} \\n{x_reshaped.dtype}\")\n",
    "\n",
    "\n",
    "\n",
    "# # Invalid\n",
    "# x_reshaped = x.reshape(2, 8)\n",
    "# print(f\"{x_reshaped} \\n{x_reshaped.shape} \\n{x_reshaped.dtype}\")"
   ],
   "id": "c88690dc01d44aa9",
   "outputs": [
    {
     "name": "stdout",
     "output_type": "stream",
     "text": [
      "tensor([[ 1.,  2.],\n",
      "        [ 3.,  4.],\n",
      "        [ 5.,  6.],\n",
      "        [ 7.,  8.],\n",
      "        [ 9., 10.]]) \n",
      "torch.Size([5, 2]) \n",
      "torch.float32\n",
      "\n",
      "tensor([[ 1.,  2.,  3.,  4.,  5.],\n",
      "        [ 6.,  7.,  8.,  9., 10.]]) \n",
      "torch.Size([2, 5]) \n",
      "torch.float32\n",
      "\n",
      "tensor([[ 1.],\n",
      "        [ 2.],\n",
      "        [ 3.],\n",
      "        [ 4.],\n",
      "        [ 5.],\n",
      "        [ 6.],\n",
      "        [ 7.],\n",
      "        [ 8.],\n",
      "        [ 9.],\n",
      "        [10.]]) \n",
      "torch.Size([10, 1]) \n",
      "torch.float32\n",
      "\n",
      "tensor([[ 1.,  2.,  3.,  4.,  5.,  6.,  7.,  8.,  9., 10.]]) \n",
      "torch.Size([1, 10]) \n",
      "torch.float32\n"
     ]
    }
   ],
   "execution_count": 52
  },
  {
   "metadata": {
    "ExecuteTime": {
     "end_time": "2024-07-31T14:24:28.335130Z",
     "start_time": "2024-07-31T14:24:28.323811Z"
    }
   },
   "cell_type": "code",
   "source": [
    "# Changing the view\n",
    "z = x.view(1, 10)\n",
    "print(z, z.shape)\n",
    "\n",
    "# Changing z changes x (because a view of a tensor shares the same memory as the original tensor)\n",
    "z[:, 0] = 5\n",
    "print(z, z.shape)\n",
    "print(x, x.shape)"
   ],
   "id": "d734eac1a1b84df2",
   "outputs": [
    {
     "name": "stdout",
     "output_type": "stream",
     "text": [
      "tensor([[ 1.,  2.,  3.,  4.,  5.,  6.,  7.,  8.,  9., 10.]]) torch.Size([1, 10])\n",
      "tensor([[ 5.,  2.,  3.,  4.,  5.,  6.,  7.,  8.,  9., 10.]]) torch.Size([1, 10])\n",
      "tensor([ 5.,  2.,  3.,  4.,  5.,  6.,  7.,  8.,  9., 10.]) torch.Size([10])\n"
     ]
    }
   ],
   "execution_count": 53
  },
  {
   "metadata": {
    "ExecuteTime": {
     "end_time": "2024-07-31T14:24:28.389175Z",
     "start_time": "2024-07-31T14:24:28.382749Z"
    }
   },
   "cell_type": "code",
   "source": [
    "# Stacking tensors\n",
    "\n",
    "# Vertical stacking (vstack)\n",
    "x_stacked = torch.stack([x, x, x, x], dim=0)\n",
    "print(x_stacked)\n",
    "\n",
    "# Horizontal stacking (hstack)\n",
    "x_stacked = torch.stack([x, x, x, x], dim=1)\n",
    "print(x_stacked)"
   ],
   "id": "6842c522a8f154f4",
   "outputs": [
    {
     "name": "stdout",
     "output_type": "stream",
     "text": [
      "tensor([[ 5.,  2.,  3.,  4.,  5.,  6.,  7.,  8.,  9., 10.],\n",
      "        [ 5.,  2.,  3.,  4.,  5.,  6.,  7.,  8.,  9., 10.],\n",
      "        [ 5.,  2.,  3.,  4.,  5.,  6.,  7.,  8.,  9., 10.],\n",
      "        [ 5.,  2.,  3.,  4.,  5.,  6.,  7.,  8.,  9., 10.]])\n",
      "tensor([[ 5.,  5.,  5.,  5.],\n",
      "        [ 2.,  2.,  2.,  2.],\n",
      "        [ 3.,  3.,  3.,  3.],\n",
      "        [ 4.,  4.,  4.,  4.],\n",
      "        [ 5.,  5.,  5.,  5.],\n",
      "        [ 6.,  6.,  6.,  6.],\n",
      "        [ 7.,  7.,  7.,  7.],\n",
      "        [ 8.,  8.,  8.,  8.],\n",
      "        [ 9.,  9.,  9.,  9.],\n",
      "        [10., 10., 10., 10.]])\n"
     ]
    }
   ],
   "execution_count": 54
  },
  {
   "metadata": {
    "ExecuteTime": {
     "end_time": "2024-07-31T14:24:28.518075Z",
     "start_time": "2024-07-31T14:24:28.508969Z"
    }
   },
   "cell_type": "code",
   "source": [
    "# Squeezing a tensor\n",
    "print(f\"Previous tensor: {x_reshaped}\")\n",
    "print(f\"Previous shape: {x_reshaped.shape}\")\n",
    "\n",
    "x_squeezed = x_reshaped.squeeze()\n",
    "print()\n",
    "\n",
    "print(f\"New tensor: {x_squeezed}\")\n",
    "print(f\"New shape: {x_squeezed.shape}\")"
   ],
   "id": "90b0559765687dcf",
   "outputs": [
    {
     "name": "stdout",
     "output_type": "stream",
     "text": [
      "Previous tensor: tensor([[ 5.,  2.,  3.,  4.,  5.,  6.,  7.,  8.,  9., 10.]])\n",
      "Previous shape: torch.Size([1, 10])\n",
      "\n",
      "New tensor: tensor([ 5.,  2.,  3.,  4.,  5.,  6.,  7.,  8.,  9., 10.])\n",
      "New shape: torch.Size([10])\n"
     ]
    }
   ],
   "execution_count": 55
  },
  {
   "metadata": {
    "ExecuteTime": {
     "end_time": "2024-07-31T14:24:28.669051Z",
     "start_time": "2024-07-31T14:24:28.656394Z"
    }
   },
   "cell_type": "code",
   "source": [
    "# Unsqueezing a tensor\n",
    "print(f\"Previous tensor: {x_squeezed}\")\n",
    "print(f\"Previous shape: {x_squeezed.shape}\")\n",
    "\n",
    "x_unsqueezed = x_squeezed.unsqueeze(dim=1)\n",
    "print()\n",
    "\n",
    "print(f\"New tensor: {x_unsqueezed}\")\n",
    "print(f\"New shape: {x_unsqueezed.shape}\")\n",
    "\n",
    "print()\n",
    "\n",
    "print(f\"Previous tensor: {x_squeezed}\")\n",
    "print(f\"Previous shape: {x_squeezed.shape}\")\n",
    "\n",
    "x_unsqueezed = x_squeezed.unsqueeze(dim=0)\n",
    "print()\n",
    "\n",
    "print(f\"New tensor: {x_unsqueezed}\")\n",
    "print(f\"New shape: {x_unsqueezed.shape}\")"
   ],
   "id": "990256d475b23567",
   "outputs": [
    {
     "name": "stdout",
     "output_type": "stream",
     "text": [
      "Previous tensor: tensor([ 5.,  2.,  3.,  4.,  5.,  6.,  7.,  8.,  9., 10.])\n",
      "Previous shape: torch.Size([10])\n",
      "\n",
      "New tensor: tensor([[ 5.],\n",
      "        [ 2.],\n",
      "        [ 3.],\n",
      "        [ 4.],\n",
      "        [ 5.],\n",
      "        [ 6.],\n",
      "        [ 7.],\n",
      "        [ 8.],\n",
      "        [ 9.],\n",
      "        [10.]])\n",
      "New shape: torch.Size([10, 1])\n",
      "\n",
      "Previous tensor: tensor([ 5.,  2.,  3.,  4.,  5.,  6.,  7.,  8.,  9., 10.])\n",
      "Previous shape: torch.Size([10])\n",
      "\n",
      "New tensor: tensor([[ 5.,  2.,  3.,  4.,  5.,  6.,  7.,  8.,  9., 10.]])\n",
      "New shape: torch.Size([1, 10])\n"
     ]
    }
   ],
   "execution_count": 56
  },
  {
   "metadata": {
    "ExecuteTime": {
     "end_time": "2024-07-31T14:24:28.742649Z",
     "start_time": "2024-07-31T14:24:28.737361Z"
    }
   },
   "cell_type": "code",
   "source": [
    "# Permuting a tensor\n",
    "\n",
    "# Creating an original tensor\n",
    "x_original = torch.rand(size=(224, 224, 3))     # [height, width, color_channels]\n",
    "\n",
    "# Permuting the original tensor to rearrange the axis (or dim) order\n",
    "x_permuted = x_original.permute(2, 0, 1)    # Shifts axis to [color_channels, height, width]\n",
    "\n",
    "print(f\"Previous shape: {x_original.shape}\")\n",
    "print(f\"New shape: {x_permuted.shape}\")"
   ],
   "id": "49b4b954b4db7cfe",
   "outputs": [
    {
     "name": "stdout",
     "output_type": "stream",
     "text": [
      "Previous shape: torch.Size([224, 224, 3])\n",
      "New shape: torch.Size([3, 224, 224])\n"
     ]
    }
   ],
   "execution_count": 57
  },
  {
   "metadata": {},
   "cell_type": "markdown",
   "source": "### Selecting data from tensors (Indexing)",
   "id": "4a6b93beb4f2ab96"
  },
  {
   "metadata": {
    "ExecuteTime": {
     "end_time": "2024-07-31T14:24:28.867845Z",
     "start_time": "2024-07-31T14:24:28.858589Z"
    }
   },
   "cell_type": "code",
   "source": [
    "# Creating a tensor\n",
    "x = torch.arange(1, 10).reshape(1, 3, 3)\n",
    "\n",
    "print(x, x.shape)"
   ],
   "id": "7cb61b4cc761154e",
   "outputs": [
    {
     "name": "stdout",
     "output_type": "stream",
     "text": [
      "tensor([[[1, 2, 3],\n",
      "         [4, 5, 6],\n",
      "         [7, 8, 9]]]) torch.Size([1, 3, 3])\n"
     ]
    }
   ],
   "execution_count": 58
  },
  {
   "metadata": {
    "ExecuteTime": {
     "end_time": "2024-07-31T14:24:28.967276Z",
     "start_time": "2024-07-31T14:24:28.960604Z"
    }
   },
   "cell_type": "code",
   "source": [
    "# Index on the new tensor (dim=0)\n",
    "print(x[0])"
   ],
   "id": "429e466cd5655657",
   "outputs": [
    {
     "name": "stdout",
     "output_type": "stream",
     "text": [
      "tensor([[1, 2, 3],\n",
      "        [4, 5, 6],\n",
      "        [7, 8, 9]])\n"
     ]
    }
   ],
   "execution_count": 59
  },
  {
   "metadata": {
    "ExecuteTime": {
     "end_time": "2024-07-31T14:24:29.148979Z",
     "start_time": "2024-07-31T14:24:29.143649Z"
    }
   },
   "cell_type": "code",
   "source": [
    "# Index on the middle bracket (dim=1)\n",
    "print(x[0][0])"
   ],
   "id": "53da77cf18eb7531",
   "outputs": [
    {
     "name": "stdout",
     "output_type": "stream",
     "text": [
      "tensor([1, 2, 3])\n"
     ]
    }
   ],
   "execution_count": 60
  },
  {
   "metadata": {
    "ExecuteTime": {
     "end_time": "2024-07-31T14:24:29.302283Z",
     "start_time": "2024-07-31T14:24:29.292551Z"
    }
   },
   "cell_type": "code",
   "source": [
    "# Index on the most inner bracket (dim=2)\n",
    "print(x[0][0][0])"
   ],
   "id": "81b49b34a7ccb22e",
   "outputs": [
    {
     "name": "stdout",
     "output_type": "stream",
     "text": [
      "tensor(1)\n"
     ]
    }
   ],
   "execution_count": 61
  },
  {
   "metadata": {
    "ExecuteTime": {
     "end_time": "2024-07-31T14:24:29.346191Z",
     "start_time": "2024-07-31T14:24:29.339058Z"
    }
   },
   "cell_type": "code",
   "source": [
    "# Using ':' to select \"All\" of a target dimension.\n",
    "print(x[:, 0])\n",
    "print(x[:, :, 1])"
   ],
   "id": "937a4aceb60cb046",
   "outputs": [
    {
     "name": "stdout",
     "output_type": "stream",
     "text": [
      "tensor([[1, 2, 3]])\n",
      "tensor([[2, 5, 8]])\n"
     ]
    }
   ],
   "execution_count": 62
  },
  {
   "metadata": {
    "ExecuteTime": {
     "end_time": "2024-07-31T14:24:29.573029Z",
     "start_time": "2024-07-31T14:24:29.565030Z"
    }
   },
   "cell_type": "code",
   "source": [
    "# Get all values of the 0 dimension but only the 1 index value of the 1st and 2nd dimension\n",
    "print(x[:, 1, 1])"
   ],
   "id": "3bebb0f22e892b08",
   "outputs": [
    {
     "name": "stdout",
     "output_type": "stream",
     "text": [
      "tensor([5])\n"
     ]
    }
   ],
   "execution_count": 63
  },
  {
   "metadata": {
    "ExecuteTime": {
     "end_time": "2024-07-31T14:24:29.726342Z",
     "start_time": "2024-07-31T14:24:29.720402Z"
    }
   },
   "cell_type": "code",
   "source": [
    "# Get index 0 of 0th and 1st dimension and all values of 2nd dimension\n",
    "print(x[0, 0, :])"
   ],
   "id": "e63451c6980a9c06",
   "outputs": [
    {
     "name": "stdout",
     "output_type": "stream",
     "text": [
      "tensor([1, 2, 3])\n"
     ]
    }
   ],
   "execution_count": 64
  },
  {
   "metadata": {
    "ExecuteTime": {
     "end_time": "2024-07-31T14:24:29.907971Z",
     "start_time": "2024-07-31T14:24:29.905067Z"
    }
   },
   "cell_type": "code",
   "source": [
    "# Index on x to return 9\n",
    "print(x[0, 2, -1])"
   ],
   "id": "a58295f51417d568",
   "outputs": [
    {
     "name": "stdout",
     "output_type": "stream",
     "text": [
      "tensor(9)\n"
     ]
    }
   ],
   "execution_count": 65
  },
  {
   "metadata": {
    "ExecuteTime": {
     "end_time": "2024-07-31T14:24:30.012969Z",
     "start_time": "2024-07-31T14:24:30.006354Z"
    }
   },
   "cell_type": "code",
   "source": [
    "# Index on x to return 3, 6, 9\n",
    "print(x[:, :, -1])"
   ],
   "id": "32f8845b9e7cd7fc",
   "outputs": [
    {
     "name": "stdout",
     "output_type": "stream",
     "text": [
      "tensor([[3, 6, 9]])\n"
     ]
    }
   ],
   "execution_count": 66
  },
  {
   "metadata": {},
   "cell_type": "markdown",
   "source": "### PyTorch Tensors & NumPy",
   "id": "f6078fe41440816e"
  }
 ],
 "metadata": {
  "kernelspec": {
   "display_name": "Python 3",
   "language": "python",
   "name": "python3"
  },
  "language_info": {
   "codemirror_mode": {
    "name": "ipython",
    "version": 2
   },
   "file_extension": ".py",
   "mimetype": "text/x-python",
   "name": "python",
   "nbconvert_exporter": "python",
   "pygments_lexer": "ipython2",
   "version": "2.7.6"
  }
 },
 "nbformat": 4,
 "nbformat_minor": 5
}
