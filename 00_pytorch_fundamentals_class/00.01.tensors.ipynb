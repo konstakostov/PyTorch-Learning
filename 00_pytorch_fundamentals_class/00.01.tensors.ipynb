{
 "cells": [
  {
   "metadata": {},
   "cell_type": "markdown",
   "source": "## Importing all needed libraries",
   "id": "ff5f8360639ac14f"
  },
  {
   "metadata": {
    "ExecuteTime": {
     "end_time": "2024-07-31T06:30:21.702953Z",
     "start_time": "2024-07-31T06:30:17.972731Z"
    }
   },
   "cell_type": "code",
   "source": [
    "import torch\n",
    "import pandas as pd\n",
    "import numpy as np\n",
    "import matplotlib.pyplot as plt"
   ],
   "id": "9a1bf31634adec57",
   "outputs": [],
   "execution_count": 1
  },
  {
   "metadata": {},
   "cell_type": "markdown",
   "source": [
    "## Introduction to tensors\n",
    "\n",
    "### Creating tensors"
   ],
   "id": "e1b02373b6667903"
  },
  {
   "metadata": {},
   "cell_type": "markdown",
   "source": [
    "### Quick Scalar Rundown\n",
    "\n",
    "A scalar is a single numerical value that represents a quantity without any directional information. It's a fundamental concept in mathematics, physics, and computer science. Here are some key points about scalars:\n",
    "\n",
    "1. **Definition**: A scalar is a quantity that can be fully described by its magnitude (size or amount) alone.\n",
    "2. **Contrast with vectors**: Unlike vectors, which have both magnitude and direction, scalars only have magnitude.\n",
    "3. **Examples**:\n",
    "    - ***Physics***: Temperature, mass, energy, time\n",
    "    - ***Mathematics***: Real numbers, complex numbers\n",
    "    - ***Computing***: Integer and floating-point variables\n",
    "4. **Operations**: Scalars can be added, subtracted, multiplied, and divided using regular arithmetic operations.\n",
    "5. **Programming**: In many programming languages, basic data types like integers and floats are scalar values."
   ],
   "id": "fa5a98c3a07b2476"
  },
  {
   "cell_type": "code",
   "id": "initial_id",
   "metadata": {
    "collapsed": true,
    "ExecuteTime": {
     "end_time": "2024-07-31T06:30:21.713982Z",
     "start_time": "2024-07-31T06:30:21.705191Z"
    }
   },
   "source": [
    "# Scalar\n",
    "scalar = torch.tensor(7)\n",
    "\n",
    "print(scalar)"
   ],
   "outputs": [
    {
     "name": "stdout",
     "output_type": "stream",
     "text": [
      "tensor(7)\n"
     ]
    }
   ],
   "execution_count": 2
  },
  {
   "metadata": {
    "ExecuteTime": {
     "end_time": "2024-07-31T06:30:21.728208Z",
     "start_time": "2024-07-31T06:30:21.715488Z"
    }
   },
   "cell_type": "code",
   "source": [
    "# Show the number of dimension of the scalar\n",
    "scalar.ndim"
   ],
   "id": "18c39cdbd720b897",
   "outputs": [
    {
     "data": {
      "text/plain": [
       "0"
      ]
     },
     "execution_count": 3,
     "metadata": {},
     "output_type": "execute_result"
    }
   ],
   "execution_count": 3
  },
  {
   "metadata": {
    "ExecuteTime": {
     "end_time": "2024-07-31T06:30:21.738238Z",
     "start_time": "2024-07-31T06:30:21.731261Z"
    }
   },
   "cell_type": "code",
   "source": [
    "# Get scalar back as Python integer\n",
    "scalar.item()"
   ],
   "id": "38b995102de0982",
   "outputs": [
    {
     "data": {
      "text/plain": [
       "7"
      ]
     },
     "execution_count": 4,
     "metadata": {},
     "output_type": "execute_result"
    }
   ],
   "execution_count": 4
  },
  {
   "metadata": {},
   "cell_type": "markdown",
   "source": [
    "### Quick Vector Rundown\n",
    "\n",
    "A vector is a quantity that has both magnitude and direction. It's a fundamental concept in mathematics, physics, and computer science. Here are some key points about vectors:\n",
    "\n",
    "1. **Definition**: A vector is a quantity that is fully described by both its magnitude (size or amount) and direction.\n",
    "2. **Contrast with scalars**: Unlike scalars, which have only magnitude, vectors have both magnitude and direction.\n",
    "3. **Examples**:\n",
    "    - **Physics**: Velocity, force, displacement, acceleration\n",
    "    - **Mathematics**: Ordered pairs/triplets, complex numbers (represented as points in a plane)\n",
    "    - **Computing**: Arrays or lists that store multiple values\n",
    "4. **Operations**: Vectors can be added, subtracted, scaled (multiplied by a scalar), and used in dot and cross products.\n",
    "5. **Programming**: In many programming languages, data structures like arrays and lists can represent vectors.\n",
    "\n"
   ],
   "id": "5f5de739e413a8e8"
  },
  {
   "metadata": {
    "ExecuteTime": {
     "end_time": "2024-07-31T06:30:21.754804Z",
     "start_time": "2024-07-31T06:30:21.741775Z"
    }
   },
   "cell_type": "code",
   "source": [
    "# Vector\n",
    "vector = torch.tensor([7, 7])\n",
    "\n",
    "vector"
   ],
   "id": "284ca6db23b54d42",
   "outputs": [
    {
     "data": {
      "text/plain": [
       "tensor([7, 7])"
      ]
     },
     "execution_count": 5,
     "metadata": {},
     "output_type": "execute_result"
    }
   ],
   "execution_count": 5
  },
  {
   "metadata": {
    "ExecuteTime": {
     "end_time": "2024-07-31T06:30:21.771365Z",
     "start_time": "2024-07-31T06:30:21.757192Z"
    }
   },
   "cell_type": "code",
   "source": [
    "# Show the number of dimension of the vector\n",
    "vector.ndim"
   ],
   "id": "449fdde554bf87ed",
   "outputs": [
    {
     "data": {
      "text/plain": [
       "1"
      ]
     },
     "execution_count": 6,
     "metadata": {},
     "output_type": "execute_result"
    }
   ],
   "execution_count": 6
  },
  {
   "metadata": {
    "ExecuteTime": {
     "end_time": "2024-07-31T06:30:21.782219Z",
     "start_time": "2024-07-31T06:30:21.773560Z"
    }
   },
   "cell_type": "code",
   "source": [
    "# Get the shape of the vector\n",
    "vector.shape"
   ],
   "id": "a79b9be2566003c0",
   "outputs": [
    {
     "data": {
      "text/plain": [
       "torch.Size([2])"
      ]
     },
     "execution_count": 7,
     "metadata": {},
     "output_type": "execute_result"
    }
   ],
   "execution_count": 7
  },
  {
   "metadata": {},
   "cell_type": "markdown",
   "source": [
    "### Quick Matrix Rundown\n",
    "\n",
    "A matrix is an array of numbers arranged in rows and columns. It's a fundamental concept in mathematics, physics, and computer science. Here are some key points about matrices:\n",
    "\n",
    "1. **Definition**: A matrix is a rectangular array of numbers, symbols, or expressions, arranged in rows and columns.\n",
    "2. **Dimensions**: The dimensions of a matrix are given by the number of rows and columns (e.g., a 3x2 matrix has 3 rows and 2 columns).\n",
    "3. **Examples**:\n",
    "    - **Mathematics**: Systems of linear equations, transformations in geometry\n",
    "    - **Physics**: Representation of linear transformations, state vectors in quantum mechanics\n",
    "    - **Computing**: Image data (pixels arranged in rows and columns), adjacency matrices in graph theory\n",
    "4. **Operations**: Matrices can be added, subtracted, and multiplied. They can also be used in operations such as transposition, inversion, and finding determinants.\n",
    "5. **Programming**: In many programming languages, matrices are implemented as two-dimensional arrays or lists of lists.\n",
    "\n"
   ],
   "id": "575b190a23b638b0"
  },
  {
   "metadata": {
    "ExecuteTime": {
     "end_time": "2024-07-31T06:30:21.796954Z",
     "start_time": "2024-07-31T06:30:21.784258Z"
    }
   },
   "cell_type": "code",
   "source": [
    "# Matrix\n",
    "matrix = torch.tensor([[7, 8], \n",
    "                       [9, 10]])\n",
    "\n",
    "matrix"
   ],
   "id": "df16e7897aa85875",
   "outputs": [
    {
     "data": {
      "text/plain": [
       "tensor([[ 7,  8],\n",
       "        [ 9, 10]])"
      ]
     },
     "execution_count": 8,
     "metadata": {},
     "output_type": "execute_result"
    }
   ],
   "execution_count": 8
  },
  {
   "metadata": {
    "ExecuteTime": {
     "end_time": "2024-07-31T06:30:21.805950Z",
     "start_time": "2024-07-31T06:30:21.799486Z"
    }
   },
   "cell_type": "code",
   "source": [
    "# Show the number of dimensions of the matrix\n",
    "matrix.ndim"
   ],
   "id": "eda18cc2f23e52be",
   "outputs": [
    {
     "data": {
      "text/plain": [
       "2"
      ]
     },
     "execution_count": 9,
     "metadata": {},
     "output_type": "execute_result"
    }
   ],
   "execution_count": 9
  },
  {
   "metadata": {
    "ExecuteTime": {
     "end_time": "2024-07-31T06:30:21.819452Z",
     "start_time": "2024-07-31T06:30:21.808048Z"
    }
   },
   "cell_type": "code",
   "source": [
    "# Print the 1st and 2nd element of the matrix\n",
    "print(matrix[0])\n",
    "print(matrix[1])"
   ],
   "id": "18acf2c2f0042d4e",
   "outputs": [
    {
     "name": "stdout",
     "output_type": "stream",
     "text": [
      "tensor([7, 8])\n",
      "tensor([ 9, 10])\n"
     ]
    }
   ],
   "execution_count": 10
  },
  {
   "metadata": {
    "ExecuteTime": {
     "end_time": "2024-07-31T06:30:21.831983Z",
     "start_time": "2024-07-31T06:30:21.821623Z"
    }
   },
   "cell_type": "code",
   "source": [
    "# Get the shape of the matrix\n",
    "matrix.shape"
   ],
   "id": "930b32d5cb02c345",
   "outputs": [
    {
     "data": {
      "text/plain": [
       "torch.Size([2, 2])"
      ]
     },
     "execution_count": 11,
     "metadata": {},
     "output_type": "execute_result"
    }
   ],
   "execution_count": 11
  },
  {
   "metadata": {},
   "cell_type": "markdown",
   "source": [
    "### Quick Tensor Rundown\n",
    "\n",
    "A tensor is a multidimensional array of numerical values that generalizes the concepts of scalars, vectors, and matrices. It's a fundamental concept in mathematics, physics, and computer science. Here are some key points about tensors:\n",
    "\n",
    "1. **Definition**: A tensor is a multidimensional array of numbers that generalizes scalars (0-dimensional), vectors (1-dimensional), and matrices (2-dimensional) to higher dimensions.\n",
    "2. **Dimensions (Ranks)**: The rank of a tensor refers to the number of dimensions (or indices) required to describe it. For example, a scalar is a rank-0 tensor, a vector is a rank-1 tensor, and a matrix is a rank-2 tensor.\n",
    "3. **Examples**:\n",
    "    - **Physics**: Stress and strain tensors in mechanics, the metric tensor in general relativity\n",
    "    - **Mathematics**: Multi-linear maps, higher-order generalizations of matrices\n",
    "    - **Computing**: Multidimensional arrays used in machine learning and data representation (e.g., images, video, and more complex datasets)\n",
    "4. **Operations**: Tensors can undergo various operations such as addition, subtraction, multiplication (including dot product and tensor product), contraction, and transformations.\n",
    "5. **Programming**: In many programming languages and frameworks (like TensorFlow and PyTorch), tensors are used to represent and manipulate data for machine learning and other numerical computations."
   ],
   "id": "26fd1615130975fc"
  },
  {
   "metadata": {
    "ExecuteTime": {
     "end_time": "2024-07-31T06:30:21.845062Z",
     "start_time": "2024-07-31T06:30:21.833933Z"
    }
   },
   "cell_type": "code",
   "source": [
    "# Tensor\n",
    "tensor = torch.tensor([[[1, 2, 3],\n",
    "                        [3, 6, 8],\n",
    "                        [2, 4, 5]]])\n",
    "\n",
    "tensor"
   ],
   "id": "108159089b383072",
   "outputs": [
    {
     "data": {
      "text/plain": [
       "tensor([[[1, 2, 3],\n",
       "         [3, 6, 8],\n",
       "         [2, 4, 5]]])"
      ]
     },
     "execution_count": 12,
     "metadata": {},
     "output_type": "execute_result"
    }
   ],
   "execution_count": 12
  },
  {
   "metadata": {
    "ExecuteTime": {
     "end_time": "2024-07-31T06:30:21.854266Z",
     "start_time": "2024-07-31T06:30:21.848121Z"
    }
   },
   "cell_type": "code",
   "source": [
    "# Show the number of dimensions of the tensor\n",
    "tensor.ndim"
   ],
   "id": "65c98390aaf7cd11",
   "outputs": [
    {
     "data": {
      "text/plain": [
       "3"
      ]
     },
     "execution_count": 13,
     "metadata": {},
     "output_type": "execute_result"
    }
   ],
   "execution_count": 13
  },
  {
   "metadata": {
    "ExecuteTime": {
     "end_time": "2024-07-31T06:30:21.868322Z",
     "start_time": "2024-07-31T06:30:21.861772Z"
    }
   },
   "cell_type": "code",
   "source": [
    "# Get the shape of the matrix\n",
    "tensor.shape"
   ],
   "id": "d7295b9a2a002b9f",
   "outputs": [
    {
     "data": {
      "text/plain": [
       "torch.Size([1, 3, 3])"
      ]
     },
     "execution_count": 14,
     "metadata": {},
     "output_type": "execute_result"
    }
   ],
   "execution_count": 14
  },
  {
   "metadata": {},
   "cell_type": "markdown",
   "source": [
    "<p>\n",
    "    <img src=\"00_markdown_images/00-pytorch-different-tensor-dimensions.png\" alt=\"Different Tensor Dimensions\" width=720\" height=\"360\">\n",
    "</p>"
   ],
   "id": "ce01464166808b89"
  },
  {
   "metadata": {},
   "cell_type": "markdown",
   "source": "",
   "id": "dcca168b0aceb8ab"
  }
 ],
 "metadata": {
  "kernelspec": {
   "display_name": "Python 3",
   "language": "python",
   "name": "python3"
  },
  "language_info": {
   "codemirror_mode": {
    "name": "ipython",
    "version": 2
   },
   "file_extension": ".py",
   "mimetype": "text/x-python",
   "name": "python",
   "nbconvert_exporter": "python",
   "pygments_lexer": "ipython2",
   "version": "2.7.6"
  }
 },
 "nbformat": 4,
 "nbformat_minor": 5
}
