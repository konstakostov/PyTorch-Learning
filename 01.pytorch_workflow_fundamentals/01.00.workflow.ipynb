{
 "cells": [
  {
   "metadata": {},
   "cell_type": "markdown",
   "source": [
    "# PyTorch Workflow Fundamentals\n",
    "### (One of many)\n",
    "\n",
    "1. Get data ready (turn it into tensors)\n",
    "2. Build or pick a pretrained model (suiting your problem)\n",
    "* Pick a loss function & optimizer\n",
    "* Build a training loop\n",
    "* Repeat step 2 until necessary.\n",
    "3. Fit the model to the data and make a prediction\n",
    "4. Evaluate the model\n",
    "5. Improve through experimentation\n",
    "6. Save and reload your trained model\n",
    "\n",
    "\n",
    "| Topic                                                    | Contents                                                                                                                          |\n",
    "|----------------------------------------------------------|-----------------------------------------------------------------------------------------------------------------------------------|\n",
    "| 1. Getting data ready                                    | Data can be almost anything but to get started we're going to create a simple straight line                                       |\n",
    "| 2. Building a model                                      | Here we'll create a model to learn patterns in the data, we'll also choose a loss function, optimizer, and build a training loop. |\n",
    "| 3. Fitting the model to data (training)                  | We've got data and a model, now let's let the model (try to) find patterns in the (training) data.                                |\n",
    "| 4. Making predictions and evaluating a model (inference) | Our model's found patterns in the data, let's compare its findings to the actual (testing) data.                                  |\n",
    "| 5. Saving and loading a model                            | You may want to use your model elsewhere, or come back to it later, here we'll cover that.                                        |\n",
    "| 6. Putting it all together                               | Let's take all of the above and combine it.                                                                                       |\n",
    "\n",
    "\n",
    "<p>\n",
    "    <img src=\"01.markdown_images/01_a_pytorch_workflow.png\" alt=\"A PyTorch Workflow\" width=\"840\" height=\"480\">\n",
    "</p>"
   ],
   "id": "962c42ac81a45290"
  },
  {
   "metadata": {},
   "cell_type": "markdown",
   "source": "## Importing needed libraries",
   "id": "a62d6673b96a7871"
  },
  {
   "metadata": {
    "ExecuteTime": {
     "end_time": "2024-08-02T08:11:58.296692Z",
     "start_time": "2024-08-02T08:11:56.444733Z"
    }
   },
   "cell_type": "code",
   "source": [
    "import torch\n",
    "from torch import nn    # All of PyTorch's building blocks for Neural Networks\n",
    "import matplotlib.pyplot as plt"
   ],
   "id": "435bfd71fea16e80",
   "outputs": [],
   "execution_count": 1
  },
  {
   "metadata": {},
   "cell_type": "markdown",
   "source": [
    "## Data (Preparing and Loading)\n",
    "\n",
    "Data can be almost anything (in ML):\n",
    "* Excel spreadsheet\n",
    "* Image(s)\n",
    "* Video(s)\n",
    "* Audio\n",
    "* DNA\n",
    "* Text\n",
    "* etc.\n",
    "\n",
    "Machine Learning is a game of two parts:\n",
    "1. Get the data into numerical representation.\n",
    "2. Build a model to learn patters in that numerical representation. \n",
    "\n",
    "<p>\n",
    "    <img src=\"01.markdown_images/01-machine-learning-a-game-of-two-parts.png\" alt=\"ML - A Game in Two Parts\" width=\"840\" height=\"480\">\n",
    "</p>"
   ],
   "id": "7b83c2e9dc6345ef"
  },
  {
   "metadata": {},
   "cell_type": "markdown",
   "source": [
    "## Linear Regression\n",
    "\n",
    "We'll use a linear regression formula to make a straight line with *known* **parameters**.\n",
    "\n",
    "#### Y = a + bX\n",
    "\n",
    "where:\n",
    "- **Y** is the dependent variable (*the outcome or response variable*).\n",
    "- **X** is the independent variable (*the predictor or explanatory variable*).\n",
    "- **a** is the intercept of the regression line (*the value of **Y** when **X** is 0*).\n",
    "- **b** is the slope of the regression line (*the change in **Y** for a one-unit change in **X***)."
   ],
   "id": "c3a9e41de9c2ff12"
  },
  {
   "metadata": {
    "ExecuteTime": {
     "end_time": "2024-08-02T08:11:58.310652Z",
     "start_time": "2024-08-02T08:11:58.298424Z"
    }
   },
   "cell_type": "code",
   "source": [
    "# Creating known parameters\n",
    "weight = 0.7\n",
    "bias = 0.3\n",
    "\n",
    "# Create\n",
    "start = 0\n",
    "end = 1\n",
    "step = 0.02\n",
    "\n",
    "# .unsqueeze(dim=1) Adds 1 extra dimension\n",
    "X = torch.arange(start, end, step).unsqueeze(dim=1)\n",
    "y = weight * X + bias\n",
    "\n",
    "X[:10], len(X), y[:10],len(y)"
   ],
   "id": "eb319b592d2bb72d",
   "outputs": [
    {
     "data": {
      "text/plain": [
       "(tensor([[0.0000],\n",
       "         [0.0200],\n",
       "         [0.0400],\n",
       "         [0.0600],\n",
       "         [0.0800],\n",
       "         [0.1000],\n",
       "         [0.1200],\n",
       "         [0.1400],\n",
       "         [0.1600],\n",
       "         [0.1800]]),\n",
       " 50,\n",
       " tensor([[0.3000],\n",
       "         [0.3140],\n",
       "         [0.3280],\n",
       "         [0.3420],\n",
       "         [0.3560],\n",
       "         [0.3700],\n",
       "         [0.3840],\n",
       "         [0.3980],\n",
       "         [0.4120],\n",
       "         [0.4260]]),\n",
       " 50)"
      ]
     },
     "execution_count": 2,
     "metadata": {},
     "output_type": "execute_result"
    }
   ],
   "execution_count": 2
  },
  {
   "metadata": {},
   "cell_type": "markdown",
   "source": [
    "## Splitting data int Training & Test sets\n",
    "\n",
    "There are three types of datasets:\n",
    "* ***Training set*** -> The model learns patterns from here\n",
    "* ***Validation set*** -> Tune model patterns\n",
    "* ***Test set*** -> See if the model is ready\n",
    "\n",
    "| Split          | Purpose                                                                                                                      | Amount of total data | How often is it used?    |\n",
    "|----------------|------------------------------------------------------------------------------------------------------------------------------|----------------------|--------------------------|\n",
    "| Training set   | The model learns from this data (like the course materials you study during the semester).                                   | ~60-80%              | Always                   |\n",
    "| Validation set | The model gets tuned on this data (like the practice exam you take before the final exam).                                   | ~10-20%              | Often but not always     |\n",
    "| Testing set    | The model gets evaluated on this data to test what it has learned (like the final exam you take at the end of the semester). | ~10-20%              | Always                   |\n",
    "\n",
    "\n",
    "**Generalization**: The ability for a machine learning model to perform well on data it hasn't seen."
   ],
   "id": "1f64414b068f71ae"
  },
  {
   "metadata": {
    "ExecuteTime": {
     "end_time": "2024-08-02T08:11:58.316756Z",
     "start_time": "2024-08-02T08:11:58.311736Z"
    }
   },
   "cell_type": "code",
   "source": [
    "# Creating a train/test split\n",
    "train_split = int(0.8 * len(X))\n",
    "\n",
    "X_train, y_train = X[:train_split], y[:train_split]\n",
    "X_test, y_test = X[train_split:], y[train_split:]\n",
    "\n",
    "len(X_train), len(y_train), len(X_test), len(y_test)"
   ],
   "id": "2a17c5980225b27",
   "outputs": [
    {
     "data": {
      "text/plain": [
       "(40, 40, 10, 10)"
      ]
     },
     "execution_count": 3,
     "metadata": {},
     "output_type": "execute_result"
    }
   ],
   "execution_count": 3
  },
  {
   "metadata": {
    "ExecuteTime": {
     "end_time": "2024-08-02T08:11:58.327976Z",
     "start_time": "2024-08-02T08:11:58.318106Z"
    }
   },
   "cell_type": "code",
   "source": [
    "# Printing the training sets\n",
    "X_train, y_train"
   ],
   "id": "29cb65580140e22d",
   "outputs": [
    {
     "data": {
      "text/plain": [
       "(tensor([[0.0000],\n",
       "         [0.0200],\n",
       "         [0.0400],\n",
       "         [0.0600],\n",
       "         [0.0800],\n",
       "         [0.1000],\n",
       "         [0.1200],\n",
       "         [0.1400],\n",
       "         [0.1600],\n",
       "         [0.1800],\n",
       "         [0.2000],\n",
       "         [0.2200],\n",
       "         [0.2400],\n",
       "         [0.2600],\n",
       "         [0.2800],\n",
       "         [0.3000],\n",
       "         [0.3200],\n",
       "         [0.3400],\n",
       "         [0.3600],\n",
       "         [0.3800],\n",
       "         [0.4000],\n",
       "         [0.4200],\n",
       "         [0.4400],\n",
       "         [0.4600],\n",
       "         [0.4800],\n",
       "         [0.5000],\n",
       "         [0.5200],\n",
       "         [0.5400],\n",
       "         [0.5600],\n",
       "         [0.5800],\n",
       "         [0.6000],\n",
       "         [0.6200],\n",
       "         [0.6400],\n",
       "         [0.6600],\n",
       "         [0.6800],\n",
       "         [0.7000],\n",
       "         [0.7200],\n",
       "         [0.7400],\n",
       "         [0.7600],\n",
       "         [0.7800]]),\n",
       " tensor([[0.3000],\n",
       "         [0.3140],\n",
       "         [0.3280],\n",
       "         [0.3420],\n",
       "         [0.3560],\n",
       "         [0.3700],\n",
       "         [0.3840],\n",
       "         [0.3980],\n",
       "         [0.4120],\n",
       "         [0.4260],\n",
       "         [0.4400],\n",
       "         [0.4540],\n",
       "         [0.4680],\n",
       "         [0.4820],\n",
       "         [0.4960],\n",
       "         [0.5100],\n",
       "         [0.5240],\n",
       "         [0.5380],\n",
       "         [0.5520],\n",
       "         [0.5660],\n",
       "         [0.5800],\n",
       "         [0.5940],\n",
       "         [0.6080],\n",
       "         [0.6220],\n",
       "         [0.6360],\n",
       "         [0.6500],\n",
       "         [0.6640],\n",
       "         [0.6780],\n",
       "         [0.6920],\n",
       "         [0.7060],\n",
       "         [0.7200],\n",
       "         [0.7340],\n",
       "         [0.7480],\n",
       "         [0.7620],\n",
       "         [0.7760],\n",
       "         [0.7900],\n",
       "         [0.8040],\n",
       "         [0.8180],\n",
       "         [0.8320],\n",
       "         [0.8460]]))"
      ]
     },
     "execution_count": 4,
     "metadata": {},
     "output_type": "execute_result"
    }
   ],
   "execution_count": 4
  },
  {
   "metadata": {},
   "cell_type": "markdown",
   "source": [
    "## \"Visualize, visualize, visualize!\"\n",
    "\n",
    "Visualising our data for better understanding of it."
   ],
   "id": "61690e194f3ebd80"
  },
  {
   "metadata": {
    "ExecuteTime": {
     "end_time": "2024-08-02T08:11:58.339033Z",
     "start_time": "2024-08-02T08:11:58.330572Z"
    }
   },
   "cell_type": "code",
   "source": [
    "def plot_predictions(train_data,\n",
    "                     train_labels,\n",
    "                     test_data,\n",
    "                     test_labels,\n",
    "                     predictions,\n",
    "                     ):\n",
    "    \"\"\"\n",
    "    PLots training data, test data and compares predictions.\n",
    "    \"\"\"\n",
    "    \n",
    "    # Creating a plot figure\n",
    "    plt.figure(figsize=(10, 7))\n",
    "    \n",
    "    # Plotting the training data in blue\n",
    "    plt.scatter(train_data, train_labels, c=\"b\", s=4, label=\"Training data\")\n",
    "    \n",
    "    # Plotting the training data in green\n",
    "    plt.scatter(test_data, test_labels, c=\"g\", s=4, label=\"Testing data\")\n",
    "    \n",
    "    # Check if there are predictions\n",
    "    if predictions is not None:\n",
    "        # Plot predictions if they exist\n",
    "        plt.scatter(test_data, predictions, c=\"r\", s=4, label=\"Predictions\")\n",
    "    \n",
    "    # Show the legend\n",
    "    plt.legend(prop={\"size\": 12})"
   ],
   "id": "1981756d21fd6294",
   "outputs": [],
   "execution_count": 5
  },
  {
   "metadata": {
    "ExecuteTime": {
     "end_time": "2024-08-02T08:11:58.540594Z",
     "start_time": "2024-08-02T08:11:58.341651Z"
    }
   },
   "cell_type": "code",
   "source": [
    "plot_predictions(train_data=X_train,\n",
    "                 train_labels=y_train,\n",
    "                 test_data=X_test,\n",
    "                 test_labels=y_test,\n",
    "                 predictions=None)"
   ],
   "id": "211cdb2fc9eda77e",
   "outputs": [
    {
     "data": {
      "text/plain": [
       "<Figure size 1000x700 with 1 Axes>"
      ],
      "image/png": "[encoded data removed]"
     },
     "metadata": {},
     "output_type": "display_data"
    }
   ],
   "execution_count": 6
  },
  {
   "metadata": {},
   "cell_type": "markdown",
   "source": [
    "## Building our first model\n",
    "\n",
    "The first model will be using Linear Regression. \n",
    "\n",
    "What this model does: \n",
    "* Start with random values (weight & bias)\n",
    "* Look at the training data and adjust the random values to better represent (*or get closer to*) the ideal values (*the weight & bias values we used to create the data*).\n",
    "\n",
    "This will be done via two main algorithms:\n",
    "1. Gradient descent\n",
    "* [3Blue1Brown](https://www.youtube.com/watch?v=IHZwWFHWa-w)\n",
    "* [towardsdatascience.com](https://towardsdatascience.com/gradient-descent-explained-9b953fc0d2c)\n",
    "2. Backpropagation\n",
    "* [3Blue1Brown](https://www.youtube.com/watch?v=Ilg3gGewQ5U)\n",
    "* [towardsdatascience.com](https://towardsdatascience.com/understanding-backpropagation-algorithm-7bb3aa2f95fd)"
   ],
   "id": "4197463c1b14223e"
  },
  {
   "metadata": {},
   "cell_type": "markdown",
   "source": [
    "## PyTorch model building essentials\n",
    "\n",
    "| PyTorch module        | What does it do?                                                                                                                                                                                                                                  |\n",
    "|-----------------------|---------------------------------------------------------------------------------------------------------------------------------------------------------------------------------------------------------------------------------------------------|\n",
    "| `torch.nn`            | Contains all of the building blocks for computational graphs (essentially a series of computations executed in a particular way).                                                                                                                 |\n",
    "| `torch.nn.Parameter`  | Stores tensors that can be used with `nn.Module`. If `requires_grad=True`, gradients (used for updating model parameters via gradient descent) are calculated automatically; this is often referred to as \"autograd\".                             |\n",
    "| `torch.nn.Module`     | The base class for all neural network modules; all the building blocks for neural networks are subclasses. If you're building a neural network in PyTorch, your models should subclass `nn.Module`. Requires a `forward()` method be implemented. |\n",
    "| `torch.optim`         | Contains various optimization algorithms (these tell the model parameters stored in `nn.Parameter` how to best change to improve gradient descent and in turn reduce the loss).                                                                   |\n",
    "| `def forward()`       | All `nn.Module` subclasses require a `forward()` method; this defines the computation that will take place on the data passed to the particular `nn.Module` (e.g., the linear regression formula above).                                          |\n",
    "\n",
    "* [`nn.Module`](https://pytorch.org/docs/stable/generated/torch.nn.Module.html) -> contains the larger building blocks (layers)\n",
    "* [`nn.Parameter`](https://pytorch.org/docs/stable/generated/torch.nn.Module.html) -> contains the smaller parameters like weights and biases (put these together to make nn.Module(s))\n",
    "* `forward()` -> tells the larger blocks how to make calculations on inputs (tensors full of data) within nn.Module(s)\n",
    "* [`torch.optim`](https://pytorch.org/docs/stable/optim.html) -> contains optimization methods on how to improve the parameters within nn.Parameter to better represent input data"
   ],
   "id": "9d41e546165843d4"
  },
  {
   "metadata": {
    "ExecuteTime": {
     "end_time": "2024-08-02T08:11:58.546256Z",
     "start_time": "2024-08-02T08:11:58.542042Z"
    }
   },
   "cell_type": "code",
   "source": [
    "# Creating Linear Regression model class\n",
    "class LinearRegressionModel(nn.Module):\n",
    "    def __init__(self):\n",
    "        super().__init__()\n",
    "        \n",
    "        # Weight parameter\n",
    "        self.weights = nn.Parameter(torch.randn(1, \n",
    "                                                requires_grad=True, # Setting Requirement for Gradient Descent as True\n",
    "                                                dtype=torch.float)) # Setting default dtype float32\n",
    "        \n",
    "        # Bias parameter\n",
    "        self.bias = nn.Parameter(torch.randn(1,\n",
    "                                             requires_grad=True, # Setting Requirement for Gradient Descent as True\n",
    "                                             dtype=torch.float)) # Setting default dtype float32\n",
    "    \n",
    "    # Forward method defines the computation in the model\n",
    "    def forward(self, x: torch.Tensor) -> torch.Tensor:\n",
    "        return self.weight * x + self.bias  # Linear Regression formula; \"x\" is the input data"
   ],
   "id": "892066f5b6980c26",
   "outputs": [],
   "execution_count": 7
  },
  {
   "metadata": {},
   "cell_type": "markdown",
   "source": [
    "#### Basic building blocks of creating a PyTorch model by subclassing nn.Module. For objects that subclass nn.Module, the forward() method must be defined.\n",
    "\n",
    "<p>\n",
    "    <img src=\"01.markdown_images/01-pytorch-linear-model-annotated.png\" alt=\"PyTorch Linear Model Annotated\" width=\"840\" height=\"480\">\n",
    "</p>"
   ],
   "id": "58c3931944709c2f"
  }
 ],
 "metadata": {
  "kernelspec": {
   "display_name": "Python 3",
   "language": "python",
   "name": "python3"
  },
  "language_info": {
   "codemirror_mode": {
    "name": "ipython",
    "version": 2
   },
   "file_extension": ".py",
   "mimetype": "text/x-python",
   "name": "python",
   "nbconvert_exporter": "python",
   "pygments_lexer": "ipython2",
   "version": "2.7.6"
  }
 },
 "nbformat": 4,
 "nbformat_minor": 5
}
