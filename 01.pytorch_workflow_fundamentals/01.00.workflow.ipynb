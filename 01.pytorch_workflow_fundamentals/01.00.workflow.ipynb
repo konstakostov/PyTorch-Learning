{
 "cells": [
  {
   "metadata": {},
   "cell_type": "markdown",
   "source": [
    "# PyTorch Workflow Fundamentals (One of many)\n",
    "\n",
    "1. Get data ready (turn it into tensors)\n",
    "2. Build or pick a pretrained model (suiting your problem)\n",
    "    * Pick a loss function & optimizer\n",
    "    * Build a training loop\n",
    "    * Repeat step 2 until necessary.\n",
    "3. Fit the model to the data and make a prediction\n",
    "4. Evaluate the model\n",
    "5. Improve through experimentation\n",
    "6. Save and reload your trained model"
   ],
   "id": "962c42ac81a45290"
  },
  {
   "metadata": {},
   "cell_type": "markdown",
   "source": [
    "| Topic                                                    | Contents                                                                                                                          |\n",
    "|----------------------------------------------------------|-----------------------------------------------------------------------------------------------------------------------------------|\n",
    "| 1. Getting data ready                                    | Data can be almost anything but to get started we're going to create a simple straight line                                       |\n",
    "| 2. Building a model                                      | Here we'll create a model to learn patterns in the data, we'll also choose a loss function, optimizer, and build a training loop. |\n",
    "| 3. Fitting the model to data (training)                  | We've got data and a model, now let's let the model (try to) find patterns in the (training) data.                                |\n",
    "| 4. Making predictions and evaluating a model (inference) | Our model's found patterns in the data, let's compare its findings to the actual (testing) data.                                  |\n",
    "| 5. Saving and loading a model                            | You may want to use your model elsewhere, or come back to it later, here we'll cover that.                                        |\n",
    "| 6. Putting it all together                               | Let's take all of the above and combine it.                                                                                       |"
   ],
   "id": "370e5986102250a2"
  },
  {
   "metadata": {},
   "cell_type": "markdown",
   "source": [
    "<p>\n",
    "    <img src=\"01.markdown_images/01_a_pytorch_workflow.png\" alt=\"A PyTorch Workflow\" width=\"780\" height=\"440\">\n",
    "</p>"
   ],
   "id": "f1e8d2ca95a19a4b"
  },
  {
   "metadata": {
    "ExecuteTime": {
     "end_time": "2024-08-06T02:44:25.037279Z",
     "start_time": "2024-08-06T02:44:22.825528Z"
    }
   },
   "cell_type": "code",
   "source": [
    "# Importing the necessary libraries\n",
    "\n",
    "import numpy as np\n",
    "\n",
    "import torch\n",
    "from torch import nn    # All of PyTorch's building blocks for Neural Networks\n",
    "\n",
    "import matplotlib.pyplot as plt\n",
    "\n",
    "from pathlib import Path"
   ],
   "id": "435bfd71fea16e80",
   "outputs": [],
   "execution_count": 1
  },
  {
   "metadata": {},
   "cell_type": "markdown",
   "source": [
    "## 01. Data (Preparing and Loading)\n",
    "\n",
    "Data can be almost anything (in ML):\n",
    "* Excel spreadsheet\n",
    "* Image(s)\n",
    "* Video(s)\n",
    "* Audio\n",
    "* DNA\n",
    "* Text\n",
    "* etc.\n",
    "\n",
    "Machine Learning is a game of two parts:\n",
    "1. Get the data into numerical representation.\n",
    "2. Build a model to learn patters in that numerical representation. \n",
    "\n",
    "<p>\n",
    "    <img src=\"01.markdown_images/01-machine-learning-a-game-of-two-parts.png\" alt=\"ML - A Game in Two Parts\" width=\"780\" height=\"440\">\n",
    "</p>"
   ],
   "id": "7b83c2e9dc6345ef"
  },
  {
   "metadata": {},
   "cell_type": "markdown",
   "source": [
    "### 01.01. Linear Regression\n",
    "\n",
    "Using linear regression formula to make a straight line with *known* **parameters**.\n",
    "\n",
    "#### Y = a + bX\n",
    "\n",
    "where:\n",
    "- **Y** is the dependent variable (*the outcome or response variable*).\n",
    "- **X** is the independent variable (*the predictor or explanatory variable*).\n",
    "- **a** is the intercept of the regression line (*the value of **Y** when **X** is 0*).\n",
    "- **b** is the slope of the regression line (*the change in **Y** for a one-unit change in **X***)."
   ],
   "id": "c3a9e41de9c2ff12"
  },
  {
   "metadata": {
    "ExecuteTime": {
     "end_time": "2024-08-06T02:44:25.062677Z",
     "start_time": "2024-08-06T02:44:25.043865Z"
    }
   },
   "cell_type": "code",
   "source": [
    "# Creating known parameters\n",
    "weight = 0.7\n",
    "bias = 0.3\n",
    "\n",
    "# Create\n",
    "start = 0\n",
    "end = 1\n",
    "step = 0.02\n",
    "\n",
    "# .unsqueeze(dim=1) Adds 1 extra dimension\n",
    "X = torch.arange(start, end, step).unsqueeze(dim=1)\n",
    "y = weight * X + bias\n",
    "\n",
    "X[:10], len(X), y[:10],len(y)"
   ],
   "id": "eb319b592d2bb72d",
   "outputs": [
    {
     "data": {
      "text/plain": [
       "(tensor([[0.0000],\n",
       "         [0.0200],\n",
       "         [0.0400],\n",
       "         [0.0600],\n",
       "         [0.0800],\n",
       "         [0.1000],\n",
       "         [0.1200],\n",
       "         [0.1400],\n",
       "         [0.1600],\n",
       "         [0.1800]]),\n",
       " 50,\n",
       " tensor([[0.3000],\n",
       "         [0.3140],\n",
       "         [0.3280],\n",
       "         [0.3420],\n",
       "         [0.3560],\n",
       "         [0.3700],\n",
       "         [0.3840],\n",
       "         [0.3980],\n",
       "         [0.4120],\n",
       "         [0.4260]]),\n",
       " 50)"
      ]
     },
     "execution_count": 2,
     "metadata": {},
     "output_type": "execute_result"
    }
   ],
   "execution_count": 2
  },
  {
   "metadata": {},
   "cell_type": "markdown",
   "source": [
    "### 01.02. Splitting data int Training & Test sets\n",
    "\n",
    "There are three types of datasets:\n",
    "* ***Training set*** -> The model learns patterns from here\n",
    "* ***Validation set*** -> Tune model patterns\n",
    "* ***Test set*** -> See if the model is ready\n",
    "\n",
    "| Split          | Purpose                                                                                                                      | Amount of total data | How often is it used?    |\n",
    "|----------------|------------------------------------------------------------------------------------------------------------------------------|----------------------|--------------------------|\n",
    "| Training set   | The model learns from this data (like the course materials you study during the semester).                                   | ~60-80%              | Always                   |\n",
    "| Validation set | The model gets tuned on this data (like the practice exam you take before the final exam).                                   | ~10-20%              | Often but not always     |\n",
    "| Testing set    | The model gets evaluated on this data to test what it has learned (like the final exam you take at the end of the semester). | ~10-20%              | Always                   |\n",
    "\n",
    "\n",
    "**Generalization**: The ability for a machine learning model to perform well on data it hasn't seen."
   ],
   "id": "1f64414b068f71ae"
  },
  {
   "metadata": {
    "ExecuteTime": {
     "end_time": "2024-08-06T02:44:25.073026Z",
     "start_time": "2024-08-06T02:44:25.064460Z"
    }
   },
   "cell_type": "code",
   "source": [
    "# Creating a train/test split\n",
    "train_split = int(0.8 * len(X))\n",
    "\n",
    "X_train, y_train = X[:train_split], y[:train_split]\n",
    "X_test, y_test = X[train_split:], y[train_split:]\n",
    "\n",
    "len(X_train), len(y_train), len(X_test), len(y_test)"
   ],
   "id": "2a17c5980225b27",
   "outputs": [
    {
     "data": {
      "text/plain": [
       "(40, 40, 10, 10)"
      ]
     },
     "execution_count": 3,
     "metadata": {},
     "output_type": "execute_result"
    }
   ],
   "execution_count": 3
  },
  {
   "metadata": {
    "ExecuteTime": {
     "end_time": "2024-08-06T02:44:25.084637Z",
     "start_time": "2024-08-06T02:44:25.075063Z"
    }
   },
   "cell_type": "code",
   "source": [
    "# Printing the training sets\n",
    "X_train, y_train"
   ],
   "id": "29cb65580140e22d",
   "outputs": [
    {
     "data": {
      "text/plain": [
       "(tensor([[0.0000],\n",
       "         [0.0200],\n",
       "         [0.0400],\n",
       "         [0.0600],\n",
       "         [0.0800],\n",
       "         [0.1000],\n",
       "         [0.1200],\n",
       "         [0.1400],\n",
       "         [0.1600],\n",
       "         [0.1800],\n",
       "         [0.2000],\n",
       "         [0.2200],\n",
       "         [0.2400],\n",
       "         [0.2600],\n",
       "         [0.2800],\n",
       "         [0.3000],\n",
       "         [0.3200],\n",
       "         [0.3400],\n",
       "         [0.3600],\n",
       "         [0.3800],\n",
       "         [0.4000],\n",
       "         [0.4200],\n",
       "         [0.4400],\n",
       "         [0.4600],\n",
       "         [0.4800],\n",
       "         [0.5000],\n",
       "         [0.5200],\n",
       "         [0.5400],\n",
       "         [0.5600],\n",
       "         [0.5800],\n",
       "         [0.6000],\n",
       "         [0.6200],\n",
       "         [0.6400],\n",
       "         [0.6600],\n",
       "         [0.6800],\n",
       "         [0.7000],\n",
       "         [0.7200],\n",
       "         [0.7400],\n",
       "         [0.7600],\n",
       "         [0.7800]]),\n",
       " tensor([[0.3000],\n",
       "         [0.3140],\n",
       "         [0.3280],\n",
       "         [0.3420],\n",
       "         [0.3560],\n",
       "         [0.3700],\n",
       "         [0.3840],\n",
       "         [0.3980],\n",
       "         [0.4120],\n",
       "         [0.4260],\n",
       "         [0.4400],\n",
       "         [0.4540],\n",
       "         [0.4680],\n",
       "         [0.4820],\n",
       "         [0.4960],\n",
       "         [0.5100],\n",
       "         [0.5240],\n",
       "         [0.5380],\n",
       "         [0.5520],\n",
       "         [0.5660],\n",
       "         [0.5800],\n",
       "         [0.5940],\n",
       "         [0.6080],\n",
       "         [0.6220],\n",
       "         [0.6360],\n",
       "         [0.6500],\n",
       "         [0.6640],\n",
       "         [0.6780],\n",
       "         [0.6920],\n",
       "         [0.7060],\n",
       "         [0.7200],\n",
       "         [0.7340],\n",
       "         [0.7480],\n",
       "         [0.7620],\n",
       "         [0.7760],\n",
       "         [0.7900],\n",
       "         [0.8040],\n",
       "         [0.8180],\n",
       "         [0.8320],\n",
       "         [0.8460]]))"
      ]
     },
     "execution_count": 4,
     "metadata": {},
     "output_type": "execute_result"
    }
   ],
   "execution_count": 4
  },
  {
   "metadata": {},
   "cell_type": "markdown",
   "source": [
    "### 01.03. \"Visualize, visualize, visualize!\"\n",
    "\n",
    "Visualising our data for better understanding of it."
   ],
   "id": "61690e194f3ebd80"
  },
  {
   "metadata": {
    "ExecuteTime": {
     "end_time": "2024-08-06T02:44:25.091964Z",
     "start_time": "2024-08-06T02:44:25.086590Z"
    }
   },
   "cell_type": "code",
   "source": [
    "def plot_predictions(train_data,\n",
    "                     train_labels,\n",
    "                     test_data,\n",
    "                     test_labels,\n",
    "                     predictions,\n",
    "                     ):\n",
    "    \"\"\"\n",
    "    PLots training data, test data and compares predictions.\n",
    "    \"\"\"\n",
    "    \n",
    "    # Creating a plot figure\n",
    "    plt.figure(figsize=(10, 7))\n",
    "    \n",
    "    # Plotting the training data in blue\n",
    "    plt.scatter(train_data, train_labels, c=\"b\", s=4, label=\"Training data\")\n",
    "    \n",
    "    # Plotting the training data in green\n",
    "    plt.scatter(test_data, test_labels, c=\"g\", s=4, label=\"Testing data\")\n",
    "    \n",
    "    # Check if there are predictions\n",
    "    if predictions is not None:\n",
    "        # Plot predictions if they exist\n",
    "        plt.scatter(test_data, predictions, c=\"r\", s=4, label=\"Predictions\")\n",
    "    \n",
    "    # Show the legend\n",
    "    plt.legend(prop={\"size\": 12})"
   ],
   "id": "1981756d21fd6294",
   "outputs": [],
   "execution_count": 5
  },
  {
   "metadata": {
    "ExecuteTime": {
     "end_time": "2024-08-06T02:44:25.369312Z",
     "start_time": "2024-08-06T02:44:25.093649Z"
    }
   },
   "cell_type": "code",
   "source": [
    "plot_predictions(train_data=X_train,\n",
    "                 train_labels=y_train,\n",
    "                 test_data=X_test,\n",
    "                 test_labels=y_test,\n",
    "                 predictions=None)"
   ],
   "id": "211cdb2fc9eda77e",
   "outputs": [
    {
     "data": {
      "text/plain": [
       "<Figure size 1000x700 with 1 Axes>"
      ],
      "image/png": "[encoded data removed]"
     },
     "metadata": {},
     "output_type": "display_data"
    }
   ],
   "execution_count": 6
  },
  {
   "metadata": {},
   "cell_type": "markdown",
   "source": [
    "## 02. Building our first model\n",
    "\n",
    "The first model will be using Linear Regression. \n",
    "\n",
    "What this model does: \n",
    "* Start with random values (weight & bias)\n",
    "* Look at the training data and adjust the random values to better represent (*or get closer to*) the ideal values (*the weight & bias values we used to create the data*).\n",
    "\n",
    "This will be done via two main algorithms:\n",
    "1. Gradient descent\n",
    "    * [3Blue1Brown](https://www.youtube.com/watch?v=IHZwWFHWa-w)\n",
    "    * [towardsdatascience.com](https://towardsdatascience.com/gradient-descent-explained-9b953fc0d2c)\n",
    "2. Backpropagation\n",
    "    * [3Blue1Brown](https://www.youtube.com/watch?v=Ilg3gGewQ5U)\n",
    "    * [towardsdatascience.com](https://towardsdatascience.com/understanding-backpropagation-algorithm-7bb3aa2f95fd)"
   ],
   "id": "4197463c1b14223e"
  },
  {
   "metadata": {},
   "cell_type": "markdown",
   "source": [
    "### 02.01. PyTorch model building essentials\n",
    "\n",
    "| PyTorch module        | What does it do?                                                                                                                                                                                                                                  |\n",
    "|-----------------------|---------------------------------------------------------------------------------------------------------------------------------------------------------------------------------------------------------------------------------------------------|\n",
    "| `torch.nn`            | Contains all of the building blocks for computational graphs (essentially a series of computations executed in a particular way).                                                                                                                 |\n",
    "| `torch.nn.Parameter`  | Stores tensors that can be used with `nn.Module`. If `requires_grad=True`, gradients (used for updating model parameters via gradient descent) are calculated automatically; this is often referred to as \"autograd\".                             |\n",
    "| `torch.nn.Module`     | The base class for all neural network modules; all the building blocks for neural networks are subclasses. If you're building a neural network in PyTorch, your models should subclass `nn.Module`. Requires a `forward()` method be implemented. |\n",
    "| `torch.optim`         | Contains various optimization algorithms (these tell the model parameters stored in `nn.Parameter` how to best change to improve gradient descent and in turn reduce the loss).                                                                   |\n",
    "| `def forward()`       | All `nn.Module` subclasses require a `forward()` method; this defines the computation that will take place on the data passed to the particular `nn.Module` (e.g., the linear regression formula above).                                          |\n",
    "\n",
    "* [`nn.Module`](https://pytorch.org/docs/stable/generated/torch.nn.Module.html) -> contains the larger building blocks (layers)\n",
    "* [`nn.Parameter`](https://pytorch.org/docs/stable/generated/torch.nn.Module.html) -> contains the smaller parameters like weights and biases (put these together to make nn.Module(s))\n",
    "* `forward()` -> tells the larger blocks how to make calculations on inputs (tensors full of data) within nn.Module(s)\n",
    "* [`torch.optim`](https://pytorch.org/docs/stable/optim.html) -> contains optimization methods on how to improve the parameters within nn.Parameter to better represent input data\n",
    "\n",
    "\n",
    "#### [PyTorch Cheat Sheet](https://pytorch.org/tutorials/beginner/ptcheat.html)"
   ],
   "id": "9d41e546165843d4"
  },
  {
   "metadata": {
    "ExecuteTime": {
     "end_time": "2024-08-06T02:44:25.375473Z",
     "start_time": "2024-08-06T02:44:25.371155Z"
    }
   },
   "cell_type": "code",
   "source": [
    "# Creating Linear Regression model class\n",
    "class LinearRegressionModel(nn.Module):\n",
    "    def __init__(self):\n",
    "        super().__init__()\n",
    "        \n",
    "        # Weight parameter\n",
    "        self.weights = nn.Parameter(torch.randn(1, \n",
    "                                                requires_grad=True, # Setting Requirement for Gradient Descent as True\n",
    "                                                dtype=torch.float)) # Setting default dtype float32\n",
    "        \n",
    "        # Bias parameter\n",
    "        self.bias = nn.Parameter(torch.randn(1,\n",
    "                                             requires_grad=True, # Setting Requirement for Gradient Descent as True\n",
    "                                             dtype=torch.float)) # Setting default dtype float32\n",
    "    \n",
    "    # Forward method defines the computation in the model\n",
    "    def forward(self, x: torch.Tensor) -> torch.Tensor:     # \"x\" is the input data\n",
    "        return self.weights * x + self.bias  # Linear Regression formula; \"x\" is the input data"
   ],
   "id": "892066f5b6980c26",
   "outputs": [],
   "execution_count": 7
  },
  {
   "metadata": {},
   "cell_type": "markdown",
   "source": [
    "### 02.02. Basic building blocks of creating a PyTorch model by subclassing nn.Module. For objects that subclass nn.Module, the forward() method must be defined.\n",
    "\n",
    "<p>\n",
    "    <img src=\"01.markdown_images/01-pytorch-linear-model-annotated.png\" alt=\"PyTorch Linear Model Annotated\" width=\"780\" height=\"440\">\n",
    "</p>"
   ],
   "id": "58c3931944709c2f"
  },
  {
   "metadata": {},
   "cell_type": "markdown",
   "source": [
    "### 02.03. Checking the contents of our fist created model\n",
    "\n",
    "The contents of the model can be viewed with `.parameters`"
   ],
   "id": "dd9e8bb859c7e7cb"
  },
  {
   "metadata": {
    "ExecuteTime": {
     "end_time": "2024-08-06T02:44:25.388939Z",
     "start_time": "2024-08-06T02:44:25.376981Z"
    }
   },
   "cell_type": "code",
   "source": [
    "# Creating a random seed \n",
    "torch.manual_seed(42)\n",
    "\n",
    "# Creating an instance of the model (this is a subclass of `nn.Module`)\n",
    "model_0 = LinearRegressionModel()\n",
    "\n",
    "# Checking our model's parameters (List unnamed parameters)\n",
    "list(model_0.parameters())"
   ],
   "id": "eca97a894d535d7e",
   "outputs": [
    {
     "data": {
      "text/plain": [
       "[Parameter containing:\n",
       " tensor([0.3367], requires_grad=True),\n",
       " Parameter containing:\n",
       " tensor([0.1288], requires_grad=True)]"
      ]
     },
     "execution_count": 8,
     "metadata": {},
     "output_type": "execute_result"
    }
   ],
   "execution_count": 8
  },
  {
   "metadata": {
    "ExecuteTime": {
     "end_time": "2024-08-06T02:44:25.397611Z",
     "start_time": "2024-08-06T02:44:25.392591Z"
    }
   },
   "cell_type": "code",
   "source": [
    "# List named parameters\n",
    "print(model_0.state_dict())"
   ],
   "id": "9034c4fa9c8c306f",
   "outputs": [
    {
     "name": "stdout",
     "output_type": "stream",
     "text": [
      "OrderedDict({'weights': tensor([0.3367]), 'bias': tensor([0.1288])})\n"
     ]
    }
   ],
   "execution_count": 9
  },
  {
   "metadata": {},
   "cell_type": "markdown",
   "source": [
    "### 02.04. Making predictions using [`torch.inference_mode()`](https://pytorch.org/docs/stable/generated/torch.autograd.grad_mode.inference_mode.html)\n",
    "\n",
    "To check our model's predictive power, we test how well it redicts `y_test` based on `X_test`.\n",
    "\n",
    "When we pass data through our model, it will run it through our `forward()` method."
   ],
   "id": "95b6aa5b1e3aca25"
  },
  {
   "metadata": {
    "ExecuteTime": {
     "end_time": "2024-08-06T02:44:25.408723Z",
     "start_time": "2024-08-06T02:44:25.400685Z"
    }
   },
   "cell_type": "code",
   "source": [
    "# Make predictions with a model\n",
    "with torch.inference_mode():\n",
    "    y_predictions = model_0(X_test)"
   ],
   "id": "e9668305414262cf",
   "outputs": [],
   "execution_count": 10
  },
  {
   "metadata": {
    "ExecuteTime": {
     "end_time": "2024-08-06T02:44:25.421644Z",
     "start_time": "2024-08-06T02:44:25.410104Z"
    }
   },
   "cell_type": "code",
   "source": [
    "# Results for y_predictions\n",
    "y_predictions"
   ],
   "id": "794bc7bf2048f33c",
   "outputs": [
    {
     "data": {
      "text/plain": [
       "tensor([[0.3982],\n",
       "        [0.4049],\n",
       "        [0.4116],\n",
       "        [0.4184],\n",
       "        [0.4251],\n",
       "        [0.4318],\n",
       "        [0.4386],\n",
       "        [0.4453],\n",
       "        [0.4520],\n",
       "        [0.4588]])"
      ]
     },
     "execution_count": 11,
     "metadata": {},
     "output_type": "execute_result"
    }
   ],
   "execution_count": 11
  },
  {
   "metadata": {
    "ExecuteTime": {
     "end_time": "2024-08-06T02:44:25.430223Z",
     "start_time": "2024-08-06T02:44:25.423564Z"
    }
   },
   "cell_type": "code",
   "source": [
    "# Results for y_test\n",
    "y_test"
   ],
   "id": "f305dd9d6699b301",
   "outputs": [
    {
     "data": {
      "text/plain": [
       "tensor([[0.8600],\n",
       "        [0.8740],\n",
       "        [0.8880],\n",
       "        [0.9020],\n",
       "        [0.9160],\n",
       "        [0.9300],\n",
       "        [0.9440],\n",
       "        [0.9580],\n",
       "        [0.9720],\n",
       "        [0.9860]])"
      ]
     },
     "execution_count": 12,
     "metadata": {},
     "output_type": "execute_result"
    }
   ],
   "execution_count": 12
  },
  {
   "metadata": {
    "ExecuteTime": {
     "end_time": "2024-08-06T02:44:25.662173Z",
     "start_time": "2024-08-06T02:44:25.431483Z"
    }
   },
   "cell_type": "code",
   "source": [
    "# Visualising the data\n",
    "plot_predictions(train_data=X_train,\n",
    "                 train_labels=y_train,\n",
    "                 test_data=X_test,\n",
    "                 test_labels=y_test,\n",
    "                 predictions=y_predictions)\n",
    "\n",
    "# Because we are using random data, our predictions are way off.\n",
    "# The Predictions (red) should be closer to the testing data (green)."
   ],
   "id": "158728c5194f6193",
   "outputs": [
    {
     "data": {
      "text/plain": [
       "<Figure size 1000x700 with 1 Axes>"
      ],
      "image/png": "[encoded data removed]"
     },
     "metadata": {},
     "output_type": "display_data"
    }
   ],
   "execution_count": 13
  },
  {
   "metadata": {},
   "cell_type": "markdown",
   "source": [
    "## 03. Training a model\n",
    "\n",
    "The whole idea of training is for a model to move from some *unknown* parameters (these may be random) to some *known* parameters. \n",
    "\n",
    "In other words: From a poor representation of the data to a better representation of data. \n",
    "\n",
    "One way to measure how poor or how wrong your model's predictions are is to use ***loss function***.\n",
    "\n",
    "***`Loss Function`*** === ***`Cost Function`*** === ***`Criterion`***. These names are for the same thing in different areas. \n",
    "\n",
    "<br>\n",
    "\n",
    "| Function             | What does it do?                                                                                                                  | Where does it live in PyTorch?                                               | Common values                                                                                                                                             |\n",
    "|----------------------|-----------------------------------------------------------------------------------------------------------------------------------|------------------------------------------------------------------------------|-----------------------------------------------------------------------------------------------------------------------------------------------------------|\n",
    "| Loss function        | Measures how wrong your model's predictions (e.g., `y_preds`) are compared to the truth labels (e.g., `y_test`). Lower is better. | PyTorch has plenty of built-in loss functions in `torch.nn`.                 | Mean absolute  error (MAE) for regression problems (`torch.nn.L1Loss()`). Binary cross entropy for binary classification problems (`torch.nn.BCELoss()`). |\n",
    "| Optimizer            | Tells your model how to update its internal parameters to best lower the loss.                                                    | You can find various optimization function implementations in `torch.optim`. | Stochastic gradient descent (`torch.optim.SGD()`). Adam optimizer (`torch.optim.Adam()`).                                                                 |\n",
    "\n",
    "<br>\n",
    "\n",
    "#### Things we need to train: \n",
    "* **Loss Function**: A function to measure how wrong your model's predictions are to the ideal outputs. **Lower** is ***better***.\n",
    "    * [PyTorch Documentation](https://pytorch.org/docs/stable/nn.html#loss-functions)\n",
    "* **Optimizer**: Takes into account the loss of a model and adjusts the model's parameters (e.g., weight & bias) to improve the loss function.\n",
    "    * [PyTorch Documentation](https://pytorch.org/docs/stable/optim.html)\n",
    "    * In the optimizer you'' often have to set two parameters:\n",
    "        * `params=`:  The model parameters you'd ike to optimize, for example `params=model_0.parameters()`\n",
    "        * `lr` (Learning rate): The learning rate is a hyperparameter that defines how big/small the optimizer changes the parameters with each step (`Small LR` --> Small changes, `Big LR` -> Large changes)\n",
    "\n",
    "\n",
    "#### Things we need specifically for PyTorch.\n",
    "* Training Loop:\n",
    "* Testing Loop:  \n"
   ],
   "id": "e7b3a163b4056ed6"
  },
  {
   "metadata": {
    "ExecuteTime": {
     "end_time": "2024-08-06T02:44:25.668522Z",
     "start_time": "2024-08-06T02:44:25.663059Z"
    }
   },
   "cell_type": "code",
   "source": "list(model_0.parameters())",
   "id": "d5b0387c127a3c27",
   "outputs": [
    {
     "data": {
      "text/plain": [
       "[Parameter containing:\n",
       " tensor([0.3367], requires_grad=True),\n",
       " Parameter containing:\n",
       " tensor([0.1288], requires_grad=True)]"
      ]
     },
     "execution_count": 14,
     "metadata": {},
     "output_type": "execute_result"
    }
   ],
   "execution_count": 14
  },
  {
   "metadata": {
    "ExecuteTime": {
     "end_time": "2024-08-06T02:44:25.678815Z",
     "start_time": "2024-08-06T02:44:25.671107Z"
    }
   },
   "cell_type": "code",
   "source": [
    "# Checking our model's parameters.\n",
    "# Parameter is a value that the model sets itself.\n",
    "model_0.state_dict()"
   ],
   "id": "25bc1095bff70306",
   "outputs": [
    {
     "data": {
      "text/plain": [
       "OrderedDict([('weights', tensor([0.3367])), ('bias', tensor([0.1288]))])"
      ]
     },
     "execution_count": 15,
     "metadata": {},
     "output_type": "execute_result"
    }
   ],
   "execution_count": 15
  },
  {
   "metadata": {
    "ExecuteTime": {
     "end_time": "2024-08-06T02:44:26.430013Z",
     "start_time": "2024-08-06T02:44:25.680022Z"
    }
   },
   "cell_type": "code",
   "source": [
    "# Setting up a loss functions\n",
    "loss_fn = nn.L1Loss()\n",
    "\n",
    "# Setting up and optimizer\n",
    "optimizer = torch.optim.SGD(params=model_0.parameters(),\n",
    "                            lr=0.0005,)   # lr is possibly the most important hyperparameter you can set. "
   ],
   "id": "e96ffbf6fedd56fe",
   "outputs": [],
   "execution_count": 16
  },
  {
   "metadata": {},
   "cell_type": "markdown",
   "source": [
    "### 03.01. Building a training loop and a testing loop in PyTorch\n",
    "\n",
    "Things we need in a training loop: \n",
    "0. Loop through the data and do: \n",
    "    1. Forward Pass/Forward Propagation: Involves data moving from through our model's `forward()` functions to make predictions on data;\n",
    "    2. Calculate the Loss: Compare forward pass predictions to ground truth labels;\n",
    "    3. Optimizer zero grad;\n",
    "    4. Loss backward: Move backwards through the network to calculate the gradients of each of the parameters of our model with respect to the loss (***backpropagation***);\n",
    "    5. Optimizer step: Use the optimizer to adjust our model's parameters to try and improve the loss (***gradient descent***)."
   ],
   "id": "92f0a0b4419fa920"
  },
  {
   "metadata": {},
   "cell_type": "markdown",
   "source": [
    "### 03.02. [Unofficial PyTorch Optimization Loop Song](https://www.youtube.com/watch?v=Nutpusq_AFw)\n",
    "It's train time!<br>\n",
    "Do the forward pass,<br>\n",
    "Calculate the loss,<br>\n",
    "Optimizer zero grad,<br>\n",
    "Loss backwards!<br>\n",
    "<br>\n",
    "Optimizer step, step, step.<br>\n",
    "<br>\n",
    "Let's test now!<br>\n",
    "With torch no grad:<br>\n",
    "Do the forward pass,<br>\n",
    "Calculate the loss,<br>\n",
    "Watch it go down down down!<br>"
   ],
   "id": "ba6346a7b9c18e07"
  },
  {
   "metadata": {},
   "cell_type": "markdown",
   "source": [
    "<p>\n",
    "    <img src=\"01.markdown_images/01-pytorch-training-loop-annotated.png\" alt=\"PyTorch Training Loop Annotated\" width=\"780\" height=\"440\">\n",
    "</p>"
   ],
   "id": "b265afe199a7807d"
  },
  {
   "metadata": {},
   "cell_type": "markdown",
   "source": [
    "<p>\n",
    "    <img src=\"01.markdown_images/01-pytorch-testing-loop-annotated.png\" alt=\"PyTorch Testing Loop Annotated\" width=\"780\" height=\"440\">\n",
    "</p>"
   ],
   "id": "706113d1a0107ea6"
  },
  {
   "metadata": {
    "ExecuteTime": {
     "end_time": "2024-08-06T02:44:28.435613Z",
     "start_time": "2024-08-06T02:44:26.433844Z"
    }
   },
   "cell_type": "code",
   "source": [
    "torch.manual_seed(42)\n",
    "\n",
    "# Epoch is one loop through the data (hyperparameter, because we've set it ourselves).\n",
    "epochs = 5000\n",
    "\n",
    "# # Tracking experiment\n",
    "epoch_count = []\n",
    "train_loss_values = []\n",
    "test_loss_values = []\n",
    "\n",
    "# # Training\n",
    "# 0. Loop through the data: \n",
    "for epoch in range(epochs):\n",
    "    # Set the model to training mode\n",
    "    # Train mode in PyTorch sets all parameters that require gradients to require gradients\n",
    "    model_0.train()\n",
    "    \n",
    "    # 1. Forward Pass\n",
    "    y_pred = model_0(X_train)\n",
    "    \n",
    "    # 2. Calculating the loss\n",
    "    loss = loss_fn(y_pred, y_train)\n",
    "    \n",
    "    # 3. Optimizer zero grad\n",
    "    optimizer.zero_grad()\n",
    "    \n",
    "    # 4. Loss backward/Backpropagation\n",
    "    loss.backward()\n",
    "    \n",
    "    # 5. Optimizer Step\n",
    "    # By default how the optimizer changes will accumulate through the loop, so they have to be zeroed in step 3\n",
    "    # (Optimizer zero grad) for the next iteration of the loop\n",
    "    optimizer.step()\n",
    "    \n",
    "    # Testing\n",
    "    # Turns off different settings in the model, not needed for evaluation/testing (dropout/batch norm layers)\n",
    "    model_0.eval()\n",
    "    # Turn off gradient tracking & couple more things behind the scenes\n",
    "    # with torch.no_grad(): is used in older PyTorch code\n",
    "    with torch.inference_mode():\n",
    "        # 1. Forward Pass\n",
    "        test_pred = model_0(X_test)\n",
    "        \n",
    "        # 2. Calculating the loss\n",
    "        test_loss = loss_fn(test_pred, y_test)\n",
    "    \n",
    "    # Print out what's happening every nth epoch.\n",
    "    if epoch % 500 == 0 or epoch == (epochs - 1):\n",
    "        epoch_count.append(epoch)\n",
    "        train_loss_values.append(loss)\n",
    "        test_loss_values.append(test_loss)\n",
    "        \n",
    "        print(f\"Epoch: {epoch} | Loss: {loss} | Test Loss: {test_loss}\")\n",
    "        # Print out model state_dict()\n",
    "        print(model_0.state_dict())"
   ],
   "id": "9cef8e5da861117e",
   "outputs": [
    {
     "name": "stdout",
     "output_type": "stream",
     "text": [
      "Epoch: 0 | Loss: 0.31288138031959534 | Test Loss: 0.4938625693321228\n",
      "OrderedDict({'weights': tensor([0.3369]), 'bias': tensor([0.1293])})\n",
      "Epoch: 500 | Loss: 0.06482449173927307 | Test Loss: 0.18259641528129578\n",
      "OrderedDict({'weights': tensor([0.4328]), 'bias': tensor([0.3552])})\n",
      "Epoch: 1000 | Loss: 0.041596803814172745 | Test Loss: 0.1009359359741211\n",
      "OrderedDict({'weights': tensor([0.4923]), 'bias': tensor([0.3839])})\n",
      "Epoch: 1500 | Loss: 0.03293803334236145 | Test Loss: 0.0769924446940422\n",
      "OrderedDict({'weights': tensor([0.5362]), 'bias': tensor([0.3688])})\n",
      "Epoch: 2000 | Loss: 0.024351513013243675 | Test Loss: 0.05689507722854614\n",
      "OrderedDict({'weights': tensor([0.5789]), 'bias': tensor([0.3509])})\n",
      "Epoch: 2500 | Loss: 0.015765037387609482 | Test Loss: 0.036832042038440704\n",
      "OrderedDict({'weights': tensor([0.6217]), 'bias': tensor([0.3329])})\n",
      "Epoch: 3000 | Loss: 0.007178329862654209 | Test Loss: 0.016734648495912552\n",
      "OrderedDict({'weights': tensor([0.6644]), 'bias': tensor([0.3150])})\n",
      "Epoch: 3500 | Loss: 0.00034949928522109985 | Test Loss: 0.0001248538465006277\n",
      "OrderedDict({'weights': tensor([0.6998]), 'bias': tensor([0.3003])})\n",
      "Epoch: 4000 | Loss: 0.00034949928522109985 | Test Loss: 0.0001248538465006277\n",
      "OrderedDict({'weights': tensor([0.6998]), 'bias': tensor([0.3003])})\n",
      "Epoch: 4500 | Loss: 0.00034949928522109985 | Test Loss: 0.0001248538465006277\n",
      "OrderedDict({'weights': tensor([0.6998]), 'bias': tensor([0.3003])})\n",
      "Epoch: 4999 | Loss: 0.0002265505463583395 | Test Loss: 0.0005486964946612716\n",
      "OrderedDict({'weights': tensor([0.6996]), 'bias': tensor([0.2998])})\n"
     ]
    }
   ],
   "execution_count": 17
  },
  {
   "metadata": {
    "ExecuteTime": {
     "end_time": "2024-08-06T02:44:28.441167Z",
     "start_time": "2024-08-06T02:44:28.437302Z"
    }
   },
   "cell_type": "code",
   "source": [
    "print(model_0.state_dict())\n",
    "print(f\"Weight: {weight}, Bias: {bias}\")"
   ],
   "id": "65b2ec075e11b39c",
   "outputs": [
    {
     "name": "stdout",
     "output_type": "stream",
     "text": [
      "OrderedDict({'weights': tensor([0.6996]), 'bias': tensor([0.2998])})\n",
      "Weight: 0.7, Bias: 0.3\n"
     ]
    }
   ],
   "execution_count": 18
  },
  {
   "metadata": {
    "ExecuteTime": {
     "end_time": "2024-08-06T02:44:28.632556Z",
     "start_time": "2024-08-06T02:44:28.442174Z"
    }
   },
   "cell_type": "code",
   "source": [
    "# Plot the loss curves\n",
    "train_loss_values_as_np = np.array((torch.tensor(train_loss_values).numpy()))\n",
    "\n",
    "plt.plot(epoch_count, train_loss_values_as_np, label=\"Train loss\")\n",
    "plt.plot(epoch_count, test_loss_values, label=\"Test loss\")\n",
    "plt.title(\"Training and test loss curves\")\n",
    "plt.ylabel(\"Loss\")\n",
    "plt.xlabel(\"Epochs\")\n",
    "plt.legend()"
   ],
   "id": "43027803036ad9a",
   "outputs": [
    {
     "data": {
      "text/plain": [
       "<matplotlib.legend.Legend at 0x75836406e4e0>"
      ]
     },
     "execution_count": 19,
     "metadata": {},
     "output_type": "execute_result"
    },
    {
     "data": {
      "text/plain": [
       "<Figure size 640x480 with 1 Axes>"
      ],
      "image/png": "[encoded data removed]"
     },
     "metadata": {},
     "output_type": "display_data"
    }
   ],
   "execution_count": 19
  },
  {
   "metadata": {
    "ExecuteTime": {
     "end_time": "2024-08-06T02:44:28.640210Z",
     "start_time": "2024-08-06T02:44:28.634353Z"
    }
   },
   "cell_type": "code",
   "source": [
    "with torch.inference_mode():\n",
    "    y_predictions_new = model_0(X_test)"
   ],
   "id": "6425cc08f93fd7f4",
   "outputs": [],
   "execution_count": 20
  },
  {
   "metadata": {
    "ExecuteTime": {
     "end_time": "2024-08-06T02:44:28.871885Z",
     "start_time": "2024-08-06T02:44:28.641939Z"
    }
   },
   "cell_type": "code",
   "source": [
    "# Visualising the old data\n",
    "plot_predictions(train_data=X_train,\n",
    "                 train_labels=y_train,\n",
    "                 test_data=X_test,\n",
    "                 test_labels=y_test,\n",
    "                 predictions=y_predictions)"
   ],
   "id": "5bcf32828ac60acd",
   "outputs": [
    {
     "data": {
      "text/plain": [
       "<Figure size 1000x700 with 1 Axes>"
      ],
      "image/png": "[encoded data removed]"
     },
     "metadata": {},
     "output_type": "display_data"
    }
   ],
   "execution_count": 21
  },
  {
   "metadata": {
    "ExecuteTime": {
     "end_time": "2024-08-06T02:44:29.245410Z",
     "start_time": "2024-08-06T02:44:28.872858Z"
    }
   },
   "cell_type": "code",
   "source": [
    "# Visualising the new data\n",
    "plot_predictions(train_data=X_train,\n",
    "                 train_labels=y_train,\n",
    "                 test_data=X_test,\n",
    "                 test_labels=y_test,\n",
    "                 predictions=y_predictions_new)\n",
    "\n",
    "\n",
    "# Improving the prediction & testing data can be done by changing the number of epochs and the lr (learning rate) parameter in the optimizer."
   ],
   "id": "82e5821bb22e544f",
   "outputs": [
    {
     "data": {
      "text/plain": [
       "<Figure size 1000x700 with 1 Axes>"
      ],
      "image/png": "[encoded data removed]"
     },
     "metadata": {},
     "output_type": "display_data"
    }
   ],
   "execution_count": 22
  },
  {
   "metadata": {},
   "cell_type": "markdown",
   "source": [
    "## 04. Saving and Loading a model in PyTorch\n",
    "\n",
    "[There are three main methods for saving & loading models in PyTorch.](https://pytorch.org/tutorials/beginner/saving_loading_models.html#saving-and-loading-models)\n",
    "\n",
    "1. [`torch.save()`](https://pytorch.org/docs/stable/generated/torch.save.html#torch.save) -> Allows saving a PyTorch object.\n",
    "2. [`torch.save()`](https://pytorch.org/docs/stable/generated/torch.load.html#torch.load) -> Allows loading a saved PyTorch object. \n",
    "3. [`torch.nn.Module.load_state_dict()`](https://pytorch.org/docs/stable/generated/torch.nn.Module.html#torch.nn.Module.load_state_dict) -> Allows loading model's saved state dictionary"
   ],
   "id": "df1f6b3669b7e542"
  },
  {
   "metadata": {},
   "cell_type": "markdown",
   "source": "### 04.01. Saving a PyTorch model",
   "id": "a0ceede7538acf6b"
  },
  {
   "metadata": {
    "ExecuteTime": {
     "end_time": "2024-08-06T02:44:29.255837Z",
     "start_time": "2024-08-06T02:44:29.247174Z"
    }
   },
   "cell_type": "code",
   "source": [
    "# 1. Create model's directory\n",
    "MODEL_PATH = Path(\"models\")\n",
    "MODEL_PATH.mkdir(parents=\"True\", exist_ok=True)\n",
    "\n",
    "# 2. Create model's save path\n",
    "MODEL_NAME = \"01_pytorch_workflow_model_0.pth\"\n",
    "MODEL_SAVE_PATH = MODEL_PATH / MODEL_NAME\n",
    "\n",
    "# 3. Save the model state dict\n",
    "print(f\"Saving model to: {MODEL_SAVE_PATH}\")\n",
    "\n",
    "torch.save(obj=model_0.state_dict(),\n",
    "           f=MODEL_SAVE_PATH)\n",
    "\n",
    "# # Checking if the model is saved successfully\n",
    "# !ls -l models"
   ],
   "id": "197ebde80dd063b9",
   "outputs": [
    {
     "name": "stdout",
     "output_type": "stream",
     "text": [
      "Saving model to: models/01_pytorch_workflow_model_0.pth\n"
     ]
    }
   ],
   "execution_count": 23
  },
  {
   "metadata": {},
   "cell_type": "markdown",
   "source": [
    "### 04.02. Loading a PyTorch model\n",
    "\n",
    "Since we saved our model's `state_dict()`, rather than the entire model, we'll create a new instance of our model class and load the saved `state_dict()` into it."
   ],
   "id": "ee3bc263bf407d81"
  },
  {
   "metadata": {
    "ExecuteTime": {
     "end_time": "2024-08-06T02:44:29.278484Z",
     "start_time": "2024-08-06T02:44:29.257602Z"
    }
   },
   "cell_type": "code",
   "source": [
    "# Loading a PyTorch model\n",
    "\n",
    "# To load in a save state_dict, we have to instantiate a new instance of our model class\n",
    "loaded_model_0 = LinearRegressionModel()\n",
    "\n",
    "# Load the saved state_dict of model_0 (it will update the new instance with the updated parameters)\n",
    "loaded_model_0.load_state_dict(torch.load(f=MODEL_SAVE_PATH, \n",
    "                                          weights_only=True))"
   ],
   "id": "f9fd167787df368c",
   "outputs": [
    {
     "data": {
      "text/plain": [
       "<All keys matched successfully>"
      ]
     },
     "execution_count": 24,
     "metadata": {},
     "output_type": "execute_result"
    }
   ],
   "execution_count": 24
  },
  {
   "metadata": {
    "ExecuteTime": {
     "end_time": "2024-08-06T02:44:29.288595Z",
     "start_time": "2024-08-06T02:44:29.279761Z"
    }
   },
   "cell_type": "code",
   "source": "loaded_model_0.state_dict()",
   "id": "b2f9815ee4931f0e",
   "outputs": [
    {
     "data": {
      "text/plain": [
       "OrderedDict([('weights', tensor([0.6996])), ('bias', tensor([0.2998]))])"
      ]
     },
     "execution_count": 25,
     "metadata": {},
     "output_type": "execute_result"
    }
   ],
   "execution_count": 25
  },
  {
   "metadata": {
    "ExecuteTime": {
     "end_time": "2024-08-06T02:44:29.302592Z",
     "start_time": "2024-08-06T02:44:29.290700Z"
    }
   },
   "cell_type": "code",
   "source": [
    "# Make some predictions with our loaded model\n",
    "loaded_model_0.eval()\n",
    "\n",
    "with torch.inference_mode():\n",
    "    loaded_model_predictions = loaded_model_0(X_test)\n",
    "\n",
    "loaded_model_predictions"
   ],
   "id": "efe42a9031270bc1",
   "outputs": [
    {
     "data": {
      "text/plain": [
       "tensor([[0.8595],\n",
       "        [0.8735],\n",
       "        [0.8875],\n",
       "        [0.9015],\n",
       "        [0.9155],\n",
       "        [0.9294],\n",
       "        [0.9434],\n",
       "        [0.9574],\n",
       "        [0.9714],\n",
       "        [0.9854]])"
      ]
     },
     "execution_count": 26,
     "metadata": {},
     "output_type": "execute_result"
    }
   ],
   "execution_count": 26
  },
  {
   "metadata": {},
   "cell_type": "code",
   "source": [
    "# Comparing loaded model predictions with the original model's predictions\n",
    "y_predictions_new == loaded_model_predictions"
   ],
   "id": "d5d7a772540e656",
   "outputs": [
    {
     "data": {
      "text/plain": [
       "tensor([[True],\n",
       "        [True],\n",
       "        [True],\n",
       "        [True],\n",
       "        [True],\n",
       "        [True],\n",
       "        [True],\n",
       "        [True],\n",
       "        [True],\n",
       "        [True]])"
      ]
     },
     "execution_count": 27,
     "metadata": {},
     "output_type": "execute_result"
    }
   ],
   "execution_count": 27
  },
  {
   "metadata": {},
   "cell_type": "markdown",
   "source": [
    "## 05. Putting it all together\n",
    "\n",
    "Going through all the steps above in one place."
   ],
   "id": "6c3317fdda9cccf1"
  },
  {
   "metadata": {},
   "cell_type": "markdown",
   "source": [
    "### 05.00. Creating a device-agnostic code.\n",
    "\n",
    "This means if we've got access to a GPU, our code will use it (for potentially faster computing).\n",
    "\n",
    "If no GPU is available, the code will default to using CPU."
   ],
   "id": "8dfb2360e9459e81"
  },
  {
   "metadata": {
    "ExecuteTime": {
     "end_time": "2024-08-06T02:44:29.319703Z",
     "start_time": "2024-08-06T02:44:29.315796Z"
    }
   },
   "cell_type": "code",
   "source": [
    "# Setup device agnostic code\n",
    "device = \"cuda\" if torch.cuda.is_available() else \"cpu\"\n",
    "print(f\"Using device: {device}\")"
   ],
   "id": "b4adad3889db5f67",
   "outputs": [
    {
     "name": "stdout",
     "output_type": "stream",
     "text": [
      "Using device: cuda\n"
     ]
    }
   ],
   "execution_count": 28
  },
  {
   "metadata": {},
   "cell_type": "markdown",
   "source": "### 05.01. Data",
   "id": "336b4a981b078cf5"
  },
  {
   "metadata": {
    "ExecuteTime": {
     "end_time": "2024-08-06T02:44:29.351600Z",
     "start_time": "2024-08-06T02:44:29.326239Z"
    }
   },
   "cell_type": "code",
   "source": [
    "# Creating some data, using the linear regression formula of y = weight * X + bias\n",
    "weight = 0.7\n",
    "bias = 0.3\n",
    "\n",
    "# Creating a range of values\n",
    "start = 0\n",
    "end = 1\n",
    "step = 0.02\n",
    "\n",
    "# Creating X and y (Features and labels)\n",
    "X = torch.arange(start, end, step).unsqueeze(dim=1)\n",
    "y = weight * X + bias\n",
    "\n",
    "X[:10], y[:10]"
   ],
   "id": "54b28adb5757edf6",
   "outputs": [
    {
     "data": {
      "text/plain": [
       "(tensor([[0.0000],\n",
       "         [0.0200],\n",
       "         [0.0400],\n",
       "         [0.0600],\n",
       "         [0.0800],\n",
       "         [0.1000],\n",
       "         [0.1200],\n",
       "         [0.1400],\n",
       "         [0.1600],\n",
       "         [0.1800]]),\n",
       " tensor([[0.3000],\n",
       "         [0.3140],\n",
       "         [0.3280],\n",
       "         [0.3420],\n",
       "         [0.3560],\n",
       "         [0.3700],\n",
       "         [0.3840],\n",
       "         [0.3980],\n",
       "         [0.4120],\n",
       "         [0.4260]]))"
      ]
     },
     "execution_count": 29,
     "metadata": {},
     "output_type": "execute_result"
    }
   ],
   "execution_count": 29
  },
  {
   "metadata": {
    "ExecuteTime": {
     "end_time": "2024-08-06T02:44:29.366304Z",
     "start_time": "2024-08-06T02:44:29.354496Z"
    }
   },
   "cell_type": "code",
   "source": [
    "# Splitting the data\n",
    "train_split = int(0.8 * len(X))\n",
    "X_train, y_train = X[:train_split], y[:train_split]\n",
    "X_test, y_test = X[train_split:], y[train_split:]\n",
    "\n",
    "len(X_train), len(y_train), len(X_test), len(y_test)"
   ],
   "id": "f27c4294ce1a67bf",
   "outputs": [
    {
     "data": {
      "text/plain": [
       "(40, 40, 10, 10)"
      ]
     },
     "execution_count": 30,
     "metadata": {},
     "output_type": "execute_result"
    }
   ],
   "execution_count": 30
  },
  {
   "metadata": {
    "ExecuteTime": {
     "end_time": "2024-08-06T02:44:29.563628Z",
     "start_time": "2024-08-06T02:44:29.369563Z"
    }
   },
   "cell_type": "code",
   "source": [
    "# Plotting the data\n",
    "# Note: If you don't have the plot predictions() function loaded there will be an error\n",
    "plot_predictions(X_train, \n",
    "                 y_train, \n",
    "                 X_test, \n",
    "                 y_test, \n",
    "                 predictions=None)"
   ],
   "id": "f434a676a98f352b",
   "outputs": [
    {
     "data": {
      "text/plain": [
       "<Figure size 1000x700 with 1 Axes>"
      ],
      "image/png": "[encoded data removed]"
     },
     "metadata": {},
     "output_type": "display_data"
    }
   ],
   "execution_count": 31
  },
  {
   "metadata": {},
   "cell_type": "markdown",
   "source": [
    "### 05.02. Building a PyTorch Linear Model\n",
    "\n",
    "This is done by using [`torch.nn.Linear`](https://pytorch.org/docs/stable/generated/torch.nn.Linear.html).\n",
    "It is also known as:\n",
    "* Linear transform;\n",
    "* Probing layer;\n",
    "* Fully-connected layer;\n",
    "* Dense Layer."
   ],
   "id": "a06495ce244490ec"
  },
  {
   "metadata": {},
   "cell_type": "markdown",
   "source": [
    "<p>\n",
    "    <img src=\"01.markdown_images/01-pytorch-linear-regression-model-with-nn-Parameter-and-nn-Linear-compared.png\" alt=\"PyTorch Linear Regression and nn.Linear Compared\" width=\"780\" height=\"440\">\n",
    "</p>"
   ],
   "id": "25449e2df4972299"
  },
  {
   "metadata": {
    "ExecuteTime": {
     "end_time": "2024-08-06T02:44:29.576777Z",
     "start_time": "2024-08-06T02:44:29.565704Z"
    }
   },
   "cell_type": "code",
   "source": [
    "# Creating a linear model by subclassing nn.Module\n",
    "\n",
    "class LinearRegressionModelV2(nn.Module):\n",
    "    def __init__(self):\n",
    "        super().__init__()\n",
    "        \n",
    "        # Use nn.Linear() for creating model parameters\n",
    "        self.linear_layer = nn.Linear(in_features=1,\n",
    "                                      out_features=1)\n",
    "    \n",
    "    def forward(self, x):\n",
    "        return self.linear_layer(x)\n",
    "\n",
    "# Set manual seed\n",
    "torch.manual_seed(42)\n",
    "model_1 = LinearRegressionModelV2()\n",
    "model_1, model_1.state_dict()"
   ],
   "id": "810d2dcbef9b9841",
   "outputs": [
    {
     "data": {
      "text/plain": [
       "(LinearRegressionModelV2(\n",
       "   (linear_layer): Linear(in_features=1, out_features=1, bias=True)\n",
       " ),\n",
       " OrderedDict([('linear_layer.weight', tensor([[0.7645]])),\n",
       "              ('linear_layer.bias', tensor([0.8300]))]))"
      ]
     },
     "execution_count": 32,
     "metadata": {},
     "output_type": "execute_result"
    }
   ],
   "execution_count": 32
  },
  {
   "metadata": {
    "ExecuteTime": {
     "end_time": "2024-08-06T02:44:29.583858Z",
     "start_time": "2024-08-06T02:44:29.579378Z"
    }
   },
   "cell_type": "code",
   "source": [
    "# Check the model's current device\n",
    "next(model_1.parameters()).device"
   ],
   "id": "f134ab468a794f75",
   "outputs": [
    {
     "data": {
      "text/plain": [
       "device(type='cpu')"
      ]
     },
     "execution_count": 33,
     "metadata": {},
     "output_type": "execute_result"
    }
   ],
   "execution_count": 33
  },
  {
   "metadata": {
    "ExecuteTime": {
     "end_time": "2024-08-06T02:44:29.672612Z",
     "start_time": "2024-08-06T02:44:29.584663Z"
    }
   },
   "cell_type": "code",
   "source": [
    "# Set the model to use the target device (CUDA)\n",
    "model_1.to(device)\n",
    "next(model_1.parameters()).device"
   ],
   "id": "817ea4d6c9574c00",
   "outputs": [
    {
     "data": {
      "text/plain": [
       "device(type='cuda', index=0)"
      ]
     },
     "execution_count": 34,
     "metadata": {},
     "output_type": "execute_result"
    }
   ],
   "execution_count": 34
  },
  {
   "metadata": {},
   "cell_type": "markdown",
   "source": [
    "### 05.03. Training\n",
    "\n",
    "For the training we need:\n",
    "* Loss function\n",
    "* Optimizer\n",
    "* Training loop\n",
    "    1. Forward pass\n",
    "    2. Calculate the loss\n",
    "    3. Optimizer zero grad\n",
    "    4. Perform backpropagation\n",
    "    5. Optimizer step\n",
    "* Testing loop"
   ],
   "id": "185262ff8ea44f6b"
  },
  {
   "metadata": {
    "ExecuteTime": {
     "end_time": "2024-08-06T02:44:29.676541Z",
     "start_time": "2024-08-06T02:44:29.673521Z"
    }
   },
   "cell_type": "code",
   "source": [
    "# Setup loss function\n",
    "loss_fn = nn.L1Loss()   # Same as MAE"
   ],
   "id": "14efaaf7db6b47c5",
   "outputs": [],
   "execution_count": 35
  },
  {
   "metadata": {
    "ExecuteTime": {
     "end_time": "2024-08-06T02:44:29.684393Z",
     "start_time": "2024-08-06T02:44:29.678330Z"
    }
   },
   "cell_type": "code",
   "source": [
    "# Setup optimizer\n",
    "optimizer = torch.optim.SGD(params=model_1.parameters(),\n",
    "                            lr=0.01)"
   ],
   "id": "38adddbc6328e0b",
   "outputs": [],
   "execution_count": 36
  },
  {
   "metadata": {
    "ExecuteTime": {
     "end_time": "2024-08-06T02:44:30.051686Z",
     "start_time": "2024-08-06T02:44:29.685583Z"
    }
   },
   "cell_type": "code",
   "source": [
    "# Training loop\n",
    "torch.manual_seed(42)\n",
    "\n",
    "epochs = 200\n",
    "\n",
    "# Put data on the target device (device agnostic code for data)\n",
    "X_train = X_train.to(device)\n",
    "y_train = y_train.to(device)\n",
    "X_test = X_test.to(device)\n",
    "y_test = y_test.to(device)\n",
    "\n",
    "for epoch in range(epochs):\n",
    "    model_1.train()\n",
    "    \n",
    "    # 1. Forward pass\n",
    "    y_pred = model_1(X_train)\n",
    "    \n",
    "    # 2. Calculate the loss\n",
    "    loss = loss_fn(y_pred, y_train)\n",
    "    \n",
    "    # 3. Optimizer zero grad\n",
    "    optimizer.zero_grad()\n",
    "    \n",
    "    # 4. Backpropagation\n",
    "    loss.backward()\n",
    "    \n",
    "    # 5. Optimizer step\n",
    "    optimizer.step()\n",
    "    \n",
    "    # Testing Loop\n",
    "    model_1.eval()\n",
    "    \n",
    "    with torch.inference_mode():\n",
    "        test_pred = model_1(X_test)\n",
    "        test_loss = loss_fn(test_pred, y_test)\n",
    "    \n",
    "    # Print out what's happening\n",
    "    if epoch % 20 == 0 or epoch == (epochs - 1):\n",
    "        print(f\"Epoch: {epoch} | Loss: {loss} | Test Loss: {test_loss}\")"
   ],
   "id": "f83b2274c4e84f18",
   "outputs": [
    {
     "name": "stdout",
     "output_type": "stream",
     "text": [
      "Epoch: 0 | Loss: 0.5551779866218567 | Test Loss: 0.5739762187004089\n",
      "Epoch: 20 | Loss: 0.3247582018375397 | Test Loss: 0.30455657839775085\n",
      "Epoch: 40 | Loss: 0.09433845430612564 | Test Loss: 0.03513690456748009\n",
      "Epoch: 60 | Loss: 0.019956795498728752 | Test Loss: 0.045803118497133255\n",
      "Epoch: 80 | Loss: 0.013089174404740334 | Test Loss: 0.02994490973651409\n",
      "Epoch: 100 | Loss: 0.006215683650225401 | Test Loss: 0.014086711220443249\n",
      "Epoch: 120 | Loss: 0.0012645035749301314 | Test Loss: 0.013801801018416882\n",
      "Epoch: 140 | Loss: 0.0012645035749301314 | Test Loss: 0.013801801018416882\n",
      "Epoch: 160 | Loss: 0.0012645035749301314 | Test Loss: 0.013801801018416882\n",
      "Epoch: 180 | Loss: 0.0012645035749301314 | Test Loss: 0.013801801018416882\n",
      "Epoch: 199 | Loss: 0.010256479494273663 | Test Loss: 0.00033081771107390523\n"
     ]
    }
   ],
   "execution_count": 37
  },
  {
   "metadata": {
    "ExecuteTime": {
     "end_time": "2024-08-06T02:44:30.194615Z",
     "start_time": "2024-08-06T02:44:30.053292Z"
    }
   },
   "cell_type": "code",
   "source": [
    "print(model_1.state_dict())\n",
    "print(weight, bias)"
   ],
   "id": "79be01f0414572ab",
   "outputs": [
    {
     "name": "stdout",
     "output_type": "stream",
     "text": [
      "OrderedDict({'linear_layer.weight': tensor([[0.6968]], device='cuda:0'), 'linear_layer.bias': tensor([0.3025], device='cuda:0')})\n",
      "0.7 0.3\n"
     ]
    }
   ],
   "execution_count": 38
  },
  {
   "metadata": {},
   "cell_type": "markdown",
   "source": "### 05.04. Making and evaluating predictions",
   "id": "1bc9f6fc7a20819f"
  },
  {
   "metadata": {
    "ExecuteTime": {
     "end_time": "2024-08-06T02:44:30.203562Z",
     "start_time": "2024-08-06T02:44:30.196436Z"
    }
   },
   "cell_type": "code",
   "source": [
    "# Turn model into evaluation mode\n",
    "model_1.eval()\n",
    "\n",
    "# Make predictions on the test data\n",
    "with torch.inference_mode():\n",
    "    y_preds = model_1(X_test)\n",
    "\n",
    "y_preds"
   ],
   "id": "712971f777d1bd0",
   "outputs": [
    {
     "data": {
      "text/plain": [
       "tensor([[0.8600],\n",
       "        [0.8739],\n",
       "        [0.8878],\n",
       "        [0.9018],\n",
       "        [0.9157],\n",
       "        [0.9296],\n",
       "        [0.9436],\n",
       "        [0.9575],\n",
       "        [0.9714],\n",
       "        [0.9854]], device='cuda:0')"
      ]
     },
     "execution_count": 39,
     "metadata": {},
     "output_type": "execute_result"
    }
   ],
   "execution_count": 39
  },
  {
   "metadata": {
    "ExecuteTime": {
     "end_time": "2024-08-06T02:44:30.429146Z",
     "start_time": "2024-08-06T02:44:30.205523Z"
    }
   },
   "cell_type": "code",
   "source": [
    "# Check out our model predictions visually\n",
    "# Matplotlib works with NumPy data, that is CPU only\n",
    "# That is why we have to copy our data to the CPU to visualise the data\n",
    "plot_predictions(train_data=X_train.cpu(),\n",
    "                 train_labels=y_train.cpu(),\n",
    "                 test_data=X_test.cpu(),\n",
    "                 test_labels=y_test.cpu(),\n",
    "                 predictions=y_preds.cpu())"
   ],
   "id": "15cae08a6a402bb3",
   "outputs": [
    {
     "data": {
      "text/plain": [
       "<Figure size 1000x700 with 1 Axes>"
      ],
      "image/png": "[encoded data removed]"
     },
     "metadata": {},
     "output_type": "display_data"
    }
   ],
   "execution_count": 40
  },
  {
   "metadata": {},
   "cell_type": "markdown",
   "source": "### 05.05. Saving & Loading a trained model",
   "id": "ff308130a516d032"
  },
  {
   "metadata": {
    "ExecuteTime": {
     "end_time": "2024-08-06T02:44:30.435068Z",
     "start_time": "2024-08-06T02:44:30.430293Z"
    }
   },
   "cell_type": "code",
   "source": [
    "# # Save a trained model\n",
    "# 1. Create model's directory\n",
    "MODEL_PATH = Path(\"models\")\n",
    "MODEL_PATH.mkdir(parents=True,\n",
    "                 exist_ok=True,)\n",
    "\n",
    "#  2. Create model's save path\n",
    "MODEL_NAME = \"01_pytorch_workflow_model_1.pth\"\n",
    "MODEL_SAVE_PATH = MODEL_PATH / MODEL_NAME\n",
    "\n",
    "# 3. Save the model's state_dict\n",
    "print(f\"Saving the model to: {MODEL_SAVE_PATH}\")\n",
    "\n",
    "torch.save(obj=model_1.state_dict(),\n",
    "           f=MODEL_SAVE_PATH)"
   ],
   "id": "917b1e282bcb13e1",
   "outputs": [
    {
     "name": "stdout",
     "output_type": "stream",
     "text": [
      "Saving the model to: models/01_pytorch_workflow_model_1.pth\n"
     ]
    }
   ],
   "execution_count": 41
  },
  {
   "metadata": {
    "ExecuteTime": {
     "end_time": "2024-08-06T02:44:30.450516Z",
     "start_time": "2024-08-06T02:44:30.436405Z"
    }
   },
   "cell_type": "code",
   "source": [
    "# # Load a trained PyTorch model\n",
    "# 1. Create a new instance of linear regression model V2\n",
    "loaded_model_1 = LinearRegressionModelV2()\n",
    "\n",
    "# 2. Load the saved model_1 state_dict\n",
    "loaded_model_1.load_state_dict(torch.load(f=MODEL_SAVE_PATH,\n",
    "                                          weights_only=True))\n",
    "\n",
    "# 3. Put the loaded model to the device\n",
    "loaded_model_1.to(device)"
   ],
   "id": "f483ccf9d02ebfe1",
   "outputs": [
    {
     "data": {
      "text/plain": [
       "LinearRegressionModelV2(\n",
       "  (linear_layer): Linear(in_features=1, out_features=1, bias=True)\n",
       ")"
      ]
     },
     "execution_count": 42,
     "metadata": {},
     "output_type": "execute_result"
    }
   ],
   "execution_count": 42
  },
  {
   "metadata": {
    "ExecuteTime": {
     "end_time": "2024-08-06T02:44:30.463750Z",
     "start_time": "2024-08-06T02:44:30.455415Z"
    }
   },
   "cell_type": "code",
   "source": "next(loaded_model_1.parameters()).device",
   "id": "985369c68826f52a",
   "outputs": [
    {
     "data": {
      "text/plain": [
       "device(type='cuda', index=0)"
      ]
     },
     "execution_count": 43,
     "metadata": {},
     "output_type": "execute_result"
    }
   ],
   "execution_count": 43
  },
  {
   "metadata": {
    "ExecuteTime": {
     "end_time": "2024-08-06T02:44:30.478022Z",
     "start_time": "2024-08-06T02:44:30.465435Z"
    }
   },
   "cell_type": "code",
   "source": "loaded_model_1.state_dict()",
   "id": "fd85ca5126f01cb5",
   "outputs": [
    {
     "data": {
      "text/plain": [
       "OrderedDict([('linear_layer.weight', tensor([[0.6968]], device='cuda:0')),\n",
       "             ('linear_layer.bias', tensor([0.3025], device='cuda:0'))])"
      ]
     },
     "execution_count": 44,
     "metadata": {},
     "output_type": "execute_result"
    }
   ],
   "execution_count": 44
  },
  {
   "metadata": {
    "ExecuteTime": {
     "end_time": "2024-08-06T02:45:28.967120Z",
     "start_time": "2024-08-06T02:45:28.955531Z"
    }
   },
   "cell_type": "code",
   "source": [
    "# 4. Evaluate loaded model\n",
    "loaded_model_1.eval()\n",
    "\n",
    "with torch.inference_mode():\n",
    "    loaded_model_1_preds = loaded_model_1(X_test)\n",
    "\n",
    "y_preds == loaded_model_1_preds"
   ],
   "id": "6c3fbc51f49c8661",
   "outputs": [
    {
     "data": {
      "text/plain": [
       "tensor([[True],\n",
       "        [True],\n",
       "        [True],\n",
       "        [True],\n",
       "        [True],\n",
       "        [True],\n",
       "        [True],\n",
       "        [True],\n",
       "        [True],\n",
       "        [True]], device='cuda:0')"
      ]
     },
     "execution_count": 45,
     "metadata": {},
     "output_type": "execute_result"
    }
   ],
   "execution_count": 45
  }
 ],
 "metadata": {
  "kernelspec": {
   "display_name": "Python 3",
   "language": "python",
   "name": "python3"
  },
  "language_info": {
   "codemirror_mode": {
    "name": "ipython",
    "version": 2
   },
   "file_extension": ".py",
   "mimetype": "text/x-python",
   "name": "python",
   "nbconvert_exporter": "python",
   "pygments_lexer": "ipython2",
   "version": "2.7.6"
  }
 },
 "nbformat": 4,
 "nbformat_minor": 5
}
