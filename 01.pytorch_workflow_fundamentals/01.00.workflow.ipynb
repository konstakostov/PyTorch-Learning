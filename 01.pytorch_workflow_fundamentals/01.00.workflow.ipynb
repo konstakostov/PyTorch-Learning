{
 "cells": [
  {
   "metadata": {},
   "cell_type": "markdown",
   "source": [
    "# PyTorch Workflow Fundamentals\n",
    "### (One of many)\n",
    "\n",
    "1. Get data ready (turn it into tensors)\n",
    "2. Build or pick a pretrained model (suiting your problem)\n",
    "    * Pick a loss function & optimizer\n",
    "    * Build a training loop\n",
    "    * Repeat step 2 until necessary.\n",
    "3. Fit the model to the data and make a prediction\n",
    "4. Evaluate the model\n",
    "5. Improve through experimentation\n",
    "6. Save and reload your trained model\n",
    "<br>\n",
    "<br>\n",
    "\n",
    "| Topic                                                    | Contents                                                                                                                          |\n",
    "|----------------------------------------------------------|-----------------------------------------------------------------------------------------------------------------------------------|\n",
    "| 1. Getting data ready                                    | Data can be almost anything but to get started we're going to create a simple straight line                                       |\n",
    "| 2. Building a model                                      | Here we'll create a model to learn patterns in the data, we'll also choose a loss function, optimizer, and build a training loop. |\n",
    "| 3. Fitting the model to data (training)                  | We've got data and a model, now let's let the model (try to) find patterns in the (training) data.                                |\n",
    "| 4. Making predictions and evaluating a model (inference) | Our model's found patterns in the data, let's compare its findings to the actual (testing) data.                                  |\n",
    "| 5. Saving and loading a model                            | You may want to use your model elsewhere, or come back to it later, here we'll cover that.                                        |\n",
    "| 6. Putting it all together                               | Let's take all of the above and combine it.                                                                                       |\n",
    "<br>\n",
    "\n",
    "<p>\n",
    "    <img src=\"01.markdown_images/01_a_pytorch_workflow.png\" alt=\"A PyTorch Workflow\" width=\"800\" height=\"440\">\n",
    "</p>"
   ],
   "id": "962c42ac81a45290"
  },
  {
   "metadata": {},
   "cell_type": "markdown",
   "source": "## Importing the necessary libraries",
   "id": "a62d6673b96a7871"
  },
  {
   "metadata": {
    "ExecuteTime": {
     "end_time": "2024-08-05T11:37:46.600601Z",
     "start_time": "2024-08-05T11:37:43.785629Z"
    }
   },
   "cell_type": "code",
   "source": [
    "import torch\n",
    "from torch import nn    # All of PyTorch's building blocks for Neural Networks\n",
    "import matplotlib.pyplot as plt"
   ],
   "id": "435bfd71fea16e80",
   "outputs": [],
   "execution_count": 1
  },
  {
   "metadata": {},
   "cell_type": "markdown",
   "source": [
    "## Data (Preparing and Loading)\n",
    "\n",
    "Data can be almost anything (in ML):\n",
    "* Excel spreadsheet\n",
    "* Image(s)\n",
    "* Video(s)\n",
    "* Audio\n",
    "* DNA\n",
    "* Text\n",
    "* etc.\n",
    "\n",
    "Machine Learning is a game of two parts:\n",
    "1. Get the data into numerical representation.\n",
    "2. Build a model to learn patters in that numerical representation. \n",
    "\n",
    "<p>\n",
    "    <img src=\"01.markdown_images/01-machine-learning-a-game-of-two-parts.png\" alt=\"ML - A Game in Two Parts\" width=\"800\" height=\"440\">\n",
    "</p>"
   ],
   "id": "7b83c2e9dc6345ef"
  },
  {
   "metadata": {},
   "cell_type": "markdown",
   "source": [
    "## Linear Regression\n",
    "\n",
    "Using linear regression formula to make a straight line with *known* **parameters**.\n",
    "\n",
    "#### Y = a + bX\n",
    "\n",
    "where:\n",
    "- **Y** is the dependent variable (*the outcome or response variable*).\n",
    "- **X** is the independent variable (*the predictor or explanatory variable*).\n",
    "- **a** is the intercept of the regression line (*the value of **Y** when **X** is 0*).\n",
    "- **b** is the slope of the regression line (*the change in **Y** for a one-unit change in **X***)."
   ],
   "id": "c3a9e41de9c2ff12"
  },
  {
   "metadata": {
    "ExecuteTime": {
     "end_time": "2024-08-05T11:37:46.614628Z",
     "start_time": "2024-08-05T11:37:46.602469Z"
    }
   },
   "cell_type": "code",
   "source": [
    "# Creating known parameters\n",
    "weight = 0.7\n",
    "bias = 0.3\n",
    "\n",
    "# Create\n",
    "start = 0\n",
    "end = 1\n",
    "step = 0.02\n",
    "\n",
    "# .unsqueeze(dim=1) Adds 1 extra dimension\n",
    "X = torch.arange(start, end, step).unsqueeze(dim=1)\n",
    "y = weight * X + bias\n",
    "\n",
    "X[:10], len(X), y[:10],len(y)"
   ],
   "id": "eb319b592d2bb72d",
   "outputs": [
    {
     "data": {
      "text/plain": [
       "(tensor([[0.0000],\n",
       "         [0.0200],\n",
       "         [0.0400],\n",
       "         [0.0600],\n",
       "         [0.0800],\n",
       "         [0.1000],\n",
       "         [0.1200],\n",
       "         [0.1400],\n",
       "         [0.1600],\n",
       "         [0.1800]]),\n",
       " 50,\n",
       " tensor([[0.3000],\n",
       "         [0.3140],\n",
       "         [0.3280],\n",
       "         [0.3420],\n",
       "         [0.3560],\n",
       "         [0.3700],\n",
       "         [0.3840],\n",
       "         [0.3980],\n",
       "         [0.4120],\n",
       "         [0.4260]]),\n",
       " 50)"
      ]
     },
     "execution_count": 2,
     "metadata": {},
     "output_type": "execute_result"
    }
   ],
   "execution_count": 2
  },
  {
   "metadata": {},
   "cell_type": "markdown",
   "source": [
    "## Splitting data int Training & Test sets\n",
    "\n",
    "There are three types of datasets:\n",
    "* ***Training set*** -> The model learns patterns from here\n",
    "* ***Validation set*** -> Tune model patterns\n",
    "* ***Test set*** -> See if the model is ready\n",
    "\n",
    "| Split          | Purpose                                                                                                                      | Amount of total data | How often is it used?    |\n",
    "|----------------|------------------------------------------------------------------------------------------------------------------------------|----------------------|--------------------------|\n",
    "| Training set   | The model learns from this data (like the course materials you study during the semester).                                   | ~60-80%              | Always                   |\n",
    "| Validation set | The model gets tuned on this data (like the practice exam you take before the final exam).                                   | ~10-20%              | Often but not always     |\n",
    "| Testing set    | The model gets evaluated on this data to test what it has learned (like the final exam you take at the end of the semester). | ~10-20%              | Always                   |\n",
    "\n",
    "\n",
    "**Generalization**: The ability for a machine learning model to perform well on data it hasn't seen."
   ],
   "id": "1f64414b068f71ae"
  },
  {
   "metadata": {
    "ExecuteTime": {
     "end_time": "2024-08-05T11:37:46.622436Z",
     "start_time": "2024-08-05T11:37:46.616167Z"
    }
   },
   "cell_type": "code",
   "source": [
    "# Creating a train/test split\n",
    "train_split = int(0.8 * len(X))\n",
    "\n",
    "X_train, y_train = X[:train_split], y[:train_split]\n",
    "X_test, y_test = X[train_split:], y[train_split:]\n",
    "\n",
    "len(X_train), len(y_train), len(X_test), len(y_test)"
   ],
   "id": "2a17c5980225b27",
   "outputs": [
    {
     "data": {
      "text/plain": [
       "(40, 40, 10, 10)"
      ]
     },
     "execution_count": 3,
     "metadata": {},
     "output_type": "execute_result"
    }
   ],
   "execution_count": 3
  },
  {
   "metadata": {
    "ExecuteTime": {
     "end_time": "2024-08-05T11:37:46.633793Z",
     "start_time": "2024-08-05T11:37:46.624071Z"
    }
   },
   "cell_type": "code",
   "source": [
    "# Printing the training sets\n",
    "X_train, y_train"
   ],
   "id": "29cb65580140e22d",
   "outputs": [
    {
     "data": {
      "text/plain": [
       "(tensor([[0.0000],\n",
       "         [0.0200],\n",
       "         [0.0400],\n",
       "         [0.0600],\n",
       "         [0.0800],\n",
       "         [0.1000],\n",
       "         [0.1200],\n",
       "         [0.1400],\n",
       "         [0.1600],\n",
       "         [0.1800],\n",
       "         [0.2000],\n",
       "         [0.2200],\n",
       "         [0.2400],\n",
       "         [0.2600],\n",
       "         [0.2800],\n",
       "         [0.3000],\n",
       "         [0.3200],\n",
       "         [0.3400],\n",
       "         [0.3600],\n",
       "         [0.3800],\n",
       "         [0.4000],\n",
       "         [0.4200],\n",
       "         [0.4400],\n",
       "         [0.4600],\n",
       "         [0.4800],\n",
       "         [0.5000],\n",
       "         [0.5200],\n",
       "         [0.5400],\n",
       "         [0.5600],\n",
       "         [0.5800],\n",
       "         [0.6000],\n",
       "         [0.6200],\n",
       "         [0.6400],\n",
       "         [0.6600],\n",
       "         [0.6800],\n",
       "         [0.7000],\n",
       "         [0.7200],\n",
       "         [0.7400],\n",
       "         [0.7600],\n",
       "         [0.7800]]),\n",
       " tensor([[0.3000],\n",
       "         [0.3140],\n",
       "         [0.3280],\n",
       "         [0.3420],\n",
       "         [0.3560],\n",
       "         [0.3700],\n",
       "         [0.3840],\n",
       "         [0.3980],\n",
       "         [0.4120],\n",
       "         [0.4260],\n",
       "         [0.4400],\n",
       "         [0.4540],\n",
       "         [0.4680],\n",
       "         [0.4820],\n",
       "         [0.4960],\n",
       "         [0.5100],\n",
       "         [0.5240],\n",
       "         [0.5380],\n",
       "         [0.5520],\n",
       "         [0.5660],\n",
       "         [0.5800],\n",
       "         [0.5940],\n",
       "         [0.6080],\n",
       "         [0.6220],\n",
       "         [0.6360],\n",
       "         [0.6500],\n",
       "         [0.6640],\n",
       "         [0.6780],\n",
       "         [0.6920],\n",
       "         [0.7060],\n",
       "         [0.7200],\n",
       "         [0.7340],\n",
       "         [0.7480],\n",
       "         [0.7620],\n",
       "         [0.7760],\n",
       "         [0.7900],\n",
       "         [0.8040],\n",
       "         [0.8180],\n",
       "         [0.8320],\n",
       "         [0.8460]]))"
      ]
     },
     "execution_count": 4,
     "metadata": {},
     "output_type": "execute_result"
    }
   ],
   "execution_count": 4
  },
  {
   "metadata": {},
   "cell_type": "markdown",
   "source": [
    "## \"Visualize, visualize, visualize!\"\n",
    "\n",
    "Visualising our data for better understanding of it."
   ],
   "id": "61690e194f3ebd80"
  },
  {
   "metadata": {
    "ExecuteTime": {
     "end_time": "2024-08-05T11:37:46.643791Z",
     "start_time": "2024-08-05T11:37:46.636996Z"
    }
   },
   "cell_type": "code",
   "source": [
    "def plot_predictions(train_data,\n",
    "                     train_labels,\n",
    "                     test_data,\n",
    "                     test_labels,\n",
    "                     predictions,\n",
    "                     ):\n",
    "    \"\"\"\n",
    "    PLots training data, test data and compares predictions.\n",
    "    \"\"\"\n",
    "    \n",
    "    # Creating a plot figure\n",
    "    plt.figure(figsize=(10, 7))\n",
    "    \n",
    "    # Plotting the training data in blue\n",
    "    plt.scatter(train_data, train_labels, c=\"b\", s=4, label=\"Training data\")\n",
    "    \n",
    "    # Plotting the training data in green\n",
    "    plt.scatter(test_data, test_labels, c=\"g\", s=4, label=\"Testing data\")\n",
    "    \n",
    "    # Check if there are predictions\n",
    "    if predictions is not None:\n",
    "        # Plot predictions if they exist\n",
    "        plt.scatter(test_data, predictions, c=\"r\", s=4, label=\"Predictions\")\n",
    "    \n",
    "    # Show the legend\n",
    "    plt.legend(prop={\"size\": 12})"
   ],
   "id": "1981756d21fd6294",
   "outputs": [],
   "execution_count": 5
  },
  {
   "metadata": {
    "ExecuteTime": {
     "end_time": "2024-08-05T11:37:46.905916Z",
     "start_time": "2024-08-05T11:37:46.645361Z"
    }
   },
   "cell_type": "code",
   "source": [
    "plot_predictions(train_data=X_train,\n",
    "                 train_labels=y_train,\n",
    "                 test_data=X_test,\n",
    "                 test_labels=y_test,\n",
    "                 predictions=None)"
   ],
   "id": "211cdb2fc9eda77e",
   "outputs": [
    {
     "data": {
      "text/plain": [
       "<Figure size 1000x700 with 1 Axes>"
      ],
      "image/png": "[encoded data removed]"
     },
     "metadata": {},
     "output_type": "display_data"
    }
   ],
   "execution_count": 6
  },
  {
   "metadata": {},
   "cell_type": "markdown",
   "source": [
    "## Building our first model\n",
    "\n",
    "The first model will be using Linear Regression. \n",
    "\n",
    "What this model does: \n",
    "* Start with random values (weight & bias)\n",
    "* Look at the training data and adjust the random values to better represent (*or get closer to*) the ideal values (*the weight & bias values we used to create the data*).\n",
    "\n",
    "This will be done via two main algorithms:\n",
    "1. Gradient descent\n",
    "    * [3Blue1Brown](https://www.youtube.com/watch?v=IHZwWFHWa-w)\n",
    "    * [towardsdatascience.com](https://towardsdatascience.com/gradient-descent-explained-9b953fc0d2c)\n",
    "2. Backpropagation\n",
    "    * [3Blue1Brown](https://www.youtube.com/watch?v=Ilg3gGewQ5U)\n",
    "    * [towardsdatascience.com](https://towardsdatascience.com/understanding-backpropagation-algorithm-7bb3aa2f95fd)"
   ],
   "id": "4197463c1b14223e"
  },
  {
   "metadata": {},
   "cell_type": "markdown",
   "source": [
    "## PyTorch model building essentials\n",
    "\n",
    "| PyTorch module        | What does it do?                                                                                                                                                                                                                                  |\n",
    "|-----------------------|---------------------------------------------------------------------------------------------------------------------------------------------------------------------------------------------------------------------------------------------------|\n",
    "| `torch.nn`            | Contains all of the building blocks for computational graphs (essentially a series of computations executed in a particular way).                                                                                                                 |\n",
    "| `torch.nn.Parameter`  | Stores tensors that can be used with `nn.Module`. If `requires_grad=True`, gradients (used for updating model parameters via gradient descent) are calculated automatically; this is often referred to as \"autograd\".                             |\n",
    "| `torch.nn.Module`     | The base class for all neural network modules; all the building blocks for neural networks are subclasses. If you're building a neural network in PyTorch, your models should subclass `nn.Module`. Requires a `forward()` method be implemented. |\n",
    "| `torch.optim`         | Contains various optimization algorithms (these tell the model parameters stored in `nn.Parameter` how to best change to improve gradient descent and in turn reduce the loss).                                                                   |\n",
    "| `def forward()`       | All `nn.Module` subclasses require a `forward()` method; this defines the computation that will take place on the data passed to the particular `nn.Module` (e.g., the linear regression formula above).                                          |\n",
    "\n",
    "* [`nn.Module`](https://pytorch.org/docs/stable/generated/torch.nn.Module.html) -> contains the larger building blocks (layers)\n",
    "* [`nn.Parameter`](https://pytorch.org/docs/stable/generated/torch.nn.Module.html) -> contains the smaller parameters like weights and biases (put these together to make nn.Module(s))\n",
    "* `forward()` -> tells the larger blocks how to make calculations on inputs (tensors full of data) within nn.Module(s)\n",
    "* [`torch.optim`](https://pytorch.org/docs/stable/optim.html) -> contains optimization methods on how to improve the parameters within nn.Parameter to better represent input data\n",
    "\n",
    "\n",
    "#### [PyTorch Cheat Sheet](https://pytorch.org/tutorials/beginner/ptcheat.html)"
   ],
   "id": "9d41e546165843d4"
  },
  {
   "metadata": {
    "ExecuteTime": {
     "end_time": "2024-08-05T11:37:46.913673Z",
     "start_time": "2024-08-05T11:37:46.908383Z"
    }
   },
   "cell_type": "code",
   "source": [
    "# Creating Linear Regression model class\n",
    "class LinearRegressionModel(nn.Module):\n",
    "    def __init__(self):\n",
    "        super().__init__()\n",
    "        \n",
    "        # Weight parameter\n",
    "        self.weights = nn.Parameter(torch.randn(1, \n",
    "                                                requires_grad=True, # Setting Requirement for Gradient Descent as True\n",
    "                                                dtype=torch.float)) # Setting default dtype float32\n",
    "        \n",
    "        # Bias parameter\n",
    "        self.bias = nn.Parameter(torch.randn(1,\n",
    "                                             requires_grad=True, # Setting Requirement for Gradient Descent as True\n",
    "                                             dtype=torch.float)) # Setting default dtype float32\n",
    "    \n",
    "    # Forward method defines the computation in the model\n",
    "    def forward(self, x: torch.Tensor) -> torch.Tensor:     # \"x\" is the input data\n",
    "        return self.weights * x + self.bias  # Linear Regression formula; \"x\" is the input data"
   ],
   "id": "892066f5b6980c26",
   "outputs": [],
   "execution_count": 7
  },
  {
   "metadata": {},
   "cell_type": "markdown",
   "source": [
    "#### Basic building blocks of creating a PyTorch model by subclassing nn.Module. For objects that subclass nn.Module, the forward() method must be defined.\n",
    "\n",
    "<p>\n",
    "    <img src=\"01.markdown_images/01-pytorch-linear-model-annotated.png\" alt=\"PyTorch Linear Model Annotated\" width=\"800\" height=\"440\">\n",
    "</p>"
   ],
   "id": "58c3931944709c2f"
  },
  {
   "metadata": {},
   "cell_type": "markdown",
   "source": [
    "### Checking the contents of our fist created model\n",
    "\n",
    "The contents of the model can be viewed with `.parameters`"
   ],
   "id": "dd9e8bb859c7e7cb"
  },
  {
   "metadata": {
    "ExecuteTime": {
     "end_time": "2024-08-05T11:37:46.927583Z",
     "start_time": "2024-08-05T11:37:46.915333Z"
    }
   },
   "cell_type": "code",
   "source": [
    "# Creating a random seed \n",
    "torch.manual_seed(42)\n",
    "\n",
    "# Creating an instance of the model (this is a subclass of `nn.Module`)\n",
    "model_0 = LinearRegressionModel()\n",
    "\n",
    "# Checking our model's parameters (List unnamed parameters)\n",
    "list(model_0.parameters())"
   ],
   "id": "eca97a894d535d7e",
   "outputs": [
    {
     "data": {
      "text/plain": [
       "[Parameter containing:\n",
       " tensor([0.3367], requires_grad=True),\n",
       " Parameter containing:\n",
       " tensor([0.1288], requires_grad=True)]"
      ]
     },
     "execution_count": 8,
     "metadata": {},
     "output_type": "execute_result"
    }
   ],
   "execution_count": 8
  },
  {
   "metadata": {
    "ExecuteTime": {
     "end_time": "2024-08-05T11:37:46.935971Z",
     "start_time": "2024-08-05T11:37:46.929538Z"
    }
   },
   "cell_type": "code",
   "source": [
    "# List named parameters\n",
    "print(model_0.state_dict())"
   ],
   "id": "9034c4fa9c8c306f",
   "outputs": [
    {
     "name": "stdout",
     "output_type": "stream",
     "text": [
      "OrderedDict({'weights': tensor([0.3367]), 'bias': tensor([0.1288])})\n"
     ]
    }
   ],
   "execution_count": 9
  },
  {
   "metadata": {},
   "cell_type": "markdown",
   "source": [
    "### Making predictions using [`torch.inference_mode()`](https://pytorch.org/docs/stable/generated/torch.autograd.grad_mode.inference_mode.html)\n",
    "\n",
    "To check our model's predictive power, we test how well it redicts `y_test` based on `X_test`.\n",
    "\n",
    "When we pass data through our model, it will run it through our `forward()` method."
   ],
   "id": "95b6aa5b1e3aca25"
  },
  {
   "metadata": {
    "ExecuteTime": {
     "end_time": "2024-08-05T11:37:46.944148Z",
     "start_time": "2024-08-05T11:37:46.937444Z"
    }
   },
   "cell_type": "code",
   "source": [
    "# Make predictions with a model\n",
    "with torch.inference_mode():\n",
    "    y_predictions = model_0(X_test)"
   ],
   "id": "e9668305414262cf",
   "outputs": [],
   "execution_count": 10
  },
  {
   "metadata": {
    "ExecuteTime": {
     "end_time": "2024-08-05T11:37:46.957287Z",
     "start_time": "2024-08-05T11:37:46.945758Z"
    }
   },
   "cell_type": "code",
   "source": [
    "# Results for y_predictions\n",
    "y_predictions"
   ],
   "id": "794bc7bf2048f33c",
   "outputs": [
    {
     "data": {
      "text/plain": [
       "tensor([[0.3982],\n",
       "        [0.4049],\n",
       "        [0.4116],\n",
       "        [0.4184],\n",
       "        [0.4251],\n",
       "        [0.4318],\n",
       "        [0.4386],\n",
       "        [0.4453],\n",
       "        [0.4520],\n",
       "        [0.4588]])"
      ]
     },
     "execution_count": 11,
     "metadata": {},
     "output_type": "execute_result"
    }
   ],
   "execution_count": 11
  },
  {
   "metadata": {
    "ExecuteTime": {
     "end_time": "2024-08-05T11:37:46.965955Z",
     "start_time": "2024-08-05T11:37:46.958847Z"
    }
   },
   "cell_type": "code",
   "source": [
    "# Results for y_test\n",
    "y_test"
   ],
   "id": "f305dd9d6699b301",
   "outputs": [
    {
     "data": {
      "text/plain": [
       "tensor([[0.8600],\n",
       "        [0.8740],\n",
       "        [0.8880],\n",
       "        [0.9020],\n",
       "        [0.9160],\n",
       "        [0.9300],\n",
       "        [0.9440],\n",
       "        [0.9580],\n",
       "        [0.9720],\n",
       "        [0.9860]])"
      ]
     },
     "execution_count": 12,
     "metadata": {},
     "output_type": "execute_result"
    }
   ],
   "execution_count": 12
  },
  {
   "metadata": {
    "ExecuteTime": {
     "end_time": "2024-08-05T11:37:47.229156Z",
     "start_time": "2024-08-05T11:37:46.967563Z"
    }
   },
   "cell_type": "code",
   "source": [
    "# Visualising the data\n",
    "plot_predictions(train_data=X_train,\n",
    "                 train_labels=y_train,\n",
    "                 test_data=X_test,\n",
    "                 test_labels=y_test,\n",
    "                 predictions=y_predictions)\n",
    "\n",
    "# Because we are using random data, our predictions are way off.\n",
    "# The Predictions (red) should be closer to the testing data (green)."
   ],
   "id": "158728c5194f6193",
   "outputs": [
    {
     "data": {
      "text/plain": [
       "<Figure size 1000x700 with 1 Axes>"
      ],
      "image/png": "[encoded data removed]"
     },
     "metadata": {},
     "output_type": "display_data"
    }
   ],
   "execution_count": 13
  },
  {
   "metadata": {},
   "cell_type": "markdown",
   "source": [
    "## Training a model\n",
    "\n",
    "The whole idea of training is for a model to move from some *unknown* parameters (these may be random) to some *known* parameters. \n",
    "\n",
    "In other words: From a poor representation of the data to a better representation of data. \n",
    "\n",
    "One way to measure how poor or how wrong your model's predictions are is to use ***loss function***.\n",
    "\n",
    "***`Loss Function`*** === ***`Cost Function`*** === ***`Criterion`***. These names are for the same thing in different areas. \n",
    "\n",
    "<br>\n",
    "\n",
    "| Function             | What does it do?                                                                                                                  | Where does it live in PyTorch?                                               | Common values                                                                                                                                             |\n",
    "|----------------------|-----------------------------------------------------------------------------------------------------------------------------------|------------------------------------------------------------------------------|-----------------------------------------------------------------------------------------------------------------------------------------------------------|\n",
    "| Loss function        | Measures how wrong your model's predictions (e.g., `y_preds`) are compared to the truth labels (e.g., `y_test`). Lower is better. | PyTorch has plenty of built-in loss functions in `torch.nn`.                 | Mean absolute  error (MAE) for regression problems (`torch.nn.L1Loss()`). Binary cross entropy for binary classification problems (`torch.nn.BCELoss()`). |\n",
    "| Optimizer            | Tells your model how to update its internal parameters to best lower the loss.                                                    | You can find various optimization function implementations in `torch.optim`. | Stochastic gradient descent (`torch.optim.SGD()`). Adam optimizer (`torch.optim.Adam()`).                                                                 |\n",
    "\n",
    "<br>\n",
    "\n",
    "#### Things we need to train: \n",
    "* **Loss Function**: A function to measure how wrong your model's predictions are to the ideal outputs. **Lower** is ***better***.\n",
    "    * [PyTorch Documentation](https://pytorch.org/docs/stable/nn.html#loss-functions)\n",
    "* **Optimizer**: Takes into account the loss of a model and adjusts the model's parameters (e.g., weight & bias) to improve the loss function.\n",
    "    * [PyTorch Documentation](https://pytorch.org/docs/stable/optim.html)\n",
    "    * In the optimizer you'' often have to set two parameters:\n",
    "        * `params=`:  The model parameters you'd ike to optimize, for example `params=model_0.parameters()`\n",
    "        * `lr` (Learning rate): The learning rate is a hyperparameter that defines how big/small the optimizer changes the parameters with each step (`Small LR` --> Small changes, `Big LR` -> Large changes)\n",
    "\n",
    "\n",
    "#### Things we need specifically for PyTorch.\n",
    "* Training Loop:\n",
    "* Testing Loop:  \n"
   ],
   "id": "e7b3a163b4056ed6"
  },
  {
   "metadata": {
    "ExecuteTime": {
     "end_time": "2024-08-05T11:37:47.239927Z",
     "start_time": "2024-08-05T11:37:47.231942Z"
    }
   },
   "cell_type": "code",
   "source": "list(model_0.parameters())",
   "id": "d5b0387c127a3c27",
   "outputs": [
    {
     "data": {
      "text/plain": [
       "[Parameter containing:\n",
       " tensor([0.3367], requires_grad=True),\n",
       " Parameter containing:\n",
       " tensor([0.1288], requires_grad=True)]"
      ]
     },
     "execution_count": 14,
     "metadata": {},
     "output_type": "execute_result"
    }
   ],
   "execution_count": 14
  },
  {
   "metadata": {
    "ExecuteTime": {
     "end_time": "2024-08-05T11:37:47.249888Z",
     "start_time": "2024-08-05T11:37:47.241563Z"
    }
   },
   "cell_type": "code",
   "source": [
    "# Checking our model's parameters.\n",
    "# Parameter is a value that the model sets itself.\n",
    "model_0.state_dict()"
   ],
   "id": "25bc1095bff70306",
   "outputs": [
    {
     "data": {
      "text/plain": [
       "OrderedDict([('weights', tensor([0.3367])), ('bias', tensor([0.1288]))])"
      ]
     },
     "execution_count": 15,
     "metadata": {},
     "output_type": "execute_result"
    }
   ],
   "execution_count": 15
  },
  {
   "metadata": {
    "ExecuteTime": {
     "end_time": "2024-08-05T11:37:48.170404Z",
     "start_time": "2024-08-05T11:37:47.251446Z"
    }
   },
   "cell_type": "code",
   "source": [
    "# Setting up a loss functions\n",
    "loss_fn = nn.L1Loss()\n",
    "\n",
    "# Setting up and optimizer\n",
    "optimizer = torch.optim.SGD(params=model_0.parameters(),\n",
    "                            lr=0.01,)   # lr is possibly the most important hyperparameter you can set. "
   ],
   "id": "e96ffbf6fedd56fe",
   "outputs": [],
   "execution_count": 16
  },
  {
   "metadata": {},
   "cell_type": "markdown",
   "source": [
    "## Building a training loop (and testing loop) in PyTorch\n",
    "\n",
    "Things we need in a training loop: \n",
    "0. Loop through the data and do: \n",
    "    1. Forward Pass/Forward Propagation: Involves data moving from through our model's `forward()` functions to make predictions on data;\n",
    "    2. Calculate the Loss: Compare forward pass predictions to ground truth labels;\n",
    "    3. Optimizer zero grad;\n",
    "    4. Loss backward: Move backwards through the network to calculate the gradients of each of the parameters of our model with respect to the loss (***backpropagation***);\n",
    "    5. Optimizer step: Use the optimizer to adjust our model's parameters to try and improve the loss (***gradient descent***).\n",
    "\n",
    "### [Unofficial PyTorch Optimization Loop Song](https://www.youtube.com/watch?v=Nutpusq_AFw)\n",
    "It's train time!<br>\n",
    "Do the forward pass,<br>\n",
    "Calculate the loss,<br>\n",
    "Optimizer zero grad,<br>\n",
    "Loss backwards!<br>\n",
    "<br>\n",
    "Optimizer step, step, step.<br>\n",
    "<br>\n",
    "Let's test now!<br>\n",
    "With torch no grad:<br>\n",
    "Do the forward pass,<br>\n",
    "Calculate the loss,<br>\n",
    "Watch it go down down down!<br>\n",
    "\n",
    "<br>\n",
    "\n",
    "<p>\n",
    "    <img src=\"01.markdown_images/01-pytorch-training-loop-annotated.png\" alt=\"PyTorch Training Loop Annotated\" width=\"800\" height=\"440\">\n",
    "</p>"
   ],
   "id": "92f0a0b4419fa920"
  },
  {
   "metadata": {
    "ExecuteTime": {
     "end_time": "2024-08-05T11:37:48.364063Z",
     "start_time": "2024-08-05T11:37:48.172703Z"
    }
   },
   "cell_type": "code",
   "source": [
    "torch.manual_seed(42)\n",
    "\n",
    "# Epoch is one loop through the data (hyperparameter, because we've set it ourselves).\n",
    "epochs = 100\n",
    "\n",
    "# # Training\n",
    "# 0. Loop through the data: \n",
    "for epoch in range(epochs):\n",
    "    # Set the model to training mode\n",
    "    # Train mode in PyTorch sets all parameters that require gradients to require gradients\n",
    "    model_0.train()\n",
    "    \n",
    "    # 1. Forward Pass\n",
    "    y_pred = model_0(X_train)\n",
    "    \n",
    "    # 2. Calculating the loss\n",
    "    loss = loss_fn(y_pred, y_train)\n",
    "    print(f\"Loss: {loss}\")\n",
    "    \n",
    "    # 3. Optimizer zero grad\n",
    "    optimizer.zero_grad()\n",
    "    \n",
    "    # 4. Loss backward/Backpropagation\n",
    "    loss.backward()\n",
    "    \n",
    "    # 5. Optimizer Step\n",
    "    # By default how the optimizer changes will accumulate through the loop, so they have to be zeroed in step 3 (Optimizer zero grad) for the next iteration of the loop\n",
    "    optimizer.step()\n",
    "    \n",
    "    # Testing\n",
    "    model_0.eval()\n",
    "    \n",
    "    # Print out model state_dict()\n",
    "    print(model_0.state_dict())"
   ],
   "id": "9cef8e5da861117e",
   "outputs": [
    {
     "name": "stdout",
     "output_type": "stream",
     "text": [
      "Loss: 0.31288138031959534\n",
      "OrderedDict({'weights': tensor([0.3406]), 'bias': tensor([0.1388])})\n",
      "Loss: 0.3013603389263153\n",
      "OrderedDict({'weights': tensor([0.3445]), 'bias': tensor([0.1488])})\n",
      "Loss: 0.28983935713768005\n",
      "OrderedDict({'weights': tensor([0.3484]), 'bias': tensor([0.1588])})\n",
      "Loss: 0.2783183455467224\n",
      "OrderedDict({'weights': tensor([0.3523]), 'bias': tensor([0.1688])})\n",
      "Loss: 0.26679736375808716\n",
      "OrderedDict({'weights': tensor([0.3562]), 'bias': tensor([0.1788])})\n",
      "Loss: 0.2552763521671295\n",
      "OrderedDict({'weights': tensor([0.3601]), 'bias': tensor([0.1888])})\n",
      "Loss: 0.24375534057617188\n",
      "OrderedDict({'weights': tensor([0.3640]), 'bias': tensor([0.1988])})\n",
      "Loss: 0.23223432898521423\n",
      "OrderedDict({'weights': tensor([0.3679]), 'bias': tensor([0.2088])})\n",
      "Loss: 0.22071333229541779\n",
      "OrderedDict({'weights': tensor([0.3718]), 'bias': tensor([0.2188])})\n",
      "Loss: 0.20919232070446014\n",
      "OrderedDict({'weights': tensor([0.3757]), 'bias': tensor([0.2288])})\n",
      "Loss: 0.1976713240146637\n",
      "OrderedDict({'weights': tensor([0.3796]), 'bias': tensor([0.2388])})\n",
      "Loss: 0.18615034222602844\n",
      "OrderedDict({'weights': tensor([0.3835]), 'bias': tensor([0.2488])})\n",
      "Loss: 0.1746293306350708\n",
      "OrderedDict({'weights': tensor([0.3874]), 'bias': tensor([0.2588])})\n",
      "Loss: 0.16310831904411316\n",
      "OrderedDict({'weights': tensor([0.3913]), 'bias': tensor([0.2688])})\n",
      "Loss: 0.1515873372554779\n",
      "OrderedDict({'weights': tensor([0.3952]), 'bias': tensor([0.2788])})\n",
      "Loss: 0.14006635546684265\n",
      "OrderedDict({'weights': tensor([0.3991]), 'bias': tensor([0.2888])})\n",
      "Loss: 0.1285453587770462\n",
      "OrderedDict({'weights': tensor([0.4030]), 'bias': tensor([0.2988])})\n",
      "Loss: 0.11702437698841095\n",
      "OrderedDict({'weights': tensor([0.4069]), 'bias': tensor([0.3088])})\n",
      "Loss: 0.1060912236571312\n",
      "OrderedDict({'weights': tensor([0.4108]), 'bias': tensor([0.3178])})\n",
      "Loss: 0.09681284427642822\n",
      "OrderedDict({'weights': tensor([0.4146]), 'bias': tensor([0.3258])})\n",
      "Loss: 0.08908725529909134\n",
      "OrderedDict({'weights': tensor([0.4184]), 'bias': tensor([0.3333])})\n",
      "Loss: 0.08227583020925522\n",
      "OrderedDict({'weights': tensor([0.4222]), 'bias': tensor([0.3403])})\n",
      "Loss: 0.07638873159885406\n",
      "OrderedDict({'weights': tensor([0.4258]), 'bias': tensor([0.3463])})\n",
      "Loss: 0.07160007208585739\n",
      "OrderedDict({'weights': tensor([0.4293]), 'bias': tensor([0.3518])})\n",
      "Loss: 0.06747635453939438\n",
      "OrderedDict({'weights': tensor([0.4328]), 'bias': tensor([0.3568])})\n",
      "Loss: 0.06395438313484192\n",
      "OrderedDict({'weights': tensor([0.4361]), 'bias': tensor([0.3613])})\n",
      "Loss: 0.06097004935145378\n",
      "OrderedDict({'weights': tensor([0.4394]), 'bias': tensor([0.3653])})\n",
      "Loss: 0.05845819041132927\n",
      "OrderedDict({'weights': tensor([0.4425]), 'bias': tensor([0.3688])})\n",
      "Loss: 0.05635259300470352\n",
      "OrderedDict({'weights': tensor([0.4455]), 'bias': tensor([0.3718])})\n",
      "Loss: 0.0545857772231102\n",
      "OrderedDict({'weights': tensor([0.4483]), 'bias': tensor([0.3743])})\n",
      "Loss: 0.053148526698350906\n",
      "OrderedDict({'weights': tensor([0.4512]), 'bias': tensor([0.3768])})\n",
      "Loss: 0.05181945487856865\n",
      "OrderedDict({'weights': tensor([0.4539]), 'bias': tensor([0.3788])})\n",
      "Loss: 0.05069301277399063\n",
      "OrderedDict({'weights': tensor([0.4564]), 'bias': tensor([0.3803])})\n",
      "Loss: 0.0498228520154953\n",
      "OrderedDict({'weights': tensor([0.4590]), 'bias': tensor([0.3818])})\n",
      "Loss: 0.04895269125699997\n",
      "OrderedDict({'weights': tensor([0.4615]), 'bias': tensor([0.3833])})\n",
      "Loss: 0.04819351062178612\n",
      "OrderedDict({'weights': tensor([0.4639]), 'bias': tensor([0.3843])})\n",
      "Loss: 0.047531817108392715\n",
      "OrderedDict({'weights': tensor([0.4662]), 'bias': tensor([0.3853])})\n",
      "Loss: 0.04692792519927025\n",
      "OrderedDict({'weights': tensor([0.4684]), 'bias': tensor([0.3858])})\n",
      "Loss: 0.04642331600189209\n",
      "OrderedDict({'weights': tensor([0.4706]), 'bias': tensor([0.3863])})\n",
      "Loss: 0.04591871052980423\n",
      "OrderedDict({'weights': tensor([0.4728]), 'bias': tensor([0.3868])})\n",
      "Loss: 0.04543796554207802\n",
      "OrderedDict({'weights': tensor([0.4748]), 'bias': tensor([0.3868])})\n",
      "Loss: 0.04503796249628067\n",
      "OrderedDict({'weights': tensor([0.4768]), 'bias': tensor([0.3868])})\n",
      "Loss: 0.04463795945048332\n",
      "OrderedDict({'weights': tensor([0.4788]), 'bias': tensor([0.3868])})\n",
      "Loss: 0.04423796385526657\n",
      "OrderedDict({'weights': tensor([0.4808]), 'bias': tensor([0.3868])})\n",
      "Loss: 0.04383796453475952\n",
      "OrderedDict({'weights': tensor([0.4828]), 'bias': tensor([0.3868])})\n",
      "Loss: 0.04343796148896217\n",
      "OrderedDict({'weights': tensor([0.4848]), 'bias': tensor([0.3868])})\n",
      "Loss: 0.043074630200862885\n",
      "OrderedDict({'weights': tensor([0.4866]), 'bias': tensor([0.3863])})\n",
      "Loss: 0.04272563382983208\n",
      "OrderedDict({'weights': tensor([0.4884]), 'bias': tensor([0.3858])})\n",
      "Loss: 0.04237663000822067\n",
      "OrderedDict({'weights': tensor([0.4902]), 'bias': tensor([0.3853])})\n",
      "Loss: 0.04202762991189957\n",
      "OrderedDict({'weights': tensor([0.4920]), 'bias': tensor([0.3848])})\n",
      "Loss: 0.04167863354086876\n",
      "OrderedDict({'weights': tensor([0.4938]), 'bias': tensor([0.3843])})\n",
      "Loss: 0.04132963344454765\n",
      "OrderedDict({'weights': tensor([0.4956]), 'bias': tensor([0.3838])})\n",
      "Loss: 0.04098063334822655\n",
      "OrderedDict({'weights': tensor([0.4974]), 'bias': tensor([0.3833])})\n",
      "Loss: 0.04063162952661514\n",
      "OrderedDict({'weights': tensor([0.4992]), 'bias': tensor([0.3828])})\n",
      "Loss: 0.040282636880874634\n",
      "OrderedDict({'weights': tensor([0.5010]), 'bias': tensor([0.3823])})\n",
      "Loss: 0.039933640509843826\n",
      "OrderedDict({'weights': tensor([0.5028]), 'bias': tensor([0.3818])})\n",
      "Loss: 0.03958464413881302\n",
      "OrderedDict({'weights': tensor([0.5046]), 'bias': tensor([0.3813])})\n",
      "Loss: 0.03923564404249191\n",
      "OrderedDict({'weights': tensor([0.5064]), 'bias': tensor([0.3808])})\n",
      "Loss: 0.03888664394617081\n",
      "OrderedDict({'weights': tensor([0.5082]), 'bias': tensor([0.3803])})\n",
      "Loss: 0.0385376438498497\n",
      "OrderedDict({'weights': tensor([0.5100]), 'bias': tensor([0.3798])})\n",
      "Loss: 0.03818932920694351\n",
      "OrderedDict({'weights': tensor([0.5116]), 'bias': tensor([0.3788])})\n",
      "Loss: 0.03785243630409241\n",
      "OrderedDict({'weights': tensor([0.5134]), 'bias': tensor([0.3783])})\n",
      "Loss: 0.0375034399330616\n",
      "OrderedDict({'weights': tensor([0.5152]), 'bias': tensor([0.3778])})\n",
      "Loss: 0.037164121866226196\n",
      "OrderedDict({'weights': tensor([0.5168]), 'bias': tensor([0.3768])})\n",
      "Loss: 0.03681822493672371\n",
      "OrderedDict({'weights': tensor([0.5186]), 'bias': tensor([0.3763])})\n",
      "Loss: 0.03647511452436447\n",
      "OrderedDict({'weights': tensor([0.5202]), 'bias': tensor([0.3753])})\n",
      "Loss: 0.03613303601741791\n",
      "OrderedDict({'weights': tensor([0.5220]), 'bias': tensor([0.3748])})\n",
      "Loss: 0.03578609973192215\n",
      "OrderedDict({'weights': tensor([0.5236]), 'bias': tensor([0.3738])})\n",
      "Loss: 0.03544783592224121\n",
      "OrderedDict({'weights': tensor([0.5254]), 'bias': tensor([0.3733])})\n",
      "Loss: 0.035098835825920105\n",
      "OrderedDict({'weights': tensor([0.5272]), 'bias': tensor([0.3728])})\n",
      "Loss: 0.03476089984178543\n",
      "OrderedDict({'weights': tensor([0.5288]), 'bias': tensor([0.3718])})\n",
      "Loss: 0.03441363573074341\n",
      "OrderedDict({'weights': tensor([0.5306]), 'bias': tensor([0.3713])})\n",
      "Loss: 0.03407188132405281\n",
      "OrderedDict({'weights': tensor([0.5322]), 'bias': tensor([0.3703])})\n",
      "Loss: 0.03372843936085701\n",
      "OrderedDict({'weights': tensor([0.5340]), 'bias': tensor([0.3698])})\n",
      "Loss: 0.03338287025690079\n",
      "OrderedDict({'weights': tensor([0.5355]), 'bias': tensor([0.3688])})\n",
      "Loss: 0.033043231815099716\n",
      "OrderedDict({'weights': tensor([0.5373]), 'bias': tensor([0.3683])})\n",
      "Loss: 0.03269423171877861\n",
      "OrderedDict({'weights': tensor([0.5391]), 'bias': tensor([0.3678])})\n",
      "Loss: 0.032357655465602875\n",
      "OrderedDict({'weights': tensor([0.5407]), 'bias': tensor([0.3668])})\n",
      "Loss: 0.03200903534889221\n",
      "OrderedDict({'weights': tensor([0.5425]), 'bias': tensor([0.3663])})\n",
      "Loss: 0.03166864812374115\n",
      "OrderedDict({'weights': tensor([0.5441]), 'bias': tensor([0.3653])})\n",
      "Loss: 0.03132382780313492\n",
      "OrderedDict({'weights': tensor([0.5459]), 'bias': tensor([0.3648])})\n",
      "Loss: 0.030979642644524574\n",
      "OrderedDict({'weights': tensor([0.5475]), 'bias': tensor([0.3638])})\n",
      "Loss: 0.030638623982667923\n",
      "OrderedDict({'weights': tensor([0.5493]), 'bias': tensor([0.3633])})\n",
      "Loss: 0.0302906334400177\n",
      "OrderedDict({'weights': tensor([0.5509]), 'bias': tensor([0.3623])})\n",
      "Loss: 0.029953425750136375\n",
      "OrderedDict({'weights': tensor([0.5527]), 'bias': tensor([0.3618])})\n",
      "Loss: 0.02960442565381527\n",
      "OrderedDict({'weights': tensor([0.5545]), 'bias': tensor([0.3613])})\n",
      "Loss: 0.029265418648719788\n",
      "OrderedDict({'weights': tensor([0.5561]), 'bias': tensor([0.3603])})\n",
      "Loss: 0.028919223695993423\n",
      "OrderedDict({'weights': tensor([0.5579]), 'bias': tensor([0.3598])})\n",
      "Loss: 0.028576409444212914\n",
      "OrderedDict({'weights': tensor([0.5595]), 'bias': tensor([0.3588])})\n",
      "Loss: 0.028234025463461876\n",
      "OrderedDict({'weights': tensor([0.5613]), 'bias': tensor([0.3583])})\n",
      "Loss: 0.02788739837706089\n",
      "OrderedDict({'weights': tensor([0.5629]), 'bias': tensor([0.3573])})\n",
      "Loss: 0.02754882536828518\n",
      "OrderedDict({'weights': tensor([0.5647]), 'bias': tensor([0.3568])})\n",
      "Loss: 0.027199819684028625\n",
      "OrderedDict({'weights': tensor([0.5665]), 'bias': tensor([0.3563])})\n",
      "Loss: 0.026862185448408127\n",
      "OrderedDict({'weights': tensor([0.5681]), 'bias': tensor([0.3553])})\n",
      "Loss: 0.02651461586356163\n",
      "OrderedDict({'weights': tensor([0.5699]), 'bias': tensor([0.3548])})\n",
      "Loss: 0.026173178106546402\n",
      "OrderedDict({'weights': tensor([0.5715]), 'bias': tensor([0.3538])})\n",
      "Loss: 0.025829419493675232\n",
      "OrderedDict({'weights': tensor([0.5733]), 'bias': tensor([0.3533])})\n",
      "Loss: 0.02548416517674923\n",
      "OrderedDict({'weights': tensor([0.5748]), 'bias': tensor([0.3523])})\n",
      "Loss: 0.025144213810563087\n",
      "OrderedDict({'weights': tensor([0.5766]), 'bias': tensor([0.3518])})\n",
      "Loss: 0.02479521557688713\n",
      "OrderedDict({'weights': tensor([0.5784]), 'bias': tensor([0.3513])})\n"
     ]
    }
   ],
   "execution_count": 17
  },
  {
   "metadata": {
    "ExecuteTime": {
     "end_time": "2024-08-05T11:37:48.371795Z",
     "start_time": "2024-08-05T11:37:48.367442Z"
    }
   },
   "cell_type": "code",
   "source": [
    "with torch.inference_mode():\n",
    "    y_predictions_new = model_0(X_test)"
   ],
   "id": "6425cc08f93fd7f4",
   "outputs": [],
   "execution_count": 18
  },
  {
   "metadata": {
    "ExecuteTime": {
     "end_time": "2024-08-05T11:37:48.682006Z",
     "start_time": "2024-08-05T11:37:48.375788Z"
    }
   },
   "cell_type": "code",
   "source": [
    "# Visualising the old data\n",
    "plot_predictions(train_data=X_train,\n",
    "                 train_labels=y_train,\n",
    "                 test_data=X_test,\n",
    "                 test_labels=y_test,\n",
    "                 predictions=y_predictions)"
   ],
   "id": "5bcf32828ac60acd",
   "outputs": [
    {
     "data": {
      "text/plain": [
       "<Figure size 1000x700 with 1 Axes>"
      ],
      "image/png": "[encoded data removed]"
     },
     "metadata": {},
     "output_type": "display_data"
    }
   ],
   "execution_count": 19
  },
  {
   "metadata": {
    "ExecuteTime": {
     "end_time": "2024-08-05T11:37:48.952982Z",
     "start_time": "2024-08-05T11:37:48.683511Z"
    }
   },
   "cell_type": "code",
   "source": [
    "# Visualising the new data\n",
    "plot_predictions(train_data=X_train,\n",
    "                 train_labels=y_train,\n",
    "                 test_data=X_test,\n",
    "                 test_labels=y_test,\n",
    "                 predictions=y_predictions_new)"
   ],
   "id": "82e5821bb22e544f",
   "outputs": [
    {
     "data": {
      "text/plain": [
       "<Figure size 1000x700 with 1 Axes>"
      ],
      "image/png": "[encoded data removed]"
     },
     "metadata": {},
     "output_type": "display_data"
    }
   ],
   "execution_count": 20
  }
 ],
 "metadata": {
  "kernelspec": {
   "display_name": "Python 3",
   "language": "python",
   "name": "python3"
  },
  "language_info": {
   "codemirror_mode": {
    "name": "ipython",
    "version": 2
   },
   "file_extension": ".py",
   "mimetype": "text/x-python",
   "name": "python",
   "nbconvert_exporter": "python",
   "pygments_lexer": "ipython2",
   "version": "2.7.6"
  }
 },
 "nbformat": 4,
 "nbformat_minor": 5
}
