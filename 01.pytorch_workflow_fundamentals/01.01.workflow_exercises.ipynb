{
 "cells": [
  {
   "metadata": {
    "ExecuteTime": {
     "end_time": "2024-08-08T11:36:18.218214Z",
     "start_time": "2024-08-08T11:36:16.324030Z"
    }
   },
   "cell_type": "code",
   "source": [
    "# Import libraries\n",
    "import torch\n",
    "from torch import nn\n",
    "\n",
    "import matplotlib.pyplot as plt\n",
    "\n",
    "from pathlib import Path"
   ],
   "id": "3fd0e1023ffd4f1b",
   "outputs": [],
   "execution_count": 1
  },
  {
   "metadata": {},
   "cell_type": "markdown",
   "source": "## Functions",
   "id": "ae46397c2e7b24f7"
  },
  {
   "metadata": {
    "ExecuteTime": {
     "end_time": "2024-08-08T11:36:18.228811Z",
     "start_time": "2024-08-08T11:36:18.223518Z"
    }
   },
   "cell_type": "code",
   "source": [
    "# Plot function\n",
    "def plot_predictions(train_data,\n",
    "                     train_label,\n",
    "                     test_data,\n",
    "                     test_label,\n",
    "                     predictions=None):\n",
    "    # Create a plit figure:\n",
    "    plt.plot(figsize=(10, 7))\n",
    "    \n",
    "    # Plot training data (blue)\n",
    "    plt.scatter(train_data, train_label, c=\"b\", s=4, label=\"Training data\")\n",
    "    \n",
    "    # Plot test data (red)\n",
    "    plt.scatter(test_data, test_label, c=\"r\", s=4, label=\"Test data\")\n",
    "    \n",
    "    # Plot predictions (green), if there are any\n",
    "    if predictions is not None:\n",
    "        plt.scatter(test_data, predictions, c=\"g\", s=4, label=\"Predictions\")\n",
    "    \n",
    "    # Enable graph legend\n",
    "    plt.legend(prop={\"size\":12})"
   ],
   "id": "3b2213c715ea448c",
   "outputs": [],
   "execution_count": 2
  },
  {
   "metadata": {},
   "cell_type": "markdown",
   "source": "## 00. Device agnostic Code",
   "id": "c2c321a8ff960680"
  },
  {
   "cell_type": "code",
   "id": "initial_id",
   "metadata": {
    "collapsed": true,
    "ExecuteTime": {
     "end_time": "2024-08-08T11:36:18.243528Z",
     "start_time": "2024-08-08T11:36:18.229692Z"
    }
   },
   "source": [
    "# Setup device-agnostic code\n",
    "device = \"cuda\" if torch.cuda.is_available() else \"cpu\"\n",
    "\n",
    "print(f\"The used device is {device}\")"
   ],
   "outputs": [
    {
     "name": "stdout",
     "output_type": "stream",
     "text": [
      "The used device is cuda\n"
     ]
    }
   ],
   "execution_count": 3
  },
  {
   "metadata": {},
   "cell_type": "markdown",
   "source": [
    "## 01. Create a straight line dataset using the linear regression formula *(weight * X + bias)*.\n",
    "\n",
    "* Set **weight=0.3** and **bias=0.9** there should be at least 100 datapoints total.\n",
    "* Split the data into **80% training**, **20% testing**.\n",
    "* Plot the training and testing data so it becomes visual."
   ],
   "id": "353fc2281175d6f9"
  },
  {
   "metadata": {
    "ExecuteTime": {
     "end_time": "2024-08-08T11:36:18.260179Z",
     "start_time": "2024-08-08T11:36:18.245142Z"
    }
   },
   "cell_type": "code",
   "source": [
    "# Setting weight & bias\n",
    "weight = 0.3\n",
    "bias = 0.9"
   ],
   "id": "953c68d48b677fdd",
   "outputs": [],
   "execution_count": 4
  },
  {
   "metadata": {
    "ExecuteTime": {
     "end_time": "2024-08-08T11:36:18.267396Z",
     "start_time": "2024-08-08T11:36:18.261948Z"
    }
   },
   "cell_type": "code",
   "source": [
    "# Set data range\n",
    "start = 0\n",
    "end = 1\n",
    "step = 0.01"
   ],
   "id": "4f98cfba555d209",
   "outputs": [],
   "execution_count": 5
  },
  {
   "metadata": {
    "ExecuteTime": {
     "end_time": "2024-08-08T11:36:18.278693Z",
     "start_time": "2024-08-08T11:36:18.268845Z"
    }
   },
   "cell_type": "code",
   "source": [
    "# Creating X (features) and labels (y)\n",
    "X = torch.arange(start, end, step).unsqueeze(dim=1)\n",
    "y = weight * X + bias\n",
    "\n",
    "print(f\"Number of X samples: {len(X)}\")\n",
    "print(f\"Number of y samples: {len(y)}\")\n",
    "print(f\"First 10 X samples: \\n{X[:10]}\")\n",
    "print(f\"First 10 y samples: \\n{y[:10]}\")"
   ],
   "id": "fca347e250a782b8",
   "outputs": [
    {
     "name": "stdout",
     "output_type": "stream",
     "text": [
      "Number of X samples: 100\n",
      "Number of y samples: 100\n",
      "First 10 X samples: \n",
      "tensor([[0.0000],\n",
      "        [0.0100],\n",
      "        [0.0200],\n",
      "        [0.0300],\n",
      "        [0.0400],\n",
      "        [0.0500],\n",
      "        [0.0600],\n",
      "        [0.0700],\n",
      "        [0.0800],\n",
      "        [0.0900]])\n",
      "First 10 y samples: \n",
      "tensor([[0.9000],\n",
      "        [0.9030],\n",
      "        [0.9060],\n",
      "        [0.9090],\n",
      "        [0.9120],\n",
      "        [0.9150],\n",
      "        [0.9180],\n",
      "        [0.9210],\n",
      "        [0.9240],\n",
      "        [0.9270]])\n"
     ]
    }
   ],
   "execution_count": 6
  },
  {
   "metadata": {
    "ExecuteTime": {
     "end_time": "2024-08-08T11:36:18.290353Z",
     "start_time": "2024-08-08T11:36:18.280491Z"
    }
   },
   "cell_type": "code",
   "source": [
    "# Splitting the data\n",
    "train_split = int(0.8 * len(X))\n",
    "\n",
    "# Training data\n",
    "X_train, y_train = X[:train_split], y[:train_split]\n",
    "\n",
    "#Testing data\n",
    "X_test, y_test = X[train_split:], y[train_split:]\n",
    "\n",
    "# Print the length of each train/test set\n",
    "len(X_train), len(y_train), len(X_test), len(y_test)   "
   ],
   "id": "182abbe34621d63f",
   "outputs": [
    {
     "data": {
      "text/plain": [
       "(80, 80, 20, 20)"
      ]
     },
     "execution_count": 7,
     "metadata": {},
     "output_type": "execute_result"
    }
   ],
   "execution_count": 7
  },
  {
   "metadata": {
    "ExecuteTime": {
     "end_time": "2024-08-08T11:36:18.495118Z",
     "start_time": "2024-08-08T11:36:18.291743Z"
    }
   },
   "cell_type": "code",
   "source": [
    "# PLot training and testing data sets\n",
    "plot_predictions(X_train,\n",
    "                 y_train,\n",
    "                 X_test,\n",
    "                 y_test,)"
   ],
   "id": "23ed455525989d9f",
   "outputs": [
    {
     "data": {
      "text/plain": [
       "<Figure size 640x480 with 1 Axes>"
      ],
      "image/png": "[encoded data removed]"
     },
     "metadata": {},
     "output_type": "display_data"
    }
   ],
   "execution_count": 8
  },
  {
   "metadata": {},
   "cell_type": "markdown",
   "source": [
    "## 02. Build a PyTorch model by subclassing nn.Module.\n",
    "\n",
    "* Inside should be a randomly initialized `nn.Parameter()` with **requires_grad=True**, one for ***weights*** and one for ***bias***.\n",
    "* Implement the `forward()` method to compute the linear regression function you used to create the dataset in 1.\n",
    "* Once you've constructed the model, make an instance of it and check its state_dict().\n",
    "\n",
    "***Note:*** If you'd like to use `nn.Linear()` instead of `nn.Parameter()` you can."
   ],
   "id": "3b5c3a2f8b76f207"
  },
  {
   "metadata": {
    "ExecuteTime": {
     "end_time": "2024-08-08T11:36:18.501055Z",
     "start_time": "2024-08-08T11:36:18.496149Z"
    }
   },
   "cell_type": "code",
   "source": [
    "# Creating a linear model by subclassing nn.Module\n",
    "class LinearRegressionModel(nn.Module):\n",
    "    def __init__(self):\n",
    "        super().__init__()\n",
    "        \n",
    "        # Weight parameter\n",
    "        self.weight = nn.Parameter(data=torch.randn(1, \n",
    "                                               requires_grad=True,\n",
    "                                               dtype=torch.float))            \n",
    "        \n",
    "        # Bias parameter\n",
    "        self.bias = nn.Parameter(data=torch.randn(1, \n",
    "                                             requires_grad=True,\n",
    "                                             dtype=torch.float))    \n",
    "    \n",
    "    # Forward function\n",
    "    def forward(self, x: torch.Tensor) -> torch.Tensor:\n",
    "        return self.weight * x + bias"
   ],
   "id": "628f32d7ccbbed1c",
   "outputs": [],
   "execution_count": 9
  },
  {
   "metadata": {
    "ExecuteTime": {
     "end_time": "2024-08-08T11:36:18.731370Z",
     "start_time": "2024-08-08T11:36:18.503382Z"
    }
   },
   "cell_type": "code",
   "source": [
    "# Set manual seed\n",
    "seed = torch.manual_seed(42)\n",
    "\n",
    "# Create an instance of the linear regression model and put it to the target device\n",
    "model = LinearRegressionModel().to(device)\n",
    "\n",
    "model.state_dict()"
   ],
   "id": "8a9574979ab275b5",
   "outputs": [
    {
     "data": {
      "text/plain": [
       "OrderedDict([('weight', tensor([0.3367], device='cuda:0')),\n",
       "             ('bias', tensor([0.1288], device='cuda:0'))])"
      ]
     },
     "execution_count": 10,
     "metadata": {},
     "output_type": "execute_result"
    }
   ],
   "execution_count": 10
  },
  {
   "metadata": {},
   "cell_type": "markdown",
   "source": [
    "## 03. Create a loss function and optimizer using nn.L1Loss() and torch.optim.SGD(params, lr) respectively.\n",
    "\n",
    "* Set the learning rate of the optimizer to be 0.01, and the parameters to optimize should be the model parameters from the model you created in 2.\n",
    "* Write a training loop to perform the appropriate training steps for **300 epochs**.\n",
    "* The training loop should test the model on the test dataset every *20 epochs*."
   ],
   "id": "31f16704ca5da5cc"
  },
  {
   "metadata": {
    "ExecuteTime": {
     "end_time": "2024-08-08T11:36:18.738175Z",
     "start_time": "2024-08-08T11:36:18.733780Z"
    }
   },
   "cell_type": "code",
   "source": [
    "# Loss functions\n",
    "loss_fn = nn.L1Loss()"
   ],
   "id": "1f31f89d5481f6b6",
   "outputs": [],
   "execution_count": 11
  },
  {
   "metadata": {
    "ExecuteTime": {
     "end_time": "2024-08-08T11:36:19.470637Z",
     "start_time": "2024-08-08T11:36:18.739496Z"
    }
   },
   "cell_type": "code",
   "source": [
    "# Optimizer\n",
    "optimizer = torch.optim.SGD(params=model.parameters(),\n",
    "                            lr=0.01)"
   ],
   "id": "67cb4a9bfdc408c0",
   "outputs": [],
   "execution_count": 12
  },
  {
   "metadata": {
    "ExecuteTime": {
     "end_time": "2024-08-08T11:36:19.711600Z",
     "start_time": "2024-08-08T11:36:19.472135Z"
    }
   },
   "cell_type": "code",
   "source": [
    "# # Training loop\n",
    "\n",
    "# Set seed\n",
    "torch.manual_seed(42)\n",
    "\n",
    "# Set number of epochs\n",
    "epochs = 300\n",
    "\n",
    "# Place data on the target device\n",
    "X_train = X_train.to(device)\n",
    "X_test = X_test.to(device)\n",
    "y_train = y_train.to(device)\n",
    "y_test = y_test.to(device)\n",
    "\n",
    "for epoch in range(1, epochs + 1):\n",
    "    # # Training\n",
    "    # Put the model to Train Mode\n",
    "    model.train()\n",
    "    \n",
    "    # 01. Forward pass\n",
    "    y_pred = model(X_train)\n",
    "    \n",
    "    # 02. Calculate the loss\n",
    "    loss = loss_fn(y_pred, y_train)\n",
    "    \n",
    "    # 03. Optimizer zero grad\n",
    "    optimizer.zero_grad()\n",
    "    \n",
    "    # 04. Backpropagation\n",
    "    loss.backward()\n",
    "    \n",
    "    # 05. Optimizer step\n",
    "    optimizer.step()\n",
    "    \n",
    "    # Test model every 20 epochs\n",
    "    if epoch % 20 == 0:\n",
    "        # Put model to evaluation mode\n",
    "        model.eval()\n",
    "        \n",
    "        # Setup inference context\n",
    "        with torch.inference_mode():\n",
    "            # 01. Forward pass\n",
    "            y_predictions = model(X_test)\n",
    "            # 02. Calculate test loss\n",
    "            test_loss = loss_fn(y_predictions, y_test)\n",
    "            \n",
    "        # Print current information\n",
    "        print(f\"Epoch: {epoch} | Train Loss: {loss:.4f} | Test Loss: {test_loss:.4f}\")"
   ],
   "id": "caca149c58b704d2",
   "outputs": [
    {
     "name": "stdout",
     "output_type": "stream",
     "text": [
      "Epoch: 20 | Train Loss: 0.0005 | Test Loss: 0.0025\n",
      "Epoch: 40 | Train Loss: 0.0005 | Test Loss: 0.0025\n",
      "Epoch: 60 | Train Loss: 0.0005 | Test Loss: 0.0025\n",
      "Epoch: 80 | Train Loss: 0.0005 | Test Loss: 0.0025\n",
      "Epoch: 100 | Train Loss: 0.0005 | Test Loss: 0.0025\n",
      "Epoch: 120 | Train Loss: 0.0005 | Test Loss: 0.0025\n",
      "Epoch: 140 | Train Loss: 0.0005 | Test Loss: 0.0025\n",
      "Epoch: 160 | Train Loss: 0.0005 | Test Loss: 0.0025\n",
      "Epoch: 180 | Train Loss: 0.0005 | Test Loss: 0.0025\n",
      "Epoch: 200 | Train Loss: 0.0005 | Test Loss: 0.0025\n",
      "Epoch: 220 | Train Loss: 0.0005 | Test Loss: 0.0025\n",
      "Epoch: 240 | Train Loss: 0.0005 | Test Loss: 0.0025\n",
      "Epoch: 260 | Train Loss: 0.0005 | Test Loss: 0.0025\n",
      "Epoch: 280 | Train Loss: 0.0005 | Test Loss: 0.0025\n",
      "Epoch: 300 | Train Loss: 0.0005 | Test Loss: 0.0025\n"
     ]
    }
   ],
   "execution_count": 13
  },
  {
   "metadata": {},
   "cell_type": "markdown",
   "source": [
    "## 04. Make predictions with the trained model on the test data.\n",
    "\n",
    "* Visualize these predictions against the original training and testing data (**Note**: you may need to make sure the predictions are not on the GPU if you want to use non-CUDA-enabled libraries such as matplotlib to plot)."
   ],
   "id": "9133d2194d6b4f6a"
  },
  {
   "metadata": {
    "ExecuteTime": {
     "end_time": "2024-08-08T11:36:19.719837Z",
     "start_time": "2024-08-08T11:36:19.713158Z"
    }
   },
   "cell_type": "code",
   "source": [
    "# Make predictions with the model\n",
    "model.eval()\n",
    "\n",
    "with torch.inference_mode():\n",
    "    y_predictions = model(X_test)\n",
    "\n",
    "print(y_predictions)\n",
    "print(y_predictions.cpu())"
   ],
   "id": "43fb4ff83403209",
   "outputs": [
    {
     "name": "stdout",
     "output_type": "stream",
     "text": [
      "tensor([[1.1378],\n",
      "        [1.1407],\n",
      "        [1.1437],\n",
      "        [1.1467],\n",
      "        [1.1496],\n",
      "        [1.1526],\n",
      "        [1.1556],\n",
      "        [1.1586],\n",
      "        [1.1615],\n",
      "        [1.1645],\n",
      "        [1.1675],\n",
      "        [1.1704],\n",
      "        [1.1734],\n",
      "        [1.1764],\n",
      "        [1.1794],\n",
      "        [1.1823],\n",
      "        [1.1853],\n",
      "        [1.1883],\n",
      "        [1.1912],\n",
      "        [1.1942]], device='cuda:0')\n",
      "tensor([[1.1378],\n",
      "        [1.1407],\n",
      "        [1.1437],\n",
      "        [1.1467],\n",
      "        [1.1496],\n",
      "        [1.1526],\n",
      "        [1.1556],\n",
      "        [1.1586],\n",
      "        [1.1615],\n",
      "        [1.1645],\n",
      "        [1.1675],\n",
      "        [1.1704],\n",
      "        [1.1734],\n",
      "        [1.1764],\n",
      "        [1.1794],\n",
      "        [1.1823],\n",
      "        [1.1853],\n",
      "        [1.1883],\n",
      "        [1.1912],\n",
      "        [1.1942]])\n"
     ]
    }
   ],
   "execution_count": 14
  },
  {
   "metadata": {
    "ExecuteTime": {
     "end_time": "2024-08-08T11:36:19.916147Z",
     "start_time": "2024-08-08T11:36:19.720656Z"
    }
   },
   "cell_type": "code",
   "source": [
    "# Plot predictions\n",
    "plot_predictions(train_data=X_train.cpu(),\n",
    "                 train_label=y_train.cpu(),\n",
    "                 test_data=X_test.cpu(),\n",
    "                 test_label=y_test.cpu(),\n",
    "                 predictions=y_predictions.cpu())"
   ],
   "id": "7706188c1db0fbd1",
   "outputs": [
    {
     "data": {
      "text/plain": [
       "<Figure size 640x480 with 1 Axes>"
      ],
      "image/png": "[encoded data removed]"
     },
     "metadata": {},
     "output_type": "display_data"
    }
   ],
   "execution_count": 15
  },
  {
   "metadata": {},
   "cell_type": "markdown",
   "source": [
    "## 05. Save your trained model's state_dict() to file.\n",
    "\n",
    "* Create a new instance of your model class you made in 2. and load in the `state_dict()` you just saved to it.\n",
    "* Perform predictions on your test data with the loaded model and confirm they match the original model predictions from 4."
   ],
   "id": "b672b90cdd89829f"
  },
  {
   "metadata": {
    "ExecuteTime": {
     "end_time": "2024-08-08T11:36:19.925977Z",
     "start_time": "2024-08-08T11:36:19.919925Z"
    }
   },
   "cell_type": "code",
   "source": [
    "# # Saving the model's state_dict()\n",
    "\n",
    "# 01. Create the model's directory\n",
    "MODEL_PATH = Path(\"models\")\n",
    "MODEL_PATH.mkdir(parents=True, exist_ok=True)\n",
    "\n",
    "# 02. Create the model's save path\n",
    "MODEL_NAME = \"exercise_model\"\n",
    "MODEL_SAVE_PATH = MODEL_PATH / MODEL_NAME\n",
    "\n",
    "# 03. Save the model's state_dict()\n",
    "torch.save(obj=model.state_dict(),\n",
    "           f=MODEL_SAVE_PATH)\n",
    "\n",
    "# 04. Check if model is saved successfully\n",
    "if MODEL_SAVE_PATH.exists():\n",
    "    print(f\"Model saved successfully at: {MODEL_SAVE_PATH}\")\n",
    "else:\n",
    "    print(\"Failed to save the model.\")"
   ],
   "id": "13ac9f082e7ecf3",
   "outputs": [
    {
     "name": "stdout",
     "output_type": "stream",
     "text": [
      "Model saved successfully at: models/exercise_model\n"
     ]
    }
   ],
   "execution_count": 16
  },
  {
   "metadata": {
    "ExecuteTime": {
     "end_time": "2024-08-08T11:36:19.942168Z",
     "start_time": "2024-08-08T11:36:19.927563Z"
    }
   },
   "cell_type": "code",
   "source": [
    "# # Loading the saved model's state_dict()\n",
    "\n",
    "# 01. Create new model instance\n",
    "loaded_model = LinearRegressionModel()\n",
    "\n",
    "# 02. Load the saved state_dict() into the new model instance\n",
    "loaded_model.load_state_dict(torch.load(f=MODEL_SAVE_PATH,\n",
    "                                        weights_only=True))\n",
    "\n",
    "# 03 Put the new model on the target device\n",
    "loaded_model.to(device)"
   ],
   "id": "74489383909e3d8c",
   "outputs": [
    {
     "data": {
      "text/plain": [
       "LinearRegressionModel()"
      ]
     },
     "execution_count": 17,
     "metadata": {},
     "output_type": "execute_result"
    }
   ],
   "execution_count": 17
  },
  {
   "metadata": {
    "ExecuteTime": {
     "end_time": "2024-08-08T11:36:19.959287Z",
     "start_time": "2024-08-08T11:36:19.943678Z"
    }
   },
   "cell_type": "code",
   "source": [
    "# Make predictions with the loaded model & compare them to predictions with the saved model\n",
    "y_predictions_new = loaded_model(X_test)\n",
    "\n",
    "y_predictions == y_predictions_new"
   ],
   "id": "f100cd7692f63531",
   "outputs": [
    {
     "data": {
      "text/plain": [
       "tensor([[True],\n",
       "        [True],\n",
       "        [True],\n",
       "        [True],\n",
       "        [True],\n",
       "        [True],\n",
       "        [True],\n",
       "        [True],\n",
       "        [True],\n",
       "        [True],\n",
       "        [True],\n",
       "        [True],\n",
       "        [True],\n",
       "        [True],\n",
       "        [True],\n",
       "        [True],\n",
       "        [True],\n",
       "        [True],\n",
       "        [True],\n",
       "        [True]], device='cuda:0')"
      ]
     },
     "execution_count": 18,
     "metadata": {},
     "output_type": "execute_result"
    }
   ],
   "execution_count": 18
  },
  {
   "metadata": {
    "ExecuteTime": {
     "end_time": "2024-08-08T11:36:19.966222Z",
     "start_time": "2024-08-08T11:36:19.960797Z"
    }
   },
   "cell_type": "code",
   "source": "loaded_model.state_dict()",
   "id": "f259e3accfe621be",
   "outputs": [
    {
     "data": {
      "text/plain": [
       "OrderedDict([('weight', tensor([0.2972], device='cuda:0')),\n",
       "             ('bias', tensor([0.1288], device='cuda:0'))])"
      ]
     },
     "execution_count": 19,
     "metadata": {},
     "output_type": "execute_result"
    }
   ],
   "execution_count": 19
  }
 ],
 "metadata": {
  "kernelspec": {
   "display_name": "Python 3",
   "language": "python",
   "name": "python3"
  },
  "language_info": {
   "codemirror_mode": {
    "name": "ipython",
    "version": 2
   },
   "file_extension": ".py",
   "mimetype": "text/x-python",
   "name": "python",
   "nbconvert_exporter": "python",
   "pygments_lexer": "ipython2",
   "version": "2.7.6"
  }
 },
 "nbformat": 4,
 "nbformat_minor": 5
}
