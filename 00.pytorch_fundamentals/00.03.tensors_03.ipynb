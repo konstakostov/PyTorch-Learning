{
 "cells": [
  {
   "metadata": {},
   "cell_type": "markdown",
   "source": "### Importing all libraries",
   "id": "cf7dfa4d2763b2e1"
  },
  {
   "cell_type": "code",
   "id": "initial_id",
   "metadata": {
    "collapsed": true,
    "ExecuteTime": {
     "end_time": "2024-08-01T12:41:50.931478Z",
     "start_time": "2024-08-01T12:41:49.305739Z"
    }
   },
   "source": [
    "import torch\n",
    "import numpy as np"
   ],
   "outputs": [],
   "execution_count": 1
  },
  {
   "metadata": {},
   "cell_type": "markdown",
   "source": [
    "### PyTorch Tensors & NumPy\n",
    "\n",
    "NumPy is a popular scientific Python numerical computing library. Because of this, PyTorch has functionality to interact with it.\n",
    "\n",
    "* NumPy array -> PyTorch tensor ==> `torch.from_numpy(ndarray)`\n",
    "* PyTorch tensor -> NumPy array ==> `torch.Tensor.numpy()`"
   ],
   "id": "9afbcf5367b0284e"
  },
  {
   "metadata": {
    "ExecuteTime": {
     "end_time": "2024-08-01T12:41:50.943926Z",
     "start_time": "2024-08-01T12:41:50.933440Z"
    }
   },
   "cell_type": "code",
   "source": [
    "array = np.arange(1.0, 8.0)\n",
    "tensor = torch.from_numpy(array)\n",
    "\n",
    "array, tensor"
   ],
   "id": "5fcfb70b57bd76f1",
   "outputs": [
    {
     "data": {
      "text/plain": [
       "(array([1., 2., 3., 4., 5., 6., 7.]),\n",
       " tensor([1., 2., 3., 4., 5., 6., 7.], dtype=torch.float64))"
      ]
     },
     "execution_count": 2,
     "metadata": {},
     "output_type": "execute_result"
    }
   ],
   "execution_count": 2
  },
  {
   "metadata": {
    "ExecuteTime": {
     "end_time": "2024-08-01T12:41:50.949471Z",
     "start_time": "2024-08-01T12:41:50.944975Z"
    }
   },
   "cell_type": "code",
   "source": [
    "# NumPy default dtype\n",
    "print(array.dtype)\n",
    "\n",
    "\n",
    "# PyTorch default dtype is float32.\n",
    "# When converting from NumPy to PyTorch the default dtype is float64.\n"
   ],
   "id": "aa4222baf8702301",
   "outputs": [
    {
     "name": "stdout",
     "output_type": "stream",
     "text": [
      "float64\n"
     ]
    }
   ],
   "execution_count": 3
  },
  {
   "metadata": {
    "ExecuteTime": {
     "end_time": "2024-08-01T12:41:50.959978Z",
     "start_time": "2024-08-01T12:41:50.951509Z"
    }
   },
   "cell_type": "code",
   "source": [
    "# Changing the value of the array, it won't change the value of the tensor if it is already created\n",
    "\n",
    "array = array + 1\n",
    "\n",
    "array, tensor"
   ],
   "id": "f43604c844f2a09f",
   "outputs": [
    {
     "data": {
      "text/plain": [
       "(array([2., 3., 4., 5., 6., 7., 8.]),\n",
       " tensor([1., 2., 3., 4., 5., 6., 7.], dtype=torch.float64))"
      ]
     },
     "execution_count": 4,
     "metadata": {},
     "output_type": "execute_result"
    }
   ],
   "execution_count": 4
  },
  {
   "metadata": {
    "ExecuteTime": {
     "end_time": "2024-08-01T12:41:50.969057Z",
     "start_time": "2024-08-01T12:41:50.963792Z"
    }
   },
   "cell_type": "code",
   "source": [
    "# Tensor to NumPy array\n",
    "tensor = torch.ones(7)\n",
    "numpy_tensor = tensor.numpy()\n",
    "\n",
    "tensor, numpy_tensor"
   ],
   "id": "12c41e7494de998a",
   "outputs": [
    {
     "data": {
      "text/plain": [
       "(tensor([1., 1., 1., 1., 1., 1., 1.]),\n",
       " array([1., 1., 1., 1., 1., 1., 1.], dtype=float32))"
      ]
     },
     "execution_count": 5,
     "metadata": {},
     "output_type": "execute_result"
    }
   ],
   "execution_count": 5
  },
  {
   "metadata": {
    "ExecuteTime": {
     "end_time": "2024-08-01T12:41:50.979548Z",
     "start_time": "2024-08-01T12:41:50.970077Z"
    }
   },
   "cell_type": "code",
   "source": [
    "# Changing the value of the tensor, it won't change the value of the numpy_tensor if it is already created\n",
    "\n",
    "tensor = tensor + 1\n",
    "\n",
    "tensor, numpy_tensor"
   ],
   "id": "8ffc0c2e9dfd3bc9",
   "outputs": [
    {
     "data": {
      "text/plain": [
       "(tensor([2., 2., 2., 2., 2., 2., 2.]),\n",
       " array([1., 1., 1., 1., 1., 1., 1.], dtype=float32))"
      ]
     },
     "execution_count": 6,
     "metadata": {},
     "output_type": "execute_result"
    }
   ],
   "execution_count": 6
  },
  {
   "metadata": {},
   "cell_type": "markdown",
   "source": [
    "### [Reproducibility](https://pytorch.org/docs/stable/notes/randomness.html) (Trying to take the random out of the random)\n",
    "\n",
    "It is how neural networks learn: \n",
    "\n",
    "`Start with random numbers` -> `Tensor operations` -> `Update random numbers to try and make them better representations of the data` -> `Repeat` -> `Repeat` -> `Repeat` -> ...  \n",
    "\n",
    "To reduce the randomness in neural networks and PyTorch comes the concept of a ***random seed***. \n",
    "\n",
    "Essential what the ***random seed*** is *flavours* the randomness."
   ],
   "id": "2bf81d67f87eeb6f"
  },
  {
   "metadata": {
    "ExecuteTime": {
     "end_time": "2024-08-01T12:41:50.987775Z",
     "start_time": "2024-08-01T12:41:50.981107Z"
    }
   },
   "cell_type": "code",
   "source": [
    "# Creating two random tensors.\n",
    "random_tensor_A = torch.rand(3, 4)\n",
    "random_tensor_B = torch.rand(3, 4)\n",
    "\n",
    "print(random_tensor_A)\n",
    "print(random_tensor_B)\n",
    "\n",
    "print(random_tensor_A == random_tensor_B)"
   ],
   "id": "55d24bb15eb0f35b",
   "outputs": [
    {
     "name": "stdout",
     "output_type": "stream",
     "text": [
      "tensor([[0.4995, 0.0317, 0.2151, 0.6303],\n",
      "        [0.7915, 0.7303, 0.1681, 0.7414],\n",
      "        [0.0739, 0.6661, 0.7058, 0.6567]])\n",
      "tensor([[0.5641, 0.6538, 0.7594, 0.2562],\n",
      "        [0.7699, 0.4390, 0.2472, 0.5622],\n",
      "        [0.7354, 0.4502, 0.2318, 0.6287]])\n",
      "tensor([[False, False, False, False],\n",
      "        [False, False, False, False],\n",
      "        [False, False, False, False]])\n"
     ]
    }
   ],
   "execution_count": 7
  },
  {
   "metadata": {
    "ExecuteTime": {
     "end_time": "2024-08-01T12:41:50.998358Z",
     "start_time": "2024-08-01T12:41:50.989016Z"
    }
   },
   "cell_type": "code",
   "source": [
    "# Creating random, but reproducible tensors\n",
    "\n",
    "# Setting random seed\n",
    "RANDOM_SEED = 42\n",
    "\n",
    "torch.manual_seed(RANDOM_SEED)\n",
    "random_tensor_C = torch.rand(3, 4)\n",
    "\n",
    "# The seed must be reset every time a new rand() is called \n",
    "# Without this, tensor_D would be different to tensor_C \n",
    "torch.manual_seed(RANDOM_SEED)\n",
    "random_tensor_D = torch.rand(3, 4)\n",
    "\n",
    "print(random_tensor_C)\n",
    "print(random_tensor_D)\n",
    "\n",
    "print(random_tensor_C == random_tensor_D)"
   ],
   "id": "5a22cbbbe6a727bb",
   "outputs": [
    {
     "name": "stdout",
     "output_type": "stream",
     "text": [
      "tensor([[0.8823, 0.9150, 0.3829, 0.9593],\n",
      "        [0.3904, 0.6009, 0.2566, 0.7936],\n",
      "        [0.9408, 0.1332, 0.9346, 0.5936]])\n",
      "tensor([[0.8823, 0.9150, 0.3829, 0.9593],\n",
      "        [0.3904, 0.6009, 0.2566, 0.7936],\n",
      "        [0.9408, 0.1332, 0.9346, 0.5936]])\n",
      "tensor([[True, True, True, True],\n",
      "        [True, True, True, True],\n",
      "        [True, True, True, True]])\n"
     ]
    }
   ],
   "execution_count": 8
  },
  {
   "metadata": {},
   "cell_type": "markdown",
   "source": [
    "## Putting tensors (and models) on the GPU\n",
    "\n",
    "Tensors/Models on the GPU results in faster computation times. "
   ],
   "id": "d66295403a850d7d"
  },
  {
   "metadata": {
    "ExecuteTime": {
     "end_time": "2024-08-01T12:41:51.004690Z",
     "start_time": "2024-08-01T12:41:51.000477Z"
    }
   },
   "cell_type": "code",
   "source": [
    "# Creating a tensor (default is on the CPU)\n",
    "tensor = torch.tensor([1, 2, 3])\n",
    "print(tensor, tensor.device)"
   ],
   "id": "7c858b31d33ad9ed",
   "outputs": [
    {
     "name": "stdout",
     "output_type": "stream",
     "text": [
      "tensor([1, 2, 3]) cpu\n"
     ]
    }
   ],
   "execution_count": 9
  },
  {
   "metadata": {
    "ExecuteTime": {
     "end_time": "2024-08-01T12:41:51.109771Z",
     "start_time": "2024-08-01T12:41:51.005872Z"
    }
   },
   "cell_type": "code",
   "source": [
    "# Move tensor on GPU (if available)\n",
    "tensor_on_gpu = tensor.to(device=\"cuda\")\n",
    "tensor_on_gpu"
   ],
   "id": "948205533cac4e39",
   "outputs": [
    {
     "data": {
      "text/plain": [
       "tensor([1, 2, 3], device='cuda:0')"
      ]
     },
     "execution_count": 10,
     "metadata": {},
     "output_type": "execute_result"
    }
   ],
   "execution_count": 10
  },
  {
   "metadata": {},
   "cell_type": "markdown",
   "source": [
    "### Moving tensors back to the CPU\n",
    "\n",
    "* NumPy does not work with the GPU"
   ],
   "id": "d1a7f8931652776"
  },
  {
   "metadata": {
    "ExecuteTime": {
     "end_time": "2024-08-01T12:41:51.116816Z",
     "start_time": "2024-08-01T12:41:51.110644Z"
    }
   },
   "cell_type": "code",
   "source": [
    "# # Move tensor to CPU\n",
    "# tensor_on_gpu.numpy()   # It will return error"
   ],
   "id": "87c3a7800402c4f8",
   "outputs": [],
   "execution_count": 11
  },
  {
   "metadata": {
    "ExecuteTime": {
     "end_time": "2024-08-01T12:41:51.125981Z",
     "start_time": "2024-08-01T12:41:51.118340Z"
    }
   },
   "cell_type": "code",
   "source": [
    "# To fix GPU tensor with NumPy issue, we can first set it to the CPU\n",
    "tensor_back_on_cpu = tensor_on_gpu.cpu().numpy()\n",
    "\n",
    "print(tensor_back_on_cpu)\n",
    "print(tensor_on_gpu)"
   ],
   "id": "fbce48099dda6c96",
   "outputs": [
    {
     "name": "stdout",
     "output_type": "stream",
     "text": [
      "[1 2 3]\n",
      "tensor([1, 2, 3], device='cuda:0')\n"
     ]
    }
   ],
   "execution_count": 12
  }
 ],
 "metadata": {
  "kernelspec": {
   "display_name": "Python 3",
   "language": "python",
   "name": "python3"
  },
  "language_info": {
   "codemirror_mode": {
    "name": "ipython",
    "version": 2
   },
   "file_extension": ".py",
   "mimetype": "text/x-python",
   "name": "python",
   "nbconvert_exporter": "python",
   "pygments_lexer": "ipython2",
   "version": "2.7.6"
  }
 },
 "nbformat": 4,
 "nbformat_minor": 5
}
