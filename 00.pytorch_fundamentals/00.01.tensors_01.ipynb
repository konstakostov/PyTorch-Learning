{
 "cells": [
  {
   "metadata": {},
   "cell_type": "markdown",
   "source": "### Importing all libraries",
   "id": "ff5f8360639ac14f"
  },
  {
   "metadata": {
    "ExecuteTime": {
     "end_time": "2024-08-01T11:37:20.431392Z",
     "start_time": "2024-08-01T11:37:18.699469Z"
    }
   },
   "cell_type": "code",
   "source": "import torch",
   "id": "9a1bf31634adec57",
   "outputs": [],
   "execution_count": 1
  },
  {
   "metadata": {},
   "cell_type": "markdown",
   "source": [
    "## Introduction to tensors\n",
    "\n",
    "### Creating tensors"
   ],
   "id": "e1b02373b6667903"
  },
  {
   "metadata": {},
   "cell_type": "markdown",
   "source": [
    "### Quick Scalar Rundown\n",
    "\n",
    "A scalar is a single numerical value that represents a quantity without any directional information. It's a fundamental concept in mathematics, physics, and computer science. Here are some key points about scalars:\n",
    "\n",
    "1. **Definition**: A scalar is a quantity that can be fully described by its magnitude (size or amount) alone.\n",
    "2. **Contrast with vectors**: Unlike vectors, which have both magnitude and direction, scalars only have magnitude.\n",
    "3. **Examples**:\n",
    "    - ***Physics***: Temperature, mass, energy, time\n",
    "    - ***Mathematics***: Real numbers, complex numbers\n",
    "    - ***Computing***: Integer and floating-point variables\n",
    "4. **Operations**: Scalars can be added, subtracted, multiplied, and divided using regular arithmetic operations.\n",
    "5. **Programming**: In many programming languages, basic data types like integers and floats are scalar values."
   ],
   "id": "fa5a98c3a07b2476"
  },
  {
   "cell_type": "code",
   "id": "initial_id",
   "metadata": {
    "collapsed": true,
    "ExecuteTime": {
     "end_time": "2024-08-01T11:37:20.440889Z",
     "start_time": "2024-08-01T11:37:20.432811Z"
    }
   },
   "source": [
    "# Scalar\n",
    "scalar = torch.tensor(7)\n",
    "\n",
    "print(scalar)"
   ],
   "outputs": [
    {
     "name": "stdout",
     "output_type": "stream",
     "text": [
      "tensor(7)\n"
     ]
    }
   ],
   "execution_count": 2
  },
  {
   "metadata": {
    "ExecuteTime": {
     "end_time": "2024-08-01T11:37:20.452785Z",
     "start_time": "2024-08-01T11:37:20.445259Z"
    }
   },
   "cell_type": "code",
   "source": [
    "# Show the number of dimensions of the scalar\n",
    "scalar.ndim"
   ],
   "id": "18c39cdbd720b897",
   "outputs": [
    {
     "data": {
      "text/plain": [
       "0"
      ]
     },
     "execution_count": 3,
     "metadata": {},
     "output_type": "execute_result"
    }
   ],
   "execution_count": 3
  },
  {
   "metadata": {
    "ExecuteTime": {
     "end_time": "2024-08-01T11:37:20.520527Z",
     "start_time": "2024-08-01T11:37:20.455240Z"
    }
   },
   "cell_type": "code",
   "source": [
    "# Get scalar back as Python integer\n",
    "scalar.item()"
   ],
   "id": "38b995102de0982",
   "outputs": [
    {
     "data": {
      "text/plain": [
       "7"
      ]
     },
     "execution_count": 4,
     "metadata": {},
     "output_type": "execute_result"
    }
   ],
   "execution_count": 4
  },
  {
   "metadata": {},
   "cell_type": "markdown",
   "source": [
    "### Quick Vector Rundown\n",
    "\n",
    "A vector is a quantity that has both magnitude and direction. It's a fundamental concept in mathematics, physics, and computer science. Here are some key points about vectors:\n",
    "\n",
    "1. **Definition**: A vector is a quantity that is fully described by both its magnitude (size or amount) and direction.\n",
    "2. **Contrast with scalars**: Unlike scalars, which have only magnitude, vectors have both magnitude and direction.\n",
    "3. **Examples**:\n",
    "    - **Physics**: Velocity, force, displacement, acceleration\n",
    "    - **Mathematics**: Ordered pairs/triplets, complex numbers (represented as points in a plane)\n",
    "    - **Computing**: Arrays or lists that store multiple values\n",
    "4. **Operations**: Vectors can be added, subtracted, scaled (multiplied by a scalar), and used in dot- and cross-products.\n",
    "5. **Programming**: In many programming languages, data structures like arrays and lists can represent vectors."
   ],
   "id": "5f5de739e413a8e8"
  },
  {
   "metadata": {
    "ExecuteTime": {
     "end_time": "2024-08-01T11:37:20.537789Z",
     "start_time": "2024-08-01T11:37:20.522619Z"
    }
   },
   "cell_type": "code",
   "source": [
    "# Vector\n",
    "vector = torch.tensor([7, 7])\n",
    "\n",
    "vector"
   ],
   "id": "284ca6db23b54d42",
   "outputs": [
    {
     "data": {
      "text/plain": [
       "tensor([7, 7])"
      ]
     },
     "execution_count": 5,
     "metadata": {},
     "output_type": "execute_result"
    }
   ],
   "execution_count": 5
  },
  {
   "metadata": {
    "ExecuteTime": {
     "end_time": "2024-08-01T11:37:20.547068Z",
     "start_time": "2024-08-01T11:37:20.538808Z"
    }
   },
   "cell_type": "code",
   "source": [
    "# Show the number of dimensions of the vector\n",
    "vector.ndim"
   ],
   "id": "449fdde554bf87ed",
   "outputs": [
    {
     "data": {
      "text/plain": [
       "1"
      ]
     },
     "execution_count": 6,
     "metadata": {},
     "output_type": "execute_result"
    }
   ],
   "execution_count": 6
  },
  {
   "metadata": {
    "ExecuteTime": {
     "end_time": "2024-08-01T11:37:20.575974Z",
     "start_time": "2024-08-01T11:37:20.549104Z"
    }
   },
   "cell_type": "code",
   "source": [
    "# Get the shape of the vector\n",
    "vector.shape"
   ],
   "id": "a79b9be2566003c0",
   "outputs": [
    {
     "data": {
      "text/plain": [
       "torch.Size([2])"
      ]
     },
     "execution_count": 7,
     "metadata": {},
     "output_type": "execute_result"
    }
   ],
   "execution_count": 7
  },
  {
   "metadata": {},
   "cell_type": "markdown",
   "source": [
    "### Quick Matrix Rundown\n",
    "\n",
    "A matrix is an array of numbers arranged in rows and columns. It's a fundamental concept in mathematics, physics, and computer science. Here are some key points about matrices:\n",
    "\n",
    "1. **Definition**: A matrix is a rectangular array of numbers, symbols, or expressions, arranged in rows and columns.\n",
    "2. **Dimensions**: The dimensions of a matrix are given by the number of rows and columns (e.g., a 3x2 matrix has 3 rows and 2 columns).\n",
    "3. **Examples**:\n",
    "    - **Mathematics**: Systems of linear equations, transformations in geometry\n",
    "    - **Physics**: Representation of linear transformations, state vectors in quantum mechanics\n",
    "    - **Computing**: Image data (pixels arranged in rows and columns), adjacency matrices in graph theory\n",
    "4. **Operations**: Matrices can be added, subtracted, and multiplied. They can also be used in operations such as transposition, inversion, and finding determinants.\n",
    "5. **Programming**: In many programming languages, matrices are implemented as two-dimensional arrays or lists of lists.\n",
    "\n"
   ],
   "id": "575b190a23b638b0"
  },
  {
   "metadata": {
    "ExecuteTime": {
     "end_time": "2024-08-01T11:37:20.690222Z",
     "start_time": "2024-08-01T11:37:20.577920Z"
    }
   },
   "cell_type": "code",
   "source": [
    "# Matrix\n",
    "MATRIX = torch.tensor([[7, 8],\n",
    "                       [9, 10]])\n",
    "\n",
    "MATRIX"
   ],
   "id": "df16e7897aa85875",
   "outputs": [
    {
     "data": {
      "text/plain": [
       "tensor([[ 7,  8],\n",
       "        [ 9, 10]])"
      ]
     },
     "execution_count": 8,
     "metadata": {},
     "output_type": "execute_result"
    }
   ],
   "execution_count": 8
  },
  {
   "metadata": {
    "ExecuteTime": {
     "end_time": "2024-08-01T11:37:20.698246Z",
     "start_time": "2024-08-01T11:37:20.691446Z"
    }
   },
   "cell_type": "code",
   "source": [
    "# Show the number of dimensions of the matrix\n",
    "MATRIX.ndim"
   ],
   "id": "eda18cc2f23e52be",
   "outputs": [
    {
     "data": {
      "text/plain": [
       "2"
      ]
     },
     "execution_count": 9,
     "metadata": {},
     "output_type": "execute_result"
    }
   ],
   "execution_count": 9
  },
  {
   "metadata": {
    "ExecuteTime": {
     "end_time": "2024-08-01T11:37:20.711480Z",
     "start_time": "2024-08-01T11:37:20.701025Z"
    }
   },
   "cell_type": "code",
   "source": [
    "# Print the 1st and 2nd element of the matrix\n",
    "print(MATRIX[0])\n",
    "print(MATRIX[1])"
   ],
   "id": "18acf2c2f0042d4e",
   "outputs": [
    {
     "name": "stdout",
     "output_type": "stream",
     "text": [
      "tensor([7, 8])\n",
      "tensor([ 9, 10])\n"
     ]
    }
   ],
   "execution_count": 10
  },
  {
   "metadata": {
    "ExecuteTime": {
     "end_time": "2024-08-01T11:37:20.718806Z",
     "start_time": "2024-08-01T11:37:20.713465Z"
    }
   },
   "cell_type": "code",
   "source": [
    "# Get the shape of the matrix\n",
    "MATRIX.shape"
   ],
   "id": "930b32d5cb02c345",
   "outputs": [
    {
     "data": {
      "text/plain": [
       "torch.Size([2, 2])"
      ]
     },
     "execution_count": 11,
     "metadata": {},
     "output_type": "execute_result"
    }
   ],
   "execution_count": 11
  },
  {
   "metadata": {},
   "cell_type": "markdown",
   "source": [
    "### Quick Tensor Rundown\n",
    "\n",
    "A tensor is a multidimensional array of numerical values that generalizes the concepts of scalars, vectors, and matrices. It's a fundamental concept in mathematics, physics, and computer science. Here are some key points about tensors:\n",
    "\n",
    "1. **Definition**: A tensor is a multidimensional array of numbers that generalizes scalars (0-dimensional), vectors (1-dimensional), and matrices (2-dimensional) to higher dimensions.\n",
    "2. **Dimensions (Ranks)**: The rank of a tensor refers to the number of dimensions (or indices) required to describe it. For example, a scalar is a rank-0 tensor, a vector is a rank-1 tensor, and a matrix is a rank-2 tensor.\n",
    "3. **Examples**:\n",
    "    - **Physics**: Stress and strain tensors in mechanics, the metric tensor in general relativity\n",
    "    - **Mathematics**: Multi-linear maps, higher-order generalizations of matrices\n",
    "    - **Computing**: Multidimensional arrays used in machine learning and data representation (e.g., images, video, and more complex datasets)\n",
    "4. **Operations**: Tensors can undergo various operations such as addition, subtraction, multiplication (including dot product and tensor product), contraction, and transformations.\n",
    "5. **Programming**: In many programming languages and frameworks (like TensorFlow and PyTorch), tensors are used to represent and manipulate data for machine learning and other numerical computations.\n",
    "\n",
    "[Tensors explained](https://youtu.be/f5liqUk0ZTw)."
   ],
   "id": "26fd1615130975fc"
  },
  {
   "metadata": {
    "ExecuteTime": {
     "end_time": "2024-08-01T11:37:20.727290Z",
     "start_time": "2024-08-01T11:37:20.720782Z"
    }
   },
   "cell_type": "code",
   "source": [
    "# Tensor\n",
    "TENSOR = torch.tensor([[[1, 2, 3],\n",
    "                        [3, 6, 8],\n",
    "                        [2, 4, 5]]])\n",
    "\n",
    "TENSOR"
   ],
   "id": "108159089b383072",
   "outputs": [
    {
     "data": {
      "text/plain": [
       "tensor([[[1, 2, 3],\n",
       "         [3, 6, 8],\n",
       "         [2, 4, 5]]])"
      ]
     },
     "execution_count": 12,
     "metadata": {},
     "output_type": "execute_result"
    }
   ],
   "execution_count": 12
  },
  {
   "metadata": {
    "ExecuteTime": {
     "end_time": "2024-08-01T11:37:20.737840Z",
     "start_time": "2024-08-01T11:37:20.728677Z"
    }
   },
   "cell_type": "code",
   "source": [
    "# Show the number of dimensions of the tensor\n",
    "TENSOR.ndim"
   ],
   "id": "65c98390aaf7cd11",
   "outputs": [
    {
     "data": {
      "text/plain": [
       "3"
      ]
     },
     "execution_count": 13,
     "metadata": {},
     "output_type": "execute_result"
    }
   ],
   "execution_count": 13
  },
  {
   "metadata": {
    "ExecuteTime": {
     "end_time": "2024-08-01T11:37:20.743098Z",
     "start_time": "2024-08-01T11:37:20.738688Z"
    }
   },
   "cell_type": "code",
   "source": [
    "# Get the shape of the matrix\n",
    "TENSOR.shape"
   ],
   "id": "d7295b9a2a002b9f",
   "outputs": [
    {
     "data": {
      "text/plain": [
       "torch.Size([1, 3, 3])"
      ]
     },
     "execution_count": 14,
     "metadata": {},
     "output_type": "execute_result"
    }
   ],
   "execution_count": 14
  },
  {
   "metadata": {},
   "cell_type": "markdown",
   "source": [
    "<p>\n",
    "    <img src=\"00.markdown_images/00-pytorch-different-tensor-dimensions.png\" alt=\"Different Tensor Dimensions\" width=720\" height=\"360\">\n",
    "</p>"
   ],
   "id": "ce01464166808b89"
  },
  {
   "metadata": {},
   "cell_type": "markdown",
   "source": [
    "### Short Summary\n",
    "\n",
    "### Let's Summarize\n",
    "\n",
    "| Name    | What is it?                                                                                                               | Number of dimensions | Lower or upper (usually/example) |\n",
    "|---------|---------------------------------------------------------------------------------------------------------------------------|----------------------|----------------------------------|\n",
    "| Scalar  | A single number                                                                                                           | 0                    | Lower (a)                        |\n",
    "| Vector  | A number with direction (e.g., wind speed with direction) but can also have many other numbers                            | 1                    | Lower (y)                        |\n",
    "| Matrix  | A 2-dimensional array of numbers                                                                                          | 2                    | Upper (Q)                        |\n",
    "| Tensor  | An n-dimensional array of numbers; can be any number, a 0-dimension tensor is a scalar, a 1-dimension tensor is a vector  | Can be any number    | Upper (X)                        |\n",
    "\n",
    "<p>\n",
    "    <img src=\"00.markdown_images/00-scalar-vector-matrix-tensor.png\" alt=\"Scalar Vector Matrix Tensor\" width=400\" height=\"450\">\n",
    "</p>"
   ],
   "id": "161266f679fdbcf8"
  },
  {
   "metadata": {},
   "cell_type": "markdown",
   "source": [
    "## Random Tensors\n",
    "\n",
    "Random tensors are important because the way many neural networks learn is that they start with tensors full of random numbers and then adjust those random numbers to better represent the data. ->\n",
    "\n",
    "`Start with random numbers -> Look at data -> Update random numbers -> Look at data -> Update random numbers`"
   ],
   "id": "890d3898a288eb90"
  },
  {
   "metadata": {
    "ExecuteTime": {
     "end_time": "2024-08-01T11:37:20.755561Z",
     "start_time": "2024-08-01T11:37:20.743918Z"
    }
   },
   "cell_type": "code",
   "source": [
    "# Create a random tensor of size/shape (3, 4)\n",
    "random_tensor = torch.rand(3, 4)\n",
    "\n",
    "random_tensor"
   ],
   "id": "153f55e76b63fd3e",
   "outputs": [
    {
     "data": {
      "text/plain": [
       "tensor([[0.2235, 0.4139, 0.0233, 0.3850],\n",
       "        [0.7197, 0.5951, 0.5750, 0.9524],\n",
       "        [0.0447, 0.9434, 0.5421, 0.7746]])"
      ]
     },
     "execution_count": 15,
     "metadata": {},
     "output_type": "execute_result"
    }
   ],
   "execution_count": 15
  },
  {
   "metadata": {
    "ExecuteTime": {
     "end_time": "2024-08-01T11:37:20.763927Z",
     "start_time": "2024-08-01T11:37:20.757221Z"
    }
   },
   "cell_type": "code",
   "source": [
    "# Random tensor number of dimensions\n",
    "random_tensor.ndim"
   ],
   "id": "1d3c7a871b4ee1b6",
   "outputs": [
    {
     "data": {
      "text/plain": [
       "2"
      ]
     },
     "execution_count": 16,
     "metadata": {},
     "output_type": "execute_result"
    }
   ],
   "execution_count": 16
  },
  {
   "metadata": {
    "ExecuteTime": {
     "end_time": "2024-08-01T11:37:20.775986Z",
     "start_time": "2024-08-01T11:37:20.765461Z"
    }
   },
   "cell_type": "code",
   "source": [
    "# Random tensor shape\n",
    "random_tensor.shape"
   ],
   "id": "520b65810d8331f",
   "outputs": [
    {
     "data": {
      "text/plain": [
       "torch.Size([3, 4])"
      ]
     },
     "execution_count": 17,
     "metadata": {},
     "output_type": "execute_result"
    }
   ],
   "execution_count": 17
  },
  {
   "metadata": {
    "ExecuteTime": {
     "end_time": "2024-08-01T11:37:20.786399Z",
     "start_time": "2024-08-01T11:37:20.777362Z"
    }
   },
   "cell_type": "code",
   "source": [
    "# Create a random tensor with similar shape to an image tensor (height, width, color channels)\n",
    "random_image_size_tensor = torch.rand(size=(224, 224, 3))\n",
    "\n",
    "random_image_size_tensor"
   ],
   "id": "b78d24d8a3bc3321",
   "outputs": [
    {
     "data": {
      "text/plain": [
       "tensor([[[0.1023, 0.5761, 0.0926],\n",
       "         [0.4593, 0.3656, 0.0701],\n",
       "         [0.4649, 0.8382, 0.8489],\n",
       "         ...,\n",
       "         [0.7997, 0.8590, 0.4013],\n",
       "         [0.1945, 0.3299, 0.4408],\n",
       "         [0.8774, 0.0526, 0.2279]],\n",
       "\n",
       "        [[0.9696, 0.1777, 0.0916],\n",
       "         [0.4592, 0.6286, 0.5062],\n",
       "         [0.4323, 0.6758, 0.8740],\n",
       "         ...,\n",
       "         [0.3536, 0.5799, 0.2875],\n",
       "         [0.1751, 0.5136, 0.4729],\n",
       "         [0.6508, 0.8313, 0.5836]],\n",
       "\n",
       "        [[0.4275, 0.6027, 0.8339],\n",
       "         [0.7579, 0.7406, 0.8573],\n",
       "         [0.6278, 0.2215, 0.8170],\n",
       "         ...,\n",
       "         [0.1288, 0.7888, 0.0159],\n",
       "         [0.0618, 0.4825, 0.6389],\n",
       "         [0.9098, 0.7609, 0.5879]],\n",
       "\n",
       "        ...,\n",
       "\n",
       "        [[0.9383, 0.4544, 0.7229],\n",
       "         [0.1574, 0.3112, 0.8281],\n",
       "         [0.1973, 0.5055, 0.9154],\n",
       "         ...,\n",
       "         [0.3311, 0.7382, 0.9498],\n",
       "         [0.1164, 0.6434, 0.9372],\n",
       "         [0.8064, 0.8598, 0.1184]],\n",
       "\n",
       "        [[0.1193, 0.6617, 0.8482],\n",
       "         [0.5691, 0.9021, 0.2064],\n",
       "         [0.1335, 0.1196, 0.3374],\n",
       "         ...,\n",
       "         [0.1032, 0.0357, 0.8908],\n",
       "         [0.1265, 0.8641, 0.9393],\n",
       "         [0.4664, 0.4802, 0.7397]],\n",
       "\n",
       "        [[0.2726, 0.8927, 0.5354],\n",
       "         [0.1278, 0.9710, 0.2252],\n",
       "         [0.0357, 0.8126, 0.7943],\n",
       "         ...,\n",
       "         [0.6937, 0.9958, 0.3561],\n",
       "         [0.9716, 0.9901, 0.7579],\n",
       "         [0.5400, 0.2551, 0.7573]]])"
      ]
     },
     "execution_count": 18,
     "metadata": {},
     "output_type": "execute_result"
    }
   ],
   "execution_count": 18
  },
  {
   "metadata": {
    "ExecuteTime": {
     "end_time": "2024-08-01T11:37:20.792132Z",
     "start_time": "2024-08-01T11:37:20.788062Z"
    }
   },
   "cell_type": "code",
   "source": [
    "# Random tensor number of dimensions\n",
    "random_image_size_tensor.ndim"
   ],
   "id": "4eeee27ade4d4cee",
   "outputs": [
    {
     "data": {
      "text/plain": [
       "3"
      ]
     },
     "execution_count": 19,
     "metadata": {},
     "output_type": "execute_result"
    }
   ],
   "execution_count": 19
  },
  {
   "metadata": {
    "ExecuteTime": {
     "end_time": "2024-08-01T11:37:20.799244Z",
     "start_time": "2024-08-01T11:37:20.793510Z"
    }
   },
   "cell_type": "code",
   "source": [
    "# Random tensor shape\n",
    "random_image_size_tensor.shape"
   ],
   "id": "ab36a9afc977864",
   "outputs": [
    {
     "data": {
      "text/plain": [
       "torch.Size([224, 224, 3])"
      ]
     },
     "execution_count": 20,
     "metadata": {},
     "output_type": "execute_result"
    }
   ],
   "execution_count": 20
  },
  {
   "metadata": {},
   "cell_type": "markdown",
   "source": "### Zeros and Ones",
   "id": "d89c016932cf31dc"
  },
  {
   "metadata": {
    "ExecuteTime": {
     "end_time": "2024-08-01T11:37:20.808432Z",
     "start_time": "2024-08-01T11:37:20.800154Z"
    }
   },
   "cell_type": "code",
   "source": [
    "# Creating a tensor of all zeros\n",
    "zeros = torch.zeros(size=(3, 4))\n",
    "\n",
    "zeros"
   ],
   "id": "23616d7c2e786ee5",
   "outputs": [
    {
     "data": {
      "text/plain": [
       "tensor([[0., 0., 0., 0.],\n",
       "        [0., 0., 0., 0.],\n",
       "        [0., 0., 0., 0.]])"
      ]
     },
     "execution_count": 21,
     "metadata": {},
     "output_type": "execute_result"
    }
   ],
   "execution_count": 21
  },
  {
   "metadata": {
    "ExecuteTime": {
     "end_time": "2024-08-01T11:37:20.815843Z",
     "start_time": "2024-08-01T11:37:20.809292Z"
    }
   },
   "cell_type": "code",
   "source": [
    "# Multiplying zeros tensor with random_tensor\n",
    "zeros * random_tensor"
   ],
   "id": "3314575732159c1a",
   "outputs": [
    {
     "data": {
      "text/plain": [
       "tensor([[0., 0., 0., 0.],\n",
       "        [0., 0., 0., 0.],\n",
       "        [0., 0., 0., 0.]])"
      ]
     },
     "execution_count": 22,
     "metadata": {},
     "output_type": "execute_result"
    }
   ],
   "execution_count": 22
  },
  {
   "metadata": {
    "ExecuteTime": {
     "end_time": "2024-08-01T11:37:20.823144Z",
     "start_time": "2024-08-01T11:37:20.816839Z"
    }
   },
   "cell_type": "code",
   "source": [
    "# Creating a tensor of all ones\n",
    "ones = torch.ones(size=(3, 4))\n",
    "\n",
    "ones"
   ],
   "id": "c21b4c120e4e5e3c",
   "outputs": [
    {
     "data": {
      "text/plain": [
       "tensor([[1., 1., 1., 1.],\n",
       "        [1., 1., 1., 1.],\n",
       "        [1., 1., 1., 1.]])"
      ]
     },
     "execution_count": 23,
     "metadata": {},
     "output_type": "execute_result"
    }
   ],
   "execution_count": 23
  },
  {
   "metadata": {
    "ExecuteTime": {
     "end_time": "2024-08-01T11:37:20.832856Z",
     "start_time": "2024-08-01T11:37:20.823931Z"
    }
   },
   "cell_type": "code",
   "source": [
    "# Data type of zeros, ones, random_tensor0\n",
    "print(zeros.dtype)\n",
    "print(ones.dtype)\n",
    "print(random_tensor.dtype)"
   ],
   "id": "dced46e0c51a0921",
   "outputs": [
    {
     "name": "stdout",
     "output_type": "stream",
     "text": [
      "torch.float32\n",
      "torch.float32\n",
      "torch.float32\n"
     ]
    }
   ],
   "execution_count": 24
  },
  {
   "metadata": {},
   "cell_type": "markdown",
   "source": "### Creating a range of tensors and tensors-like",
   "id": "de68ac56b302de87"
  },
  {
   "metadata": {
    "ExecuteTime": {
     "end_time": "2024-08-01T11:37:20.839478Z",
     "start_time": "2024-08-01T11:37:20.833651Z"
    }
   },
   "cell_type": "code",
   "source": [
    "# Using torch.arange(start, stop, step)\n",
    "one_to_ten = torch.arange(1, 11, 1)\n",
    "\n",
    "one_to_ten"
   ],
   "id": "86f8ea285dcd3807",
   "outputs": [
    {
     "data": {
      "text/plain": [
       "tensor([ 1,  2,  3,  4,  5,  6,  7,  8,  9, 10])"
      ]
     },
     "execution_count": 25,
     "metadata": {},
     "output_type": "execute_result"
    }
   ],
   "execution_count": 25
  },
  {
   "metadata": {},
   "cell_type": "markdown",
   "source": [
    "#### Tensor Like\n",
    "Sometimes you might want one tensor of a certain type with the same shape as another tensor.\n",
    "\n",
    "For example, a tensor of all zeros with the same shape as a previous tensor.\n",
    "\n",
    "To do so, you can use `torch.zeros_like(input)` or `torch.ones_like(input)` which return a tensor filled with zeros or ones in the same shape as the input respectively."
   ],
   "id": "4f4b207630244913"
  },
  {
   "metadata": {
    "ExecuteTime": {
     "end_time": "2024-08-01T11:37:20.852974Z",
     "start_time": "2024-08-01T11:37:20.841499Z"
    }
   },
   "cell_type": "code",
   "source": [
    "# Creating tensor like\n",
    "ten_zeros = torch.zeros_like(input=one_to_ten)\n",
    "\n",
    "ten_zeros"
   ],
   "id": "eed06235fddc33c1",
   "outputs": [
    {
     "data": {
      "text/plain": [
       "tensor([0, 0, 0, 0, 0, 0, 0, 0, 0, 0])"
      ]
     },
     "execution_count": 26,
     "metadata": {},
     "output_type": "execute_result"
    }
   ],
   "execution_count": 26
  },
  {
   "metadata": {},
   "cell_type": "markdown",
   "source": [
    "### [Tensor datatypes](https://pytorch.org/docs/stable/tensors.html#data-types)\n",
    "\n",
    "**NB!** Tensor datatypes is one of the 3 big errors you'll run into with PyTorch and Deep Learning:\n",
    "1. Tensors are not the right datatype.\n",
    "2. Tensors are not the right shape.\n",
    "3. Tensors are not on the right device (CPU or CUDA)."
   ],
   "id": "9689858cdedee989"
  },
  {
   "metadata": {
    "ExecuteTime": {
     "end_time": "2024-08-01T11:37:20.862337Z",
     "start_time": "2024-08-01T11:37:20.855556Z"
    }
   },
   "cell_type": "code",
   "source": [
    "# Float32 tensor <- This is the DEFAULT datatype\n",
    "float_32_tensor = torch.tensor([3.0, 6.0, 9.0], \n",
    "                               dtype=None,  # What datatype is the tensor (e.g., float32, float16, etc.)\n",
    "                               device=None, # What device is your tensor on\n",
    "                               requires_grad=False) # Whether to track gradients with these tensor operations.\n",
    "\n",
    "print(float_32_tensor)\n",
    "print(float_32_tensor.dtype)"
   ],
   "id": "8514bb4f805e2dae",
   "outputs": [
    {
     "name": "stdout",
     "output_type": "stream",
     "text": [
      "tensor([3., 6., 9.])\n",
      "torch.float32\n"
     ]
    }
   ],
   "execution_count": 27
  },
  {
   "metadata": {
    "ExecuteTime": {
     "end_time": "2024-08-01T11:37:20.877314Z",
     "start_time": "2024-08-01T11:37:20.866822Z"
    }
   },
   "cell_type": "code",
   "source": [
    "# Float16 tensor\n",
    "# In this case, we convert float_32_tensor to float16 tensor.\n",
    "float_16_tensor = float_32_tensor.type(torch.float16)\n",
    "\n",
    "float_16_tensor"
   ],
   "id": "f02a2bd2182c8a54",
   "outputs": [
    {
     "data": {
      "text/plain": [
       "tensor([3., 6., 9.], dtype=torch.float16)"
      ]
     },
     "execution_count": 28,
     "metadata": {},
     "output_type": "execute_result"
    }
   ],
   "execution_count": 28
  },
  {
   "metadata": {
    "ExecuteTime": {
     "end_time": "2024-08-01T11:37:20.895507Z",
     "start_time": "2024-08-01T11:37:20.879989Z"
    }
   },
   "cell_type": "code",
   "source": [
    "# Int32 Tensor\n",
    "int_32_tensor = torch.tensor([3, 6, 9], dtype=torch.int32)\n",
    "\n",
    "int_32_tensor"
   ],
   "id": "27f615f27816305a",
   "outputs": [
    {
     "data": {
      "text/plain": [
       "tensor([3, 6, 9], dtype=torch.int32)"
      ]
     },
     "execution_count": 29,
     "metadata": {},
     "output_type": "execute_result"
    }
   ],
   "execution_count": 29
  },
  {
   "metadata": {},
   "cell_type": "markdown",
   "source": [
    "### Getting information from tensors\n",
    "\n",
    "1. Tensors are not the right datatype -> To get the datatype of tensor, you can use `tensor.dtype`\n",
    "2. Tensors are not the right shape -> To get the shape of the tensor, you can use `tensor.shape`.\n",
    "3. Tensors are not on the right device -> To get the device from a tensor, you can use `tensor.device`."
   ],
   "id": "533695cb9d87e7e"
  },
  {
   "metadata": {
    "ExecuteTime": {
     "end_time": "2024-08-01T11:37:20.908980Z",
     "start_time": "2024-08-01T11:37:20.896462Z"
    }
   },
   "cell_type": "code",
   "source": [
    "# Creating a tensor\n",
    "some_tensor = torch.rand(3, 4)\n",
    "\n",
    "some_tensor"
   ],
   "id": "ce03b1c2d81a995b",
   "outputs": [
    {
     "data": {
      "text/plain": [
       "tensor([[0.5875, 0.8106, 0.5837, 0.3926],\n",
       "        [0.8538, 0.1878, 0.6159, 0.4631],\n",
       "        [0.1821, 0.5246, 0.3229, 0.9359]])"
      ]
     },
     "execution_count": 30,
     "metadata": {},
     "output_type": "execute_result"
    }
   ],
   "execution_count": 30
  },
  {
   "metadata": {
    "ExecuteTime": {
     "end_time": "2024-08-01T11:37:20.914858Z",
     "start_time": "2024-08-01T11:37:20.910128Z"
    }
   },
   "cell_type": "code",
   "source": [
    "# Finding out information about the tensor\n",
    "print(some_tensor)\n",
    "print(f\"The tensor's datatype is: {some_tensor.dtype}\")\n",
    "print(f\"The tensor's shape is: {some_tensor.shape}\")\n",
    "print(f\"The tensor's device is: {some_tensor.device}\")\n"
   ],
   "id": "c1cf17dd58acbca1",
   "outputs": [
    {
     "name": "stdout",
     "output_type": "stream",
     "text": [
      "tensor([[0.5875, 0.8106, 0.5837, 0.3926],\n",
      "        [0.8538, 0.1878, 0.6159, 0.4631],\n",
      "        [0.1821, 0.5246, 0.3229, 0.9359]])\n",
      "The tensor's datatype is: torch.float32\n",
      "The tensor's shape is: torch.Size([3, 4])\n",
      "The tensor's device is: cpu\n"
     ]
    }
   ],
   "execution_count": 31
  },
  {
   "metadata": {},
   "cell_type": "markdown",
   "source": [
    "### Manipulating Tensors\n",
    "#### (Tensor Operations)\n",
    "\n",
    "Tensor operations include: \n",
    "* Addition\n",
    "* Subtraction\n",
    "* Multiplication (element-wise)\n",
    "* Division\n",
    "* Matrix Multiplication"
   ],
   "id": "5bb965125087ae28"
  },
  {
   "metadata": {
    "ExecuteTime": {
     "end_time": "2024-08-01T11:37:20.926074Z",
     "start_time": "2024-08-01T11:37:20.915895Z"
    }
   },
   "cell_type": "code",
   "source": [
    "# Create a tensor\n",
    "tensor = torch.tensor([1, 2, 3])\n",
    "\n",
    "tensor"
   ],
   "id": "c39f2d4414cbd2b5",
   "outputs": [
    {
     "data": {
      "text/plain": [
       "tensor([1, 2, 3])"
      ]
     },
     "execution_count": 32,
     "metadata": {},
     "output_type": "execute_result"
    }
   ],
   "execution_count": 32
  },
  {
   "metadata": {
    "ExecuteTime": {
     "end_time": "2024-08-01T11:37:20.936367Z",
     "start_time": "2024-08-01T11:37:20.927577Z"
    }
   },
   "cell_type": "code",
   "source": [
    "# Add 10 to the created tensor\n",
    "print(tensor + 10)\n",
    "\n",
    "# PyTorch built-in function `add`\n",
    "print(torch.add(tensor, 10))"
   ],
   "id": "bf850d0e7f07000b",
   "outputs": [
    {
     "name": "stdout",
     "output_type": "stream",
     "text": [
      "tensor([11, 12, 13])\n",
      "tensor([11, 12, 13])\n"
     ]
    }
   ],
   "execution_count": 33
  },
  {
   "metadata": {
    "ExecuteTime": {
     "end_time": "2024-08-01T11:37:20.949600Z",
     "start_time": "2024-08-01T11:37:20.938305Z"
    }
   },
   "cell_type": "code",
   "source": [
    "# Multiply by 10 the created tensor\n",
    "print(tensor * 10)\n",
    "\n",
    "# PyTorch built-in function `mul`\n",
    "print(torch.mul(tensor, 10))"
   ],
   "id": "98c235d927576a26",
   "outputs": [
    {
     "name": "stdout",
     "output_type": "stream",
     "text": [
      "tensor([10, 20, 30])\n",
      "tensor([10, 20, 30])\n"
     ]
    }
   ],
   "execution_count": 34
  },
  {
   "metadata": {
    "ExecuteTime": {
     "end_time": "2024-08-01T11:37:20.960573Z",
     "start_time": "2024-08-01T11:37:20.950748Z"
    }
   },
   "cell_type": "code",
   "source": [
    "# Subtract 10 from the tensor\n",
    "print(tensor - 10)\n",
    "\n",
    "# PyTorch built-in function `sub`\n",
    "print(torch.sub(tensor, 10))"
   ],
   "id": "2502e69901ece0b1",
   "outputs": [
    {
     "name": "stdout",
     "output_type": "stream",
     "text": [
      "tensor([-9, -8, -7])\n",
      "tensor([-9, -8, -7])\n"
     ]
    }
   ],
   "execution_count": 35
  },
  {
   "metadata": {},
   "cell_type": "markdown",
   "source": "",
   "id": "32fa64efe74007f7"
  },
  {
   "metadata": {},
   "cell_type": "markdown",
   "source": [
    "### Matrix multiplication\n",
    "\n",
    "There are 2 main ways to multiply matrices:\n",
    "1. Element-wise multiplication\n",
    "2. Matrix multiplication (Dot product)\n",
    "\n",
    "There are two main rues that performing matrix multiplication need to satisfy:\n",
    "1. The **inner dimensions** must match: \n",
    "* `(3, `**2**`) @ (`**3**`, 2)` <-- Won't work.\n",
    "* `(2, `**3**`) @ (`**3**`, 2)` <-- Will work.\n",
    "* `(3, `**2**`) @ (`**2**`, 3)` <-- Will work.\n",
    "2. The resulting matrix has the shape of the **outer dimensions**.\n",
    "* `(`**2**`, 3) @ (3, `**2**`)` --> This matrix has the shape `(`**2**`, `**2**`)`\n",
    "* `(`**3**`, 2) @ (2, `**3**`)` --> This matrix has the shape `(`**3**`, `**3**`)`\n",
    "\n",
    "[Matrix multiplication training](http://matrixmultiplication.xyz)"
   ],
   "id": "868b67eb93f290b3"
  },
  {
   "metadata": {
    "ExecuteTime": {
     "end_time": "2024-08-01T11:37:20.970900Z",
     "start_time": "2024-08-01T11:37:20.961686Z"
    }
   },
   "cell_type": "code",
   "source": [
    "# Element-wise matrix multiplication\n",
    "print(f\"{tensor} * {tensor} = {tensor * tensor}\")"
   ],
   "id": "8a5d729e4709971a",
   "outputs": [
    {
     "name": "stdout",
     "output_type": "stream",
     "text": [
      "tensor([1, 2, 3]) * tensor([1, 2, 3]) = tensor([1, 4, 9])\n"
     ]
    }
   ],
   "execution_count": 36
  },
  {
   "metadata": {
    "ExecuteTime": {
     "end_time": "2024-08-01T11:37:20.984059Z",
     "start_time": "2024-08-01T11:37:20.973266Z"
    }
   },
   "cell_type": "code",
   "source": [
    "%%time\n",
    "\n",
    "# Matrix multiplication (Dot product)\n",
    "torch.matmul(tensor, tensor)\n",
    "# torch.mm(tensor, tensor) is the equivalent to the top line (line 4)"
   ],
   "id": "1c3a6fc82a46b4e6",
   "outputs": [
    {
     "name": "stdout",
     "output_type": "stream",
     "text": [
      "CPU times: user 104 μs, sys: 14 μs, total: 118 μs\n",
      "Wall time: 122 μs\n"
     ]
    },
    {
     "data": {
      "text/plain": [
       "tensor(14)"
      ]
     },
     "execution_count": 37,
     "metadata": {},
     "output_type": "execute_result"
    }
   ],
   "execution_count": 37
  },
  {
   "metadata": {
    "ExecuteTime": {
     "end_time": "2024-08-01T11:37:20.996686Z",
     "start_time": "2024-08-01T11:37:20.985310Z"
    }
   },
   "cell_type": "code",
   "source": [
    "%%time\n",
    "\n",
    "# Matrix multiplication (Dot product) by hand\n",
    "value = 0\n",
    "print(f\"Starting value is: {value}\")\n",
    "\n",
    "for i in range(len(tensor)):\n",
    "    value += tensor[i] * tensor[i]\n",
    "    \n",
    "    print(f\"{tensor[i]} * {tensor[i]} = {tensor[i] * tensor[i]}\")\n",
    "    print(f\"Current value is: {value}\")\n",
    "\n",
    "print(f\"Final value is: {value}\")"
   ],
   "id": "a48135414851953c",
   "outputs": [
    {
     "name": "stdout",
     "output_type": "stream",
     "text": [
      "Starting value is: 0\n",
      "1 * 1 = 1\n",
      "Current value is: 1\n",
      "2 * 2 = 4\n",
      "Current value is: 5\n",
      "3 * 3 = 9\n",
      "Current value is: 14\n",
      "Final value is: 14\n",
      "CPU times: user 0 ns, sys: 953 μs, total: 953 μs\n",
      "Wall time: 953 μs\n"
     ]
    }
   ],
   "execution_count": 38
  }
 ],
 "metadata": {
  "kernelspec": {
   "display_name": "Python 3",
   "language": "python",
   "name": "python3"
  },
  "language_info": {
   "codemirror_mode": {
    "name": "ipython",
    "version": 2
   },
   "file_extension": ".py",
   "mimetype": "text/x-python",
   "name": "python",
   "nbconvert_exporter": "python",
   "pygments_lexer": "ipython2",
   "version": "2.7.6"
  }
 },
 "nbformat": 4,
 "nbformat_minor": 5
}
