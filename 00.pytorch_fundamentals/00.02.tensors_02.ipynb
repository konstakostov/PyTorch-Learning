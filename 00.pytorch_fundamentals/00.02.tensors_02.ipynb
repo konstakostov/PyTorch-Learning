{
 "cells": [
  {
   "metadata": {},
   "cell_type": "markdown",
   "source": "### Importing all libraries",
   "id": "52db0024a9454c75"
  },
  {
   "metadata": {
    "ExecuteTime": {
     "end_time": "2024-08-01T11:37:20.339017Z",
     "start_time": "2024-08-01T11:37:13.662472Z"
    }
   },
   "cell_type": "code",
   "source": "import torch",
   "id": "45b174e47ee87de",
   "outputs": [],
   "execution_count": 1
  },
  {
   "metadata": {},
   "cell_type": "markdown",
   "source": "### One of the most common errors in Deep Learning: ***Shape Errors***",
   "id": "ae02d953567253c5"
  },
  {
   "metadata": {
    "ExecuteTime": {
     "end_time": "2024-08-01T11:37:20.350710Z",
     "start_time": "2024-08-01T11:37:20.342130Z"
    }
   },
   "cell_type": "code",
   "source": [
    "# Shapes for matrix multiplication\n",
    "tensor_A = torch.tensor([[1, 2],\n",
    "                         [3, 4],\n",
    "                         [5, 6]])\n",
    "\n",
    "tensor_B = torch.tensor([[7, 10],\n",
    "                         [8, 11],\n",
    "                         [9, 12]])\n",
    "\n",
    "\n",
    "# torch.mm is alias for torch.matmul\n",
    "# torch.matmul(tensor_A, tensor_B) <-- This is invalid"
   ],
   "id": "eb263efdb86d6ea5",
   "outputs": [],
   "execution_count": 2
  },
  {
   "metadata": {
    "ExecuteTime": {
     "end_time": "2024-08-01T11:37:20.364280Z",
     "start_time": "2024-08-01T11:37:20.353324Z"
    }
   },
   "cell_type": "code",
   "source": [
    "print(tensor_A.shape)\n",
    "print(tensor_B.shape)"
   ],
   "id": "7d153dcd4332fa25",
   "outputs": [
    {
     "name": "stdout",
     "output_type": "stream",
     "text": [
      "torch.Size([3, 2])\n",
      "torch.Size([3, 2])\n"
     ]
    }
   ],
   "execution_count": 3
  },
  {
   "metadata": {},
   "cell_type": "markdown",
   "source": [
    "To fix our tensor shape issues, we can manipulate the shape of one of our tensors using **transpose**\n",
    "\n",
    "A **transpose** switches the axes/dimensions of a given tensor."
   ],
   "id": "4248260374909851"
  },
  {
   "metadata": {
    "ExecuteTime": {
     "end_time": "2024-08-01T11:37:20.377251Z",
     "start_time": "2024-08-01T11:37:20.365799Z"
    }
   },
   "cell_type": "code",
   "source": [
    "# Original tensor_B\n",
    "tensor_B, tensor_B.shape"
   ],
   "id": "2ba512dfd8b3db50",
   "outputs": [
    {
     "data": {
      "text/plain": [
       "(tensor([[ 7, 10],\n",
       "         [ 8, 11],\n",
       "         [ 9, 12]]),\n",
       " torch.Size([3, 2]))"
      ]
     },
     "execution_count": 4,
     "metadata": {},
     "output_type": "execute_result"
    }
   ],
   "execution_count": 4
  },
  {
   "metadata": {
    "ExecuteTime": {
     "end_time": "2024-08-01T11:37:20.383032Z",
     "start_time": "2024-08-01T11:37:20.378245Z"
    }
   },
   "cell_type": "code",
   "source": [
    "# Transposed tensor_B\n",
    "tensor_B.T, tensor_B.T.shape\n"
   ],
   "id": "25da9561d52a57b6",
   "outputs": [
    {
     "data": {
      "text/plain": [
       "(tensor([[ 7,  8,  9],\n",
       "         [10, 11, 12]]),\n",
       " torch.Size([2, 3]))"
      ]
     },
     "execution_count": 5,
     "metadata": {},
     "output_type": "execute_result"
    }
   ],
   "execution_count": 5
  },
  {
   "metadata": {
    "ExecuteTime": {
     "end_time": "2024-08-01T11:37:20.394830Z",
     "start_time": "2024-08-01T11:37:20.384839Z"
    }
   },
   "cell_type": "code",
   "source": [
    "# Working matrix multiplication, when tensor_B is transposed\n",
    "print(f\"Original shapes: \\n\\ttensor_A: {tensor_A.shape} \\n\\ttensor_B: {tensor_B.shape}\")\n",
    "print(f\"New shapes:  \\n\\ttensor_A (Original): {tensor_A.shape} \\n\\ttensor_B (Transposed): {tensor_B.T.shape}\")\n",
    "print()\n",
    "\n",
    "output = torch.matmul(tensor_A, tensor_B.T)\n",
    "\n",
    "print(f\"Multiplying {tensor_A.shape} @ {tensor_B.T.shape} <- Inner dimensions must match.\")\n",
    "print()\n",
    "\n",
    "print(f\"Matrix multiplication result: \\n{output} \\n{output.shape}\")\n"
   ],
   "id": "68b66aa19b5aa89f",
   "outputs": [
    {
     "name": "stdout",
     "output_type": "stream",
     "text": [
      "Original shapes: \n",
      "\ttensor_A: torch.Size([3, 2]) \n",
      "\ttensor_B: torch.Size([3, 2])\n",
      "New shapes:  \n",
      "\ttensor_A (Original): torch.Size([3, 2]) \n",
      "\ttensor_B (Transposed): torch.Size([2, 3])\n",
      "\n",
      "Multiplying torch.Size([3, 2]) @ torch.Size([2, 3]) <- Inner dimensions must match.\n",
      "\n",
      "Matrix multiplication result: \n",
      "tensor([[ 27,  30,  33],\n",
      "        [ 61,  68,  75],\n",
      "        [ 95, 106, 117]]) \n",
      "torch.Size([3, 3])\n"
     ]
    }
   ],
   "execution_count": 6
  },
  {
   "metadata": {},
   "cell_type": "markdown",
   "source": [
    "### Tensor aggregation\n",
    "***Description, Simple:*** Going from more values to fewer values\n",
    "\n",
    "***Description, Complex:*** The process of combining multiple tensors into a single tensor. It can be done in several ways depending on the specific requirements, such as summing tensors, averaging them, concatenating them along a specific axis, or applying other reduction operations.\n",
    "\n",
    "Some of the viable operations: \n",
    "* Min\n",
    "* Max\n",
    "* Mean\n",
    "* Sum\n",
    "* Average\n",
    "* Concatenation"
   ],
   "id": "65d546ae14173f31"
  },
  {
   "metadata": {
    "ExecuteTime": {
     "end_time": "2024-08-01T11:37:20.405448Z",
     "start_time": "2024-08-01T11:37:20.397003Z"
    }
   },
   "cell_type": "code",
   "source": [
    "# Create a tensor\n",
    "x = torch.arange(0, 100, 10)\n",
    "\n",
    "print(x)\n",
    "print(x.shape)\n",
    "print(x.dtype)"
   ],
   "id": "84ac910438dc904e",
   "outputs": [
    {
     "name": "stdout",
     "output_type": "stream",
     "text": [
      "tensor([ 0, 10, 20, 30, 40, 50, 60, 70, 80, 90])\n",
      "torch.Size([10])\n",
      "torch.int64\n"
     ]
    }
   ],
   "execution_count": 7
  },
  {
   "metadata": {
    "ExecuteTime": {
     "end_time": "2024-08-01T11:37:20.415276Z",
     "start_time": "2024-08-01T11:37:20.406495Z"
    }
   },
   "cell_type": "code",
   "source": [
    "# Find the min value\n",
    "print(torch.min(x))\n",
    "print(x.min())"
   ],
   "id": "a4ab1df277a99c48",
   "outputs": [
    {
     "name": "stdout",
     "output_type": "stream",
     "text": [
      "tensor(0)\n",
      "tensor(0)\n"
     ]
    }
   ],
   "execution_count": 8
  },
  {
   "metadata": {
    "ExecuteTime": {
     "end_time": "2024-08-01T11:37:20.426298Z",
     "start_time": "2024-08-01T11:37:20.417235Z"
    }
   },
   "cell_type": "code",
   "source": [
    "# Find the max value\n",
    "print(torch.max(x))\n",
    "print(x.max())"
   ],
   "id": "19386753638cf151",
   "outputs": [
    {
     "name": "stdout",
     "output_type": "stream",
     "text": [
      "tensor(90)\n",
      "tensor(90)\n"
     ]
    }
   ],
   "execution_count": 9
  },
  {
   "metadata": {
    "ExecuteTime": {
     "end_time": "2024-08-01T11:37:20.444583Z",
     "start_time": "2024-08-01T11:37:20.429181Z"
    }
   },
   "cell_type": "code",
   "source": [
    "# Find the mean value\n",
    "# Note: torch.mean() requires a tensor of float or complex dtype\n",
    "print(torch.mean(x.type(torch.float32)))\n",
    "print(x.type(torch.float32).mean())"
   ],
   "id": "b8e3d03c540ea6b1",
   "outputs": [
    {
     "name": "stdout",
     "output_type": "stream",
     "text": [
      "tensor(45.)\n",
      "tensor(45.)\n"
     ]
    }
   ],
   "execution_count": 10
  },
  {
   "metadata": {
    "ExecuteTime": {
     "end_time": "2024-08-01T11:37:20.457645Z",
     "start_time": "2024-08-01T11:37:20.446622Z"
    }
   },
   "cell_type": "code",
   "source": [
    "# Find the sum value\n",
    "print(torch.sum(x))\n",
    "print(x.sum())"
   ],
   "id": "9255664b8375675",
   "outputs": [
    {
     "name": "stdout",
     "output_type": "stream",
     "text": [
      "tensor(450)\n",
      "tensor(450)\n"
     ]
    }
   ],
   "execution_count": 11
  },
  {
   "metadata": {},
   "cell_type": "markdown",
   "source": [
    "### Finding positional min and max\n",
    "***Description, Simple:*** Finding the index of a tensor where the max or minimum occurs.\n",
    "\n",
    "***Description, Complex:*** Operations where the minimum or maximum values are identified along a specific dimension (*axis*) of a tensor, and the positions (*indices*) of these values are also returned.\n",
    "\n",
    "***Operations:***\n",
    "* `torch.argmax(tensor, dimension)` <- max identified value.\n",
    "* `torch.argmin(tensor, dimension)` <- min identified value"
   ],
   "id": "7f2ec5ad1d4d8"
  },
  {
   "metadata": {
    "ExecuteTime": {
     "end_time": "2024-08-01T11:37:20.466554Z",
     "start_time": "2024-08-01T11:37:20.459312Z"
    }
   },
   "cell_type": "code",
   "source": [
    "# Positional min\n",
    "print(f\"The min index is: {x.argmin()}\")\n",
    "print(f\"The min index is: {torch.argmin(x, dim=0)}\")"
   ],
   "id": "a42ed32c6d444f67",
   "outputs": [
    {
     "name": "stdout",
     "output_type": "stream",
     "text": [
      "The min index is: 0\n",
      "The min index is: 0\n"
     ]
    }
   ],
   "execution_count": 12
  },
  {
   "metadata": {
    "ExecuteTime": {
     "end_time": "2024-08-01T11:37:20.479325Z",
     "start_time": "2024-08-01T11:37:20.470489Z"
    }
   },
   "cell_type": "code",
   "source": [
    "# Positional max\n",
    "print(f\"The max index is: {x.argmax()}\")\n",
    "print(f\"The min index is: {torch.argmax(x, dim=0)}\")"
   ],
   "id": "cdd051d76fc1575d",
   "outputs": [
    {
     "name": "stdout",
     "output_type": "stream",
     "text": [
      "The max index is: 9\n",
      "The min index is: 9\n"
     ]
    }
   ],
   "execution_count": 13
  },
  {
   "metadata": {},
   "cell_type": "markdown",
   "source": [
    "## Reshaping, Stacking, Squeezing and Unsqueezing tensors\n",
    "| Process          | Description                                                                                             | Method                        | Specific Function                                                                                             |\n",
    "|------------------|---------------------------------------------------------------------------------------------------------|-------------------------------|---------------------------------------------------------------------------------------------------------------|\n",
    "| **Reshaping**    | Reshapes an input tensor to a defined shape.                                                            | *torch.reshape(input, shape)* | Reshapes `input` to `shape` (if compatible), can also use `torch.Tensor.reshape()`.                           |\n",
    "| **Viewing**      | Returns a view of an input tensor of a certain shape, but keeps the same memory as the original tensor. | *Tensor.view(shape)*          | Returns a view of the original tensor in a different `shape` but shares the same data as the original tensor. |\n",
    "| **Stacking**     | Combining multiple tensors on top of each other (*vstack*) or side by side (*hstack*).                  | *torch.stack(tensors, dim=0)* | Concatenates a sequence of `tensors` along a new dimension (`dim`), all `tensors` must be the same size.      |\n",
    "| **Squeezing**    | Removing all `1` dimensions from a tensor.                                                              | *torch.squeeze(input)*        | Squeezes `input` to remove all the dimensions with value `1`.                                                 |\n",
    "| **Unsqueezing**  | Adding a `1` dimension to a tensor.                                                                     | *torch.unsqueeze(input, dim)* | Returns `input` with a dimension value of `1` added at `dim`.                                                 |\n",
    "| **Permuting**    | Returns a `view` of the original input with its dimensions permuted (*swapped*) in a certain way.       | *torch.permute(input, dims)*  | Returns a `view` of the original input with its dimensions permuted (rearranged) to `dims`.                   |"
   ],
   "id": "daf54623f042f690"
  },
  {
   "metadata": {
    "ExecuteTime": {
     "end_time": "2024-08-01T11:37:20.488582Z",
     "start_time": "2024-08-01T11:37:20.480332Z"
    }
   },
   "cell_type": "code",
   "source": [
    "# Creating a tensor\n",
    "x = torch.arange(1., 11.,)\n",
    "\n",
    "print(f\"{x} \\n{x.shape} \\n{x.dtype}\")"
   ],
   "id": "b714714d324f9fad",
   "outputs": [
    {
     "name": "stdout",
     "output_type": "stream",
     "text": [
      "tensor([ 1.,  2.,  3.,  4.,  5.,  6.,  7.,  8.,  9., 10.]) \n",
      "torch.Size([10]) \n",
      "torch.float32\n"
     ]
    }
   ],
   "execution_count": 14
  },
  {
   "metadata": {
    "ExecuteTime": {
     "end_time": "2024-08-01T11:37:20.502447Z",
     "start_time": "2024-08-01T11:37:20.489886Z"
    }
   },
   "cell_type": "code",
   "source": [
    "# Adding an extra dimension.\n",
    "# The elements are compatible if the original tensor shape is equal multiplication of the arguments in the .reshape()\n",
    "x_reshaped = x.reshape(5, 2)\n",
    "print(f\"{x_reshaped} \\n{x_reshaped.shape} \\n{x_reshaped.dtype}\")\n",
    "\n",
    "print()\n",
    "\n",
    "x_reshaped = x.reshape(2, 5)\n",
    "print(f\"{x_reshaped} \\n{x_reshaped.shape} \\n{x_reshaped.dtype}\")\n",
    "\n",
    "print()\n",
    "\n",
    "x_reshaped = x.reshape(10, 1)\n",
    "print(f\"{x_reshaped} \\n{x_reshaped.shape} \\n{x_reshaped.dtype}\")\n",
    "\n",
    "print()\n",
    "\n",
    "x_reshaped = x.reshape(1, 10)\n",
    "print(f\"{x_reshaped} \\n{x_reshaped.shape} \\n{x_reshaped.dtype}\")\n",
    "\n",
    "\n",
    "\n",
    "# # Invalid\n",
    "# x_reshaped = x.reshape(2, 8)\n",
    "# print(f\"{x_reshaped} \\n{x_reshaped.shape} \\n{x_reshaped.dtype}\")"
   ],
   "id": "c88690dc01d44aa9",
   "outputs": [
    {
     "name": "stdout",
     "output_type": "stream",
     "text": [
      "tensor([[ 1.,  2.],\n",
      "        [ 3.,  4.],\n",
      "        [ 5.,  6.],\n",
      "        [ 7.,  8.],\n",
      "        [ 9., 10.]]) \n",
      "torch.Size([5, 2]) \n",
      "torch.float32\n",
      "\n",
      "tensor([[ 1.,  2.,  3.,  4.,  5.],\n",
      "        [ 6.,  7.,  8.,  9., 10.]]) \n",
      "torch.Size([2, 5]) \n",
      "torch.float32\n",
      "\n",
      "tensor([[ 1.],\n",
      "        [ 2.],\n",
      "        [ 3.],\n",
      "        [ 4.],\n",
      "        [ 5.],\n",
      "        [ 6.],\n",
      "        [ 7.],\n",
      "        [ 8.],\n",
      "        [ 9.],\n",
      "        [10.]]) \n",
      "torch.Size([10, 1]) \n",
      "torch.float32\n",
      "\n",
      "tensor([[ 1.,  2.,  3.,  4.,  5.,  6.,  7.,  8.,  9., 10.]]) \n",
      "torch.Size([1, 10]) \n",
      "torch.float32\n"
     ]
    }
   ],
   "execution_count": 15
  },
  {
   "metadata": {
    "ExecuteTime": {
     "end_time": "2024-08-01T11:37:20.508586Z",
     "start_time": "2024-08-01T11:37:20.503417Z"
    }
   },
   "cell_type": "code",
   "source": [
    "# Changing the view\n",
    "z = x.view(1, 10)\n",
    "print(z, z.shape)\n",
    "\n",
    "# Changing z changes x (because a view of a tensor shares the same memory as the original tensor)\n",
    "z[:, 0] = 5\n",
    "print(z, z.shape)\n",
    "print(x, x.shape)"
   ],
   "id": "d734eac1a1b84df2",
   "outputs": [
    {
     "name": "stdout",
     "output_type": "stream",
     "text": [
      "tensor([[ 1.,  2.,  3.,  4.,  5.,  6.,  7.,  8.,  9., 10.]]) torch.Size([1, 10])\n",
      "tensor([[ 5.,  2.,  3.,  4.,  5.,  6.,  7.,  8.,  9., 10.]]) torch.Size([1, 10])\n",
      "tensor([ 5.,  2.,  3.,  4.,  5.,  6.,  7.,  8.,  9., 10.]) torch.Size([10])\n"
     ]
    }
   ],
   "execution_count": 16
  },
  {
   "metadata": {
    "ExecuteTime": {
     "end_time": "2024-08-01T11:37:20.529074Z",
     "start_time": "2024-08-01T11:37:20.511935Z"
    }
   },
   "cell_type": "code",
   "source": [
    "# Stacking tensors\n",
    "\n",
    "# Vertical stacking (vstack)\n",
    "x_stacked = torch.stack([x, x, x, x], dim=0)\n",
    "print(x_stacked)\n",
    "\n",
    "# Horizontal stacking (hstack)\n",
    "x_stacked = torch.stack([x, x, x, x], dim=1)\n",
    "print(x_stacked)"
   ],
   "id": "6842c522a8f154f4",
   "outputs": [
    {
     "name": "stdout",
     "output_type": "stream",
     "text": [
      "tensor([[ 5.,  2.,  3.,  4.,  5.,  6.,  7.,  8.,  9., 10.],\n",
      "        [ 5.,  2.,  3.,  4.,  5.,  6.,  7.,  8.,  9., 10.],\n",
      "        [ 5.,  2.,  3.,  4.,  5.,  6.,  7.,  8.,  9., 10.],\n",
      "        [ 5.,  2.,  3.,  4.,  5.,  6.,  7.,  8.,  9., 10.]])\n",
      "tensor([[ 5.,  5.,  5.,  5.],\n",
      "        [ 2.,  2.,  2.,  2.],\n",
      "        [ 3.,  3.,  3.,  3.],\n",
      "        [ 4.,  4.,  4.,  4.],\n",
      "        [ 5.,  5.,  5.,  5.],\n",
      "        [ 6.,  6.,  6.,  6.],\n",
      "        [ 7.,  7.,  7.,  7.],\n",
      "        [ 8.,  8.,  8.,  8.],\n",
      "        [ 9.,  9.,  9.,  9.],\n",
      "        [10., 10., 10., 10.]])\n"
     ]
    }
   ],
   "execution_count": 17
  },
  {
   "metadata": {
    "ExecuteTime": {
     "end_time": "2024-08-01T11:37:20.560703Z",
     "start_time": "2024-08-01T11:37:20.530400Z"
    }
   },
   "cell_type": "code",
   "source": [
    "# Squeezing a tensor\n",
    "print(f\"Previous tensor: {x_reshaped}\")\n",
    "print(f\"Previous shape: {x_reshaped.shape}\")\n",
    "\n",
    "x_squeezed = x_reshaped.squeeze()\n",
    "print()\n",
    "\n",
    "print(f\"New tensor: {x_squeezed}\")\n",
    "print(f\"New shape: {x_squeezed.shape}\")"
   ],
   "id": "90b0559765687dcf",
   "outputs": [
    {
     "name": "stdout",
     "output_type": "stream",
     "text": [
      "Previous tensor: tensor([[ 5.,  2.,  3.,  4.,  5.,  6.,  7.,  8.,  9., 10.]])\n",
      "Previous shape: torch.Size([1, 10])\n",
      "\n",
      "New tensor: tensor([ 5.,  2.,  3.,  4.,  5.,  6.,  7.,  8.,  9., 10.])\n",
      "New shape: torch.Size([10])\n"
     ]
    }
   ],
   "execution_count": 18
  },
  {
   "metadata": {
    "ExecuteTime": {
     "end_time": "2024-08-01T11:37:20.568656Z",
     "start_time": "2024-08-01T11:37:20.561821Z"
    }
   },
   "cell_type": "code",
   "source": [
    "# Unsqueezing a tensor\n",
    "print(f\"Previous tensor: {x_squeezed}\")\n",
    "print(f\"Previous shape: {x_squeezed.shape}\")\n",
    "\n",
    "x_unsqueezed = x_squeezed.unsqueeze(dim=1)\n",
    "print()\n",
    "\n",
    "print(f\"New tensor: {x_unsqueezed}\")\n",
    "print(f\"New shape: {x_unsqueezed.shape}\")\n",
    "\n",
    "print()\n",
    "\n",
    "print(f\"Previous tensor: {x_squeezed}\")\n",
    "print(f\"Previous shape: {x_squeezed.shape}\")\n",
    "\n",
    "x_unsqueezed = x_squeezed.unsqueeze(dim=0)\n",
    "print()\n",
    "\n",
    "print(f\"New tensor: {x_unsqueezed}\")\n",
    "print(f\"New shape: {x_unsqueezed.shape}\")"
   ],
   "id": "990256d475b23567",
   "outputs": [
    {
     "name": "stdout",
     "output_type": "stream",
     "text": [
      "Previous tensor: tensor([ 5.,  2.,  3.,  4.,  5.,  6.,  7.,  8.,  9., 10.])\n",
      "Previous shape: torch.Size([10])\n",
      "\n",
      "New tensor: tensor([[ 5.],\n",
      "        [ 2.],\n",
      "        [ 3.],\n",
      "        [ 4.],\n",
      "        [ 5.],\n",
      "        [ 6.],\n",
      "        [ 7.],\n",
      "        [ 8.],\n",
      "        [ 9.],\n",
      "        [10.]])\n",
      "New shape: torch.Size([10, 1])\n",
      "\n",
      "Previous tensor: tensor([ 5.,  2.,  3.,  4.,  5.,  6.,  7.,  8.,  9., 10.])\n",
      "Previous shape: torch.Size([10])\n",
      "\n",
      "New tensor: tensor([[ 5.,  2.,  3.,  4.,  5.,  6.,  7.,  8.,  9., 10.]])\n",
      "New shape: torch.Size([1, 10])\n"
     ]
    }
   ],
   "execution_count": 19
  },
  {
   "metadata": {
    "ExecuteTime": {
     "end_time": "2024-08-01T11:37:20.587097Z",
     "start_time": "2024-08-01T11:37:20.571078Z"
    }
   },
   "cell_type": "code",
   "source": [
    "# Permuting a tensor\n",
    "\n",
    "# Creating an original tensor\n",
    "x_original = torch.rand(size=(224, 224, 3))     # [height, width, color_channels]\n",
    "\n",
    "# Permuting the original tensor to rearrange the axis (or dim) order\n",
    "x_permuted = x_original.permute(2, 0, 1)    # Shifts axis to [color_channels, height, width]\n",
    "\n",
    "print(f\"Previous shape: {x_original.shape}\")\n",
    "print(f\"New shape: {x_permuted.shape}\")"
   ],
   "id": "49b4b954b4db7cfe",
   "outputs": [
    {
     "name": "stdout",
     "output_type": "stream",
     "text": [
      "Previous shape: torch.Size([224, 224, 3])\n",
      "New shape: torch.Size([3, 224, 224])\n"
     ]
    }
   ],
   "execution_count": 20
  },
  {
   "metadata": {},
   "cell_type": "markdown",
   "source": "### Selecting data from tensors (Indexing)",
   "id": "4a6b93beb4f2ab96"
  },
  {
   "metadata": {
    "ExecuteTime": {
     "end_time": "2024-08-01T11:37:20.593213Z",
     "start_time": "2024-08-01T11:37:20.588481Z"
    }
   },
   "cell_type": "code",
   "source": [
    "# Creating a tensor\n",
    "x = torch.arange(1, 10).reshape(1, 3, 3)\n",
    "\n",
    "print(x, x.shape)"
   ],
   "id": "7cb61b4cc761154e",
   "outputs": [
    {
     "name": "stdout",
     "output_type": "stream",
     "text": [
      "tensor([[[1, 2, 3],\n",
      "         [4, 5, 6],\n",
      "         [7, 8, 9]]]) torch.Size([1, 3, 3])\n"
     ]
    }
   ],
   "execution_count": 21
  },
  {
   "metadata": {
    "ExecuteTime": {
     "end_time": "2024-08-01T11:37:20.602582Z",
     "start_time": "2024-08-01T11:37:20.594093Z"
    }
   },
   "cell_type": "code",
   "source": [
    "# Index on the new tensor (dim=0)\n",
    "print(x[0])"
   ],
   "id": "429e466cd5655657",
   "outputs": [
    {
     "name": "stdout",
     "output_type": "stream",
     "text": [
      "tensor([[1, 2, 3],\n",
      "        [4, 5, 6],\n",
      "        [7, 8, 9]])\n"
     ]
    }
   ],
   "execution_count": 22
  },
  {
   "metadata": {
    "ExecuteTime": {
     "end_time": "2024-08-01T11:37:20.609631Z",
     "start_time": "2024-08-01T11:37:20.604306Z"
    }
   },
   "cell_type": "code",
   "source": [
    "# Index on the middle bracket (dim=1)\n",
    "print(x[0][0])"
   ],
   "id": "53da77cf18eb7531",
   "outputs": [
    {
     "name": "stdout",
     "output_type": "stream",
     "text": [
      "tensor([1, 2, 3])\n"
     ]
    }
   ],
   "execution_count": 23
  },
  {
   "metadata": {
    "ExecuteTime": {
     "end_time": "2024-08-01T11:37:20.617515Z",
     "start_time": "2024-08-01T11:37:20.610921Z"
    }
   },
   "cell_type": "code",
   "source": [
    "# Index on the most inner bracket (dim=2)\n",
    "print(x[0][0][0])"
   ],
   "id": "81b49b34a7ccb22e",
   "outputs": [
    {
     "name": "stdout",
     "output_type": "stream",
     "text": [
      "tensor(1)\n"
     ]
    }
   ],
   "execution_count": 24
  },
  {
   "metadata": {
    "ExecuteTime": {
     "end_time": "2024-08-01T11:37:20.626882Z",
     "start_time": "2024-08-01T11:37:20.618742Z"
    }
   },
   "cell_type": "code",
   "source": [
    "# Using ':' to select \"All\" of a target dimension.\n",
    "print(x[:, 0])\n",
    "print(x[:, :, 1])"
   ],
   "id": "937a4aceb60cb046",
   "outputs": [
    {
     "name": "stdout",
     "output_type": "stream",
     "text": [
      "tensor([[1, 2, 3]])\n",
      "tensor([[2, 5, 8]])\n"
     ]
    }
   ],
   "execution_count": 25
  },
  {
   "metadata": {
    "ExecuteTime": {
     "end_time": "2024-08-01T11:37:20.635731Z",
     "start_time": "2024-08-01T11:37:20.627876Z"
    }
   },
   "cell_type": "code",
   "source": [
    "# Get all values of the 0 dimension but only the 1 index value of the 1st and 2nd dimension\n",
    "print(x[:, 1, 1])"
   ],
   "id": "3bebb0f22e892b08",
   "outputs": [
    {
     "name": "stdout",
     "output_type": "stream",
     "text": [
      "tensor([5])\n"
     ]
    }
   ],
   "execution_count": 26
  },
  {
   "metadata": {
    "ExecuteTime": {
     "end_time": "2024-08-01T11:37:20.644374Z",
     "start_time": "2024-08-01T11:37:20.637649Z"
    }
   },
   "cell_type": "code",
   "source": [
    "# Get index 0 of 0th and 1st dimension and all values of 2nd dimension\n",
    "print(x[0, 0, :])"
   ],
   "id": "e63451c6980a9c06",
   "outputs": [
    {
     "name": "stdout",
     "output_type": "stream",
     "text": [
      "tensor([1, 2, 3])\n"
     ]
    }
   ],
   "execution_count": 27
  },
  {
   "metadata": {
    "ExecuteTime": {
     "end_time": "2024-08-01T11:37:20.652282Z",
     "start_time": "2024-08-01T11:37:20.647377Z"
    }
   },
   "cell_type": "code",
   "source": [
    "# Index on x to return 9\n",
    "print(x[0, 2, -1])"
   ],
   "id": "a58295f51417d568",
   "outputs": [
    {
     "name": "stdout",
     "output_type": "stream",
     "text": [
      "tensor(9)\n"
     ]
    }
   ],
   "execution_count": 28
  },
  {
   "metadata": {
    "ExecuteTime": {
     "end_time": "2024-08-01T11:37:20.661770Z",
     "start_time": "2024-08-01T11:37:20.653868Z"
    }
   },
   "cell_type": "code",
   "source": [
    "# Index on x to return 3, 6, 9\n",
    "print(x[:, :, -1])"
   ],
   "id": "32f8845b9e7cd7fc",
   "outputs": [
    {
     "name": "stdout",
     "output_type": "stream",
     "text": [
      "tensor([[3, 6, 9]])\n"
     ]
    }
   ],
   "execution_count": 29
  }
 ],
 "metadata": {
  "kernelspec": {
   "display_name": "Python 3",
   "language": "python",
   "name": "python3"
  },
  "language_info": {
   "codemirror_mode": {
    "name": "ipython",
    "version": 2
   },
   "file_extension": ".py",
   "mimetype": "text/x-python",
   "name": "python",
   "nbconvert_exporter": "python",
   "pygments_lexer": "ipython2",
   "version": "2.7.6"
  }
 },
 "nbformat": 4,
 "nbformat_minor": 5
}
