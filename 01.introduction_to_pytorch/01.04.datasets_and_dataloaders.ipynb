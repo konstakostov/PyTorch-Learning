{
 "cells": [
  {
   "cell_type": "code",
   "id": "initial_id",
   "metadata": {
    "collapsed": true
   },
   "source": [
    "# Importing needed libraries\n",
    "import torch\n",
    "import torchvision\n",
    "import torchvision.transforms as transforms"
   ],
   "outputs": [],
   "execution_count": null
  },
  {
   "metadata": {},
   "cell_type": "markdown",
   "source": [
    "transforms.ToTensor() -> Converts images loaded by Pillow into PyTorch tensors\n",
    "transforms.Normalize() -> Adjust values of the tensor so that their average is 0 and their standard deviation is 0.5. Most activation functions have their strongest gradients around x = 0, so centering our data there can speed learning. \n",
    "The values passed to the transform are the means (first tuple) and the standard deviations (second tuple) of the rgb values of the images in the dataset."
   ],
   "id": "8d0d64316f22beb2"
  },
  {
   "metadata": {},
   "cell_type": "code",
   "source": [
    "transform = transforms.Compose(\n",
    "    [transforms.ToTensor(), \n",
    "     transforms.Normalize(\n",
    "         (0.4914, 0.4822, 0.4465), (0.2470, 0.2345, 0.2616)\n",
    "     )])"
   ],
   "id": "5a31390900b36359",
   "outputs": [],
   "execution_count": null
  },
  {
   "metadata": {},
   "cell_type": "markdown",
   "source": "Creating an instance of CIFAR10 dataset (32x32 color images, representing 10 classes of objects: 6 of animals (bird, cat, deer, dog,frog, horse) and 4 of vehicles (airplane, automobile, ship, truck)).",
   "id": "f39f790dff04d020"
  },
  {
   "metadata": {
    "ExecuteTime": {
     "end_time": "2024-06-25T10:42:24.081590Z",
     "start_time": "2024-06-25T10:41:43.347996Z"
    }
   },
   "cell_type": "code",
   "source": [
    "trainset = torchvision.datasets.CIFAR10(\n",
    "    root=\"./data\",\n",
    "    train=True,\n",
    "    download=True,\n",
    "    transform=transform\n",
    ")"
   ],
   "id": "f8a6aa9d06d5a2c0",
   "outputs": [
    {
     "name": "stdout",
     "output_type": "stream",
     "text": [
      "Downloading https://www.cs.toronto.edu/~kriz/cifar-10-python.tar.gz to ./data/cifar-10-python.tar.gz\n"
     ]
    },
    {
     "name": "stderr",
     "output_type": "stream",
     "text": [
      "100%|██████████| 170498071/170498071 [00:36<00:00, 4643210.50it/s]\n"
     ]
    },
    {
     "name": "stdout",
     "output_type": "stream",
     "text": [
      "Extracting ./data/cifar-10-python.tar.gz to ./data\n"
     ]
    }
   ],
   "execution_count": 4
  },
  {
   "metadata": {},
   "cell_type": "code",
   "source": "",
   "id": "fbc094ef0e4ee12e",
   "outputs": [],
   "execution_count": null
  }
 ],
 "metadata": {
  "kernelspec": {
   "display_name": "Python 3",
   "language": "python",
   "name": "python3"
  },
  "language_info": {
   "codemirror_mode": {
    "name": "ipython",
    "version": 2
   },
   "file_extension": ".py",
   "mimetype": "text/x-python",
   "name": "python",
   "nbconvert_exporter": "python",
   "pygments_lexer": "ipython2",
   "version": "2.7.6"
  }
 },
 "nbformat": 4,
 "nbformat_minor": 5
}
