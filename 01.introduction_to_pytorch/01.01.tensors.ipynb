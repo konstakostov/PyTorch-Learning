{
 "cells": [
  {
   "metadata": {},
   "cell_type": "markdown",
   "source": [
    "Tensor in Math: Mathematical object that is used to generalize scalars, vectors and matrices to higher dimensions.\n",
    "Tensor in AI: Fundamental data structures, representing and manipulating multidimensional data. Tensors can be used to represent input data, store model parameters and perform computations efficiently."
   ],
   "id": "bdbd96d9f9f8d2ef"
  },
  {
   "cell_type": "code",
   "id": "initial_id",
   "metadata": {
    "collapsed": true,
    "ExecuteTime": {
     "end_time": "2024-06-25T07:57:38.560847Z",
     "start_time": "2024-06-25T07:57:37.238563Z"
    }
   },
   "source": [
    "# Import all required library\n",
    "import torch"
   ],
   "outputs": [],
   "execution_count": 1
  },
  {
   "metadata": {},
   "cell_type": "markdown",
   "source": [
    "Creating a tensor\n",
    "\n",
    "**NB! By default in PyTorch, all created tensors are float32-bit value!**\n",
    "\n",
    "The created tensor is a 5x3 matrix, filled with zeros."
   ],
   "id": "6ae61214b1640990"
  },
  {
   "metadata": {
    "ExecuteTime": {
     "end_time": "2024-06-25T07:57:38.567115Z",
     "start_time": "2024-06-25T07:57:38.562551Z"
    }
   },
   "cell_type": "code",
   "source": [
    "# Define tensor\n",
    "z = torch.zeros(5, 3)\n",
    "\n",
    "# Print tensor and it's type\n",
    "print(z)\n",
    "print(z.dtype)"
   ],
   "id": "c4f9cc49158aab71",
   "outputs": [
    {
     "name": "stdout",
     "output_type": "stream",
     "text": [
      "tensor([[0., 0., 0.],\n",
      "        [0., 0., 0.],\n",
      "        [0., 0., 0.],\n",
      "        [0., 0., 0.],\n",
      "        [0., 0., 0.]])\n",
      "torch.float32\n"
     ]
    }
   ],
   "execution_count": 2
  },
  {
   "metadata": {},
   "cell_type": "markdown",
   "source": [
    "Creating an integer tensor.\n",
    "\n",
    "In that case we override default float32 values to integer value. PyTorch reports the new data type when the tensor is printed, to notify that the default value is not used and what tata type is being currently used."
   ],
   "id": "f59b45328fc8bcf2"
  },
  {
   "metadata": {
    "ExecuteTime": {
     "end_time": "2024-06-25T07:57:38.571776Z",
     "start_time": "2024-06-25T07:57:38.568251Z"
    }
   },
   "cell_type": "code",
   "source": [
    "i = torch.ones((5, 3), dtype=torch.int16)\n",
    "\n",
    "print(i)"
   ],
   "id": "50b3fc92c7e5bc5d",
   "outputs": [
    {
     "name": "stdout",
     "output_type": "stream",
     "text": [
      "tensor([[1, 1, 1],\n",
      "        [1, 1, 1],\n",
      "        [1, 1, 1],\n",
      "        [1, 1, 1],\n",
      "        [1, 1, 1]], dtype=torch.int16)\n"
     ]
    }
   ],
   "execution_count": 3
  },
  {
   "metadata": {},
   "cell_type": "markdown",
   "source": "Initializing learning weights randomly is common practise. It is often used with a specific seed for the PRNG (PyTorch Random Number Generator) for reproducibility of results.",
   "id": "4c5c32e9cb3db7ed"
  },
  {
   "metadata": {
    "ExecuteTime": {
     "end_time": "2024-06-25T07:57:38.580426Z",
     "start_time": "2024-06-25T07:57:38.573210Z"
    }
   },
   "cell_type": "code",
   "source": [
    "# Defining specific seed\n",
    "torch.manual_seed(1729)\n",
    "\n",
    "# Generating 1st random tensor\n",
    "r1 = torch.rand(2, 2)\n",
    "\n",
    "print(\"1st random tensor: \")\n",
    "print(r1)\n",
    "\n",
    "# Generating 2nd random tensor\n",
    "r2 = torch.rand(2, 2)\n",
    "\n",
    "print(\"2nd random tensor: \")\n",
    "print(r2)\n",
    "\n",
    "# Using the same seed and creating a 3rd random seed\n",
    "# The generated result should match the result from the 1st generated seed, because of re-seeding.\n",
    "torch.manual_seed(1729)\n",
    "\n",
    "r3 = torch.rand(2, 2)\n",
    "\n",
    "print(\"3rd random seed should match r1: \")\n",
    "print(r3)"
   ],
   "id": "3b05535bdcd529a6",
   "outputs": [
    {
     "name": "stdout",
     "output_type": "stream",
     "text": [
      "1st random tensor: \n",
      "tensor([[0.3126, 0.3791],\n",
      "        [0.3087, 0.0736]])\n",
      "2nd random tensor: \n",
      "tensor([[0.4216, 0.0691],\n",
      "        [0.2332, 0.4047]])\n",
      "3rd random seed should match r1: \n",
      "tensor([[0.3126, 0.3791],\n",
      "        [0.3087, 0.0736]])\n"
     ]
    }
   ],
   "execution_count": 4
  },
  {
   "metadata": {},
   "cell_type": "markdown",
   "source": "Arithmetic operations between tensors",
   "id": "d83f5d94779196"
  },
  {
   "metadata": {
    "ExecuteTime": {
     "end_time": "2024-06-25T07:57:58.207680Z",
     "start_time": "2024-06-25T07:57:58.201378Z"
    }
   },
   "cell_type": "code",
   "source": [
    "# Generating tensor of ones\n",
    "ones = torch.ones(2, 3)\n",
    "print(ones)\n",
    "print(ones.shape)\n",
    "\n",
    "# Generating tensor of ones, where each element is multiplied by 2 to receive a tensor of twos\n",
    "twos = torch.ones(2, 3) * 2\n",
    "print(twos)\n",
    "print(twos.shape)\n",
    "\n",
    "# Creating a tensors of threes by adding the ones and twos tensors \n",
    "# This is possible because of the same shape of the tensors.\n",
    "# The tensors are added element-wise.\n",
    "threes = ones + twos\n",
    "print(threes)\n",
    "print(threes.shape)\n",
    "\n",
    "# # Creating 2 random tensors with different shapes and adding them together will result in a runtime error.\n",
    "# r1 = torch.rand(2, 3)\n",
    "# r2 = torch.rand(3, 2)\n",
    "# r3 = r1 + r2"
   ],
   "id": "ec7bccbfd56858ad",
   "outputs": [
    {
     "name": "stdout",
     "output_type": "stream",
     "text": [
      "tensor([[1., 1., 1.],\n",
      "        [1., 1., 1.]])\n",
      "torch.Size([2, 3])\n",
      "tensor([[2., 2., 2.],\n",
      "        [2., 2., 2.]])\n",
      "torch.Size([2, 3])\n",
      "tensor([[3., 3., 3.],\n",
      "        [3., 3., 3.]])\n",
      "torch.Size([2, 3])\n"
     ]
    }
   ],
   "execution_count": 6
  },
  {
   "metadata": {},
   "cell_type": "markdown",
   "source": "Some of the mathematical operations available in PyTorch",
   "id": "68c856664f1fa438"
  },
  {
   "metadata": {
    "ExecuteTime": {
     "end_time": "2024-06-25T08:06:04.614361Z",
     "start_time": "2024-06-25T08:06:04.600982Z"
    }
   },
   "cell_type": "code",
   "source": [
    "# Values between -1 and +1\n",
    "r = (torch.rand(2, 2) - 0.5) * 2\n",
    "print(\"A random matrix, r: \")\n",
    "print(r)\n",
    "\n",
    "# Absolute value (Mathematical operations are supported)\n",
    "print(\"\\nAbsolute value of r: \")\n",
    "print(torch.abs(r))\n",
    "\n",
    "# asin (Trigonometric functions are supported)\n",
    "print(\"\\nInverse sine of r: \")\n",
    "print(torch.asin(r))\n",
    "\n",
    "# Determinant and singular value decomposition (Linear algebra operations)\n",
    "print(\"\\nDeterminant of r: \")\n",
    "print(torch.det(r))\n",
    "\n",
    "print(\"\\nSingular value decomposition r: \")\n",
    "print(torch.svd(r))\n",
    "\n",
    "# Average and standard deviation & maximum value (Statistical and Aggregate operations)\n",
    "print(\"\\nDAverage and standard deviation of r: \")\n",
    "print(torch.std_mean(r))\n",
    "\n",
    "print(\"\\nMaximum value of r: \")\n",
    "print(torch.max(r))"
   ],
   "id": "5b539eed284fe417",
   "outputs": [
    {
     "name": "stdout",
     "output_type": "stream",
     "text": [
      "A random matrix, r: \n",
      "tensor([[ 0.9956, -0.2232],\n",
      "        [ 0.3858, -0.6593]])\n",
      "\n",
      "Absolute value of r: \n",
      "tensor([[0.9956, 0.2232],\n",
      "        [0.3858, 0.6593]])\n",
      "\n",
      "Inverse sine of r: \n",
      "tensor([[ 1.4775, -0.2251],\n",
      "        [ 0.3961, -0.7199]])\n",
      "\n",
      "Determinant of r: \n",
      "tensor(-0.5703)\n",
      "\n",
      "Singular value decomposition r: \n",
      "torch.return_types.svd(\n",
      "U=tensor([[-0.8353, -0.5497],\n",
      "        [-0.5497,  0.8353]]),\n",
      "S=tensor([1.1793, 0.4836]),\n",
      "V=tensor([[-0.8851, -0.4654],\n",
      "        [ 0.4654, -0.8851]]))\n",
      "\n",
      "DAverage and standard deviation of r: \n",
      "(tensor(0.7217), tensor(0.1247))\n",
      "\n",
      "Maximum value of r: \n",
      "tensor(0.9956)\n"
     ]
    }
   ],
   "execution_count": 10
  },
  {
   "metadata": {},
   "cell_type": "code",
   "outputs": [],
   "execution_count": null,
   "source": "",
   "id": "e2515193f71967f7"
  }
 ],
 "metadata": {
  "kernelspec": {
   "display_name": "Python 3",
   "language": "python",
   "name": "python3"
  },
  "language_info": {
   "codemirror_mode": {
    "name": "ipython",
    "version": 2
   },
   "file_extension": ".py",
   "mimetype": "text/x-python",
   "name": "python",
   "nbconvert_exporter": "python",
   "pygments_lexer": "ipython2",
   "version": "2.7.6"
  }
 },
 "nbformat": 4,
 "nbformat_minor": 5
}
