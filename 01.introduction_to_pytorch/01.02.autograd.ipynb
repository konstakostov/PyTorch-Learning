{
 "cells": [
  {
   "metadata": {},
   "cell_type": "markdown",
   "source": "AUTOGRAD = PyTorch's Automated Differentiation Engine",
   "id": "2a722bf3275898c3"
  },
  {
   "metadata": {},
   "cell_type": "markdown",
   "source": "RNN = Recurrent Neural Networks",
   "id": "184811640249ddd8"
  },
  {
   "metadata": {},
   "cell_type": "markdown",
   "source": "Computation as a graph build at run time",
   "id": "f39c76dde5661f7d"
  },
  {
   "metadata": {},
   "cell_type": "markdown",
   "source": "Loss -> Difference between our actual output and our model's output",
   "id": "688ce84179440e85"
  },
  {
   "metadata": {},
   "cell_type": "markdown",
   "source": [
    "<p>Graphical representation of the below algorithm:</p>\n",
    "\n",
    "![title](images/image_01.png)"
   ],
   "id": "4e7010fe5c27ebf1"
  },
  {
   "cell_type": "code",
   "id": "initial_id",
   "metadata": {
    "collapsed": true,
    "ExecuteTime": {
     "end_time": "2024-06-25T08:09:55.741911Z",
     "start_time": "2024-06-25T08:09:54.508588Z"
    }
   },
   "source": "import torch",
   "outputs": [],
   "execution_count": 1
  },
  {
   "metadata": {
    "ExecuteTime": {
     "end_time": "2024-06-25T08:18:04.807450Z",
     "start_time": "2024-06-25T08:18:04.781098Z"
    }
   },
   "cell_type": "code",
   "source": [
    "# Defining 4 tensors\n",
    "\n",
    "# Input tensor\n",
    "x = torch.randn(1, 10)\n",
    "\n",
    "# Hidden state of RNN, that gives it memory\n",
    "prev_h = torch.randn(1, 20)\n",
    "\n",
    "# Learning weight for the input\n",
    "W_h = torch.randn(20, 20)\n",
    "\n",
    "# Learning weight for the hidden state of the RNN\n",
    "W_x = torch.randn(20, 10)"
   ],
   "id": "23e5809b8d40378e",
   "outputs": [],
   "execution_count": 2
  },
  {
   "metadata": {
    "ExecuteTime": {
     "end_time": "2024-06-25T08:18:10.126594Z",
     "start_time": "2024-06-25T08:18:10.105484Z"
    }
   },
   "cell_type": "code",
   "source": [
    "# Multiplying the weights by their respective tensors\n",
    "# mm = Matrix Multiplication\n",
    "# t() -> tensor\n",
    "i2h = torch.mm(W_x, x.t())\n",
    "h2h = torch.mm(W_h, prev_h.t())\n",
    "\n",
    "# Adding the outputs of the 2 matrix multiplications\n",
    "next_h = i2h + h2h\n",
    "\n",
    "# Passing the result through an activation function, in this case tanh\n",
    "next_h = next_h.tanh()\n",
    "\n",
    "# Computing the loss for this output\n",
    "loss = next_h.sum()"
   ],
   "id": "50c74ca745cfff67",
   "outputs": [],
   "execution_count": 3
  },
  {
   "metadata": {},
   "cell_type": "markdown",
   "source": "Gradient w.r.t. the inpt Tensor is computed step-by-step from loss to top in reverse.",
   "id": "c421f0acb93521a1"
  },
  {
   "metadata": {},
   "cell_type": "code",
   "outputs": [],
   "execution_count": null,
   "source": "",
   "id": "d30d75cc78ca298c"
  }
 ],
 "metadata": {
  "kernelspec": {
   "display_name": "Python 3",
   "language": "python",
   "name": "python3"
  },
  "language_info": {
   "codemirror_mode": {
    "name": "ipython",
    "version": 2
   },
   "file_extension": ".py",
   "mimetype": "text/x-python",
   "name": "python",
   "nbconvert_exporter": "python",
   "pygments_lexer": "ipython2",
   "version": "2.7.6"
  }
 },
 "nbformat": 4,
 "nbformat_minor": 5
}
